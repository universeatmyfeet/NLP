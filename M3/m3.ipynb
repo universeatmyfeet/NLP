{
  "nbformat": 4,
  "nbformat_minor": 0,
  "metadata": {
    "colab": {
      "name": "NLP_M2.ipynb",
      "provenance": [],
      "collapsed_sections": [],
      "mount_file_id": "1OtWvAoWYGojUKRQG8Y1qs_ZT4VnX_ds6",
      "authorship_tag": "ABX9TyNUCrQlXbEe4C86I/QCrJqZ",
      "include_colab_link": true
    },
    "kernelspec": {
      "name": "python3",
      "display_name": "Python 3"
    }
  },
  "cells": [
    {
      "cell_type": "markdown",
      "metadata": {
        "id": "view-in-github",
        "colab_type": "text"
      },
      "source": [
        "<a href=\"https://colab.research.google.com/github/universeatmyfeet/NLP/blob/master/M3/m3.ipynb\" target=\"_parent\"><img src=\"https://colab.research.google.com/assets/colab-badge.svg\" alt=\"Open In Colab\"/></a>"
      ]
    },
    {
      "cell_type": "code",
      "metadata": {
        "id": "cKGKOvQcUGRy",
        "colab_type": "code",
        "colab": {}
      },
      "source": [
        "import pandas as pd\n",
        "import zipfile\n",
        "import numpy as np\n",
        "import re\n",
        "import nltk\n",
        "from zipfile import ZipFile\n",
        "from nltk.tokenize import word_tokenize\n",
        "from nltk.corpus import stopwords,wordnet\n",
        "from nltk.stem import WordNetLemmatizer\n",
        "import string\n",
        "from sklearn.decomposition import NMF,LatentDirichletAllocation \n",
        "from sklearn.feature_extraction.text import TfidfVectorizer\n",
        "from sklearn.model_selection import train_test_split as tts\n",
        "from sklearn.metrics import classification_report,accuracy_score,confusion_matrix\n",
        "from urllib.request import urlopen\n"
      ],
      "execution_count": 0,
      "outputs": []
    },
    {
      "cell_type": "code",
      "metadata": {
        "id": "9bbzujVYVlyu",
        "colab_type": "code",
        "outputId": "abb25df2-d924-42b5-9a03-a017d6c93ffa",
        "colab": {
          "base_uri": "https://localhost:8080/",
          "height": 185
        }
      },
      "source": [
        "nltk.download('punkt')\n",
        "nltk.download('stopwords')\n",
        "nltk.download('averaged_perceptron_tagger')\n",
        "nltk.download('wordnet')\n",
        "import io"
      ],
      "execution_count": 0,
      "outputs": [
        {
          "output_type": "stream",
          "text": [
            "[nltk_data] Downloading package punkt to /root/nltk_data...\n",
            "[nltk_data]   Package punkt is already up-to-date!\n",
            "[nltk_data] Downloading package stopwords to /root/nltk_data...\n",
            "[nltk_data]   Package stopwords is already up-to-date!\n",
            "[nltk_data] Downloading package averaged_perceptron_tagger to\n",
            "[nltk_data]     /root/nltk_data...\n",
            "[nltk_data]   Package averaged_perceptron_tagger is already up-to-\n",
            "[nltk_data]       date!\n",
            "[nltk_data] Downloading package wordnet to /root/nltk_data...\n",
            "[nltk_data]   Package wordnet is already up-to-date!\n"
          ],
          "name": "stdout"
        }
      ]
    },
    {
      "cell_type": "code",
      "metadata": {
        "id": "R3Lfwzj2_PFl",
        "colab_type": "code",
        "outputId": "43728e25-598c-45ef-f938-102e88f2d67b",
        "colab": {
          "base_uri": "https://localhost:8080/",
          "height": 353
        }
      },
      "source": [
        " !wget https://github.com/amsurve/J050_sem6_nlp/blob/master/datasets/10k-german-news-articles.zip?raw=true #getting the dataset link"
      ],
      "execution_count": 0,
      "outputs": [
        {
          "output_type": "stream",
          "text": [
            "--2020-03-03 18:13:42--  https://github.com/amsurve/J050_sem6_nlp/blob/master/datasets/10k-german-news-articles.zip?raw=true\n",
            "Resolving github.com (github.com)... 192.30.253.113\n",
            "Connecting to github.com (github.com)|192.30.253.113|:443... connected.\n",
            "HTTP request sent, awaiting response... 302 Found\n",
            "Location: https://github.com/amsurve/J050_sem6_nlp/raw/master/datasets/10k-german-news-articles.zip [following]\n",
            "--2020-03-03 18:13:42--  https://github.com/amsurve/J050_sem6_nlp/raw/master/datasets/10k-german-news-articles.zip\n",
            "Reusing existing connection to github.com:443.\n",
            "HTTP request sent, awaiting response... 302 Found\n",
            "Location: https://media.githubusercontent.com/media/amsurve/J050_sem6_nlp/master/datasets/10k-german-news-articles.zip [following]\n",
            "--2020-03-03 18:13:42--  https://media.githubusercontent.com/media/amsurve/J050_sem6_nlp/master/datasets/10k-german-news-articles.zip\n",
            "Resolving media.githubusercontent.com (media.githubusercontent.com)... 151.101.0.133, 151.101.64.133, 151.101.128.133, ...\n",
            "Connecting to media.githubusercontent.com (media.githubusercontent.com)|151.101.0.133|:443... connected.\n",
            "HTTP request sent, awaiting response... 200 OK\n",
            "Length: 128989980 (123M) [application/zip]\n",
            "Saving to: ‘10k-german-news-articles.zip?raw=true.1’\n",
            "\n",
            "10k-german-news-art 100%[===================>] 123.01M   256MB/s    in 0.5s    \n",
            "\n",
            "2020-03-03 18:13:46 (256 MB/s) - ‘10k-german-news-articles.zip?raw=true.1’ saved [128989980/128989980]\n",
            "\n"
          ],
          "name": "stdout"
        }
      ]
    },
    {
      "cell_type": "code",
      "metadata": {
        "id": "rrVERJgz_SbQ",
        "colab_type": "code",
        "outputId": "b13fee58-f021-4b13-def8-45695ca04c64",
        "colab": {
          "base_uri": "https://localhost:8080/",
          "height": 168
        }
      },
      "source": [
        "! mkdir newsarticles\n",
        "! unzip 10k-german-news-articles.zip?raw=true -d newsarticles"
      ],
      "execution_count": 0,
      "outputs": [
        {
          "output_type": "stream",
          "text": [
            "mkdir: cannot create directory ‘newsarticles’: File exists\n",
            "Archive:  10k-german-news-articles.zip?raw=true\n",
            "replace newsarticles/Annotations.csv? [y]es, [n]o, [A]ll, [N]one, [r]ename: n\n",
            "replace newsarticles/Annotations_consolidated.csv? [y]es, [n]o, [A]ll, [N]one, [r]ename: n\n",
            "replace newsarticles/Articles.csv? [y]es, [n]o, [A]ll, [N]one, [r]ename: n\n",
            "replace newsarticles/Categories.csv? [y]es, [n]o, [A]ll, [N]one, [r]ename: n\n",
            "replace newsarticles/CrossValSplit.csv? [y]es, [n]o, [A]ll, [N]one, [r]ename: n\n",
            "replace newsarticles/Newspaper_Staff.csv? [y]es, [n]o, [A]ll, [N]one, [r]ename: n\n",
            "replace newsarticles/Posts.csv? [y]es, [n]o, [A]ll, [N]one, [r]ename: n\n"
          ],
          "name": "stdout"
        }
      ]
    },
    {
      "cell_type": "code",
      "metadata": {
        "id": "we0DwWgmhNJW",
        "colab_type": "code",
        "colab": {}
      },
      "source": [
        "df = pd.read_csv('/content/newsarticles/Articles.csv')"
      ],
      "execution_count": 0,
      "outputs": []
    },
    {
      "cell_type": "code",
      "metadata": {
        "id": "kxai3F1xhzFS",
        "colab_type": "code",
        "outputId": "0d36dce2-d2e8-4506-9900-514060046203",
        "colab": {
          "base_uri": "https://localhost:8080/",
          "height": 279
        }
      },
      "source": [
        "df.head()"
      ],
      "execution_count": 0,
      "outputs": [
        {
          "output_type": "execute_result",
          "data": {
            "text/html": [
              "<div>\n",
              "<style scoped>\n",
              "    .dataframe tbody tr th:only-of-type {\n",
              "        vertical-align: middle;\n",
              "    }\n",
              "\n",
              "    .dataframe tbody tr th {\n",
              "        vertical-align: top;\n",
              "    }\n",
              "\n",
              "    .dataframe thead th {\n",
              "        text-align: right;\n",
              "    }\n",
              "</style>\n",
              "<table border=\"1\" class=\"dataframe\">\n",
              "  <thead>\n",
              "    <tr style=\"text-align: right;\">\n",
              "      <th></th>\n",
              "      <th>ID_Article</th>\n",
              "      <th>Path</th>\n",
              "      <th>publishingDate</th>\n",
              "      <th>Title</th>\n",
              "      <th>Body</th>\n",
              "    </tr>\n",
              "  </thead>\n",
              "  <tbody>\n",
              "    <tr>\n",
              "      <th>0</th>\n",
              "      <td>1</td>\n",
              "      <td>Newsroom/User/Community</td>\n",
              "      <td>2012-05-26 03:00:19.23</td>\n",
              "      <td>Die Newsletter von derStandard.at</td>\n",
              "      <td>&lt;div class=\"section\" id=\"content-main\" itempro...</td>\n",
              "    </tr>\n",
              "    <tr>\n",
              "      <th>1</th>\n",
              "      <td>2</td>\n",
              "      <td>Newsroom/User/Community/Regeln</td>\n",
              "      <td>2012-05-26 12:12:19.46</td>\n",
              "      <td>Werden Sie Teil von derStandard.at!</td>\n",
              "      <td>&lt;div class=\"diashow\" id=\"objectContent\"&gt;&lt;meta ...</td>\n",
              "    </tr>\n",
              "    <tr>\n",
              "      <th>2</th>\n",
              "      <td>3</td>\n",
              "      <td>Diverses/mobil</td>\n",
              "      <td>2013-11-22 12:15:00.00</td>\n",
              "      <td>Die Android App von derStandard.at</td>\n",
              "      <td>&lt;div class=\"section\" id=\"content-main\" itempro...</td>\n",
              "    </tr>\n",
              "    <tr>\n",
              "      <th>3</th>\n",
              "      <td>4</td>\n",
              "      <td>Newsroom/User/mitmachen/Mitreden</td>\n",
              "      <td>2014-08-13 05:30:00.00</td>\n",
              "      <td>Welche Erfahrungen haben Sie als Linkshänder g...</td>\n",
              "      <td>&lt;div class=\"section\" id=\"content-main\" itempro...</td>\n",
              "    </tr>\n",
              "    <tr>\n",
              "      <th>4</th>\n",
              "      <td>5</td>\n",
              "      <td>Newsroom/User/mitmachen/Mitreden</td>\n",
              "      <td>2014-08-27 12:27:01.09</td>\n",
              "      <td>Wie haben Sie das Jahr 1989 erlebt?</td>\n",
              "      <td>&lt;div class=\"section\" id=\"content-main\" itempro...</td>\n",
              "    </tr>\n",
              "  </tbody>\n",
              "</table>\n",
              "</div>"
            ],
            "text/plain": [
              "   ID_Article  ...                                               Body\n",
              "0           1  ...  <div class=\"section\" id=\"content-main\" itempro...\n",
              "1           2  ...  <div class=\"diashow\" id=\"objectContent\"><meta ...\n",
              "2           3  ...  <div class=\"section\" id=\"content-main\" itempro...\n",
              "3           4  ...  <div class=\"section\" id=\"content-main\" itempro...\n",
              "4           5  ...  <div class=\"section\" id=\"content-main\" itempro...\n",
              "\n",
              "[5 rows x 5 columns]"
            ]
          },
          "metadata": {
            "tags": []
          },
          "execution_count": 6
        }
      ]
    },
    {
      "cell_type": "code",
      "metadata": {
        "id": "0Ny0fDcMYZt6",
        "colab_type": "code",
        "colab": {}
      },
      "source": [
        "from nltk.corpus import stopwords\n",
        "stopwords = set(stopwords.words('german'))#german stopwords"
      ],
      "execution_count": 0,
      "outputs": []
    },
    {
      "cell_type": "code",
      "metadata": {
        "id": "abXUVfvVYenN",
        "colab_type": "code",
        "outputId": "f7e00bc3-1576-4d0c-d75d-e22a95248c92",
        "colab": {
          "base_uri": "https://localhost:8080/",
          "height": 218
        }
      },
      "source": [
        "df['Title']"
      ],
      "execution_count": 0,
      "outputs": [
        {
          "output_type": "execute_result",
          "data": {
            "text/plain": [
              "0                        Die Newsletter von derStandard.at\n",
              "1                      Werden Sie Teil von derStandard.at!\n",
              "2                       Die Android App von derStandard.at\n",
              "3        Welche Erfahrungen haben Sie als Linkshänder g...\n",
              "4                      Wie haben Sie das Jahr 1989 erlebt?\n",
              "                               ...                        \n",
              "12082            Max Prosa: Junger Troubadour alter Schule\n",
              "12083           \"Können Adblocker nicht einfach hinnehmen\"\n",
              "12084             Die Rechten machen Facebook zum Hatebook\n",
              "12085    \"Wrestling Rita\": Feministischer Punktsieg im ...\n",
              "12086             Leopold-Museum feuert Provenienzforscher\n",
              "Name: Title, Length: 12087, dtype: object"
            ]
          },
          "metadata": {
            "tags": []
          },
          "execution_count": 8
        }
      ]
    },
    {
      "cell_type": "code",
      "metadata": {
        "id": "X3MfM9eXYg1c",
        "colab_type": "code",
        "colab": {}
      },
      "source": [
        "#### TOPIC MODELING - TITLE COLUMN ##########\n",
        "\n",
        "def toktoktok(text): #preprocessing function \n",
        "  text=text.lower()\n",
        "  text = text.translate(text.maketrans('', '', string.digits))#translate deletes digits and no other characters will be replaced\n",
        "  text = text.translate(text.maketrans('', '', '''!()-[]{};:'\"\\,<>./?@#$%^&*_~'''))#translate deletes punctuality and no other characters will be replaced\n",
        "  t = word_tokenize(text)#tokenizing text thorugh nltk library\n",
        "  text = ' '.join([word for word in t if word not in stopwords])#removing stopwords(german)\n",
        "  return text\n"
      ],
      "execution_count": 0,
      "outputs": []
    },
    {
      "cell_type": "code",
      "metadata": {
        "id": "XLyJ3CKIYk2D",
        "colab_type": "code",
        "colab": {}
      },
      "source": [
        "df1 = df[:1000]"
      ],
      "execution_count": 0,
      "outputs": []
    },
    {
      "cell_type": "code",
      "metadata": {
        "id": "l0MiSmL-YnyB",
        "colab_type": "code",
        "outputId": "a85900c3-bb21-4f0f-eacf-25dce5fad8ee",
        "colab": {
          "base_uri": "https://localhost:8080/",
          "height": 118
        }
      },
      "source": [
        "df1['Titleprocessed'] = df1['Title'].apply(toktoktok)#applying preprocessing function"
      ],
      "execution_count": 0,
      "outputs": [
        {
          "output_type": "stream",
          "text": [
            "/usr/local/lib/python3.6/dist-packages/ipykernel_launcher.py:1: SettingWithCopyWarning: \n",
            "A value is trying to be set on a copy of a slice from a DataFrame.\n",
            "Try using .loc[row_indexer,col_indexer] = value instead\n",
            "\n",
            "See the caveats in the documentation: http://pandas.pydata.org/pandas-docs/stable/user_guide/indexing.html#returning-a-view-versus-a-copy\n",
            "  \"\"\"Entry point for launching an IPython kernel.\n"
          ],
          "name": "stderr"
        }
      ]
    },
    {
      "cell_type": "code",
      "metadata": {
        "id": "2Nxu5E-IZDN_",
        "colab_type": "code",
        "colab": {}
      },
      "source": [
        "tf = TfidfVectorizer()#Feature extraction using tf-idf"
      ],
      "execution_count": 0,
      "outputs": []
    },
    {
      "cell_type": "code",
      "metadata": {
        "id": "22THpF1gZuWB",
        "colab_type": "code",
        "colab": {}
      },
      "source": [
        "X = tf.fit_transform(df1['Titleprocessed'])#applying transform method of vectorizer class on processed data\n",
        "dense = X.todense().tolist()# dense representation of tfidf matrix meaning that memory will be allocated to store even the missing values in the dataframe\n",
        "X = pd.DataFrame(dense, columns = tf.get_feature_names())#columns will be the features with column values denoting tf-idf value for the word in that doc"
      ],
      "execution_count": 0,
      "outputs": []
    },
    {
      "cell_type": "markdown",
      "metadata": {
        "id": "da2U8SvuYUlY",
        "colab_type": "text"
      },
      "source": [
        "# Topic Modeling"
      ]
    },
    {
      "cell_type": "markdown",
      "metadata": {
        "id": "pbZ78PCRY9OB",
        "colab_type": "text"
      },
      "source": [
        "NMF : \n",
        "\n",
        "\n",
        "\n",
        "*   Similar to PCA\n",
        "\n",
        "*   In a text document, the same word can occur in different places with different meanings. For example, \"spread\" can be applied to the area or to the verb. NMF introduces context here thus increasing accuracy.\n",
        "*   NMF finds two matrices h and w such that h*w = original data matrix \n",
        "* w (vectors) — the topics discovered from the documents.\n",
        "  h (Coefficients) — the weights for the topics in each document.\n",
        "*   NMF then maps the original data into the new set of features discovered by it.\n",
        "\n",
        "\n",
        "\n"
      ]
    },
    {
      "cell_type": "code",
      "metadata": {
        "id": "L8fXuIcviuDb",
        "colab_type": "code",
        "colab": {}
      },
      "source": [
        "nmf = NMF(n_components=10, init='nndsvd', random_state=0)\n",
        "##Parameters:\n",
        "# n_components = 10 selecting 10 features\n",
        "#‘nndsvd’ if n_components <= min(n_samples, n_features)"
      ],
      "execution_count": 0,
      "outputs": []
    },
    {
      "cell_type": "code",
      "metadata": {
        "id": "QH0Do9o4i8VE",
        "colab_type": "code",
        "outputId": "8609c79f-673f-43c7-e104-7c70b2a5a921",
        "colab": {
          "base_uri": "https://localhost:8080/",
          "height": 134
        }
      },
      "source": [
        "w = nmf.fit_transform(X)\n",
        "print(w)#returns transformed data"
      ],
      "execution_count": 0,
      "outputs": [
        {
          "output_type": "stream",
          "text": [
            "[[0.00303513 0.         0.         ... 0.         0.         0.        ]\n",
            " [0.00303513 0.         0.         ... 0.         0.         0.        ]\n",
            " [0.03938817 0.         0.         ... 0.         0.03024306 0.        ]\n",
            " ...\n",
            " [0.16194364 0.         0.         ... 0.02591331 0.         0.        ]\n",
            " [0.         0.         0.         ... 0.00107252 0.0012105  0.        ]\n",
            " [0.         0.         0.         ... 0.         0.         0.        ]]\n"
          ],
          "name": "stdout"
        }
      ]
    },
    {
      "cell_type": "code",
      "metadata": {
        "id": "wlGXqXcNjCXX",
        "colab_type": "code",
        "outputId": "762c210a-d842-4365-8fed-d00b94f81cdc",
        "colab": {
          "base_uri": "https://localhost:8080/",
          "height": 235
        }
      },
      "source": [
        "h = nmf.components_\n",
        "print(h)"
      ],
      "execution_count": 0,
      "outputs": [
        {
          "output_type": "stream",
          "text": [
            "[[0.00000000e+00 0.00000000e+00 0.00000000e+00 ... 0.00000000e+00\n",
            "  0.00000000e+00 0.00000000e+00]\n",
            " [0.00000000e+00 0.00000000e+00 0.00000000e+00 ... 0.00000000e+00\n",
            "  0.00000000e+00 0.00000000e+00]\n",
            " [0.00000000e+00 0.00000000e+00 2.39039997e-04 ... 0.00000000e+00\n",
            "  0.00000000e+00 0.00000000e+00]\n",
            " ...\n",
            " [1.66902777e-02 0.00000000e+00 2.99686258e-04 ... 0.00000000e+00\n",
            "  0.00000000e+00 0.00000000e+00]\n",
            " [0.00000000e+00 0.00000000e+00 7.35661767e-03 ... 2.15474096e-88\n",
            "  3.47457941e-03 0.00000000e+00]\n",
            " [0.00000000e+00 3.50219318e-85 0.00000000e+00 ... 0.00000000e+00\n",
            "  0.00000000e+00 1.95276390e-86]]\n"
          ],
          "name": "stdout"
        }
      ]
    },
    {
      "cell_type": "code",
      "metadata": {
        "id": "ScdbXusRjTsr",
        "colab_type": "code",
        "colab": {}
      },
      "source": [
        "def display_topics(H, W, feature_names, documents, no_top_words, no_top_documents):\n",
        "    for topic_idx, topic in enumerate(H):\n",
        "        print(\"Topic %d:\" % (topic_idx))\n",
        "        print(\" \".join([feature_names[i]\n",
        "        for i in topic.argsort()[:-no_top_words - 1:-1]]))\n",
        "        top_doc_indices = np.argsort( W[:,topic_idx] )[::-1][0:no_top_documents]\n",
        "        for doc_index in top_doc_indices:\n",
        "            print(documents[doc_index])"
      ],
      "execution_count": 0,
      "outputs": []
    },
    {
      "cell_type": "code",
      "metadata": {
        "id": "ct5GMVVJjYFD",
        "colab_type": "code",
        "outputId": "c68056ad-9913-48be-f567-3782771a893a",
        "colab": {
          "base_uri": "https://localhost:8080/",
          "height": 1000
        }
      },
      "source": [
        "display_topics(h,w,list(X),df1[\"Titleprocessed\"],1,5)"
      ],
      "execution_count": 0,
      "outputs": [
        {
          "output_type": "stream",
          "text": [
            "Topic 0:\n",
            "neue\n",
            "android m erster blick neue softwaregeneration\n",
            "neue kämpfe ukraine feuer fronten\n",
            "neue kämpfe ostukraine tschechows gewehr\n",
            "neue features livebericht chat\n",
            "neue schlichtungsstelle enttäuschte reisende\n",
            "Topic 1:\n",
            "wien\n",
            "jahre wien karten\n",
            "zwischenfälle identitärendemo wien\n",
            "mythos wohnungsknappheit wien\n",
            "symbolische flüchtlingsgräber wien\n",
            "erster bitcoingeldautomat startet wien\n",
            "Topic 2:\n",
            "österreich\n",
            "russland österreich\n",
            "österreich bein achtelfinale\n",
            "start arzneimittelversandhandel österreich juni\n",
            "anschluss österreich verloren\n",
            "österreich hinkt eu internetgeschwindigkeit\n",
            "Topic 3:\n",
            "wiener\n",
            "wiener spö fpö hände spielen\n",
            "wiener spö startet antifpöwahlkampf\n",
            "neue regeln wiener gemeindewohnungen grüne greifen spö\n",
            "landtagswahl spö fpö koalition burgenland abschließen\n",
            "beginnt steirischer spö diskussion pakt fpö\n",
            "Topic 4:\n",
            "apple\n",
            "swift apple macht programmiersprache open source\n",
            "warum taylor swift vs apple niemand gewinnt\n",
            "warum apple macsparte einstampfen\n",
            "apple co warum uskonzerne riesige geldreserven horten\n",
            "apple co wetteifern investmentfonds\n",
            "Topic 5:\n",
            "drei\n",
            "amokfahrt graz drei tote grazer innenstadt\n",
            "amokfahrt grazer innenstadt drei tote verletzte\n",
            "drei drei verlängerung\n",
            "neuseelands premier wechselt drei monate handy\n",
            "ehemann straße niedergestochen drei jahre haft\n",
            "Topic 6:\n",
            "mehr\n",
            "mehr frauen keynotebühne\n",
            "whatsappservice telegram facebook messenger mehr derstandardat\n",
            "menschen land mehr verlassen\n",
            "mehr zwei drittel amerikaner übergewichtig\n",
            "adi hütter mehr salzburgtrainer\n",
            "Topic 7:\n",
            "griechenland\n",
            "schuldengespräche griechenland erneut verschoben\n",
            "gespräche griechenland erneut ergebnis beendet\n",
            "einigung griechenland nächsten gipfel donnerstag verschoben\n",
            "ökonom flassbeck griechenland\n",
            "chancen einigung griechenland heutigem treffen gering\n",
            "Topic 8:\n",
            "zurück\n",
            "studie china jahre deutschland zurück\n",
            "hetakehraus bleibt müll zurück\n",
            "gebrauchtwagenkäufe gehen stark zurück\n",
            "präsidentenbewerber start – clinton trump zurück\n",
            "bruno salzburg zurück leipzig\n",
            "Topic 9:\n",
            "neuer\n",
            "benítez neuer trainer real madrid\n",
            "kolvidsson neuer trainer sv ried\n",
            "österreicher sajdik neuer oszeukrainesondergesandter\n",
            "neuer monatsrekord asylanträgen\n",
            "sousa neuer fiorentinatrainer\n"
          ],
          "name": "stdout"
        }
      ]
    },
    {
      "cell_type": "markdown",
      "metadata": {
        "id": "u3wpQvc8cTJR",
        "colab_type": "text"
      },
      "source": [
        "# LDA:\n"
      ]
    },
    {
      "cell_type": "code",
      "metadata": {
        "id": "mYiMltISaClR",
        "colab_type": "code",
        "colab": {}
      },
      "source": [
        "lda = LatentDirichletAllocation(n_components = 10, random_state = 42)"
      ],
      "execution_count": 0,
      "outputs": []
    },
    {
      "cell_type": "code",
      "metadata": {
        "id": "CTJYNpj_aETr",
        "colab_type": "code",
        "outputId": "7eb4fe4f-43ed-4478-a12c-679893229e76",
        "colab": {
          "base_uri": "https://localhost:8080/",
          "height": 134
        }
      },
      "source": [
        "lda.fit(X)"
      ],
      "execution_count": 0,
      "outputs": [
        {
          "output_type": "execute_result",
          "data": {
            "text/plain": [
              "LatentDirichletAllocation(batch_size=128, doc_topic_prior=None,\n",
              "                          evaluate_every=-1, learning_decay=0.7,\n",
              "                          learning_method='batch', learning_offset=10.0,\n",
              "                          max_doc_update_iter=100, max_iter=10,\n",
              "                          mean_change_tol=0.001, n_components=10, n_jobs=None,\n",
              "                          perp_tol=0.1, random_state=42, topic_word_prior=None,\n",
              "                          total_samples=1000000.0, verbose=0)"
            ]
          },
          "metadata": {
            "tags": []
          },
          "execution_count": 20
        }
      ]
    },
    {
      "cell_type": "code",
      "metadata": {
        "id": "Cp0P16DeaJPt",
        "colab_type": "code",
        "outputId": "c538a3b5-11da-4a28-9e92-a9ff1f43e0bd",
        "colab": {
          "base_uri": "https://localhost:8080/",
          "height": 235
        }
      },
      "source": [
        "\n",
        "lda.components_"
      ],
      "execution_count": 0,
      "outputs": [
        {
          "output_type": "execute_result",
          "data": {
            "text/plain": [
              "array([[0.82859167, 0.1       , 0.1       , ..., 0.1       , 0.87085024,\n",
              "        0.50824828],\n",
              "       [0.10000001, 0.54721358, 0.1       , ..., 0.1       , 0.1       ,\n",
              "        0.1       ],\n",
              "       [0.10000001, 0.1       , 0.1       , ..., 0.1       , 0.1       ,\n",
              "        0.1       ],\n",
              "       ...,\n",
              "       [0.10000001, 0.1       , 0.1       , ..., 0.1       , 0.1       ,\n",
              "        0.1       ],\n",
              "       [0.48954803, 0.1       , 0.1       , ..., 0.1       , 0.1       ,\n",
              "        0.1       ],\n",
              "       [0.44663875, 0.1       , 0.496509  , ..., 0.80710677, 0.1       ,\n",
              "        0.1       ]])"
            ]
          },
          "metadata": {
            "tags": []
          },
          "execution_count": 21
        }
      ]
    },
    {
      "cell_type": "code",
      "metadata": {
        "id": "ex8knj15oHjQ",
        "colab_type": "code",
        "colab": {}
      },
      "source": [
        "\n",
        "\n",
        "def print_topics(model, count_vectorizer, n_top_words):\n",
        "    topics = []\n",
        "    words = count_vectorizer.get_feature_names()\n",
        "    for topic_idx, topic in enumerate(model.components_):\n",
        "        topic = \" \".join([words[i]\n",
        "                        for i in topic.argsort()[:-n_top_words - 1:-1]])\n",
        "        topics.append(topic)\n",
        "\n",
        "    return topics\n",
        "        "
      ],
      "execution_count": 0,
      "outputs": []
    },
    {
      "cell_type": "code",
      "metadata": {
        "id": "7_k1EPyGoUpU",
        "colab_type": "code",
        "colab": {}
      },
      "source": [
        "topics_title = print_topics(lda, tf, 10)"
      ],
      "execution_count": 0,
      "outputs": []
    },
    {
      "cell_type": "code",
      "metadata": {
        "id": "anTEJ26F6SS8",
        "colab_type": "code",
        "outputId": "f808757e-5fe5-4ddb-88da-cb22fe2ffc88",
        "colab": {
          "base_uri": "https://localhost:8080/",
          "height": 185
        }
      },
      "source": [
        "topics_title"
      ],
      "execution_count": 0,
      "outputs": [
        {
          "output_type": "execute_result",
          "data": {
            "text/plain": [
              "['österreich russland wien verweigert ergebnisse landtagswahlen jahr derstandardat alternative start',\n",
              " 'android community erneut österreich arbeitet chef leute villa scheitert league',\n",
              " 'usa mehr macht apple spö neue kostennutzenrechnung lebe gut leben',\n",
              " 'offtopicforum apple ios zwei große jailbreak wiener schützen tatort festplattenabgabe',\n",
              " 'wien neue wiener kommt österreich graz one letzte achtelfinale zurück',\n",
              " 'drei tote jahre ende neue obama frieden wiener terrorprozess androidsmartphones',\n",
              " 'wiesberger bilderberger gespräche griechenland bringt statt kommen hält google europa',\n",
              " 'sieht besser fleischkenner koalition prozent linz verletzt jähriger burgenland seit',\n",
              " 'ggegner diskussion österreicher fürchtet communityforum erwartet rücken privates wochenende protest',\n",
              " 'neue google fordert robert einigung knapp gibt of österreichs gajeta']"
            ]
          },
          "metadata": {
            "tags": []
          },
          "execution_count": 24
        }
      ]
    },
    {
      "cell_type": "code",
      "metadata": {
        "id": "6UfuKt7toMHI",
        "colab_type": "code",
        "colab": {}
      },
      "source": [
        "#### TOPIC MODELING - BODY COLUMN ##########\n",
        "\n",
        "#Removing html tags from Body column \n",
        "import re\n",
        "def remove__htmltags(data):\n",
        "    return re.sub(r'<.*?>','',data)"
      ],
      "execution_count": 0,
      "outputs": []
    },
    {
      "cell_type": "code",
      "metadata": {
        "id": "RuNvWQHRptnw",
        "colab_type": "code",
        "outputId": "503394cb-e8dd-4b30-9a42-0962254d9112",
        "colab": {
          "base_uri": "https://localhost:8080/",
          "height": 218
        }
      },
      "source": [
        "df1['Body1'] = df1['Body'].apply(remove__htmltags)\n",
        "df1['Body1'] = df1['Body1'].apply(toktoktok)"
      ],
      "execution_count": 0,
      "outputs": [
        {
          "output_type": "stream",
          "text": [
            "/usr/local/lib/python3.6/dist-packages/ipykernel_launcher.py:1: SettingWithCopyWarning: \n",
            "A value is trying to be set on a copy of a slice from a DataFrame.\n",
            "Try using .loc[row_indexer,col_indexer] = value instead\n",
            "\n",
            "See the caveats in the documentation: http://pandas.pydata.org/pandas-docs/stable/user_guide/indexing.html#returning-a-view-versus-a-copy\n",
            "  \"\"\"Entry point for launching an IPython kernel.\n",
            "/usr/local/lib/python3.6/dist-packages/ipykernel_launcher.py:2: SettingWithCopyWarning: \n",
            "A value is trying to be set on a copy of a slice from a DataFrame.\n",
            "Try using .loc[row_indexer,col_indexer] = value instead\n",
            "\n",
            "See the caveats in the documentation: http://pandas.pydata.org/pandas-docs/stable/user_guide/indexing.html#returning-a-view-versus-a-copy\n",
            "  \n"
          ],
          "name": "stderr"
        }
      ]
    },
    {
      "cell_type": "code",
      "metadata": {
        "id": "b0-ZsMAlp3fv",
        "colab_type": "code",
        "outputId": "aba988dd-02d5-49eb-b433-5f627ce0820c",
        "colab": {
          "base_uri": "https://localhost:8080/",
          "height": 218
        }
      },
      "source": [
        "df1['Body1']"
      ],
      "execution_count": 0,
      "outputs": [
        {
          "output_type": "execute_result",
          "data": {
            "text/plain": [
              "0      abonnieren unserer newsletter lassen aktuelle ...\n",
              "1      teil derstandardat dezember function popupwinp...\n",
              "2      smartphoneapp bietet nachrichten echtzeit mögl...\n",
              "3      sieht alltag linkshänder erledigen arbeiten re...\n",
              "4      erzählen erlebnissen rund weltpolitischen umbr...\n",
              "                             ...                        \n",
              "995    lotterien sollen prozent dach konzernchef stos...\n",
              "996    microsoftceo nadella kündigt harte entscheidun...\n",
              "997    hersteller blutigen games anfangen kannst dich...\n",
              "998    grüner abgeordneter flächendeckendem lauschang...\n",
              "999    zunächst sicherheitshalber speziell geschulte ...\n",
              "Name: Body1, Length: 1000, dtype: object"
            ]
          },
          "metadata": {
            "tags": []
          },
          "execution_count": 27
        }
      ]
    },
    {
      "cell_type": "code",
      "metadata": {
        "id": "_FbLT42_wVcL",
        "colab_type": "code",
        "outputId": "992c30eb-453e-427d-dac6-90f32928032f",
        "colab": {
          "base_uri": "https://localhost:8080/",
          "height": 34
        }
      },
      "source": [
        "df1.shape"
      ],
      "execution_count": 0,
      "outputs": [
        {
          "output_type": "execute_result",
          "data": {
            "text/plain": [
              "(1000, 7)"
            ]
          },
          "metadata": {
            "tags": []
          },
          "execution_count": 28
        }
      ]
    },
    {
      "cell_type": "code",
      "metadata": {
        "id": "17P8f3P0pEon",
        "colab_type": "code",
        "colab": {}
      },
      "source": [
        "tf1 = TfidfVectorizer()"
      ],
      "execution_count": 0,
      "outputs": []
    },
    {
      "cell_type": "code",
      "metadata": {
        "id": "xnU5fTjwpMjJ",
        "colab_type": "code",
        "colab": {}
      },
      "source": [
        "X1 = tf1.fit_transform(df1['Body1'])\n",
        "dense1 = X1.todense().tolist()\n",
        "X1 = pd.DataFrame(dense1, columns = tf1.get_feature_names())"
      ],
      "execution_count": 0,
      "outputs": []
    },
    {
      "cell_type": "code",
      "metadata": {
        "id": "08cHvkJspXi9",
        "colab_type": "code",
        "colab": {}
      },
      "source": [
        "nmf = NMF(n_components=5, init='nndsvd', random_state=0, alpha=0.1, l1_ratio=0.5)"
      ],
      "execution_count": 0,
      "outputs": []
    },
    {
      "cell_type": "code",
      "metadata": {
        "id": "3PgaDdIDpwW7",
        "colab_type": "code",
        "outputId": "3c7b2440-b12a-4408-8cb8-9dee4dadfd92",
        "colab": {
          "base_uri": "https://localhost:8080/",
          "height": 134
        }
      },
      "source": [
        "w1 = nmf.fit_transform(X1)\n",
        "print(w1)"
      ],
      "execution_count": 0,
      "outputs": [
        {
          "output_type": "stream",
          "text": [
            "[[0. 0. 0. 0. 0.]\n",
            " [0. 0. 0. 0. 0.]\n",
            " [0. 0. 0. 0. 0.]\n",
            " ...\n",
            " [0. 0. 0. 0. 0.]\n",
            " [0. 0. 0. 0. 0.]\n",
            " [0. 0. 0. 0. 0.]]\n"
          ],
          "name": "stdout"
        }
      ]
    },
    {
      "cell_type": "code",
      "metadata": {
        "id": "-9sBDSlup2rP",
        "colab_type": "code",
        "outputId": "852bd0c3-bd1d-41c0-ec53-b81329c38746",
        "colab": {
          "base_uri": "https://localhost:8080/",
          "height": 101
        }
      },
      "source": [
        "h1 = nmf.components_\n",
        "print(h1)"
      ],
      "execution_count": 0,
      "outputs": [
        {
          "output_type": "stream",
          "text": [
            "[[0. 0. 0. ... 0. 0. 0.]\n",
            " [0. 0. 0. ... 0. 0. 0.]\n",
            " [0. 0. 0. ... 0. 0. 0.]\n",
            " [0. 0. 0. ... 0. 0. 0.]\n",
            " [0. 0. 0. ... 0. 0. 0.]]\n"
          ],
          "name": "stdout"
        }
      ]
    },
    {
      "cell_type": "code",
      "metadata": {
        "id": "30Hxj5-Sp7Uh",
        "colab_type": "code",
        "outputId": "68b55786-d70c-42bb-903f-c005361673f3",
        "colab": {
          "base_uri": "https://localhost:8080/",
          "height": 625
        }
      },
      "source": [
        "display_topics(h1,w1,list(X1),df1[\"Body1\"],1,5)"
      ],
      "execution_count": 0,
      "outputs": [
        {
          "output_type": "stream",
          "text": [
            "Topic 0:\n",
            "prozent\n",
            "prozent eurozone prozent österreichluxemburgbrüssel arbeitslosenrate eurozone april gegenüber vormonat märz leicht zurückgegangen eurostat mittwoch mitteilte betrug rate april euroraum prozent gegenüber prozent märz österreich kommt quote prozent mehr dritten rang eu gemeinsam luxemburg malta deutschland prozent großbritannien prozent allerdings stammen daten london februar neuere vorlagen österreich zuletzt zweitbesten daten eu aufwies verzeichnet rückfall nachdem länder abstand alpenrepublik vergangenen monaten reduzieren konnten märz österreich arbeitslosenrate prozent aufgewiesen april prozent prozent euschnitt gesamten eu betrug arbeitslosenquote april prozent unverändert gegenüber märz höchsten quoten registrierten vormonaten griechenland prozent spanien prozent jahr betrachtet fiel arbeitslosenquote april eustaaten sechs ländern darunter österreich stieg anstiege verzeichneten belgien rumänien frankreich kroatien finnland stärksten rückgänge meldeten spanien litauen irland situation junge bessert leicht zurückgegangen april jugendarbeitslosigkeit eurozone fiel quote gegenüber märz prozent eu ging selben zeitraum prozent zurück niedrigsten quoten jährigen meldeten april deutschland prozent österreich dänemark je prozent höchsten quoten verzeichneten griechenland prozent spanien prozent kroatien prozent italien prozent schätzung eurostat april eu insgesamt millionen menschen arbeitslos davon millionen euroraum gegenüber april verringerte zahl arbeitslosen eu millionen euroraum apa\n",
            "statistik austria registrierte kfz rückgang knapp vier prozent gegenüber vorjahresmonat prozent gegenüber aprilwien nachfrage gebrauchtwagen mai deutlich gesunken zahl zulassungen gebrauchte kfz verringerte gegenüber vorjahresmonat prozent gegenüber vormonat april betrug rückgang prozent geht aktuellen daten statistik austria heute mittwoch hervor mai wurden weniger gebrauchte pkw zugelassen stück lag minus gegenüber vorjahresmonat ebenfalls prozent rückläufig sowohl zahl zugelassenen dieselautos anteil prozent mehrheit österreichs straßen ausmachen minus prozent benziner inklusive flexfuelfahrzeuge minus prozent nutzfahrzeugen gingen gebrauchtzulassungen ebenfalls zurück land forstwirtschaftlichen zugmaschinen prozent sattelzugfahrzeugen prozent sowie lkw klasse n prozent zweirädern zeigten gebrauchtzulassungen unten minus prozent motorrädern prozent motorfahrrädern prozent leichtmotorrädern starke nachfrage skoda toppkwmarken gab gebrauchten skodaautos dafür kräftigen zuwachs zulassungen prozent weniger häufig zugelassen wurden gebrauchte pkw folgender marken opel minus prozent ford minus prozent renault minus prozent audi minus prozent peugeot minus prozent vw minus prozent mercedes minus prozent bmw minus prozent seat minus prozent apa\n",
            "umfrage zeigt österreicher beim abnehmen wenig experimentierfreudig vegane ernährung sehen kritischlinzwien – drittel österreichischen bevölkerung mindestens schon diät gemacht frauen prozent deutlich mehr erfahrung vorweisen männer prozent beim abnehmen setzen vorwiegend friss hälfte fdh trennkost allerdings meisten bewusst ernährungsumstellung besser wäre lautet ergebnis aktuell veröffentlichten imasumfrage meinungsforscher befragten april personen jahren repräsentativ bevölkerung befragungsteilnehmern schon diät gemacht legten liste möglichen methoden abnehmen je prozent diäterfahrenen demnach bereits fdh trennkost ausprobiert prozent setzten zweiten tag essen folgen rohkost apfelessigdiät beziehungsweise prozent heilfasten ebenfalls prozent saftkur elf prozent ausgeprägter jojoeffekt exotischen methoden d ayurveda meisten eher zurückhaltend schlusslichter formula glyxdiät sowie abnehmen onlinetools app je zwei prozent statistische durchschnitt diäten ausprobiert prozent bewerten bemühungen gewichtsreduktion nachhinein erfolgreich gesamtbevölkerung herrscht meinung besser ernährung umstellen diät prozent stimmen voll ganz einigermaßen prozent vertreten ansicht diätende zunimmt langfristige gewichtsreduktion diät halten prozent möglich allerdings finden prozent abnehmen bewusster ernährt skepsis gegenüber veganer ernährung zuletzt gingen meinungsforscher frage hoch anteil vegetarier veganer vier prozent bezeichneten vegetarier prozent veganer prozent verneinten beides drei prozent machten angabe knapp zwei drittel befragten ansicht gesündesten ernährt fleisch fisch isst zehnte hält vegetarismus beste vegane ernährung sehen drei prozent optimal gesundheit apa weiterlesen adipositas dicke ende schlankheitsdruck diätwahn alter magersucht beginn steht häufig diät\n",
            "lebensmittel österreich durchschnittlich viertel teurer eudurchschnitt dänen essen teurerwien – österreich lebensmitteln schon immer teureren seite preisabstand durchschnittsniveau eu größer geworden statistikauswertung eurostat ergeben freitag homepage luxemburg beheimateten institution veröffentlicht wurde foto apmichael probstbevor häppchen gabel stecken österreich ordentlich geld dafür hinlegen berechnungen zufolge liegt österreich nahrungsmitteln alkoholfreien getränken prozent eudurchschnitt zweitteuerste land dänemark prozent euschnitts teurer siehe grafik zahlen beziehen jahr aktionspreise denen österreich häufig geworben erhebung berücksichtigt ebenso wenig qualität produkte österreich kategorie lebensmittel alkoholfreie getränke erstmals schweden platz zwei teuersten länder verdrängt lag einschlägige preisniveau österreich prozent euschnitt jahr davor prozent foto apa nahrungsmittel brot getreideerzeugnisse fleisch fisch milch käse eier gemüse alkoholfreie getränke polen günstigsten preisniveau lag prozent euschnitts dänemark teuerstes land lag prozent prozentpunkte eudurchschnitt preise alkoholische getränke tabakwaren wiesen unterschiede dreifachen teuersten produkte irland prozent billigsten bulgarien prozent laut eurostat hohen preisunterschiede erster linie unterschiedliche besteuerung zurückzuführen generell liegen preise österreich prozent euschnitts oberen drittel teurer einkaufen dänemark prozent schweden prozent finnland prozent großbritannien prozent deutschland italien prozent einkaufen billiger niedrigsten preisniveau vergleich eu bulgarien prozent stro\n",
            "wien niederösterreich traiskirchen steiermarkwien – bundesländer dabei zusätzliche unterkünfte asylwerber schaffen drei schaffen derzeit geforderte quote notquartiere bundes wären weiterhin säumiger zeigt aktuelle statistik innenministeriums stichtag dienstag juni demnach kommen salzburg oberösterreich dank zelten polizeiturnsälen prozent asylwerber stichtag zelten salzburg untergebracht oberösterreich polizeiräumen zählte salzburg menschen oberösterreich somit kommt salzburg gesamtstatistik quote prozent bereinigt eilig eingerichteten bundesquartiere allerdings prozent landeshauptmann wilfried haslauer övp dienstagabend orfreport angekündigt nächster zukunft quote erfüllen oberösterreich prozent freuen lässt notunterkünfte bundes beiseite indes prozent länder stellen mehr plätze gegenüber zuletzt veröffentlichten zahlen vergangener woche zeigt länder dabei mehr plätze aufzustellen vorarlberg etwa geschafft prozentmarke durchbrechen real prozent bundesnotquartiere schlusslicht derzeit kärnten realen quote prozent inklusive polizeiplätzen kommt prozent burgenland mitregierende fpö asylaufnahmestopp wahlkampf gemacht künftig norbert darabos spö asyl zuständig personen polizeiturnsälen untergebracht reale quote beträgt somit prozent bereinigte prozent bundesland gegenüber vorwoche wenig nachgelassen steiermark schafft de facto punktlandung ebenso niederösterreich inklusive erstaufnahmestelle traiskirchen dortigen personenzeltsiedlung gezählt real prozent wien übererfüllt quote real rund prozent tirol liegt real prozent apa\n",
            "Topic 1:\n",
            "params\n",
            "glatte zweisatzniederlage ukrainer dolgopolownottingham – dritten runde rasentennisturniers nottingham dominic thiem endstation sieg tunesier malek jaziri dienstag kam mittwoch ukrainer alexander dolgopolow jährige niederösterreicher auftakt freilos minuten geschlagen geben nummer weltrangliste kommt erfolg rasen wimbledon all bisherigen vier versuchen – heuer stuttgart halle sowie london queens club wimbledon – scheiterte schützling günter bresnik jeweils ersten runde red var params = ressortid= var sporttabellenteaser = new ajaxupdater success sporttabellenteaser sporttabellenteaseraspx method get parameters params\n",
            "exbaseltrainer nachfolger vincenzo montellaflorenz – bisherige trainer schweizer fußballmeisters fc basel paulo sousa neuer coach beim ac fiorentina übereinkommen portugiesen sei erzielt worden teilte italienische erstligist sonntag sousa folgt beim vierten abgelaufenen serieasaison vincenzo montella club anfang monats verlassen beim schweizer serienmeister übernahm jährige zürcher urs fischer bereits donnerstag traineramt apa var params = ressortid= var sporttabellenteaser = new ajaxupdater success sporttabellenteaser sporttabellenteaseraspx method get parameters params\n",
            "freunde tippens championsleaguesaison vorbei durchgesetzt userin vlatilatiah kongrazia ziemlich deutlich punkten gewinnerin captain willard durchgesetzt dritten platz teilen emirk pla ton jeweils vier mögen sportredaktionderstandardat melden sommerliches goodiebag bereit spannend lustig nächstes jahr starten null geht tippspiel var params = ressortid= var sporttabellenteaser = new ajaxupdater success sporttabellenteaser sporttabellenteaseraspx method get parameters params\n",
            "linzer rüsten kommende saison kräftig auflinz fußballzweitligist lask dienstag vier weitere neuverpflichtungen bekanntgegeben linzer nahmen innenverteidiger ione cabrera christian ramsebner sowie thomas fröschl reinhold ranftl vertrag spanier cabrera kommt sv grödig linz ramsebner austria wien stürmer fröschl stand zuletzt laskneotrainer oliver glasner sv ried vertrag mittelfeldspieler ranftl bundesligaabsteiger wiener neustadt apa var params = ressortid= var sporttabellenteaser = new ajaxupdater success sporttabellenteaser sporttabellenteaseraspx method get parameters params\n",
            "niederlage dustin brown haidermaurer verpasst mögliches achtelfinalduell dominic thiemhalle tennisprofi andreas haidermaurer rasenturnier halle ersten runde deutschen dustin brown atpnr glatt ausgeschieden österreichs nummer wildcardspieler montag mehr stunde geschlagen geben haidermaurer verpasste mögliches achtelfinalduell dominic thiem allerdings auftakt weltranglistenfünften kei nishikori japan tun bekommt vorwoche haidermaurer stuttgart ebenfalls rasen immerhin zweite runde gekommen apa var params = ressortid= var sporttabellenteaser = new ajaxupdater success sporttabellenteaser sporttabellenteaseraspx method get parameters params\n",
            "Topic 2:\n",
            "fpö\n",
            "konkrete verhandlungen beginnen wenige tage landtagswahl landeshauptmann niessl fpöchef tschürtz kündigten gespräche faymann wurde vorab informiertin eisenstadt wenige tage landtagswahl sonntag zwei parteien ernst landeshauptmann hans niessl spö burgenländische fpöchef johann tschürtz mittwochabend gemeinsame erklärung abgegeben niessl tschürtz bereits sondiert treten konkrete koalitionsverhandlungen burgenland steht rotblauen regierung erste offiziellen koalitionsgespräche erfolgten mittwochabend niessl ziel möglichst rasch regierung spö fpö burgenland pictwittercomuhdtxmsii— walter schneeberger walt juni faymann vorab informiert bundeskanzler werner faymann wurde informationen standard schritt niessl vorinformiert tschürtz offenbar övpchef franz steindl verhandelt sowohl spö övp burgenland bereit gezeigt fpö koalition treten chancen demnächst rotblaue landesregierung bloß groß quasi bank wochenende koalition vielleicht schon stehen hieß niessls büro recht zufriedenen gesichtern traten abend niessl tschürtz kameras ließen wissen einander mögen wahlergebnis verstanden vonseiten sozialdemokratie wahlergebnis verstanden menschen koalition deutliche verluste beschert verluste ernst nehmen sagte niessl spö wahlen sechs prozent verloren abstand stärkste partei prozent burgenland niessl freiheitlichen hätten meisten dazugewonnen finde demokratischer sicht gut stimmenstärkste partei landeshauptmann stelle partei dazugewonnen eben koalition vertreten demokratiepolitisch nachvollziehbarer vorgang niessl parallelverhandlungen sei optimistisch gespräche ergebnisorientiert enden wissen völlig neue wege beschreiten niessl gespräche immer gegenseitigem respekt gekennzeichnete kommunikation vergangenen wochen hätten gezeigt entsprechende vertrauen gibt vereinbart ab sofort parallelverhandlungen gibt weder sozialdemokratie freiheitlichen amtierende splandeshauptmann stellte klar zentralen punkten gibt fpö übereinstimmung rückendeckung strache fpöbundesparteiobmann heinzchristian strache gebe rückendeckung sei vollstens einverstanden spö verhandlungen führe sagte tschürtz fpölandesparteipräsidium einstimmig dafür ausgesprochen verhandlungen sozialdemokraten gehen koalitionsverhandlungen fpoe spoe gestartet viele übereinstimmungen genieße vertrauen bgld pictwittercomprjtgpk— bettina eder dalidelsda juni dreierkoalition övp fpö liste burgenland spö wahl sonntag prozent gekommen niessl offensive entgegengetreten fpö kam wahl prozent kommentar faymann faymann donnerstag äußern kanzleramt verwies aussage wenigen tagen wonach landesorganisationen freigestellt sei wem koalition eingehen faymann respektieren niessl entscheidung wohl begründen kritik innerhalb spö spö rumort ankündigung eisenstadt gewaltig insbesondere wiener genossen stinksauer koalition fpö landesebene wahlkampf wien strachefpö umso schwieriger mache spöfunktionäre niessl einwirken vorhaben abstand nehmen sozialdemokratischen jugendorganisationen vorgehen niessl scharf kritisiert steindl niessl opfert sozialdemokratische grundwerte burgenländische övpchef franz steindl zeigte ersten reaktion erfreut spö opfert sozialdemokratischen grundwerte offensichtlich altar machterhalts ab entscheidet h c strache zukunft burgenlandes bundesparteitagsbeschluss rotblau spö burgenland tatsächlich zusammenarbeit freiheitlichen entschließen geschähe klarem widerspruch gleich zwei beschlüssen spbundesparteitags laut jahr darf koalition rechtspopulistischen fpö geben wurde ablehnung politischen ebenen bekräftigt jüngeren antrag eingebracht jungen generation ordentlichen bundesparteitag november fpö rechtsextreme partei bezeichnet schaffe irrationale schuldzuweisungen fiktive zusammenhänge feindbilder menschen diskriminieren verhetzen tiefen keil gesellschaft soziale struktur treiben verwiesen vernetzung radikalen rechten europa sozialdemokratische partei antifaschistische aufgabe klar entwicklung fpöverhetzung stellung beziehen fall kooperation einzulassen fehlerhaftigkeit kurzschlüssigkeit fpöargumentation aufzuzeigen heißt koalition entsprechende beschluss spö spricht klar koalition fpö politischen ebenen ersten beschluss bereits november beim ordentlichen parteitag gegeben damals hintergrund parteiintern höchst umstrittenen kärntner chiantikoaliton splandesparteichef peter ambrozy jörg haiders fpö koalition rechtspopulistischen fpö lautete damals beschluss antrag sozialistischen jugend sj sündenfall kärnten rede sei beinahe törichter irrglaube davon auszugehen diejenigen enttäuscht spö richtung fpö abgewandt deswegen zurückkehren spö fpö paktieren hieß antragsbegründung unklare positionierungen untergraben vertrauen partei treiben viele jüngere direkt arme parteien niessl bundesparteitagsbeschluss atvsendung klartext erklärte hans niessl landtagswahl warum bundesparteitagsbeschluss gültig sei bundesparteibeschluss bundesebene wichtig landesparteibeschluss landesebene wichtig klartext völ wei ras seb apa kommentar michael völker katastrophe spö reaktionen övp spottet faymann rote jugendorganisation entsetzt\n",
            "niessl bringt rotblauen rochade burgenland faymann häupl schwerste verlegenheit betätigt vorfeld wienwahl wahlhelfer strache gibt gültigen beschluss spöbundesparteitags wonach partei klar koalition fpö politischen ebenen ausspricht beschluss fühlt burgenländische landeshauptmann hans niessl offenbar gebunden freiheitlichen burgenland landesregierung holen koalition eingehen entsprechenden beschluss koalitionsverhandlungen aufzunehmen gaben niessl burgenländische fpöchef johann tschürtz mittwochabend eisenstadt gemeinsam bekannt überraschend schnell tatsache sowohl övp spö fpö angeboten koalition bilden tschürtz beim amtierenden landeshauptmann zugesagt bundespartei viele landesorganisationen insbesondere wiener donner gerührt tabubruch desavouiert niessl ganz offen spöchef bundeskanzler werner faymann wien wenigen ganz fixen politischen standpunkte immer dezidiert betont spö koalition fpö frage kommt niessl bringt rochade kanzler gesamte partei bitteren erklärungsnotstand michael häupl wiener bürgermeister oktober landtagswahlen bestreiten schlichtweg katastrophe fpöchef heinzchristian strache – – mutter wahlschlachten duell strache häupl hochstilisiert bedeutet koalition burgenland politische aufwertung ausgrenzen freiheitlichen immer beklagen politisches kapital geschlagen ende fpö signal eisenstadt – spö – hinsicht ernst nehmen wahlkampf wien sozialdemokratischer sicht fiasko parteistrategen wohl neue linie wahlkampf überlegen müssen kommt äußert ungelegen trifft spö phase absoluten schwäche steiermark spö prozent abgerutscht landtagswahlen oberösterreich droht sozialdemokraten bitterer verlust – zwei wochen wahl wien strache hoch bescheren rückenwind oberösterreich wien gut gebrauchen niessl vorgehaltener hand genossen wien erklären versucht freiheitlichen einbindung entzaubern häupl trost wahl wien burgenland entzauberung stattfinden gegenteil freiheitlichen verantwortungsbewusst auftreten – recht schlechten ruf politische schmuddelkinder denen spielen mag reparieren niessl betätigt wahlhelfer strache beschert spö diskusion gar brauchen wer weiß beschleunigt wahl wien spö sattes minus droht möglicherweise abgang häupl faymann gleich michael völker burgenland spö fpö koalition abschließen\n",
            "spö bleibt dabei koalition fpö bund neuer bundesgeschäftsführer erst anfang juli feststehen wien – unerwartet spöpräsidium folgen rotblau burgenland wesentlichen ergebnisse gebracht spö legte bloß weiteres mal fest bundesebene koalition freiheitlichen geben nachfolge bundesgeschäftsführer norbert darabos blieb ungeklärt parteichef werner faymann nannte rund dreistündigen präsidium bloß deadline wann besetzung bundesgeschäftsführung geklärt spätestens beim nächsten bundesparteivorstand juli spöchef personalvorschlag unterbreiten blümel kritisiert spö övpgeneralsekretär gernot blümel forderte regierungspartner spö dienstag internen probleme schnellstmöglich lösen rotblaue koalition entpuppe offensichtlich immer mehr innerparteiliches dilemma spö – partei eigene beschlüsse umsetzt linien einhält heißt övppresseaussendung bezeichnend sei spö gelingt neuen bundesgeschäftsführer blümel brauchen handlungsfähigen partner bundesebene bevorstehenden herausforderungen land statt beschäftigt glawischnig wiederum sieht schon dämme spö gegenüber hetzerischen hypomilliardenverzockerpartei fpö brechen gestrigen parteipräsidium spö sei klar parteitagsbeschluss koalition freiheitlichen ebenen gelte vorerst bestenfalls gerade bundesebene länder hätten freibrief bekommen koalition fpö offene fragen wer rolle bundesgeschäftsführers übernehmen offenbar tatsächlich geklärt fix zwei bundesgeschäftsführer geben entsprechende fragen gab faymann wohl blick ära laura rudas günther kräuter solch konstellation wahnsinnig bewährt andererseits sei arbeitsaufteilung wohl möglich inhaltlich betonte spöchef kurzen stehpressekonferenz partei seien wesentlichen fpö verhetzung stehe koalition bund eingehen freibrief länder ebene tun wohl geben faymann betonte dafür parteitagsbeschluss bräuchte dafür notwendigkeit sehe bundeskanzleramt hieß präsidium montagmittag bereits hätten länder freie hand regierungsbildung gehabt statuten sei geregelt bundesparteitagsbeschlüsse eigenständigkeit overrulen beratung parteipräsidium hätte bereits übliche praxis lediglich formalisieren sollen faymann sagte vorfeld präsidiums standard spö diktatur parteivorsitzende demokratisch herbeigeführten entscheidungen landesorganisationen ignoriert oben befehle erteilt spaltung große spaltung partei sah faymann ebenso wenig führungsdebatte manchmal unterschiedlicher meinung sei spö immer schon gegeben vorsitzenden ja immer manchmal prozent gewählt spielte faymann eigenen schwachen ergebnisse vergangenen zwei parteitagen niessl fpö entschieden erklärte faymann gefahr verlusts landeshauptmannpostens kooperation övp freiheitlichen liste burgenland immerhin dabei vorfeld gelogen option schon wahl genannt niessl mitgliederbefragung entscheidungshilfe gewählt argumentierte faymann freilich hinzuzufügen veranstalten ablehnung entscheidung rotblaue koalition burgenland stieß vorfeld präsidiumssitzung deutliche ablehnung niessl zeigte davon ungerührt rotblau sei einzig machbare variante präsidium kurzfristig einberufen worden nachdem partei teils heftige empörung rotblaue zusammenarbeit erhoben zusätzlich davon angefacht wurde koalition fpö bundesparteitagsbeschluss eigentlich ausgeschlossen ländern sonderrechte gewährt sollten forderte präsidium niemand ganz gegenteil stellte etwa tirols landeschef ingo mayr klar bundesparteitagsbeschlüsse ländern gelten hätten wiens bürgermeister michael häupl landesvorsitzender durchaus verständnis gewisse autonomie brauche gilt bundesparteitagsbeschlüsse einzuhalten urabstimmung basis niessl durchaus meinung darüber sprechen regelung finden könne bund ländern unterscheide parteitagsbeschluss gehalten konterte landespartei durchgeführten urabstimmung basis option rotblau geöffnet überhaupt sei koalition freiheitlichen pragmatischen zugang entstanden sei einzige chance stabile regierung häupl einschätzen rotblau burgenland wienwahl herbst schaden niessl gegenüber großen schuldzuweisungen vornehmen persönlich gestörtes verhältnis freund hans niessl klar sei ohnehin wiener spö freiheitlichen regierungszusammenarbeit eingehen nämliches versicherte kanzler parteichef werner faymann bundesebene gibt koalition fpö bleiben kärnten guten erfahrungen guten erfahrungen zusammenarbeit freiheitlichen konnte kärntens landeshauptmann peter kaiser berichten allerdings einzige verständnis niessl zeigte wäre kooperation fpö eingegangen hätte jemand gemacht kaiser blick burgenländische övp inhaltlichen bewertungen beginn präsidiums ögbpräsident erich foglar abgeben einzig gute situation sei naturgemäß freue erklärte gewerkschaftschef fsgvorsitzender wolfgang katzian schon nachmittag klargemacht rotblau klar abzulehnen sei jugendorganisation demonstriert linie vertreten jugendorganisationen sozialistische jugend demonstrierte parlament kleinen gruppe rotblau gemäßigtere junge generation macht chefin katharina kucharowits beim präsidium direkt klar koalition fpö ablehnt besonders stört kucharowits niessl sogar stellvertretender parteivorsitzender parteitagsbeschluss bricht apa red\n",
            "maßgebliche teile spö steiermark gewerkschaft arbeiterkammer verlangen burgenländischem beispiel ebenfalls koalitionsgespräche fpö graz fixierten rotblauen koalitionspakt burgenland drängen steiermark teile spö ögb arbeiterkammer ende ausgrenzungspolitik stellen klar landesparteichef franz voves burgenländischen koalitionseinigung spö fpö umgehend rotblaue konstellation steiermark ausgeschlossen schließe persönlich koalition strachefpö gerichtlich verurteilte wiederbetätiger hetzer beheimatet ließ voves schriftlich wissen christlichsoziale övp endgültig geschichte gelernt nochmals rechtsrechte fpö salonfähig appellierte voves reformpartner övp innerhalb volkspartei wurden letzten tagen ja vermehrt stimmen laut övplandeschef hermann schützenhöfer möge fpö koalitionsverhandlungen aufzunehmen wähler ignorieren obwohl voves klare trennlinie zieht jedenfalls mehr partei folgen ögbvorsitzende horst schachner fordert ebenfalls einbindung fpö ernste gespräche müssen ausgrenzungspolitik beenden verlange ernsthafte koalitionsverhandlungen parteien fpö aufgenommen wähler einfach ignorieren gesprächen herauskommt frage demokraten müssen freiheitlichen einladen sagte schachner gespräch standard verständnis niessl arbeiterkammerpräsident josef pesserl plädiert dafür freiheitlichen koalitionsgespräche einzubeziehen erster linie darum gehen brennenden probleme beschäftigung bildung investitionen lösen dabei darf demokratie partei ausgeschlossen argumentiert pesserl verständnis burgenlands spölandeshauptmann hans niessl zeigt niessl sicher interesse burgenlands gehandelt dezidierte hinweis voves persönlich koalition fpö ausschließe parteichef ganze spö sprach deutet darauf voves natürlich längst weiß partei bewegung geraten övp zeigt inoffiziell burgenländischen rotblauen pakt erfreut niemand mehr dagegen sagen steiermark schwarz–blau sagt övp politiker ganz ausgeschlossen bundesland voves schützenhöfer rasch fakten schaffen positionen abzusichern walter müller nachlese liveticker gutes koalitionsübereinkommen getroffen positionierungsversuche rote kritik rote rechtfertigung rotes schweigen rotblaue regierung burgenland fpö erhält eigenes sicherheitsressort skepsis romavertreter sarközi freud rotblau bund sozialdemokratischer freiheitskämpfer viele langjährige parteimitglieder austritt angekündigt\n",
            "hilflosigkeit regierung treibt xenophoben politik wähler zudie regierung bietet bild hilflosigkeit taumelt mehr geschehnisse themen anpackt probleme löst vorhaben umsetzt davon profitiert fpö steuerreform durchaus positive ansätze bot wurde regierungspartnern kleingeredet kleingestritten wenigen wochen blieben größten steuerreform zeiten gegenseitige anschuldigungen billige abtäusche schlimmer rot schwarz rund flüchtlingsthema anrichten menschen wurden ängsten alleingelassen befürchtungen bestärkt fernsehbilder flüchtlingsbooten mittelmeer tausenden verzweifelten menschen kommen sorgen vielen bürgern verunsicherung politik bietet halt anstatt problem anzupacken ergeht kleinlichen streitereien flüchtlingen verfahren sei fußballplätzen rande wohnsiedlungen wurden zeltstädte errichtet denen flüchtlinge schlamm waten ebenso wenig perspektive österreicher wissen zukommt spö werfen övp situation bewusst eskalieren lassen spö schaden dabei nehme eigene verluste stärkung fpö kauf tatsache spö beiden bundesländern stärker verloren övp massive schaden politik wochenende erlitten niemandes interesse fpö anfang asylproblematik gesetzt regierung hände gearbeitet werner faymann reinhold mitterlehner agieren getrieben löst probleme schafft maßgeblich daran beteiligt landeshauptleute bürgermeister reihen spö övp wählen menschen eben fpö probleme löst hätten spö övp gehandelt aktionsplan umgesetzt paar tausend flüchtlinge menschengerecht untergebracht hätten wähler fpö verloren hätten haltung bewiesen hätte gewusst warum verunsicherung wäre jedenfalls groß problem ungelöst bleibt wirkungsvolle munition zwei weiteren anstehenden landtagswahlen oberösterreich wien erhalten fpö rohren schießen regierungsparteien weiterhin hertreiben stellt frage spö övp wahlerfolge fpö reagieren stellen freiheitlichen inhaltlich entgegen geben fremdenfeindlichen grundstimmung regierung rasche adäquate versorgung flüchtlinge sorgt fpö verlieren schaden begrenzen faymann mitterlehner ende tages spiegel schauen weitermachen bisher öffnen tore menschenverachtenden politik angst setzt vorurteile schürt handwerk fpö erledigt mehr entgegensetzen fpö gewonnen michael völker\n",
            "Topic 3:\n",
            "apple\n",
            "apple zusatzangeboten dienste spotify angreifen marktstart schon juni apple one more thing montag präsentierte unternehmen auftakt entwicklerkonferenz wwdc san francisco neuen musikstreamingdienst apple music dafür kaufte unternehmen vergangenen jahr kopfhörerhersteller streamingdienstanbieter beats drei milliarden usdollar dafür holte musikexperten britischen dj zane lowe ausgangslage aktuelle situation musikbranche erinnert lage sony jahren tragbaren kassettenplayer walkman dominierten japaner damals geschäft mobilen musik feierten musikbranche erfolge plattenlabel sony music tauschbörse napster musikbranche digitalära begann sprang sony statt gängige digitalformat mp setzen setzte unternehmen komplizierte kopierschutzverfahren sony music einbußen offenes digitalformat befürchtete gebracht walkman verschwand versenkung ipod itunes maßgeblich wiederaufstieg apple beitrugen apple aufholen streamingdienste spotify deezer tidal download musik überflüssig apple itunes downloadmarkt dominiert iphonehersteller trendwende verlieren neue dienst verhindern app apple startet zusatzapp musikanwendung komplett umgemodelt app zusammengefasst musik itunes lieder eigenen musiksammlung cds gerippte neuen streamingdienst nutzer zugriff millionen lieder streamingdienst einzelne songs alben playlists abspielen downloads stehen weiterhin itunes verfügung laut apple speichern offlinehören möglich personalisierung neue musik entdecken führt apple music kuratierte wiedergabelisten laut apple algorithmen erstellt musikexperten ausgewählt mixes alben neuerscheinungen playlists nutzer personalisiert bereich for you präsentiert exakt vorschläge persönlichen vorlieben einzelner nutzer abgestimmt sollen ganz klar vorschläge verbessern sollen nutzer apple music mitteilen songs künstler mögen apple musikdienst zudem integration siri erweitert sprachassistentin beispielsweise spiele besten songs nummer bestimmten jahres suchen lassen radiosender daneben startet apple angriff radiosender eigenen channel beats moderatoren zane lowe ebro darden julie adenuga täglich rund uhr live los angeles new york london musik musikkultur berichten interviews gastmoderatoren news geben zusätzlich gibt djs erstellte sender verschiedenen musikgenres sender sollen abo empfangbar mitgliedschaft songs übersprungen netzwerk connect apple präsentationsplattform künstler schaffen darüber videos fotos liedertexte teilen nutzer postings kommentieren facebook twitter email messages teilen connect erinnert entfernt ping – soziales musiknetzwerk apple itunes gestartet floppte allerdings wurde eingestellt connect besser angenommen daher gewissen portion skepsis begleitet verfügbarkeit apple music startet juni ländern genau allerdings klar deutschen applewebsite findet schon eigener bereich music österreichischen jedoch nachfrage webstandard prvertretung apple österreich heißt informationen gibt dreimonatigen probemitgliedschaft fallen monat usdollar – gleiche preis spotify google verlangen darüber hinaus bietet apple familienlizenz dollar sechs personen lokalen preise marktstart bekannt gegeben neben ios mac windows apple music ab herbst apple tv android verfügbar konkurrenz reagiert einsilbig konkurrenz reagierte neue angebot verhalten oh ok schrieb daniel ek gründer ceo spotify montag schnell gelöschten tweet birgit riegler apa link apple music\n",
            "spotify apple taylor swift aktuellen streittagelang hagelte heftige kritik seitens indielabels apples pläne tantiemen kostenlosen probezeitraum apple music bezahlen erst offener brief popstar taylor swift bewegte unternehmen letztendlich umdenken künstler bezahlt nutzer songs testphase hören taylor swift zwang apple knie wirklichen gewinner gibt dabei bleibt beim alten bleibt zunächst beim alten analysiert etwa nilay patel the verge apple zahlt konkurrent spotify garantie swifts aktuelles album apple music verfügbar gibt allerdings dafür müsse wohl verträge ausgehandelt spotify angeboten fall stoßen swift label kostenlosen basisdienst spotify spotify zahlt gratisdienst niedrigere tantiemen argumentiert viele nutzer kostenlosen dienstes zahlenden kunden premiumabos erhalten künstler mehr apple musikern dreimonatigen testphase ebenfalls wenig bezahlen verspricht ebenfalls daraus zahlende kunden ende probezeitraums leitet apple höhere erträge musikindustrie sofern nutzer zahlen unklare zukunft swift zieht schon seit geraumer zeit streamingdienste leder dienste wenig bezahlen respekt arbeit musikbranche zollen spotify sieht freilich schon öfter vorgerechnet tantiemen ausgeschüttet wurden swift macht klar haltung ändern streamingdienste zukunft ersatz langsam sinkende musikdownloads etablieren populäre künstler dagegen stimmung bleibt offen apple music startet juni red links the verge spotify apple music nachlese taylor swift zwingt apple knie\n",
            "videodienst dürfte verschoben worden droht jailbreakam montag steht wichtigsten appletermine jahres entwicklerkonferenz wwdc softwarebereich wichtige neuerungen verkündet letztes jahr wurde etwa betriebssystem os x yosemite enthüllt heuer itbranche apples neuen musikservice gespannt viele infos bereits vorab öffentlichkeit drangen abseits beats interessante vorstellungen geben überblick apples musikstreamingdienst letzten moment verhandlungen rechteinhabern liefen vorstellung apples spotifykonkurrent relativ sicher rechnen laut berichten dürfte apple fokus exklusive inhalte legen itunes radio djsessions berühmter popstars david guetta drake aufpeppen service rund zehn dollar monat kosten ersten drei monate gratis verfügbar unklar name beats beibehalten apples videostreamingdienst eigentlich apple neben musik fernsehmarkt einsteigen eigenen streamingdienst präsentieren ergaben vorbereitung größere komplikationen apple plante laut internen berichten livefernsehen via streaming anzubieten hätte regulatorische konsequenzen gebracht außerdem zeigten internetprovider oft kabelfernsehen anbieten recht verärgert deshalb apple sondieren präsentation – inklusive neuen apple tv – vorerst verschieben ios os x betriebssystemen kleineren updates kommen fokus performance sicherheit legen mobile betriebssystem ios lightvariante erscheinen älteren geräten funktionieren berichtet yahoo neue funktionen dürften eher mangelware jailbreaker apple darüber verärgert immer mehr nutzer iphones jailbreaken mehr rechte eigentlich vorgesehen erhalten laut apple sicherheit unterlaufen deshalb arbeitet konzern rootless bestimmte systemdateien adminrechten vorm zugriff schützt jailbreaker neue hürden stellen apple watch unklar watch neuvorstellungen kommt jahresbeginn machten gerüchte runde denen zufolge apple system vorstellen watch dazugehöriges iphone funktionierte potenziellen kundenkreis massiv erhöhen gerüchte allerdings vergangenen wochen verstummt ab montag uhr darüber klarheit herrschen derstandard wwdc natürlich begleiten zeitnah berichten fsc links apple wwdc yahoo nachlese apple verhandelt neue musikrechte spotify angreifen ios force touch imessageneuerungen\n",
            "allerdings viele offene fragen umsetzung linux veröffentlichtziemlich genau jahr her apple swift neue programmiersprache vorgestellt solle entwicklung ios vergleich zuvor favorisierten objectivec deutlich erleichtern hieß damals zielsetzung jahr später ambitionen apple gewachsen bereitschaft apple sprache teilen freigabe version swift nämlich open source freigegeben verkündete craig federighi leiter softwareabteilung apple rahmen keynote entwicklerkonferenz wwdc zusätzlich swift apple plattformen jenseits os x ios angeboten konkret erwähnte softwarehersteller freie betriebssystem linux offene fragen freilich heißt abzuwarten freigabe open source konkret umgesetzt immerhin apple hinsicht unbedingt besten track record blogeintrag verspricht unternehmen jedenfalls reinen codedrop beschränken wolle swift echtes opensourceprojekt beiträge community annehmen lizenzfragen details gibt apple hingegen zurückhaltend etwa ausplaudern lizenz einsatz kommen richtlinien open source initiative osi geprüft versichert unternehmen lässt weites feld möglichkeiten offen windows frage portierung windows vornehmen macht softwarehersteller bisher angabe umfang freigabe betont apple sowohl swift compiler standardbibliothek enthalten sollen abwarten vieles erst kommenden monaten klarer freigabe source codes recht vage später jahr angekündigt darauf hinweist all bald weit apo thema apple stellt apple music ios os x el capitan\n",
            "sogar apple integrierte beats nannte kbps branchenstandardapple neuen musikstreamingdienst apple music maximale übertragungsrate kbps erlauben hält apple schon bisher itunes gefahrenen linie fest allerdings erlauben streamingkonkurrenten bitrate kbps neben spotify google play music tidal deezer nannte sogar beats apple übernommen worden kbps früher branchenstandard thenextweb berichtet gründe unklar unklar warum apple niedrigeres niveau konkurrenz anvisiert bisher allerdings eindeutig nutzer unterschied kbps kbps überhaupt registrieren zusätzlich spielen zahlreiche faktoren codecs wichtige rolle apple bekanntgegeben mp aac setzt beobachter mashable apple music jedenfalls unausgegoren bitrate weiterer beleg mangelhafte umsetzung nutzer verbrauchen kbps logischerweise mehr mobile daten allerdings ja kunden überlassen fsc links mashable the next web nachlese angriff aufs radio apple music glücklich\n",
            "Topic 4:\n",
            "agenturmeldungen\n",
            "kaufpreis genanntder volltext agenturmeldungen basierenden artikels steht rechtlichen gründen mehr verfügung\n",
            "uspräsident hacker vorgehen müssen mindestens stark angreiferder volltext agenturmeldungen basierenden artikels steht rechtlichen gründen mehr verfügung\n",
            "einigung friedensgesprächen genf – mehr dutzend toteder volltext agenturmeldungen basierenden artikels steht rechtlichen gründen mehr verfügung\n",
            "lebensmittelriese nimmt maggifertignudeln verkauf behörde unsicher gefährlich sieht nestleder volltext agenturmeldungen basierenden artikels steht rechtlichen gründen mehr verfügung\n",
            "ermittler durchforsten suche beweismitteln wertpapiertransaktionen bestimmten kunden zentraleder volltext agenturmeldungen basierenden artikels steht rechtlichen gründen mehr verfügung\n"
          ],
          "name": "stdout"
        }
      ]
    },
    {
      "cell_type": "code",
      "metadata": {
        "id": "ppYw8pZyqD8l",
        "colab_type": "code",
        "colab": {}
      },
      "source": [
        "lda1 = LatentDirichletAllocation(n_components = 5, random_state = 42)"
      ],
      "execution_count": 0,
      "outputs": []
    },
    {
      "cell_type": "code",
      "metadata": {
        "id": "-Q-b1jnsqI1B",
        "colab_type": "code",
        "outputId": "7e7c9bb9-d172-4558-90ec-04d8f8988523",
        "colab": {
          "base_uri": "https://localhost:8080/",
          "height": 185
        }
      },
      "source": [
        "lda1.fit(X1)\n",
        "lda1.components_"
      ],
      "execution_count": 0,
      "outputs": [
        {
          "output_type": "execute_result",
          "data": {
            "text/plain": [
              "array([[0.20001096, 0.20001086, 0.20422519, ..., 0.27161914, 0.2000046 ,\n",
              "        0.20000445],\n",
              "       [0.20001104, 0.26576216, 0.20000789, ..., 0.20000785, 0.23048132,\n",
              "        0.35248079],\n",
              "       [0.31804548, 0.20001078, 0.26176415, ..., 0.20000795, 0.2000046 ,\n",
              "        0.20000446],\n",
              "       [0.20001094, 0.20001051, 0.20000796, ..., 0.2000077 , 0.20000461,\n",
              "        0.20000447],\n",
              "       [0.20001062, 0.20001128, 0.2000079 , ..., 0.20000772, 0.2000046 ,\n",
              "        0.20000445]])"
            ]
          },
          "metadata": {
            "tags": []
          },
          "execution_count": 36
        }
      ]
    },
    {
      "cell_type": "code",
      "metadata": {
        "id": "k_5zMT2rqNp_",
        "colab_type": "code",
        "colab": {}
      },
      "source": [
        "topics_body = print_topics(lda1, tf1, 10)"
      ],
      "execution_count": 0,
      "outputs": []
    },
    {
      "cell_type": "code",
      "metadata": {
        "id": "uxH9tyqovZFr",
        "colab_type": "code",
        "outputId": "b6a7ab80-46f3-414a-c899-0496ca10e46f",
        "colab": {
          "base_uri": "https://localhost:8080/",
          "height": 101
        }
      },
      "source": [
        "topics_body"
      ],
      "execution_count": 0,
      "outputs": [
        {
          "output_type": "execute_result",
          "data": {
            "text/plain": [
              "['prozent mehr euro sei griechenland wurde österreich sagte millionen seit',\n",
              " 'prozent google sei euro österreich mehr laut wurde zwei apa',\n",
              " 'mehr prozent wurde sei spö sagte regierung jahr euro neue',\n",
              " 'mehr wurde sei prozent apple wien euro zwei österreich sagte',\n",
              " 'wurde params sporttabellenteaser var mehr sei fpö zwei schon österreich']"
            ]
          },
          "metadata": {
            "tags": []
          },
          "execution_count": 38
        }
      ]
    },
    {
      "cell_type": "markdown",
      "metadata": {
        "id": "7lV1wVq081OB",
        "colab_type": "text"
      },
      "source": [
        "## Similarity between topics of title and body"
      ]
    },
    {
      "cell_type": "code",
      "metadata": {
        "id": "igcl4AmLqWJx",
        "colab_type": "code",
        "colab": {}
      },
      "source": [
        "topicsall = topics_body + topics_title #every topic becomes a doc"
      ],
      "execution_count": 0,
      "outputs": []
    },
    {
      "cell_type": "code",
      "metadata": {
        "id": "__kYCGGfrHpS",
        "colab_type": "code",
        "colab": {}
      },
      "source": [
        "tf = TfidfVectorizer(min_df=1, stop_words=\"english\")                                                                                                                                                                                                   \n",
        "tfidf = tf.fit_transform(topicsall)                                                                                                                                                                                                                       \n",
        "similarity = tfidf * tfidf.T #cos theta = tf matrix dot product tfidf's transpose"
      ],
      "execution_count": 0,
      "outputs": []
    },
    {
      "cell_type": "code",
      "metadata": {
        "id": "ccTq8hqZ9a8r",
        "colab_type": "code",
        "outputId": "527d3c18-bede-48d7-82a7-1d4ea7feade9",
        "colab": {
          "base_uri": "https://localhost:8080/",
          "height": 269
        }
      },
      "source": [
        "topicsall"
      ],
      "execution_count": 0,
      "outputs": [
        {
          "output_type": "execute_result",
          "data": {
            "text/plain": [
              "['prozent mehr euro sei griechenland wurde österreich sagte millionen seit',\n",
              " 'prozent google sei euro österreich mehr laut wurde zwei apa',\n",
              " 'mehr prozent wurde sei spö sagte regierung jahr euro neue',\n",
              " 'mehr wurde sei prozent apple wien euro zwei österreich sagte',\n",
              " 'wurde params sporttabellenteaser var mehr sei fpö zwei schon österreich',\n",
              " 'österreich russland wien verweigert ergebnisse landtagswahlen jahr derstandardat alternative start',\n",
              " 'android community erneut österreich arbeitet chef leute villa scheitert league',\n",
              " 'usa mehr macht apple spö neue kostennutzenrechnung lebe gut leben',\n",
              " 'offtopicforum apple ios zwei große jailbreak wiener schützen tatort festplattenabgabe',\n",
              " 'wien neue wiener kommt österreich graz one letzte achtelfinale zurück',\n",
              " 'drei tote jahre ende neue obama frieden wiener terrorprozess androidsmartphones',\n",
              " 'wiesberger bilderberger gespräche griechenland bringt statt kommen hält google europa',\n",
              " 'sieht besser fleischkenner koalition prozent linz verletzt jähriger burgenland seit',\n",
              " 'ggegner diskussion österreicher fürchtet communityforum erwartet rücken privates wochenende protest',\n",
              " 'neue google fordert robert einigung knapp gibt of österreichs gajeta']"
            ]
          },
          "metadata": {
            "tags": []
          },
          "execution_count": 42
        }
      ]
    },
    {
      "cell_type": "code",
      "metadata": {
        "id": "hMABdsls-LSn",
        "colab_type": "code",
        "outputId": "9500c0a5-5f18-4354-e485-a57214e92b0f",
        "colab": {
          "base_uri": "https://localhost:8080/",
          "height": 773
        }
      },
      "source": [
        "similarity.toarray()  # similarity is a sparse matrix with the number of rows and columns equal to the number of docs"
      ],
      "execution_count": 0,
      "outputs": [
        {
          "output_type": "execute_result",
          "data": {
            "text/plain": [
              "array([[1.        , 0.43512797, 0.48391111, 0.58912112, 0.23927936,\n",
              "        0.04382169, 0.0422739 , 0.0526649 , 0.        , 0.04902385,\n",
              "        0.        , 0.10514372, 0.16449192, 0.        , 0.        ],\n",
              "       [0.43512797, 1.        , 0.37626903, 0.56877801, 0.31938755,\n",
              "        0.04387985, 0.04233001, 0.05273481, 0.07146737, 0.04908892,\n",
              "        0.        , 0.08384792, 0.05836019, 0.        , 0.09058804],\n",
              "       [0.48391111, 0.37626903, 1.        , 0.5242576 , 0.18855821,\n",
              "        0.10820724, 0.        , 0.22517504, 0.        , 0.06642836,\n",
              "        0.05819008, 0.        , 0.05770084, 0.        , 0.06171381],\n",
              "       [0.58912112, 0.56877801, 0.5242576 , 1.        , 0.34555808,\n",
              "        0.14177865, 0.04579852, 0.15442567, 0.17142245, 0.15860948,\n",
              "        0.        , 0.        , 0.06314221, 0.        , 0.        ],\n",
              "       [0.23927936, 0.31938755, 0.18855821, 0.34555808, 1.        ,\n",
              "        0.03890369, 0.03752961, 0.04675445, 0.06336266, 0.04352202,\n",
              "        0.        , 0.        , 0.        , 0.        , 0.        ],\n",
              "       [0.04382169, 0.04387985, 0.10820724, 0.14177865, 0.03890369,\n",
              "        1.        , 0.03368773, 0.        , 0.        , 0.11666736,\n",
              "        0.        , 0.        , 0.        , 0.        , 0.        ],\n",
              "       [0.0422739 , 0.04233001, 0.        , 0.04579852, 0.03752961,\n",
              "        0.03368773, 1.        , 0.        , 0.        , 0.03768686,\n",
              "        0.        , 0.        , 0.        , 0.        , 0.        ],\n",
              "       [0.0526649 , 0.05273481, 0.22517504, 0.15442567, 0.04675445,\n",
              "        0.        , 0.        , 1.        , 0.07146656, 0.05520886,\n",
              "        0.048362  , 0.        , 0.        , 0.        , 0.05129058],\n",
              "       [0.        , 0.07146737, 0.        , 0.17142245, 0.06336266,\n",
              "        0.        , 0.        , 0.07146656, 1.        , 0.0774326 ,\n",
              "        0.0678296 , 0.        , 0.        , 0.        , 0.        ],\n",
              "       [0.04902385, 0.04908892, 0.06642836, 0.15860948, 0.04352202,\n",
              "        0.11666736, 0.03768686, 0.05520886, 0.0774326 , 1.        ,\n",
              "        0.12844574, 0.        , 0.        , 0.        , 0.05557232],\n",
              "       [0.        , 0.        , 0.05819008, 0.        , 0.        ,\n",
              "        0.        , 0.        , 0.048362  , 0.0678296 , 0.12844574,\n",
              "        1.        , 0.        , 0.        , 0.        , 0.04868038],\n",
              "       [0.10514372, 0.08384792, 0.        , 0.        , 0.        ,\n",
              "        0.        , 0.        , 0.        , 0.        , 0.        ,\n",
              "        0.        , 1.        , 0.        , 0.        , 0.06935259],\n",
              "       [0.16449192, 0.05836019, 0.05770084, 0.06314221, 0.        ,\n",
              "        0.        , 0.        , 0.        , 0.        , 0.        ,\n",
              "        0.        , 0.        , 1.        , 0.        , 0.        ],\n",
              "       [0.        , 0.        , 0.        , 0.        , 0.        ,\n",
              "        0.        , 0.        , 0.        , 0.        , 0.        ,\n",
              "        0.        , 0.        , 0.        , 1.        , 0.        ],\n",
              "       [0.        , 0.09058804, 0.06171381, 0.        , 0.        ,\n",
              "        0.        , 0.        , 0.05129058, 0.        , 0.05557232,\n",
              "        0.04868038, 0.06935259, 0.        , 0.        , 1.        ]])"
            ]
          },
          "metadata": {
            "tags": []
          },
          "execution_count": 43
        }
      ]
    },
    {
      "cell_type": "code",
      "metadata": {
        "id": "iYzFvZu0Fn1W",
        "colab_type": "code",
        "outputId": "cc61ed5d-46e4-4095-fae5-6f309e1a2d2e",
        "colab": {
          "base_uri": "https://localhost:8080/",
          "height": 34
        }
      },
      "source": [
        "sim = similarity.toarray()     \n",
        "np.fill_diagonal(sim, np.nan) # to mask 1- similarity of doc to itself                                                                                                                                                                                                                           \n",
        "\n",
        "doc = \"usa mehr macht apple spö neue kostennutzenrechnung lebe gut leben\"                                                                                                                                                                                                  \n",
        "idx = topicsall.index(doc)  # index of the topic in the docs corpus                                                                                                                                                                                                                   \n",
        "idx                                                                                                                                                                                                                                                \n"
      ],
      "execution_count": 0,
      "outputs": [
        {
          "output_type": "execute_result",
          "data": {
            "text/plain": [
              "7"
            ]
          },
          "metadata": {
            "tags": []
          },
          "execution_count": 45
        }
      ]
    },
    {
      "cell_type": "code",
      "metadata": {
        "id": "IZTEPOKQ80XM",
        "colab_type": "code",
        "outputId": "b492361c-d361-4663-df44-3404f4c4cdcb",
        "colab": {
          "base_uri": "https://localhost:8080/",
          "height": 34
        }
      },
      "source": [
        "final_idx = np.nanargmax(sim[idx])#argmax of the index row gives the most similar document                                                                                                                                                                                                                \n",
        "topicsall[final_idx]  # gives the topic most similar to the input topic\n"
      ],
      "execution_count": 0,
      "outputs": [
        {
          "output_type": "execute_result",
          "data": {
            "text/plain": [
              "'mehr prozent wurde sei spö sagte regierung jahr euro neue'"
            ]
          },
          "metadata": {
            "tags": []
          },
          "execution_count": 46
        }
      ]
    },
    {
      "cell_type": "markdown",
      "metadata": {
        "colab_type": "text",
        "id": "DvtdzpI-EzP8"
      },
      "source": [
        "## Similarity between topics of title and Original Title column\n",
        "\n"
      ]
    },
    {
      "cell_type": "code",
      "metadata": {
        "id": "6BxNCdCi-WVl",
        "colab_type": "code",
        "colab": {}
      },
      "source": [
        "title = df1[\"Titleprocessed\"].to_list()"
      ],
      "execution_count": 0,
      "outputs": []
    },
    {
      "cell_type": "code",
      "metadata": {
        "id": "QSg02UlIEVhI",
        "colab_type": "code",
        "colab": {}
      },
      "source": [
        "topic_title_with_Title = title + topics_title # similarity between original title and and topics of title"
      ],
      "execution_count": 0,
      "outputs": []
    },
    {
      "cell_type": "code",
      "metadata": {
        "id": "JC4STjd1Et3z",
        "colab_type": "code",
        "colab": {}
      },
      "source": [
        "tf = TfidfVectorizer(min_df=1, stop_words=\"english\")                                                                                                                                                                                                   \n",
        "tfidf = tf.fit_transform(topic_title_with_Title)                                                                                                                                                                                                                       \n",
        "similarity  = tfidf * tfidf.T "
      ],
      "execution_count": 0,
      "outputs": []
    },
    {
      "cell_type": "code",
      "metadata": {
        "id": "pbUjHYJ8FBL_",
        "colab_type": "code",
        "outputId": "23ec6d37-46ef-42b3-a3de-074f29c0cac8",
        "colab": {
          "base_uri": "https://localhost:8080/",
          "height": 235
        }
      },
      "source": [
        "similarity.toarray()  "
      ],
      "execution_count": 0,
      "outputs": [
        {
          "output_type": "execute_result",
          "data": {
            "text/plain": [
              "array([[1.        , 0.3950723 , 0.34035691, ..., 0.        , 0.        ,\n",
              "        0.        ],\n",
              "       [0.3950723 , 1.        , 0.34035691, ..., 0.        , 0.        ,\n",
              "        0.        ],\n",
              "       [0.34035691, 0.34035691, 1.        , ..., 0.        , 0.        ,\n",
              "        0.        ],\n",
              "       ...,\n",
              "       [0.        , 0.        , 0.        , ..., 1.        , 0.        ,\n",
              "        0.        ],\n",
              "       [0.        , 0.        , 0.        , ..., 0.        , 1.        ,\n",
              "        0.        ],\n",
              "       [0.        , 0.        , 0.        , ..., 0.        , 0.        ,\n",
              "        1.        ]])"
            ]
          },
          "metadata": {
            "tags": []
          },
          "execution_count": 50
        }
      ]
    },
    {
      "cell_type": "code",
      "metadata": {
        "id": "mk3t_vmWFE4e",
        "colab_type": "code",
        "outputId": "1f5afa92-38fb-44c3-dc12-b134080f2c85",
        "colab": {
          "base_uri": "https://localhost:8080/",
          "height": 34
        }
      },
      "source": [
        "\n",
        "sim = similarity.toarray()     \n",
        "np.fill_diagonal(sim, np.nan)                                                                                                                                                                                                                           \n",
        "\n",
        "doc = \"newsletter derstandardat\"                                                                                                                                                                                                  \n",
        "idx = topic_title_with_Title.index(doc)                                                                                                                                                                                                                \n",
        "idx                                                                                                                                                                                                                                                      "
      ],
      "execution_count": 0,
      "outputs": [
        {
          "output_type": "execute_result",
          "data": {
            "text/plain": [
              "0"
            ]
          },
          "metadata": {
            "tags": []
          },
          "execution_count": 58
        }
      ]
    },
    {
      "cell_type": "code",
      "metadata": {
        "id": "3JxJFdliFLxv",
        "colab_type": "code",
        "outputId": "b048ac6b-cd38-432a-c22b-c053e3dd4466",
        "colab": {
          "base_uri": "https://localhost:8080/",
          "height": 34
        }
      },
      "source": [
        "final_idx = np.nanargmax(sim[idx])                                                                                                                                                                                                                \n",
        "topic_title_with_Title[final_idx]"
      ],
      "execution_count": 0,
      "outputs": [
        {
          "output_type": "execute_result",
          "data": {
            "text/plain": [
              "'teil derstandardat'"
            ]
          },
          "metadata": {
            "tags": []
          },
          "execution_count": 59
        }
      ]
    },
    {
      "cell_type": "markdown",
      "metadata": {
        "colab_type": "text",
        "id": "qqMdQKJpHMt4"
      },
      "source": [
        "## Similarity between topics of body and Original Title column\n",
        "\n"
      ]
    },
    {
      "cell_type": "code",
      "metadata": {
        "id": "I8fBDW5_GAbt",
        "colab_type": "code",
        "colab": {}
      },
      "source": [
        "topic_title_with_body = title + topics_body # # similarity between original title and and topics of body"
      ],
      "execution_count": 0,
      "outputs": []
    },
    {
      "cell_type": "code",
      "metadata": {
        "id": "4sfUEeEwHTuQ",
        "colab_type": "code",
        "colab": {}
      },
      "source": [
        "tf = TfidfVectorizer(min_df=1, stop_words=\"english\")                                                                                                                                                                                                   \n",
        "tfidf = tf.fit_transform(topic_title_with_body)                                                                                                                                                                                                                       \n",
        "similarity = tfidf * tfidf.T "
      ],
      "execution_count": 0,
      "outputs": []
    },
    {
      "cell_type": "code",
      "metadata": {
        "id": "fMj9WKaJHnKf",
        "colab_type": "code",
        "outputId": "b8c4bfcc-0458-464a-fab2-dfc699f8421f",
        "colab": {
          "base_uri": "https://localhost:8080/",
          "height": 235
        }
      },
      "source": [
        "similarity.toarray()  "
      ],
      "execution_count": 0,
      "outputs": [
        {
          "output_type": "execute_result",
          "data": {
            "text/plain": [
              "array([[1.        , 0.40585979, 0.3477351 , ..., 0.        , 0.        ,\n",
              "        0.        ],\n",
              "       [0.40585979, 1.        , 0.3477351 , ..., 0.        , 0.        ,\n",
              "        0.        ],\n",
              "       [0.3477351 , 0.3477351 , 1.        , ..., 0.        , 0.        ,\n",
              "        0.        ],\n",
              "       ...,\n",
              "       [0.        , 0.        , 0.        , ..., 1.        , 0.64419176,\n",
              "        0.27698705],\n",
              "       [0.        , 0.        , 0.        , ..., 0.64419176, 1.        ,\n",
              "        0.43679929],\n",
              "       [0.        , 0.        , 0.        , ..., 0.27698705, 0.43679929,\n",
              "        1.        ]])"
            ]
          },
          "metadata": {
            "tags": []
          },
          "execution_count": 62
        }
      ]
    },
    {
      "cell_type": "code",
      "metadata": {
        "id": "o8owJBC0HrY2",
        "colab_type": "code",
        "outputId": "aaa6bc81-f3fb-4e4d-e9f1-c887c0dabdfc",
        "colab": {
          "base_uri": "https://localhost:8080/",
          "height": 34
        }
      },
      "source": [
        "sim = similarity.toarray()     \n",
        "np.fill_diagonal(sim, np.nan)                                                                                                                                                                                                                            \n",
        "\n",
        "doc = \"wollten kind\"                                                                                                                                                                                                  \n",
        "idx = topic_title_with_body.index(doc)                                                                                                                                                                                                                      \n",
        "idx       "
      ],
      "execution_count": 0,
      "outputs": [
        {
          "output_type": "execute_result",
          "data": {
            "text/plain": [
              "7"
            ]
          },
          "metadata": {
            "tags": []
          },
          "execution_count": 77
        }
      ]
    },
    {
      "cell_type": "code",
      "metadata": {
        "id": "E5OB4ZvHH6NK",
        "colab_type": "code",
        "outputId": "a2ff54d4-81fd-4aba-d6f1-59f4c8201d0c",
        "colab": {
          "base_uri": "https://localhost:8080/",
          "height": 34
        }
      },
      "source": [
        "final_idx = np.nanargmax(sim[idx])                                                                                                                                                                                                                \n",
        "topic_title_with_body[final_idx]"
      ],
      "execution_count": 0,
      "outputs": [
        {
          "output_type": "execute_result",
          "data": {
            "text/plain": [
              "'neubeginn erwachsenen kind'"
            ]
          },
          "metadata": {
            "tags": []
          },
          "execution_count": 78
        }
      ]
    },
    {
      "cell_type": "markdown",
      "metadata": {
        "id": "81EDC5CEIF7v",
        "colab_type": "text"
      },
      "source": [
        "# Mapping back\n"
      ]
    },
    {
      "cell_type": "code",
      "metadata": {
        "id": "r_h1jbdnH_YK",
        "colab_type": "code",
        "colab": {}
      },
      "source": [
        "import gensim\n",
        "def abcd(text):\n",
        "\n",
        "  processed = word_tokenize(text)\n",
        "  return processed\n",
        "\n",
        "lalala = df1['Titleprocessed'].apply(abcd)\n",
        "dic = gensim.corpora.Dictionary(lalala)# number of times a word appears in the tokens of title"
      ],
      "execution_count": 0,
      "outputs": []
    },
    {
      "cell_type": "code",
      "metadata": {
        "id": "I6697_TINwV7",
        "colab_type": "code",
        "outputId": "5d28be59-3226-4a40-9480-3b7598f7a3fe",
        "colab": {
          "base_uri": "https://localhost:8080/",
          "height": 34
        }
      },
      "source": [
        "lalala[0]"
      ],
      "execution_count": 0,
      "outputs": [
        {
          "output_type": "execute_result",
          "data": {
            "text/plain": [
              "['newsletter', 'derstandardat']"
            ]
          },
          "metadata": {
            "tags": []
          },
          "execution_count": 83
        }
      ]
    },
    {
      "cell_type": "code",
      "metadata": {
        "id": "vfA7yqLcKizK",
        "colab_type": "code",
        "colab": {}
      },
      "source": [
        "bow = [dic.doc2bow(doc) for doc in lalala] ##For each document create a dictionary having how many words and how many times those words appear"
      ],
      "execution_count": 0,
      "outputs": []
    },
    {
      "cell_type": "code",
      "metadata": {
        "id": "L7Ld7ulOLy5U",
        "colab_type": "code",
        "outputId": "5cad083b-b079-4804-e343-aca8dfdb9f65",
        "colab": {
          "base_uri": "https://localhost:8080/",
          "height": 34
        }
      },
      "source": [
        "bow[2]"
      ],
      "execution_count": 0,
      "outputs": [
        {
          "output_type": "execute_result",
          "data": {
            "text/plain": [
              "[(0, 1), (3, 1), (4, 1)]"
            ]
          },
          "metadata": {
            "tags": []
          },
          "execution_count": 85
        }
      ]
    },
    {
      "cell_type": "code",
      "metadata": {
        "id": "EjquXZovLmxa",
        "colab_type": "code",
        "colab": {}
      },
      "source": [
        "from gensim import corpora, models\n",
        "tf = models.TfidfModel(bow)\n",
        "fulltfidf = tf[bow]"
      ],
      "execution_count": 0,
      "outputs": []
    },
    {
      "cell_type": "code",
      "metadata": {
        "id": "-Ji1C4i2LtAz",
        "colab_type": "code",
        "outputId": "2b684724-a00c-49fa-d6fb-b698df29e17e",
        "colab": {
          "base_uri": "https://localhost:8080/",
          "height": 121
        }
      },
      "source": [
        "lda = gensim.models.LdaMulticore(fulltfidf, num_topics=5, id2word=dic, passes=2, workers=4)\n",
        "for idx, topic in lda.print_topics(-1):\n",
        "    print('Topic: {} Word: {}'.format(idx, topic))"
      ],
      "execution_count": 0,
      "outputs": [
        {
          "output_type": "stream",
          "text": [
            "Topic: 0 Word: 0.002*\"österreich\" + 0.002*\"offtopicforum\" + 0.002*\"start\" + 0.002*\"wiener\" + 0.001*\"leben\" + 0.001*\"mehr\" + 0.001*\"flüchtlinge\" + 0.001*\"wien\" + 0.001*\"erhält\" + 0.001*\"sieht\"\n",
            "Topic: 1 Word: 0.002*\"neue\" + 0.002*\"wiener\" + 0.002*\"griechenland\" + 0.002*\"ios\" + 0.002*\"apple\" + 0.002*\"–\" + 0.001*\"orf\" + 0.001*\"neuer\" + 0.001*\"derstandardat\" + 0.001*\"premier\"\n",
            "Topic: 2 Word: 0.002*\"wien\" + 0.002*\"graz\" + 0.002*\"zurück\" + 0.001*\"ende\" + 0.001*\"blatters\" + 0.001*\"juni\" + 0.001*\"entscheiden\" + 0.001*\"bleibt\" + 0.001*\"gehen\" + 0.001*\"landtagswahlen\"\n",
            "Topic: 3 Word: 0.002*\"zukunft\" + 0.002*\"macht\" + 0.001*\"apple\" + 0.001*\"alter\" + 0.001*\"erdogan\" + 0.001*\"wissen\" + 0.001*\"warum\" + 0.001*\"facebook\" + 0.001*\"regierung\" + 0.001*\"verlängerung\"\n",
            "Topic: 4 Word: 0.002*\"wechselt\" + 0.002*\"neue\" + 0.002*\"häupl\" + 0.001*\"tote\" + 0.001*\"alijew\" + 0.001*\"vater\" + 0.001*\"wiener\" + 0.001*\"politik\" + 0.001*\"griechenland\" + 0.001*\"millionen\"\n"
          ],
          "name": "stdout"
        }
      ]
    },
    {
      "cell_type": "code",
      "metadata": {
        "id": "V_HcPW4bMJJw",
        "colab_type": "code",
        "outputId": "f70f27a7-a17e-49af-cf83-c893a6128a37",
        "colab": {
          "base_uri": "https://localhost:8080/",
          "height": 185
        }
      },
      "source": [
        "topics_title"
      ],
      "execution_count": 0,
      "outputs": [
        {
          "output_type": "execute_result",
          "data": {
            "text/plain": [
              "['österreich russland wien verweigert ergebnisse landtagswahlen jahr derstandardat alternative start',\n",
              " 'android community erneut österreich arbeitet chef leute villa scheitert league',\n",
              " 'usa mehr macht apple spö neue kostennutzenrechnung lebe gut leben',\n",
              " 'offtopicforum apple ios zwei große jailbreak wiener schützen tatort festplattenabgabe',\n",
              " 'wien neue wiener kommt österreich graz one letzte achtelfinale zurück',\n",
              " 'drei tote jahre ende neue obama frieden wiener terrorprozess androidsmartphones',\n",
              " 'wiesberger bilderberger gespräche griechenland bringt statt kommen hält google europa',\n",
              " 'sieht besser fleischkenner koalition prozent linz verletzt jähriger burgenland seit',\n",
              " 'ggegner diskussion österreicher fürchtet communityforum erwartet rücken privates wochenende protest',\n",
              " 'neue google fordert robert einigung knapp gibt of österreichs gajeta']"
            ]
          },
          "metadata": {
            "tags": []
          },
          "execution_count": 88
        }
      ]
    },
    {
      "cell_type": "code",
      "metadata": {
        "id": "dhMKEBJLNUlx",
        "colab_type": "code",
        "colab": {}
      },
      "source": [
        "#After training LDA topic model , input documents into the model and it will classify them into the relevant topic no\n",
        "input_vec = dic.doc2bow(lalala[0])\n",
        "topic_vec = lda[input_vec]"
      ],
      "execution_count": 0,
      "outputs": []
    },
    {
      "cell_type": "code",
      "metadata": {
        "id": "DJlhg1OvN1uU",
        "colab_type": "code",
        "outputId": "0d669b23-6fd4-4c5a-be9b-e73b7979eec7",
        "colab": {
          "base_uri": "https://localhost:8080/",
          "height": 101
        }
      },
      "source": [
        "topic_vec"
      ],
      "execution_count": 0,
      "outputs": [
        {
          "output_type": "execute_result",
          "data": {
            "text/plain": [
              "[(0, 0.72766477),\n",
              " (1, 0.070362486),\n",
              " (2, 0.06669048),\n",
              " (3, 0.068589665),\n",
              " (4, 0.0666926)]"
            ]
          },
          "metadata": {
            "tags": []
          },
          "execution_count": 90
        }
      ]
    },
    {
      "cell_type": "code",
      "metadata": {
        "id": "sARB0Xk2N6-u",
        "colab_type": "code",
        "colab": {}
      },
      "source": [
        "words = lda.show_topic(0, topn = 200)#top 200 words that make up that topic number."
      ],
      "execution_count": 0,
      "outputs": []
    },
    {
      "cell_type": "code",
      "metadata": {
        "id": "NNj9qjFtPy5q",
        "colab_type": "code",
        "outputId": "e6fcc238-e377-4d88-b994-46bb97e1d7ba",
        "colab": {
          "base_uri": "https://localhost:8080/",
          "height": 1000
        }
      },
      "source": [
        "words"
      ],
      "execution_count": 0,
      "outputs": [
        {
          "output_type": "execute_result",
          "data": {
            "text/plain": [
              "[('österreich', 0.0022387241),\n",
              " ('offtopicforum', 0.00202348),\n",
              " ('start', 0.0018127387),\n",
              " ('wiener', 0.0016033993),\n",
              " ('leben', 0.0014032791),\n",
              " ('mehr', 0.0013828004),\n",
              " ('flüchtlinge', 0.0013594758),\n",
              " ('wien', 0.0013317298),\n",
              " ('erhält', 0.0012794819),\n",
              " ('sieht', 0.0012565382),\n",
              " ('eu', 0.0012535155),\n",
              " ('einigung', 0.001249867),\n",
              " ('neuer', 0.0012378173),\n",
              " ('russland', 0.0012307373),\n",
              " ('community', 0.0012267102),\n",
              " ('geht', 0.0012181646),\n",
              " ('–', 0.0011838971),\n",
              " ('ab', 0.0011693358),\n",
              " ('drei', 0.0011551679),\n",
              " ('macht', 0.0011490851),\n",
              " ('jemengespräche', 0.0011401448),\n",
              " ('linzer', 0.0011276059),\n",
              " ('genf', 0.0011122321),\n",
              " ('zweifel', 0.0011048225),\n",
              " ('communityforum', 0.0011016018),\n",
              " ('kostennutzenrechnung', 0.0011014083),\n",
              " ('wochen', 0.0010993306),\n",
              " ('griechenlandkrise', 0.0010757272),\n",
              " ('kommt', 0.0010713271),\n",
              " ('regenbogenparade', 0.0010546221),\n",
              " ('schaffen', 0.0010520905),\n",
              " ('paar', 0.0010356142),\n",
              " ('spö', 0.0010333003),\n",
              " ('stärker', 0.0010140736),\n",
              " ('fpö', 0.00101006),\n",
              " ('video', 0.0010053478),\n",
              " ('streit', 0.0009841388),\n",
              " ('steuerreform', 0.0009825517),\n",
              " ('steirer', 0.0009760012),\n",
              " ('asyl', 0.0009719586),\n",
              " ('putin', 0.00096783624),\n",
              " ('jahren', 0.00096269976),\n",
              " ('obama', 0.0009554642),\n",
              " ('machtwechsel', 0.0009443882),\n",
              " ('warnt', 0.0009419258),\n",
              " ('merkels', 0.0009408807),\n",
              " ('straße', 0.0009386804),\n",
              " ('bnd', 0.00092763663),\n",
              " ('druck', 0.00092604297),\n",
              " ('newsletter', 0.0009250075),\n",
              " ('überwachungsstaat', 0.00092441525),\n",
              " ('große', 0.0009092472),\n",
              " ('gefahr', 0.00090772554),\n",
              " ('linz', 0.0009075819),\n",
              " ('festplattenabgabe', 0.000905432),\n",
              " ('bundestag', 0.00090289407),\n",
              " ('miklleitner', 0.00090045406),\n",
              " ('one', 0.0008980634),\n",
              " ('hans', 0.0008957968),\n",
              " ('sehen', 0.0008950971),\n",
              " ('nie', 0.00089449226),\n",
              " ('haft', 0.00089229736),\n",
              " ('darf', 0.0008906036),\n",
              " ('mal', 0.0008731198),\n",
              " ('pleite', 0.00087236176),\n",
              " ('wochenende', 0.0008720487),\n",
              " ('vetterliwirtschaft', 0.00086980406),\n",
              " ('scheu', 0.00086964923),\n",
              " ('diversity', 0.0008696447),\n",
              " ('open', 0.0008412132),\n",
              " ('katastrophenhilfe', 0.000837505),\n",
              " ('windowsshortcuts', 0.00083667884),\n",
              " ('newsapp', 0.000836642),\n",
              " ('klug', 0.00083660474),\n",
              " ('weltranglistenhoch', 0.00083658914),\n",
              " ('hypoabschlussprüfer', 0.00083647773),\n",
              " ('flüchtlingsbetreuung', 0.0008364197),\n",
              " ('circa', 0.00083635654),\n",
              " ('prüfstand', 0.0008361324),\n",
              " ('teufels', 0.0008361235),\n",
              " ('kennen', 0.00083608326),\n",
              " ('uswahlkampfkiste', 0.00083598774),\n",
              " ('wahrheit', 0.0008359255),\n",
              " ('wärs', 0.0008356916),\n",
              " ('wmboykott', 0.00083530444),\n",
              " ('badstube', 0.00083526416),\n",
              " ('öfb', 0.0008352167),\n",
              " ('schmähs', 0.000834937),\n",
              " ('google', 0.00083397457),\n",
              " ('usa', 0.0008330074),\n",
              " ('jahre', 0.00082816486),\n",
              " ('job', 0.0008085138),\n",
              " ('geld', 0.00080418744),\n",
              " ('schweizer', 0.0008016495),\n",
              " ('wirklichkeit', 0.0008006873),\n",
              " ('zurück', 0.00079116126),\n",
              " ('mythos', 0.0007893277),\n",
              " ('zwischenfälle', 0.00078926823),\n",
              " ('identitärendemo', 0.00078881334),\n",
              " ('wohnungsknappheit', 0.0007884063),\n",
              " ('tote', 0.000783257),\n",
              " ('mob', 0.0007792484),\n",
              " ('hashtag', 0.00077797874),\n",
              " ('sousa', 0.0007747987),\n",
              " ('monatsrekord', 0.00077470415),\n",
              " ('asylanträgen', 0.000774497),\n",
              " ('fiorentinatrainer', 0.0007739607),\n",
              " ('arzneimittelversandhandel', 0.00076875667),\n",
              " ('office', 0.00076699676),\n",
              " ('gelesen', 0.0007662099),\n",
              " ('verfilmt', 0.000762716),\n",
              " ('ratzingers', 0.0007620589),\n",
              " ('wirbt', 0.0007586181),\n",
              " ('aufrüsten', 0.0007584364),\n",
              " ('burma', 0.00075803034),\n",
              " ('cybersektor', 0.0007578479),\n",
              " ('hitze', 0.00075513613),\n",
              " ('schwierige', 0.0007545415),\n",
              " ('euro', 0.0007498528),\n",
              " ('schicken', 0.00074592035),\n",
              " ('fotos', 0.00074507634),\n",
              " ('stühlen', 0.00073583785),\n",
              " ('usinvestor', 0.00073573383),\n",
              " ('gemacht', 0.0007356812),\n",
              " ('syriens', 0.0007354308),\n",
              " ('evolutionstheorie', 0.00073538075),\n",
              " ('brüsseler', 0.00073527754),\n",
              " ('kreationismus', 0.000735095),\n",
              " ('spitzentreffen', 0.000735069),\n",
              " ('nutellaglasproduzenten', 0.00073461776),\n",
              " ('bentley', 0.00073461724),\n",
              " ('mayainschrift', 0.00073459547),\n",
              " ('erfahrungen', 0.0007345934),\n",
              " ('entzifferung', 0.0007345431),\n",
              " ('continental', 0.00073426636),\n",
              " ('internetgeschwindigkeit', 0.0007302825),\n",
              " ('hinkt', 0.0007302606),\n",
              " ('derstandardat', 0.00072942843),\n",
              " ('usgeneral', 0.000727272),\n",
              " ('of', 0.00072095514),\n",
              " ('aljazeerajournalist', 0.0007180574),\n",
              " ('rosberg', 0.0007180091),\n",
              " ('diplomatie', 0.00071797933),\n",
              " ('notgelandet', 0.0007178567),\n",
              " ('anleitung', 0.0007178524),\n",
              " ('sambokämpfer', 0.0007178399),\n",
              " ('maßnahme', 0.00071781647),\n",
              " ('gegenwart', 0.00071774976),\n",
              " ('einheitsregierung', 0.00071773934),\n",
              " ('hamilton', 0.0007177367),\n",
              " ('marktbeherrschende', 0.0007177288),\n",
              " ('kanada', 0.00071769394),\n",
              " ('pochen', 0.00071768474),\n",
              " ('tauziehen', 0.000717679),\n",
              " ('aufstieg', 0.0007176582),\n",
              " ('milliardenstrafe', 0.0007176385),\n",
              " ('energieforschung', 0.000717604),\n",
              " ('bologna', 0.00071760255),\n",
              " ('mansour', 0.0007175671),\n",
              " ('bevorzugt', 0.00071754644),\n",
              " ('wissensquiz', 0.0007175434),\n",
              " ('biomotivtorten', 0.00071750936),\n",
              " ('fels', 0.00071748334),\n",
              " ('katar', 0.00071748334),\n",
              " ('genderdebatte', 0.00071745715),\n",
              " ('cyberattacken', 0.00071744603),\n",
              " ('klimaschutz', 0.00071744376),\n",
              " ('wappnen', 0.0007174429),\n",
              " ('aktien', 0.0007174323),\n",
              " ('federer', 0.0007174186),\n",
              " ('palästinensische', 0.00071738666),\n",
              " ('bandionnachfolge', 0.0007173866),\n",
              " ('hallefinale', 0.00071736646),\n",
              " ('malaysiaairlinesmaschine', 0.00071735156),\n",
              " ('melbourne', 0.00071728794),\n",
              " ('anleihen', 0.00071728695),\n",
              " ('privatsendung', 0.0007172748),\n",
              " ('folgenreiche', 0.000717253),\n",
              " ('berühmte', 0.00071724254),\n",
              " ('tabakkonzerne', 0.0007172391),\n",
              " ('ukrainekonflikt', 0.00071723835),\n",
              " ('stärkste', 0.000717204),\n",
              " ('ignoranten', 0.000717199),\n",
              " ('eingefrorene', 0.000717125),\n",
              " ('dominiert', 0.0007170975),\n",
              " ('seppi', 0.00071709213),\n",
              " ('nachbesserungen', 0.00071707653),\n",
              " ('verstrickungen', 0.00071696047),\n",
              " ('selbstgemacht', 0.0007169499),\n",
              " ('nachteil', 0.00071692077),\n",
              " ('treibt', 0.0007168585),\n",
              " ('trümmern', 0.0007168451),\n",
              " ('öbb', 0.00071677176),\n",
              " ('jubelt', 0.0007166991),\n",
              " ('deppert', 0.00071668404),\n",
              " ('reformiertenkirche', 0.00071664155),\n",
              " ('abdullahzentrum', 0.0007165966),\n",
              " ('passionsspiel', 0.0007165699),\n",
              " ('tiere', 0.0007165261),\n",
              " ('övplandeschefs', 0.0007163992)]"
            ]
          },
          "metadata": {
            "tags": []
          },
          "execution_count": 93
        }
      ]
    },
    {
      "cell_type": "markdown",
      "metadata": {
        "id": "BmqcKQxel5uI",
        "colab_type": "text"
      },
      "source": [
        "## PyLDA vis"
      ]
    },
    {
      "cell_type": "code",
      "metadata": {
        "id": "KC6bEmFCP28N",
        "colab_type": "code",
        "outputId": "ebcb438a-23f4-456b-d71b-dd4f84b3327e",
        "colab": {
          "base_uri": "https://localhost:8080/",
          "height": 423
        }
      },
      "source": [
        "!pip install pyLDAvis\n",
        "import pickle\n",
        "\n",
        "tokens = df1[\"Titleprocessed\"].apply(nltk.word_tokenize)\n",
        "\n",
        "dic = corpora.Dictionary(tokens) \n",
        "corp = [dic.doc2bow(t) for t in tokens]\n",
        "\n",
        "pickle.dump(corp, open('corpus.pkl', 'wb'))\n",
        "dic.save('dictionary.gensim')"
      ],
      "execution_count": 0,
      "outputs": [
        {
          "output_type": "stream",
          "text": [
            "Requirement already satisfied: pyLDAvis in /usr/local/lib/python3.6/dist-packages (2.1.2)\n",
            "Requirement already satisfied: pytest in /usr/local/lib/python3.6/dist-packages (from pyLDAvis) (3.6.4)\n",
            "Requirement already satisfied: joblib>=0.8.4 in /usr/local/lib/python3.6/dist-packages (from pyLDAvis) (0.14.1)\n",
            "Requirement already satisfied: scipy>=0.18.0 in /usr/local/lib/python3.6/dist-packages (from pyLDAvis) (1.4.1)\n",
            "Requirement already satisfied: numexpr in /usr/local/lib/python3.6/dist-packages (from pyLDAvis) (2.7.1)\n",
            "Requirement already satisfied: numpy>=1.9.2 in /usr/local/lib/python3.6/dist-packages (from pyLDAvis) (1.17.5)\n",
            "Requirement already satisfied: jinja2>=2.7.2 in /usr/local/lib/python3.6/dist-packages (from pyLDAvis) (2.11.1)\n",
            "Requirement already satisfied: wheel>=0.23.0 in /usr/local/lib/python3.6/dist-packages (from pyLDAvis) (0.34.2)\n",
            "Requirement already satisfied: pandas>=0.17.0 in /usr/local/lib/python3.6/dist-packages (from pyLDAvis) (0.25.3)\n",
            "Requirement already satisfied: future in /usr/local/lib/python3.6/dist-packages (from pyLDAvis) (0.16.0)\n",
            "Requirement already satisfied: funcy in /usr/local/lib/python3.6/dist-packages (from pyLDAvis) (1.14)\n",
            "Requirement already satisfied: atomicwrites>=1.0 in /usr/local/lib/python3.6/dist-packages (from pytest->pyLDAvis) (1.3.0)\n",
            "Requirement already satisfied: attrs>=17.4.0 in /usr/local/lib/python3.6/dist-packages (from pytest->pyLDAvis) (19.3.0)\n",
            "Requirement already satisfied: pluggy<0.8,>=0.5 in /usr/local/lib/python3.6/dist-packages (from pytest->pyLDAvis) (0.7.1)\n",
            "Requirement already satisfied: setuptools in /usr/local/lib/python3.6/dist-packages (from pytest->pyLDAvis) (45.1.0)\n",
            "Requirement already satisfied: py>=1.5.0 in /usr/local/lib/python3.6/dist-packages (from pytest->pyLDAvis) (1.8.1)\n",
            "Requirement already satisfied: six>=1.10.0 in /usr/local/lib/python3.6/dist-packages (from pytest->pyLDAvis) (1.12.0)\n",
            "Requirement already satisfied: more-itertools>=4.0.0 in /usr/local/lib/python3.6/dist-packages (from pytest->pyLDAvis) (8.2.0)\n",
            "Requirement already satisfied: MarkupSafe>=0.23 in /usr/local/lib/python3.6/dist-packages (from jinja2>=2.7.2->pyLDAvis) (1.1.1)\n",
            "Requirement already satisfied: python-dateutil>=2.6.1 in /usr/local/lib/python3.6/dist-packages (from pandas>=0.17.0->pyLDAvis) (2.6.1)\n",
            "Requirement already satisfied: pytz>=2017.2 in /usr/local/lib/python3.6/dist-packages (from pandas>=0.17.0->pyLDAvis) (2018.9)\n"
          ],
          "name": "stdout"
        },
        {
          "output_type": "stream",
          "text": [
            "/usr/local/lib/python3.6/dist-packages/smart_open/smart_open_lib.py:402: UserWarning: This function is deprecated, use smart_open.open instead. See the migration notes for details: https://github.com/RaRe-Technologies/smart_open/blob/master/README.rst#migrating-to-the-new-open-function\n",
            "  'See the migration notes for details: %s' % _MIGRATION_NOTES_URL\n"
          ],
          "name": "stderr"
        }
      ]
    },
    {
      "cell_type": "code",
      "metadata": {
        "id": "kZMwSGPBSOgV",
        "colab_type": "code",
        "outputId": "d29152a6-5f57-4ca7-ab18-1520ad85bd2e",
        "colab": {
          "base_uri": "https://localhost:8080/",
          "height": 70
        }
      },
      "source": [
        "#LDA using gensim\n",
        "lda = gensim.models.ldamodel.LdaModel(corp, num_topics = 10 , id2word=dic, passes=15,alpha = 0.1)\n",
        "lda.save('model5.gensim')\n",
        "topics = lda.print_topics(num_words=20)\n"
      ],
      "execution_count": 0,
      "outputs": [
        {
          "output_type": "stream",
          "text": [
            "/usr/local/lib/python3.6/dist-packages/smart_open/smart_open_lib.py:402: UserWarning: This function is deprecated, use smart_open.open instead. See the migration notes for details: https://github.com/RaRe-Technologies/smart_open/blob/master/README.rst#migrating-to-the-new-open-function\n",
            "  'See the migration notes for details: %s' % _MIGRATION_NOTES_URL\n"
          ],
          "name": "stderr"
        }
      ]
    },
    {
      "cell_type": "code",
      "metadata": {
        "id": "db10kYn9SVAH",
        "colab_type": "code",
        "outputId": "084eaaf0-7bee-4bcb-f9f0-77d14bfab4e0",
        "colab": {
          "base_uri": "https://localhost:8080/",
          "height": 373
        }
      },
      "source": [
        "topics"
      ],
      "execution_count": 0,
      "outputs": [
        {
          "output_type": "execute_result",
          "data": {
            "text/plain": [
              "[(0,\n",
              "  '0.010*\"österreich\" + 0.007*\"apple\" + 0.005*\"athen\" + 0.005*\"faymann\" + 0.004*\"warum\" + 0.004*\"neuer\" + 0.004*\"mehr\" + 0.004*\"–\" + 0.004*\"immer\" + 0.004*\"neue\" + 0.004*\"südkorea\" + 0.002*\"geht\" + 0.002*\"österreicher\" + 0.002*\"ende\" + 0.002*\"europa\" + 0.002*\"facebook\" + 0.002*\"millionen\" + 0.002*\"zeigt\" + 0.002*\"verfügbar\" + 0.002*\"gibt\"'),\n",
              " (1,\n",
              "  '0.004*\"wien\" + 0.004*\"kauft\" + 0.003*\"eu\" + 0.003*\"zukunft\" + 0.003*\"wechselt\" + 0.003*\"startet\" + 0.003*\"getötet\" + 0.003*\"macht\" + 0.003*\"mexiko\" + 0.003*\"chef\" + 0.003*\"world\" + 0.003*\"südafrika\" + 0.003*\"erdogan\" + 0.003*\"drei\" + 0.003*\"gewinnen\" + 0.003*\"halten\" + 0.003*\"vs\" + 0.003*\"kunst\" + 0.003*\"fair\" + 0.003*\"monate\"'),\n",
              " (2,\n",
              "  '0.006*\"spö\" + 0.004*\"fpö\" + 0.004*\"deutsche\" + 0.003*\"geht\" + 0.003*\"macht\" + 0.003*\"forschung\" + 0.003*\"ametsreiter\" + 0.003*\"omv\" + 0.003*\"mal\" + 0.003*\"bringt\" + 0.003*\"diskussion\" + 0.003*\"googles\" + 0.003*\"jemen\" + 0.003*\"ablinger\" + 0.003*\"apple\" + 0.003*\"neue\" + 0.001*\"regierung\" + 0.001*\"usa\" + 0.001*\"deutschland\" + 0.001*\"handy\"'),\n",
              " (3,\n",
              "  '0.008*\"neue\" + 0.005*\"google\" + 0.004*\"zwei\" + 0.004*\"juni\" + 0.004*\"–\" + 0.003*\"griechenland\" + 0.003*\"wechselt\" + 0.003*\"russland\" + 0.003*\"gibt\" + 0.003*\"derstandardat\" + 0.003*\"euro\" + 0.003*\"eis\" + 0.003*\"kommen\" + 0.003*\"fleisch\" + 0.003*\"ökonom\" + 0.003*\"hilft\" + 0.003*\"seid\" + 0.003*\"wirtschaft\" + 0.003*\"staat\" + 0.001*\"bleibt\"'),\n",
              " (4,\n",
              "  '0.010*\"wien\" + 0.006*\"zurück\" + 0.005*\"–\" + 0.004*\"mehr\" + 0.004*\"grüne\" + 0.004*\"wiener\" + 0.002*\"japan\" + 0.002*\"china\" + 0.002*\"ggegner\" + 0.002*\"wegen\" + 0.002*\"letzte\" + 0.002*\"israel\" + 0.002*\"google\" + 0.002*\"vier\" + 0.002*\"ab\" + 0.002*\"jahren\" + 0.002*\"protest\" + 0.002*\"steiermark\" + 0.002*\"grexit\" + 0.002*\"euwettbewerbsverfahren\"'),\n",
              " (5,\n",
              "  '0.004*\"tote\" + 0.004*\"erneut\" + 0.003*\"sieht\" + 0.003*\"millionen\" + 0.003*\"österreichs\" + 0.003*\"dollar\" + 0.003*\"schelling\" + 0.003*\"kritisiert\" + 0.003*\"zwei\" + 0.003*\"euro\" + 0.003*\"alter\" + 0.003*\"angekündigt\" + 0.003*\"druck\" + 0.003*\"gut\" + 0.003*\"bringt\" + 0.003*\"the\" + 0.003*\"hält\" + 0.003*\"one\" + 0.003*\"haidermaurer\" + 0.003*\"österreich\"'),\n",
              " (6,\n",
              "  '0.006*\"gehen\" + 0.004*\"macht\" + 0.004*\"drei\" + 0.003*\"österreich\" + 0.003*\"statt\" + 0.003*\"deutsche\" + 0.003*\"zwei\" + 0.003*\"ab\" + 0.003*\"legt\" + 0.003*\"miklleitner\" + 0.003*\"mehrheit\" + 0.003*\"verlängerung\" + 0.003*\"kind\" + 0.003*\"streit\" + 0.003*\"bremen\" + 0.003*\"preis\" + 0.003*\"paar\" + 0.003*\"wilde\" + 0.002*\"graz\" + 0.002*\"leben\"'),\n",
              " (7,\n",
              "  '0.009*\"wiener\" + 0.007*\"wien\" + 0.004*\"jahre\" + 0.004*\"kurz\" + 0.004*\"bundestag\" + 0.004*\"deutscher\" + 0.003*\"android\" + 0.003*\"wenig\" + 0.003*\"koalition\" + 0.003*\"russische\" + 0.003*\"rock\" + 0.003*\"zwei\" + 0.003*\"neuer\" + 0.003*\"rücken\" + 0.003*\"wissen\" + 0.003*\"frieden\" + 0.003*\"jahr\" + 0.003*\"turbo\" + 0.003*\"chancen\" + 0.003*\"brasilien\"'),\n",
              " (8,\n",
              "  '0.007*\"wiener\" + 0.004*\"neues\" + 0.004*\"neue\" + 0.003*\"kommt\" + 0.003*\"kampf\" + 0.003*\"zurück\" + 0.003*\"derstandardat\" + 0.003*\"einigung\" + 0.003*\"juni\" + 0.003*\"erste\" + 0.003*\"nächste\" + 0.003*\"neuer\" + 0.003*\"nächster\" + 0.003*\"scheitern\" + 0.003*\"internet\" + 0.003*\"kämpfe\" + 0.003*\"community\" + 0.001*\"regenbogenparade\" + 0.001*\"obama\" + 0.001*\"seestadt\"'),\n",
              " (9,\n",
              "  '0.004*\"mehr\" + 0.004*\"neue\" + 0.004*\"belastet\" + 0.004*\"drei\" + 0.004*\"spö\" + 0.003*\"griechenland\" + 0.003*\"jahre\" + 0.003*\"austria\" + 0.003*\"festplattenabgabe\" + 0.003*\"flüchtlinge\" + 0.003*\"bestätigt\" + 0.003*\"trotz\" + 0.003*\"geld\" + 0.003*\"haft\" + 0.003*\"platz\" + 0.003*\"rücktritt\" + 0.003*\"straße\" + 0.003*\"bekommt\" + 0.003*\"schaffen\" + 0.003*\"zeitung\"')]"
            ]
          },
          "metadata": {
            "tags": []
          },
          "execution_count": 98
        }
      ]
    },
    {
      "cell_type": "code",
      "metadata": {
        "id": "92f9MmshSV8W",
        "colab_type": "code",
        "outputId": "d5d97fec-fb26-434f-9c1c-ceb3e17a28fa",
        "colab": {
          "base_uri": "https://localhost:8080/",
          "height": 1000
        }
      },
      "source": [
        "dictionary = gensim.corpora.Dictionary.load('dictionary.gensim')\n",
        "corpus = pickle.load(open('corpus.pkl', 'rb'))\n",
        "lda = gensim.models.ldamodel.LdaModel.load('model5.gensim')\n",
        "import pyLDAvis.gensim\n",
        "lda_display = pyLDAvis.gensim.prepare(lda, corpus, dictionary, sort_topics=False)\n",
        "pyLDAvis.display(lda_display)\n"
      ],
      "execution_count": 0,
      "outputs": [
        {
          "output_type": "stream",
          "text": [
            "/usr/local/lib/python3.6/dist-packages/smart_open/smart_open_lib.py:402: UserWarning: This function is deprecated, use smart_open.open instead. See the migration notes for details: https://github.com/RaRe-Technologies/smart_open/blob/master/README.rst#migrating-to-the-new-open-function\n",
            "  'See the migration notes for details: %s' % _MIGRATION_NOTES_URL\n",
            "/usr/local/lib/python3.6/dist-packages/pyLDAvis/_prepare.py:257: FutureWarning: Sorting because non-concatenation axis is not aligned. A future version\n",
            "of pandas will change to not sort by default.\n",
            "\n",
            "To accept the future behavior, pass 'sort=False'.\n",
            "\n",
            "To retain the current behavior and silence the warning, pass 'sort=True'.\n",
            "\n",
            "  return pd.concat([default_term_info] + list(topic_dfs))\n"
          ],
          "name": "stderr"
        },
        {
          "output_type": "execute_result",
          "data": {
            "text/html": [
              "\n",
              "<link rel=\"stylesheet\" type=\"text/css\" href=\"https://cdn.rawgit.com/bmabey/pyLDAvis/files/ldavis.v1.0.0.css\">\n",
              "\n",
              "\n",
              "<div id=\"ldavis_el47851400022283173041049754701\"></div>\n",
              "<script type=\"text/javascript\">\n",
              "\n",
              "var ldavis_el47851400022283173041049754701_data = {\"mdsDat\": {\"x\": [0.16872683705005517, -0.03929220371514246, 0.025352061222160296, -0.003719849712306625, -0.0751591081300664, -0.04170703655889854, -0.025635163636956646, -0.011992701380868697, 0.0028874779395127556, 0.0005396869225111082], \"y\": [-0.06587413460639893, 0.013482555785583458, 0.04927730737500988, -0.030823315068155725, -0.10774518150255215, -0.05660020972552807, 0.0013749162654989704, 0.0385590382081147, 0.09971495040026951, 0.058634072868158436], \"topics\": [1, 2, 3, 4, 5, 6, 7, 8, 9, 10], \"cluster\": [1, 1, 1, 1, 1, 1, 1, 1, 1, 1], \"Freq\": [11.438405990600586, 8.964516639709473, 9.319417953491211, 9.862115859985352, 11.337638854980469, 10.19207763671875, 9.037996292114258, 10.059847831726074, 10.02161693572998, 9.766368865966797]}, \"tinfo\": {\"Category\": [\"Default\", \"Default\", \"Default\", \"Default\", \"Default\", \"Default\", \"Default\", \"Default\", \"Default\", \"Default\", \"Default\", \"Default\", \"Default\", \"Default\", \"Default\", \"Default\", \"Default\", \"Default\", \"Default\", \"Default\", \"Default\", \"Default\", \"Default\", \"Default\", \"Default\", \"Default\", \"Default\", \"Default\", \"Default\", \"Default\", \"Topic1\", \"Topic1\", \"Topic1\", \"Topic1\", \"Topic1\", \"Topic1\", \"Topic1\", \"Topic1\", \"Topic1\", \"Topic1\", \"Topic1\", \"Topic1\", \"Topic1\", \"Topic1\", \"Topic1\", \"Topic1\", \"Topic1\", \"Topic1\", \"Topic1\", \"Topic1\", \"Topic1\", \"Topic1\", \"Topic1\", \"Topic1\", \"Topic1\", \"Topic1\", \"Topic1\", \"Topic1\", \"Topic1\", \"Topic1\", \"Topic1\", \"Topic1\", \"Topic1\", \"Topic1\", \"Topic1\", \"Topic1\", \"Topic1\", \"Topic1\", \"Topic1\", \"Topic1\", \"Topic1\", \"Topic1\", \"Topic1\", \"Topic1\", \"Topic1\", \"Topic1\", \"Topic1\", \"Topic1\", \"Topic1\", \"Topic1\", \"Topic1\", \"Topic1\", \"Topic1\", \"Topic1\", \"Topic1\", \"Topic1\", \"Topic1\", \"Topic1\", \"Topic1\", \"Topic1\", \"Topic1\", \"Topic1\", \"Topic1\", \"Topic1\", \"Topic1\", \"Topic1\", \"Topic1\", \"Topic1\", \"Topic1\", \"Topic1\", \"Topic1\", \"Topic1\", \"Topic1\", \"Topic1\", \"Topic1\", \"Topic1\", \"Topic1\", \"Topic1\", \"Topic1\", \"Topic1\", \"Topic1\", \"Topic1\", \"Topic1\", \"Topic1\", \"Topic1\", \"Topic1\", \"Topic1\", \"Topic1\", \"Topic1\", \"Topic1\", \"Topic1\", \"Topic1\", \"Topic1\", \"Topic1\", \"Topic1\", \"Topic1\", \"Topic1\", \"Topic1\", \"Topic1\", \"Topic1\", \"Topic1\", \"Topic1\", \"Topic1\", \"Topic1\", \"Topic1\", \"Topic1\", \"Topic1\", \"Topic1\", \"Topic1\", \"Topic1\", \"Topic1\", \"Topic1\", \"Topic1\", \"Topic1\", \"Topic1\", \"Topic1\", \"Topic1\", \"Topic1\", \"Topic1\", \"Topic1\", \"Topic1\", \"Topic1\", \"Topic1\", \"Topic1\", \"Topic1\", \"Topic1\", \"Topic1\", \"Topic1\", \"Topic1\", \"Topic1\", \"Topic1\", \"Topic1\", \"Topic1\", \"Topic1\", \"Topic1\", \"Topic1\", \"Topic1\", \"Topic1\", \"Topic1\", \"Topic1\", \"Topic1\", \"Topic1\", \"Topic1\", \"Topic1\", \"Topic1\", \"Topic1\", \"Topic1\", \"Topic1\", \"Topic1\", \"Topic1\", \"Topic1\", \"Topic1\", \"Topic1\", \"Topic1\", \"Topic1\", \"Topic1\", \"Topic1\", \"Topic1\", \"Topic1\", \"Topic1\", \"Topic1\", \"Topic1\", \"Topic1\", \"Topic1\", \"Topic1\", \"Topic1\", \"Topic1\", \"Topic1\", \"Topic1\", \"Topic1\", \"Topic1\", \"Topic1\", \"Topic1\", \"Topic1\", \"Topic1\", \"Topic1\", \"Topic1\", \"Topic1\", \"Topic1\", \"Topic1\", \"Topic1\", \"Topic1\", \"Topic1\", \"Topic1\", \"Topic1\", \"Topic1\", \"Topic1\", \"Topic1\", \"Topic1\", \"Topic1\", \"Topic1\", \"Topic1\", \"Topic1\", \"Topic1\", \"Topic1\", \"Topic1\", \"Topic1\", \"Topic1\", \"Topic1\", \"Topic1\", \"Topic1\", \"Topic1\", \"Topic1\", \"Topic1\", \"Topic1\", \"Topic1\", \"Topic1\", \"Topic1\", \"Topic1\", \"Topic1\", \"Topic1\", \"Topic1\", \"Topic1\", \"Topic1\", \"Topic1\", \"Topic2\", \"Topic2\", \"Topic2\", \"Topic2\", \"Topic2\", \"Topic2\", \"Topic2\", \"Topic2\", \"Topic2\", \"Topic2\", \"Topic2\", \"Topic2\", \"Topic2\", \"Topic2\", \"Topic2\", \"Topic2\", \"Topic2\", \"Topic2\", \"Topic2\", \"Topic2\", \"Topic2\", \"Topic2\", \"Topic2\", \"Topic2\", \"Topic2\", \"Topic2\", \"Topic2\", \"Topic2\", \"Topic2\", \"Topic2\", \"Topic2\", \"Topic2\", \"Topic2\", \"Topic2\", \"Topic2\", \"Topic2\", \"Topic2\", \"Topic2\", \"Topic2\", \"Topic2\", \"Topic2\", \"Topic2\", \"Topic2\", \"Topic2\", \"Topic2\", \"Topic2\", \"Topic2\", \"Topic2\", \"Topic2\", \"Topic2\", \"Topic2\", \"Topic2\", \"Topic2\", \"Topic2\", \"Topic2\", \"Topic2\", \"Topic2\", \"Topic2\", \"Topic2\", \"Topic2\", \"Topic2\", \"Topic2\", \"Topic2\", \"Topic2\", \"Topic2\", \"Topic2\", \"Topic2\", \"Topic2\", \"Topic2\", \"Topic2\", \"Topic2\", \"Topic2\", \"Topic2\", \"Topic2\", \"Topic2\", \"Topic2\", \"Topic2\", \"Topic2\", \"Topic2\", \"Topic2\", \"Topic2\", \"Topic2\", \"Topic2\", \"Topic2\", \"Topic2\", \"Topic2\", \"Topic2\", \"Topic2\", \"Topic2\", \"Topic2\", \"Topic2\", \"Topic2\", \"Topic2\", \"Topic2\", \"Topic2\", \"Topic2\", \"Topic2\", \"Topic2\", \"Topic2\", \"Topic2\", \"Topic2\", \"Topic2\", \"Topic2\", \"Topic2\", \"Topic2\", \"Topic2\", \"Topic2\", \"Topic2\", \"Topic2\", \"Topic2\", \"Topic2\", \"Topic2\", \"Topic2\", \"Topic2\", \"Topic2\", \"Topic2\", \"Topic2\", \"Topic2\", \"Topic2\", \"Topic2\", \"Topic2\", \"Topic2\", \"Topic2\", \"Topic2\", \"Topic2\", \"Topic2\", \"Topic2\", \"Topic2\", \"Topic2\", \"Topic2\", \"Topic2\", \"Topic2\", \"Topic2\", \"Topic2\", \"Topic2\", \"Topic2\", \"Topic2\", \"Topic2\", \"Topic2\", \"Topic2\", \"Topic2\", \"Topic2\", \"Topic2\", \"Topic2\", \"Topic2\", \"Topic2\", \"Topic2\", \"Topic2\", \"Topic2\", \"Topic2\", \"Topic2\", \"Topic2\", \"Topic2\", \"Topic2\", \"Topic2\", \"Topic2\", \"Topic2\", \"Topic2\", \"Topic2\", \"Topic2\", \"Topic2\", \"Topic2\", \"Topic2\", \"Topic2\", \"Topic2\", \"Topic2\", \"Topic2\", \"Topic2\", \"Topic2\", \"Topic2\", \"Topic2\", \"Topic2\", \"Topic2\", \"Topic2\", \"Topic2\", \"Topic2\", \"Topic2\", \"Topic2\", \"Topic2\", \"Topic2\", \"Topic2\", \"Topic2\", \"Topic2\", \"Topic2\", \"Topic2\", \"Topic2\", \"Topic2\", \"Topic2\", \"Topic2\", \"Topic2\", \"Topic2\", \"Topic2\", \"Topic2\", \"Topic2\", \"Topic2\", \"Topic2\", \"Topic2\", \"Topic2\", \"Topic2\", \"Topic2\", \"Topic2\", \"Topic2\", \"Topic2\", \"Topic2\", \"Topic2\", \"Topic2\", \"Topic3\", \"Topic3\", \"Topic3\", \"Topic3\", \"Topic3\", \"Topic3\", \"Topic3\", \"Topic3\", \"Topic3\", \"Topic3\", \"Topic3\", \"Topic3\", \"Topic3\", \"Topic3\", \"Topic3\", \"Topic3\", \"Topic3\", \"Topic3\", \"Topic3\", \"Topic3\", \"Topic3\", \"Topic3\", \"Topic3\", \"Topic3\", \"Topic3\", \"Topic3\", \"Topic3\", \"Topic3\", \"Topic3\", \"Topic3\", \"Topic3\", \"Topic3\", \"Topic3\", \"Topic3\", \"Topic3\", \"Topic3\", \"Topic3\", \"Topic3\", \"Topic3\", \"Topic3\", \"Topic3\", \"Topic3\", \"Topic3\", \"Topic3\", \"Topic3\", \"Topic3\", \"Topic3\", \"Topic3\", \"Topic3\", \"Topic3\", \"Topic3\", \"Topic3\", \"Topic3\", \"Topic3\", \"Topic3\", \"Topic3\", \"Topic3\", \"Topic3\", \"Topic3\", \"Topic3\", \"Topic3\", \"Topic3\", \"Topic3\", \"Topic3\", \"Topic3\", \"Topic3\", \"Topic3\", \"Topic3\", \"Topic3\", \"Topic3\", \"Topic3\", \"Topic3\", \"Topic3\", \"Topic3\", \"Topic3\", \"Topic3\", \"Topic3\", \"Topic3\", \"Topic3\", \"Topic3\", \"Topic3\", \"Topic3\", \"Topic3\", \"Topic3\", \"Topic3\", \"Topic3\", \"Topic3\", \"Topic3\", \"Topic3\", \"Topic3\", \"Topic3\", \"Topic3\", \"Topic3\", \"Topic3\", \"Topic3\", \"Topic3\", \"Topic3\", \"Topic3\", \"Topic3\", \"Topic3\", \"Topic3\", \"Topic3\", \"Topic3\", \"Topic3\", \"Topic3\", \"Topic3\", \"Topic3\", \"Topic3\", \"Topic3\", \"Topic3\", \"Topic3\", \"Topic3\", \"Topic3\", \"Topic3\", \"Topic3\", \"Topic3\", \"Topic3\", \"Topic3\", \"Topic3\", \"Topic3\", \"Topic3\", \"Topic3\", \"Topic3\", \"Topic3\", \"Topic3\", \"Topic3\", \"Topic3\", \"Topic3\", \"Topic3\", \"Topic3\", \"Topic3\", \"Topic3\", \"Topic3\", \"Topic3\", \"Topic3\", \"Topic3\", \"Topic3\", \"Topic3\", \"Topic3\", \"Topic3\", \"Topic3\", \"Topic3\", \"Topic3\", \"Topic3\", \"Topic3\", \"Topic3\", \"Topic3\", \"Topic3\", \"Topic3\", \"Topic3\", \"Topic3\", \"Topic3\", \"Topic3\", \"Topic3\", \"Topic3\", \"Topic3\", \"Topic3\", \"Topic3\", \"Topic3\", \"Topic3\", \"Topic3\", \"Topic3\", \"Topic3\", \"Topic3\", \"Topic3\", \"Topic3\", \"Topic3\", \"Topic3\", \"Topic3\", \"Topic3\", \"Topic3\", \"Topic3\", \"Topic3\", \"Topic3\", \"Topic3\", \"Topic3\", \"Topic3\", \"Topic3\", \"Topic3\", \"Topic3\", \"Topic3\", \"Topic3\", \"Topic3\", \"Topic3\", \"Topic3\", \"Topic3\", \"Topic3\", \"Topic3\", \"Topic3\", \"Topic3\", \"Topic3\", \"Topic3\", \"Topic3\", \"Topic3\", \"Topic3\", \"Topic3\", \"Topic3\", \"Topic3\", \"Topic3\", \"Topic3\", \"Topic3\", \"Topic3\", \"Topic3\", \"Topic3\", \"Topic3\", \"Topic3\", \"Topic3\", \"Topic3\", \"Topic3\", \"Topic3\", \"Topic3\", \"Topic3\", \"Topic3\", \"Topic3\", \"Topic3\", \"Topic3\", \"Topic3\", \"Topic3\", \"Topic3\", \"Topic3\", \"Topic3\", \"Topic3\", \"Topic3\", \"Topic3\", \"Topic3\", \"Topic3\", \"Topic3\", \"Topic3\", \"Topic3\", \"Topic3\", \"Topic3\", \"Topic3\", \"Topic3\", \"Topic3\", \"Topic3\", \"Topic3\", \"Topic3\", \"Topic3\", \"Topic3\", \"Topic3\", \"Topic3\", \"Topic3\", \"Topic4\", \"Topic4\", \"Topic4\", \"Topic4\", \"Topic4\", \"Topic4\", \"Topic4\", \"Topic4\", \"Topic4\", \"Topic4\", \"Topic4\", \"Topic4\", \"Topic4\", \"Topic4\", \"Topic4\", \"Topic4\", \"Topic4\", \"Topic4\", \"Topic4\", \"Topic4\", \"Topic4\", \"Topic4\", \"Topic4\", \"Topic4\", \"Topic4\", \"Topic4\", \"Topic4\", \"Topic4\", \"Topic4\", \"Topic4\", \"Topic4\", \"Topic4\", \"Topic4\", \"Topic4\", \"Topic4\", \"Topic4\", \"Topic4\", \"Topic4\", \"Topic4\", \"Topic4\", \"Topic4\", \"Topic4\", \"Topic4\", \"Topic4\", \"Topic4\", \"Topic4\", \"Topic4\", \"Topic4\", \"Topic4\", \"Topic4\", \"Topic4\", \"Topic4\", \"Topic4\", \"Topic4\", \"Topic4\", \"Topic4\", \"Topic4\", \"Topic4\", \"Topic4\", \"Topic4\", \"Topic4\", \"Topic4\", \"Topic4\", \"Topic4\", \"Topic4\", \"Topic4\", \"Topic4\", \"Topic4\", \"Topic4\", \"Topic4\", \"Topic4\", \"Topic4\", \"Topic4\", \"Topic4\", \"Topic4\", \"Topic4\", \"Topic4\", \"Topic4\", \"Topic4\", \"Topic4\", \"Topic4\", \"Topic4\", \"Topic4\", \"Topic4\", \"Topic4\", \"Topic4\", \"Topic4\", \"Topic4\", \"Topic4\", \"Topic4\", \"Topic4\", \"Topic4\", \"Topic4\", \"Topic4\", \"Topic4\", \"Topic4\", \"Topic4\", \"Topic4\", \"Topic4\", \"Topic4\", \"Topic4\", \"Topic4\", \"Topic4\", \"Topic4\", \"Topic4\", \"Topic4\", \"Topic4\", \"Topic4\", \"Topic4\", \"Topic4\", \"Topic4\", \"Topic4\", \"Topic5\", \"Topic5\", \"Topic5\", \"Topic5\", \"Topic5\", \"Topic5\", \"Topic5\", \"Topic5\", \"Topic5\", \"Topic5\", \"Topic5\", \"Topic5\", \"Topic5\", \"Topic5\", \"Topic5\", \"Topic5\", \"Topic5\", \"Topic5\", \"Topic5\", \"Topic5\", \"Topic5\", \"Topic5\", \"Topic5\", \"Topic5\", \"Topic5\", \"Topic5\", \"Topic5\", \"Topic5\", \"Topic5\", \"Topic5\", \"Topic5\", \"Topic5\", \"Topic5\", \"Topic5\", \"Topic5\", \"Topic5\", \"Topic5\", \"Topic5\", \"Topic5\", \"Topic5\", \"Topic5\", \"Topic5\", \"Topic5\", \"Topic5\", \"Topic5\", \"Topic5\", \"Topic5\", \"Topic5\", \"Topic5\", \"Topic5\", \"Topic5\", \"Topic5\", \"Topic5\", \"Topic5\", \"Topic5\", \"Topic5\", \"Topic5\", \"Topic5\", \"Topic5\", \"Topic5\", \"Topic5\", \"Topic5\", \"Topic5\", \"Topic5\", \"Topic5\", \"Topic5\", \"Topic5\", \"Topic5\", \"Topic5\", \"Topic5\", \"Topic5\", \"Topic5\", \"Topic5\", \"Topic5\", \"Topic5\", \"Topic5\", \"Topic5\", \"Topic5\", \"Topic5\", \"Topic5\", \"Topic5\", \"Topic5\", \"Topic5\", \"Topic5\", \"Topic5\", \"Topic5\", \"Topic5\", \"Topic5\", \"Topic5\", \"Topic5\", \"Topic5\", \"Topic5\", \"Topic5\", \"Topic5\", \"Topic5\", \"Topic5\", \"Topic5\", \"Topic5\", \"Topic5\", \"Topic5\", \"Topic5\", \"Topic5\", \"Topic5\", \"Topic5\", \"Topic5\", \"Topic5\", \"Topic5\", \"Topic5\", \"Topic5\", \"Topic5\", \"Topic5\", \"Topic5\", \"Topic5\", \"Topic5\", \"Topic5\", \"Topic5\", \"Topic5\", \"Topic5\", \"Topic5\", \"Topic5\", \"Topic5\", \"Topic5\", \"Topic5\", \"Topic5\", \"Topic5\", \"Topic5\", \"Topic5\", \"Topic5\", \"Topic5\", \"Topic5\", \"Topic5\", \"Topic5\", \"Topic5\", \"Topic5\", \"Topic5\", \"Topic5\", \"Topic5\", \"Topic5\", \"Topic5\", \"Topic5\", \"Topic5\", \"Topic5\", \"Topic5\", \"Topic5\", \"Topic5\", \"Topic5\", \"Topic5\", \"Topic5\", \"Topic5\", \"Topic5\", \"Topic5\", \"Topic6\", \"Topic6\", \"Topic6\", \"Topic6\", \"Topic6\", \"Topic6\", \"Topic6\", \"Topic6\", \"Topic6\", \"Topic6\", \"Topic6\", \"Topic6\", \"Topic6\", \"Topic6\", \"Topic6\", \"Topic6\", \"Topic6\", \"Topic6\", \"Topic6\", \"Topic6\", \"Topic6\", \"Topic6\", \"Topic6\", \"Topic6\", \"Topic6\", \"Topic6\", \"Topic6\", \"Topic6\", \"Topic6\", \"Topic6\", \"Topic6\", \"Topic6\", \"Topic6\", \"Topic6\", \"Topic6\", \"Topic6\", \"Topic6\", \"Topic6\", \"Topic6\", \"Topic6\", \"Topic6\", \"Topic6\", \"Topic6\", \"Topic6\", \"Topic6\", \"Topic6\", \"Topic6\", \"Topic6\", \"Topic6\", \"Topic6\", \"Topic6\", \"Topic6\", \"Topic6\", \"Topic6\", \"Topic6\", \"Topic6\", \"Topic6\", \"Topic6\", \"Topic6\", \"Topic6\", \"Topic6\", \"Topic6\", \"Topic6\", \"Topic6\", \"Topic6\", \"Topic6\", \"Topic6\", \"Topic6\", \"Topic6\", \"Topic6\", \"Topic6\", \"Topic6\", \"Topic6\", \"Topic6\", \"Topic6\", \"Topic7\", \"Topic7\", \"Topic7\", \"Topic7\", \"Topic7\", \"Topic7\", \"Topic7\", \"Topic7\", \"Topic7\", \"Topic7\", \"Topic7\", \"Topic7\", \"Topic7\", \"Topic7\", \"Topic7\", \"Topic7\", \"Topic7\", \"Topic7\", \"Topic7\", \"Topic7\", \"Topic7\", \"Topic7\", \"Topic7\", \"Topic7\", \"Topic7\", \"Topic7\", \"Topic7\", \"Topic7\", \"Topic7\", \"Topic7\", \"Topic7\", \"Topic7\", \"Topic7\", \"Topic7\", \"Topic7\", \"Topic7\", \"Topic7\", \"Topic7\", \"Topic7\", \"Topic7\", \"Topic7\", \"Topic7\", \"Topic7\", \"Topic7\", \"Topic7\", \"Topic7\", \"Topic7\", \"Topic7\", \"Topic7\", \"Topic7\", \"Topic7\", \"Topic7\", \"Topic7\", \"Topic7\", \"Topic7\", \"Topic7\", \"Topic7\", \"Topic7\", \"Topic7\", \"Topic7\", \"Topic7\", \"Topic7\", \"Topic7\", \"Topic7\", \"Topic7\", \"Topic7\", \"Topic7\", \"Topic7\", \"Topic7\", \"Topic7\", \"Topic7\", \"Topic7\", \"Topic7\", \"Topic7\", \"Topic7\", \"Topic7\", \"Topic7\", \"Topic7\", \"Topic7\", \"Topic7\", \"Topic7\", \"Topic7\", \"Topic7\", \"Topic7\", \"Topic7\", \"Topic7\", \"Topic7\", \"Topic7\", \"Topic7\", \"Topic7\", \"Topic7\", \"Topic7\", \"Topic7\", \"Topic7\", \"Topic7\", \"Topic7\", \"Topic7\", \"Topic7\", \"Topic7\", \"Topic7\", \"Topic7\", \"Topic7\", \"Topic7\", \"Topic7\", \"Topic7\", \"Topic7\", \"Topic7\", \"Topic7\", \"Topic7\", \"Topic7\", \"Topic7\", \"Topic7\", \"Topic7\", \"Topic7\", \"Topic7\", \"Topic7\", \"Topic7\", \"Topic7\", \"Topic7\", \"Topic7\", \"Topic7\", \"Topic7\", \"Topic7\", \"Topic7\", \"Topic7\", \"Topic7\", \"Topic7\", \"Topic7\", \"Topic7\", \"Topic7\", \"Topic7\", \"Topic7\", \"Topic7\", \"Topic7\", \"Topic7\", \"Topic7\", \"Topic7\", \"Topic7\", \"Topic7\", \"Topic7\", \"Topic7\", \"Topic7\", \"Topic7\", \"Topic7\", \"Topic7\", \"Topic7\", \"Topic7\", \"Topic7\", \"Topic7\", \"Topic7\", \"Topic7\", \"Topic7\", \"Topic7\", \"Topic7\", \"Topic7\", \"Topic7\", \"Topic7\", \"Topic7\", \"Topic7\", \"Topic7\", \"Topic7\", \"Topic7\", \"Topic7\", \"Topic7\", \"Topic7\", \"Topic7\", \"Topic7\", \"Topic7\", \"Topic7\", \"Topic7\", \"Topic7\", \"Topic7\", \"Topic7\", \"Topic7\", \"Topic7\", \"Topic7\", \"Topic7\", \"Topic7\", \"Topic7\", \"Topic7\", \"Topic7\", \"Topic7\", \"Topic7\", \"Topic7\", \"Topic7\", \"Topic7\", \"Topic7\", \"Topic7\", \"Topic7\", \"Topic7\", \"Topic7\", \"Topic7\", \"Topic7\", \"Topic7\", \"Topic7\", \"Topic7\", \"Topic7\", \"Topic7\", \"Topic7\", \"Topic7\", \"Topic7\", \"Topic7\", \"Topic7\", \"Topic7\", \"Topic7\", \"Topic7\", \"Topic7\", \"Topic7\", \"Topic7\", \"Topic7\", \"Topic7\", \"Topic7\", \"Topic7\", \"Topic7\", \"Topic7\", \"Topic7\", \"Topic7\", \"Topic7\", \"Topic7\", \"Topic7\", \"Topic7\", \"Topic7\", \"Topic7\", \"Topic7\", \"Topic7\", \"Topic7\", \"Topic7\", \"Topic7\", \"Topic7\", \"Topic7\", \"Topic7\", \"Topic7\", \"Topic7\", \"Topic7\", \"Topic7\", \"Topic7\", \"Topic7\", \"Topic7\", \"Topic7\", \"Topic7\", \"Topic7\", \"Topic7\", \"Topic7\", \"Topic7\", \"Topic7\", \"Topic7\", \"Topic7\", \"Topic7\", \"Topic7\", \"Topic7\", \"Topic8\", \"Topic8\", \"Topic8\", \"Topic8\", \"Topic8\", \"Topic8\", \"Topic8\", \"Topic8\", \"Topic8\", \"Topic8\", \"Topic8\", \"Topic8\", \"Topic8\", \"Topic8\", \"Topic8\", \"Topic8\", \"Topic8\", \"Topic8\", \"Topic8\", \"Topic8\", \"Topic8\", \"Topic8\", \"Topic8\", \"Topic8\", \"Topic8\", \"Topic8\", \"Topic8\", \"Topic8\", \"Topic8\", \"Topic8\", \"Topic8\", \"Topic8\", \"Topic8\", \"Topic8\", \"Topic8\", \"Topic8\", \"Topic8\", \"Topic8\", \"Topic8\", \"Topic8\", \"Topic8\", \"Topic8\", \"Topic8\", \"Topic8\", \"Topic8\", \"Topic8\", \"Topic8\", \"Topic8\", \"Topic8\", \"Topic8\", \"Topic8\", \"Topic8\", \"Topic8\", \"Topic8\", \"Topic8\", \"Topic8\", \"Topic8\", \"Topic8\", \"Topic8\", \"Topic8\", \"Topic8\", \"Topic8\", \"Topic8\", \"Topic8\", \"Topic8\", \"Topic8\", \"Topic8\", \"Topic8\", \"Topic8\", \"Topic8\", \"Topic8\", \"Topic8\", \"Topic8\", \"Topic8\", \"Topic8\", \"Topic8\", \"Topic8\", \"Topic8\", \"Topic8\", \"Topic8\", \"Topic8\", \"Topic8\", \"Topic8\", \"Topic8\", \"Topic8\", \"Topic8\", \"Topic8\", \"Topic8\", \"Topic8\", \"Topic8\", \"Topic8\", \"Topic8\", \"Topic8\", \"Topic8\", \"Topic8\", \"Topic8\", \"Topic8\", \"Topic8\", \"Topic8\", \"Topic8\", \"Topic8\", \"Topic8\", \"Topic8\", \"Topic8\", \"Topic8\", \"Topic8\", \"Topic8\", \"Topic8\", \"Topic8\", \"Topic8\", \"Topic8\", \"Topic8\", \"Topic8\", \"Topic8\", \"Topic8\", \"Topic8\", \"Topic8\", \"Topic8\", \"Topic8\", \"Topic8\", \"Topic8\", \"Topic8\", \"Topic8\", \"Topic8\", \"Topic8\", \"Topic8\", \"Topic8\", \"Topic8\", \"Topic8\", \"Topic8\", \"Topic8\", \"Topic8\", \"Topic8\", \"Topic8\", \"Topic8\", \"Topic8\", \"Topic8\", \"Topic8\", \"Topic8\", \"Topic8\", \"Topic8\", \"Topic8\", \"Topic8\", \"Topic8\", \"Topic8\", \"Topic8\", \"Topic8\", \"Topic8\", \"Topic8\", \"Topic8\", \"Topic8\", \"Topic8\", \"Topic8\", \"Topic8\", \"Topic8\", \"Topic8\", \"Topic8\", \"Topic8\", \"Topic8\", \"Topic8\", \"Topic8\", \"Topic8\", \"Topic8\", \"Topic8\", \"Topic8\", \"Topic8\", \"Topic8\", \"Topic8\", \"Topic8\", \"Topic8\", \"Topic8\", \"Topic8\", \"Topic8\", \"Topic8\", \"Topic8\", \"Topic8\", \"Topic8\", \"Topic8\", \"Topic8\", \"Topic8\", \"Topic8\", \"Topic8\", \"Topic8\", \"Topic8\", \"Topic8\", \"Topic8\", \"Topic8\", \"Topic8\", \"Topic8\", \"Topic8\", \"Topic8\", \"Topic8\", \"Topic8\", \"Topic8\", \"Topic8\", \"Topic8\", \"Topic8\", \"Topic8\", \"Topic8\", \"Topic8\", \"Topic8\", \"Topic8\", \"Topic9\", \"Topic9\", \"Topic9\", \"Topic9\", \"Topic9\", \"Topic9\", \"Topic9\", \"Topic9\", \"Topic9\", \"Topic9\", \"Topic9\", \"Topic9\", \"Topic9\", \"Topic9\", \"Topic9\", \"Topic9\", \"Topic9\", \"Topic9\", \"Topic9\", \"Topic9\", \"Topic9\", \"Topic9\", \"Topic9\", \"Topic9\", \"Topic9\", \"Topic9\", \"Topic9\", \"Topic9\", \"Topic9\", \"Topic9\", \"Topic9\", \"Topic9\", \"Topic9\", \"Topic9\", \"Topic9\", \"Topic9\", \"Topic9\", \"Topic9\", \"Topic9\", \"Topic9\", \"Topic9\", \"Topic9\", \"Topic9\", \"Topic9\", \"Topic9\", \"Topic9\", \"Topic9\", \"Topic9\", \"Topic9\", \"Topic9\", \"Topic9\", \"Topic9\", \"Topic9\", \"Topic9\", \"Topic9\", \"Topic9\", \"Topic9\", \"Topic9\", \"Topic9\", \"Topic9\", \"Topic9\", \"Topic9\", \"Topic9\", \"Topic9\", \"Topic9\", \"Topic9\", \"Topic9\", \"Topic9\", \"Topic9\", \"Topic9\", \"Topic9\", \"Topic9\", \"Topic9\", \"Topic9\", \"Topic9\", \"Topic9\", \"Topic9\", \"Topic9\", \"Topic9\", \"Topic9\", \"Topic9\", \"Topic9\", \"Topic9\", \"Topic9\", \"Topic9\", \"Topic9\", \"Topic9\", \"Topic9\", \"Topic9\", \"Topic9\", \"Topic9\", \"Topic9\", \"Topic9\", \"Topic9\", \"Topic9\", \"Topic9\", \"Topic9\", \"Topic9\", \"Topic9\", \"Topic9\", \"Topic9\", \"Topic9\", \"Topic9\", \"Topic9\", \"Topic9\", \"Topic9\", \"Topic9\", \"Topic9\", \"Topic9\", \"Topic9\", \"Topic9\", \"Topic9\", \"Topic9\", \"Topic9\", \"Topic9\", \"Topic9\", \"Topic9\", \"Topic9\", \"Topic9\", \"Topic9\", \"Topic9\", \"Topic9\", \"Topic9\", \"Topic9\", \"Topic9\", \"Topic9\", \"Topic9\", \"Topic9\", \"Topic9\", \"Topic9\", \"Topic9\", \"Topic9\", \"Topic9\", \"Topic9\", \"Topic9\", \"Topic9\", \"Topic9\", \"Topic9\", \"Topic9\", \"Topic9\", \"Topic9\", \"Topic9\", \"Topic9\", \"Topic9\", \"Topic9\", \"Topic9\", \"Topic9\", \"Topic9\", \"Topic9\", \"Topic9\", \"Topic9\", \"Topic9\", \"Topic9\", \"Topic9\", \"Topic9\", \"Topic9\", \"Topic9\", \"Topic9\", \"Topic9\", \"Topic9\", \"Topic9\", \"Topic9\", \"Topic9\", \"Topic9\", \"Topic9\", \"Topic9\", \"Topic9\", \"Topic9\", \"Topic9\", \"Topic9\", \"Topic9\", \"Topic9\", \"Topic9\", \"Topic9\", \"Topic9\", \"Topic9\", \"Topic9\", \"Topic9\", \"Topic9\", \"Topic9\", \"Topic9\", \"Topic9\", \"Topic9\", \"Topic9\", \"Topic9\", \"Topic9\", \"Topic9\", \"Topic9\", \"Topic9\", \"Topic9\", \"Topic9\", \"Topic9\", \"Topic9\", \"Topic9\", \"Topic9\", \"Topic9\", \"Topic9\", \"Topic9\", \"Topic9\", \"Topic9\", \"Topic9\", \"Topic9\", \"Topic9\", \"Topic9\", \"Topic9\", \"Topic9\", \"Topic9\", \"Topic9\", \"Topic9\", \"Topic9\", \"Topic9\", \"Topic9\", \"Topic9\", \"Topic9\", \"Topic9\", \"Topic9\", \"Topic9\", \"Topic9\", \"Topic9\", \"Topic9\", \"Topic9\", \"Topic9\", \"Topic9\", \"Topic9\", \"Topic9\", \"Topic10\", \"Topic10\", \"Topic10\", \"Topic10\", \"Topic10\", \"Topic10\", \"Topic10\", \"Topic10\", \"Topic10\", \"Topic10\", \"Topic10\", \"Topic10\", \"Topic10\", \"Topic10\", \"Topic10\", \"Topic10\", \"Topic10\", \"Topic10\", \"Topic10\", \"Topic10\", \"Topic10\", \"Topic10\", \"Topic10\", \"Topic10\", \"Topic10\", \"Topic10\", \"Topic10\", \"Topic10\", \"Topic10\", \"Topic10\", \"Topic10\", \"Topic10\", \"Topic10\", \"Topic10\", \"Topic10\", \"Topic10\", \"Topic10\", \"Topic10\", \"Topic10\", \"Topic10\", \"Topic10\", \"Topic10\", \"Topic10\", \"Topic10\", \"Topic10\", \"Topic10\", \"Topic10\", \"Topic10\", \"Topic10\", \"Topic10\", \"Topic10\", \"Topic10\", \"Topic10\", \"Topic10\", \"Topic10\", \"Topic10\", \"Topic10\", \"Topic10\", \"Topic10\", \"Topic10\", \"Topic10\", \"Topic10\", \"Topic10\", \"Topic10\", \"Topic10\", \"Topic10\", \"Topic10\", \"Topic10\", \"Topic10\", \"Topic10\", \"Topic10\", \"Topic10\", \"Topic10\", \"Topic10\", \"Topic10\", \"Topic10\", \"Topic10\", \"Topic10\", \"Topic10\", \"Topic10\", \"Topic10\", \"Topic10\", \"Topic10\", \"Topic10\", \"Topic10\", \"Topic10\", \"Topic10\", \"Topic10\", \"Topic10\", \"Topic10\", \"Topic10\", \"Topic10\", \"Topic10\", \"Topic10\", \"Topic10\", \"Topic10\", \"Topic10\", \"Topic10\", \"Topic10\", \"Topic10\", \"Topic10\", \"Topic10\", \"Topic10\", \"Topic10\", \"Topic10\", \"Topic10\", \"Topic10\", \"Topic10\", \"Topic10\", \"Topic10\", \"Topic10\", \"Topic10\", \"Topic10\", \"Topic10\", \"Topic10\", \"Topic10\", \"Topic10\", \"Topic10\", \"Topic10\", \"Topic10\", \"Topic10\", \"Topic10\", \"Topic10\", \"Topic10\", \"Topic10\", \"Topic10\", \"Topic10\", \"Topic10\", \"Topic10\", \"Topic10\", \"Topic10\", \"Topic10\", \"Topic10\", \"Topic10\", \"Topic10\", \"Topic10\", \"Topic10\", \"Topic10\", \"Topic10\", \"Topic10\", \"Topic10\", \"Topic10\", \"Topic10\", \"Topic10\", \"Topic10\", \"Topic10\", \"Topic10\", \"Topic10\", \"Topic10\", \"Topic10\", \"Topic10\", \"Topic10\", \"Topic10\", \"Topic10\", \"Topic10\", \"Topic10\", \"Topic10\", \"Topic10\", \"Topic10\", \"Topic10\", \"Topic10\", \"Topic10\", \"Topic10\", \"Topic10\", \"Topic10\", \"Topic10\", \"Topic10\", \"Topic10\", \"Topic10\", \"Topic10\", \"Topic10\", \"Topic10\", \"Topic10\", \"Topic10\", \"Topic10\", \"Topic10\", \"Topic10\", \"Topic10\", \"Topic10\", \"Topic10\", \"Topic10\", \"Topic10\", \"Topic10\"], \"Freq\": [10.0, 11.0, 8.0, 3.0, 5.0, 6.0, 11.0, 2.0, 8.0, 5.0, 6.0, 4.0, 3.0, 4.0, 4.0, 5.0, 2.0, 6.0, 2.0, 2.0, 3.0, 7.0, 4.0, 2.0, 4.0, 8.0, 3.0, 3.0, 2.0, 3.0, 2.4526846408843994, 1.8540098667144775, 1.2562530040740967, 1.2562530040740967, 1.2562530040740967, 1.8544836044311523, 0.6580373048782349, 0.6580373048782349, 0.6580373048782349, 0.6580373048782349, 0.6580373048782349, 0.6580373048782349, 0.6580373048782349, 0.6580373048782349, 0.6580373048782349, 0.6580373048782349, 0.6580373048782349, 0.6580373048782349, 0.6580373048782349, 0.6580373048782349, 0.6580373048782349, 0.6580373048782349, 0.6580373048782349, 0.6580373048782349, 0.6580373048782349, 0.6580373048782349, 0.6580373048782349, 0.6580373048782349, 0.6580373048782349, 0.6580373048782349, 0.6580373048782349, 0.6580373048782349, 0.6580373048782349, 0.6580373048782349, 0.6580373048782349, 0.6580373048782349, 0.6580373048782349, 0.6580373048782349, 0.6580373048782349, 0.6580373048782349, 0.6580373048782349, 0.6580373048782349, 0.6580373048782349, 0.6580373048782349, 0.6580373048782349, 0.6580373048782349, 0.6580373048782349, 0.6580373048782349, 0.6580373048782349, 0.6580373048782349, 0.6580373048782349, 0.6580373048782349, 0.6580373048782349, 0.6580373048782349, 0.6580373048782349, 0.6580373048782349, 0.6580373048782349, 0.6580373048782349, 0.6580373048782349, 0.6580373048782349, 0.6580373048782349, 0.6580373048782349, 0.6580373048782349, 0.6580373048782349, 0.6580373048782349, 0.6580373048782349, 0.6580373048782349, 0.6580373048782349, 0.6580373048782349, 0.6580373048782349, 0.6580373048782349, 0.6580373048782349, 0.6580373048782349, 0.6580373048782349, 0.6580373048782349, 0.6580373048782349, 0.6580373048782349, 0.6580373048782349, 0.6580373048782349, 0.6580373048782349, 0.6580373048782349, 0.6580373048782349, 2.4521877765655518, 1.2562576532363892, 0.6580373644828796, 0.6580373048782349, 0.6580373048782349, 0.6580373644828796, 0.6580373644828796, 0.6580373644828796, 0.6580373048782349, 0.6580373048782349, 0.6580373644828796, 0.6580371856689453, 0.6580373048782349, 0.6580373048782349, 0.6580373048782349, 0.6580373048782349, 0.6580371856689453, 0.6580373644828796, 0.6580373048782349, 0.6580373048782349, 0.6580373048782349, 1.2562639713287354, 1.2562586069107056, 1.256258249282837, 1.2562555074691772, 1.2562521696090698, 0.6580373048782349, 0.6580373048782349, 0.6580373048782349, 0.6580373048782349, 0.6580373048782349, 0.6580373048782349, 0.6580373048782349, 0.6580373048782349, 0.6580373048782349, 0.6580373048782349, 0.6580373048782349, 0.6580373048782349, 0.6580373048782349, 0.6580373048782349, 0.6580373048782349, 0.6580373048782349, 0.6580373048782349, 0.6580373048782349, 0.6580373048782349, 0.6580373048782349, 0.6580373048782349, 0.6580373048782349, 0.6580373048782349, 0.6580373048782349, 0.6580373048782349, 0.6580373048782349, 0.6580373048782349, 0.6580373048782349, 0.6580373048782349, 0.6580373048782349, 4.845785140991211, 0.6580373048782349, 0.6580373048782349, 0.6580373048782349, 0.6580373048782349, 0.6580373048782349, 0.6580373048782349, 0.6580373048782349, 0.6580373048782349, 0.6580373048782349, 0.6580373048782349, 0.6580373048782349, 0.6580373048782349, 0.6580373048782349, 0.6580373048782349, 0.6580373048782349, 3.649179458618164, 0.6580373048782349, 0.6580373048782349, 0.6580373048782349, 0.6580373644828796, 0.6580373644828796, 0.6580373644828796, 0.6580373644828796, 0.6580373644828796, 0.6580373644828796, 0.6580373644828796, 0.6580373644828796, 0.6580373644828796, 0.6580373644828796, 0.6580373048782349, 0.6580373048782349, 0.6580373048782349, 0.6580373048782349, 0.6580373048782349, 0.6580373048782349, 0.6580373048782349, 0.6580373048782349, 0.6580373048782349, 0.6580373048782349, 0.6580373048782349, 0.6580373048782349, 0.6580373048782349, 0.6580373644828796, 0.6580373644828796, 0.6580373048782349, 0.6580373048782349, 1.8545149564743042, 1.25626540184021, 0.6580373644828796, 1.2562689781188965, 1.2562682628631592, 0.6580373048782349, 0.6580373048782349, 0.6580373048782349, 0.6580373644828796, 0.6580373048782349, 0.6580373048782349, 0.6580373048782349, 0.6580373048782349, 1.854508638381958, 0.6580373048782349, 0.6580373048782349, 1.2562564611434937, 1.2562668323516846, 1.256243348121643, 1.256264567375183, 1.2562534809112549, 1.8545010089874268, 1.8544960021972656, 1.25624418258667, 1.2562626600265503, 1.2562648057937622, 1.8544751405715942, 1.256279468536377, 1.2562588453292847, 1.2562534809112549, 1.1601065397262573, 1.1601065397262573, 1.1601065397262573, 1.1601065397262573, 1.1601065397262573, 1.1601065397262573, 1.1576824188232422, 1.7125569581985474, 0.6076748967170715, 0.6076748967170715, 0.6076748967170715, 0.6076748967170715, 0.6076748967170715, 0.6076748967170715, 0.6076748967170715, 0.6076748967170715, 0.6076748967170715, 0.6076748967170715, 0.6076748967170715, 0.6076748967170715, 0.6076748967170715, 0.6076748967170715, 0.6076748967170715, 0.6076748967170715, 0.6076748967170715, 0.6076748967170715, 0.6076748967170715, 0.6076748967170715, 0.6076748967170715, 0.6076748967170715, 0.6076748967170715, 0.6076748967170715, 0.6076748967170715, 0.6076748967170715, 0.6076748371124268, 0.6076748371124268, 0.6076748371124268, 0.6076748371124268, 0.6076748967170715, 0.6076748371124268, 0.6076748967170715, 0.6076748967170715, 0.6076748967170715, 0.6076748371124268, 0.6076748371124268, 0.6076748371124268, 0.6076748371124268, 0.6076748967170715, 0.6076748371124268, 0.6076748371124268, 0.6076748967170715, 0.6076748967170715, 0.6076748967170715, 0.6076748371124268, 0.6076748371124268, 0.6076748371124268, 0.6076748967170715, 0.6076748967170715, 0.6076748967170715, 0.6076748967170715, 0.6076748967170715, 0.6076748967170715, 0.6076748967170715, 1.1601077318191528, 0.6076748967170715, 0.6076748967170715, 1.1601134538650513, 1.1601148843765259, 1.160112738609314, 1.1601125001907349, 1.160110592842102, 0.6076748371124268, 0.6076748371124268, 0.6076748371124268, 0.6076748371124268, 0.6076748371124268, 0.6076748371124268, 0.6076748371124268, 0.6076748371124268, 0.6076748967170715, 0.6076748967170715, 0.6076748371124268, 0.6076748371124268, 0.6076748371124268, 0.6076748371124268, 0.6076748371124268, 0.6076748371124268, 0.6076748371124268, 0.6076748371124268, 0.6076748371124268, 0.6076748371124268, 0.6076748967170715, 0.6076748371124268, 0.6076748371124268, 0.6076748967170715, 0.6076748371124268, 0.6076748371124268, 0.6076748371124268, 0.6076748371124268, 0.6076748371124268, 0.6076748371124268, 0.6076748371124268, 0.6076748371124268, 0.6076748371124268, 0.6076748371124268, 0.6076748371124268, 1.1601074934005737, 1.160131812095642, 1.160121202468872, 0.6076748371124268, 0.6076748371124268, 0.6076748371124268, 0.6076748371124268, 0.6076748371124268, 0.6076748371124268, 0.6076748371124268, 0.6076748371124268, 0.6076748371124268, 0.6076748371124268, 0.6076748371124268, 0.6076748371124268, 0.6076748371124268, 0.6076748371124268, 0.6076748371124268, 0.6076748967170715, 0.6076748371124268, 0.6076748371124268, 1.1601417064666748, 0.6076748371124268, 0.6076748371124268, 0.6076748371124268, 0.6076748371124268, 0.6076748371124268, 0.6076748371124268, 0.6076748371124268, 0.6076748371124268, 0.6076748371124268, 0.6076748371124268, 0.6076748371124268, 0.6076748371124268, 0.6076748371124268, 0.6076748371124268, 0.6076748371124268, 1.1601346731185913, 0.6076748371124268, 0.6076748371124268, 0.6076748371124268, 0.6076748371124268, 0.6076748371124268, 0.6076748371124268, 0.6076748371124268, 0.6076748371124268, 0.6076748967170715, 0.6076748371124268, 0.6076748371124268, 0.6076748371124268, 1.160148024559021, 1.160139799118042, 0.6076748371124268, 0.6076748371124268, 0.6076748967170715, 0.6076748371124268, 0.6076748371124268, 1.712562918663025, 0.6076748967170715, 0.6076748371124268, 0.6076748371124268, 0.6076748371124268, 0.6076748371124268, 0.6076748371124268, 0.6076748371124268, 0.6076748371124268, 1.1601115465164185, 0.6076748371124268, 0.6076748371124268, 0.6076748371124268, 0.6076748371124268, 0.6076748371124268, 0.6076748371124268, 0.6076748371124268, 0.6076748371124268, 1.1601264476776123, 0.6076748967170715, 0.6076748967170715, 0.6076748967170715, 0.6076748371124268, 0.6076748371124268, 1.1601042747497559, 0.6076748371124268, 0.6076748371124268, 0.6076748371124268, 0.6076748371124268, 0.6076748371124268, 0.6076748371124268, 0.6076748371124268, 0.6076748371124268, 0.6076748371124268, 0.6076748371124268, 0.6076748371124268, 0.6076748371124268, 0.6076748371124268, 0.607681930065155, 0.6076812148094177, 0.6076799035072327, 0.6076790690422058, 0.6076786518096924, 1.1831754446029663, 1.1831754446029663, 1.1831754446029663, 0.619758665561676, 0.6197585463523865, 0.619758665561676, 0.6197585463523865, 0.6197585463523865, 0.6197585463523865, 0.6197585463523865, 0.6197585463523865, 0.6197585463523865, 0.6197585463523865, 0.6197585463523865, 0.6197585463523865, 0.6197585463523865, 0.619758665561676, 0.6197585463523865, 0.6197585463523865, 0.6197585463523865, 0.6197585463523865, 0.6197585463523865, 0.6197585463523865, 0.6197585463523865, 0.6197585463523865, 0.619758665561676, 0.6197585463523865, 0.619758665561676, 0.619758665561676, 0.6197585463523865, 0.6197585463523865, 0.6197585463523865, 0.6197585463523865, 0.6197585463523865, 0.6197585463523865, 0.6197585463523865, 0.6197585463523865, 0.6197585463523865, 0.6197585463523865, 0.6197585463523865, 0.6197585463523865, 0.6197585463523865, 0.6197585463523865, 0.6197585463523865, 0.6197585463523865, 0.6197585463523865, 0.6197585463523865, 0.6197585463523865, 0.6197585463523865, 0.6197585463523865, 0.6197585463523865, 0.6197585463523865, 0.6197585463523865, 0.6197585463523865, 1.1831835508346558, 0.6197585463523865, 0.6197585463523865, 0.6197585463523865, 0.6197585463523865, 0.6197585463523865, 0.6197585463523865, 0.619758665561676, 0.6197585463523865, 0.6197585463523865, 0.6197585463523865, 0.6197585463523865, 0.6197585463523865, 0.619758665561676, 0.6197585463523865, 0.6197585463523865, 0.6197585463523865, 0.6197585463523865, 0.6197585463523865, 0.6197585463523865, 1.1831886768341064, 1.1831820011138916, 1.1831825971603394, 0.6197585463523865, 0.6197585463523865, 0.6197585463523865, 0.6197585463523865, 0.619758665561676, 0.6197585463523865, 0.619758665561676, 0.6197585463523865, 0.6197585463523865, 0.619758665561676, 0.619758665561676, 1.183183193206787, 0.6197585463523865, 0.6197585463523865, 0.6197585463523865, 0.6197585463523865, 0.6197585463523865, 0.6197585463523865, 0.619758665561676, 0.619758665561676, 0.6197585463523865, 0.6197585463523865, 0.6197585463523865, 0.6197585463523865, 0.6197585463523865, 0.6197585463523865, 0.6197585463523865, 0.6197585463523865, 0.6197585463523865, 0.6197585463523865, 0.619758665561676, 0.6197585463523865, 0.6197585463523865, 0.6197585463523865, 0.6197585463523865, 0.6197585463523865, 0.6197585463523865, 0.6197585463523865, 0.6197585463523865, 0.6197585463523865, 0.6197585463523865, 0.6197585463523865, 0.6197585463523865, 0.6197585463523865, 0.6197585463523865, 0.6197585463523865, 0.6197585463523865, 0.6197585463523865, 0.619758665561676, 0.6197585463523865, 0.6197585463523865, 1.7466298341751099, 0.619758665561676, 0.619758665561676, 0.619758665561676, 2.310098648071289, 0.619758665561676, 1.7466697692871094, 0.6197585463523865, 1.1831823587417603, 0.6197585463523865, 0.6197585463523865, 0.6197584867477417, 0.6197585463523865, 0.6197584867477417, 0.6197585463523865, 0.6197585463523865, 0.6197585463523865, 0.6197585463523865, 0.6197585463523865, 0.6197585463523865, 0.6197585463523865, 0.6197585463523865, 0.6197585463523865, 0.6197585463523865, 0.6197585463523865, 0.6197585463523865, 0.6197585463523865, 0.6197585463523865, 0.6197585463523865, 0.6197585463523865, 0.6197585463523865, 0.6197585463523865, 0.6197585463523865, 0.6197585463523865, 0.6197585463523865, 0.6197584867477417, 0.6197585463523865, 0.6197584867477417, 0.6197585463523865, 0.6197584867477417, 0.6197585463523865, 0.6197585463523865, 0.6197585463523865, 0.6197585463523865, 0.6197585463523865, 0.6197585463523865, 0.6197585463523865, 0.6197585463523865, 0.6197585463523865, 0.6197585463523865, 0.6197585463523865, 0.6197585463523865, 0.619758665561676, 0.619758665561676, 0.6197585463523865, 0.6197585463523865, 0.6197585463523865, 0.6197585463523865, 0.6197585463523865, 0.6197585463523865, 0.6197585463523865, 0.6197585463523865, 0.6197585463523865, 0.6197585463523865, 0.6197585463523865, 0.6197585463523865, 0.6197585463523865, 0.6197585463523865, 0.6197585463523865, 0.6197585463523865, 0.6197585463523865, 0.6197585463523865, 0.6197585463523865, 0.6197585463523865, 0.6197585463523865, 0.6197585463523865, 0.6197585463523865, 0.6197585463523865, 0.6197585463523865, 0.6197585463523865, 1.1832157373428345, 0.6197585463523865, 0.6197585463523865, 0.6197585463523865, 0.6197585463523865, 0.6197585463523865, 1.183190107345581, 0.6197585463523865, 1.1831642389297485, 0.6197585463523865, 0.6197585463523865, 0.6197585463523865, 0.6197585463523865, 0.6197585463523865, 0.6197585463523865, 0.6197585463523865, 1.1831599473953247, 0.6197585463523865, 0.6197585463523865, 0.6197585463523865, 0.6197669506072998, 0.6197665929794312, 0.619765043258667, 0.6197642087936401, 0.6197642087936401, 0.6197627782821655, 0.6197624802589417, 0.6197623610496521, 0.6197624802589417, 0.6197621822357178, 0.6197621822357178, 0.6197619438171387, 0.6197618246078491, 0.6197619438171387, 1.2078337669372559, 1.2078337669372559, 1.2078336477279663, 1.2078337669372559, 1.2078337669372559, 0.6326748728752136, 0.6326748728752136, 0.6326748728752136, 0.6326748728752136, 0.6326748728752136, 0.6326748728752136, 0.6326748728752136, 0.6326748728752136, 0.6326748728752136, 0.6326748728752136, 0.6326748728752136, 0.6326748728752136, 0.6326748728752136, 0.6326748728752136, 0.6326748728752136, 0.6326748728752136, 0.6326748728752136, 0.6326748728752136, 0.6326748728752136, 0.6326748728752136, 0.6326748728752136, 0.6326748728752136, 0.6326748728752136, 0.6326748728752136, 0.6326748728752136, 1.207845687866211, 0.6326748728752136, 0.6326748728752136, 0.6326748728752136, 0.6326748728752136, 0.6326748728752136, 0.6326748728752136, 0.6326748728752136, 0.6326748132705688, 0.6326748132705688, 0.6326748132705688, 0.6326748132705688, 0.6326748132705688, 0.6326748132705688, 0.6326748728752136, 0.6326748132705688, 0.6326748132705688, 0.6326748132705688, 0.6326748132705688, 0.6326748132705688, 0.6326748132705688, 0.6326748132705688, 0.6326748132705688, 0.6326748132705688, 0.6326748132705688, 0.6326748132705688, 0.6326748132705688, 0.6326748132705688, 0.6326748132705688, 1.207841396331787, 0.6326748728752136, 0.6326748728752136, 0.6326748132705688, 0.6326748132705688, 2.35823917388916, 0.6326748728752136, 0.6326748728752136, 1.783036231994629, 0.6326748132705688, 0.6326748132705688, 0.6326748132705688, 0.6326748132705688, 0.6326748132705688, 0.6326748132705688, 0.6326748132705688, 0.6326748132705688, 0.6326748132705688, 0.6326748132705688, 0.6326748132705688, 0.6326748132705688, 0.6326748132705688, 0.6326748132705688, 1.2078473567962646, 3.508605718612671, 0.6326748132705688, 0.6326748132705688, 0.6326748132705688, 1.783037543296814, 1.7830252647399902, 1.2078485488891602, 1.2078545093536377, 0.6326748132705688, 0.6326748132705688, 0.6326748132705688, 0.6326748132705688, 1.2078520059585571, 0.6326748132705688, 1.2078622579574585, 1.2078478336334229, 1.2078652381896973, 0.6326748132705688, 0.6326842904090881, 0.6326804161071777, 0.6326797604560852, 0.632679283618927, 0.6326789259910583, 0.6326780915260315, 0.6326778531074524, 0.6326778531074524, 0.6326778531074524, 0.6326776742935181, 0.6326773762702942, 1.2525691986083984, 1.252569317817688, 1.252569317817688, 1.2525691986083984, 1.252569317817688, 1.2525691986083984, 1.2525691986083984, 1.2525691986083984, 1.252569317817688, 1.2525691986083984, 1.2525691986083984, 1.2507089376449585, 0.6561077833175659, 0.6561077833175659, 0.6561077833175659, 0.6561077833175659, 0.6561077833175659, 0.6561077833175659, 0.6561077833175659, 0.6561077833175659, 0.6561077833175659, 0.6561077833175659, 0.6561077833175659, 0.6561077833175659, 0.6561077833175659, 0.6561077833175659, 0.6561077833175659, 0.6561077833175659, 0.6561077833175659, 0.6561077833175659, 0.6561077833175659, 0.6561077833175659, 0.6561077833175659, 0.6561077833175659, 0.6561077833175659, 0.6561077833175659, 0.6561077833175659, 0.6561077833175659, 0.6561077833175659, 0.6561077833175659, 0.6561077833175659, 0.6561077833175659, 0.6561077833175659, 0.6561077833175659, 0.6561077833175659, 0.6561077833175659, 0.6561077833175659, 0.6561077833175659, 0.6561077833175659, 0.6561077833175659, 0.6561077833175659, 1.8490570783615112, 1.2525745630264282, 1.2525714635849, 1.2525811195373535, 1.2525726556777954, 0.6561077237129211, 0.6561077237129211, 0.6561077237129211, 0.6561077237129211, 0.6561077237129211, 0.6561077237129211, 0.6561077237129211, 0.6561077237129211, 0.6561077237129211, 0.6561077237129211, 0.6561077237129211, 0.6561077237129211, 0.6561077237129211, 0.6561077833175659, 0.6561077833175659, 0.6561077833175659, 0.6561077833175659, 0.6561077833175659, 0.6561077833175659, 0.6561077237129211, 0.6561077237129211, 0.6561077237129211, 0.6561077237129211, 0.6561077237129211, 0.6561077237129211, 0.6561077237129211, 4.825079441070557, 3.042058229446411, 0.6561077237129211, 0.6561077237129211, 0.6561077237129211, 0.6561077237129211, 0.6561077237129211, 0.6561077237129211, 0.6561077237129211, 0.6561077237129211, 0.6561077833175659, 0.6561077237129211, 0.6561077237129211, 0.6561077237129211, 0.6561077237129211, 0.6561077237129211, 0.6561077237129211, 0.6561077237129211, 0.6561077237129211, 0.6561077237129211, 0.6561077237129211, 0.6561077237129211, 0.6561077237129211, 0.6561077237129211, 0.6561077237129211, 0.6561077237129211, 0.6561077237129211, 0.6561077237129211, 1.2525800466537476, 1.2525804042816162, 1.2525678873062134, 0.6561077237129211, 0.6561077237129211, 0.6561077237129211, 0.6561077237129211, 0.6561077237129211, 2.4455084800720215, 0.6561077237129211, 0.6561077237129211, 0.6561077237129211, 0.6561077237129211, 0.6561077237129211, 0.6561077237129211, 0.6561077237129211, 0.6561077237129211, 0.6561077237129211, 0.6561077237129211, 0.6561077237129211, 0.6561077237129211, 0.6561077237129211, 0.6561077237129211, 0.6561077237129211, 0.6561077237129211, 0.6561076641082764, 0.6561077237129211, 1.2525897026062012, 1.252564787864685, 1.2525811195373535, 1.252593755722046, 0.6561077237129211, 0.6561077237129211, 0.6561077237129211, 0.6561077237129211, 1.849076747894287, 1.2525575160980225, 1.252575397491455, 1.8490153551101685, 1.252579689025879, 1.2525755167007446, 1.2179791927337646, 1.2179791927337646, 1.2179791927337646, 1.2179791927337646, 1.2179791927337646, 1.2179791927337646, 1.2179791927337646, 0.6379892230033875, 0.6379891037940979, 0.6379891037940979, 0.6379891037940979, 0.6379891037940979, 0.6379891037940979, 0.6379891037940979, 0.6379891037940979, 0.6379891037940979, 0.6379891037940979, 0.6379891037940979, 0.6379891037940979, 0.6379891037940979, 0.6379891037940979, 0.6379891037940979, 0.6379891037940979, 0.6379891037940979, 0.6379891037940979, 0.6379891037940979, 0.6379891037940979, 0.6379891037940979, 0.6379891037940979, 0.6379891037940979, 0.6379891037940979, 0.6379891037940979, 0.6379891037940979, 1.2179843187332153, 1.2179906368255615, 0.6379891037940979, 0.6379891037940979, 1.217983603477478, 1.2179937362670898, 0.6379891037940979, 0.6379891037940979, 1.7980307340621948, 1.2179895639419556, 1.2179884910583496, 1.2179882526397705, 1.2179917097091675, 0.6379891037940979, 1.2179803848266602, 1.7980228662490845, 0.6379891037940979, 0.6379891037940979, 0.6379891037940979, 1.217997431755066, 1.2179878950119019, 1.2179876565933228, 1.2180086374282837, 1.2179865837097168, 0.6379891037940979, 0.6379891037940979, 0.6379891037940979, 0.6379891037940979, 0.6379891037940979, 0.6379891037940979, 1.2179808616638184, 1.217997431755066, 1.218000054359436, 1.2179909944534302, 0.6379891633987427, 0.6379891037940979, 0.6379891037940979, 1.2179909944534302, 0.6379891037940979, 0.6379891037940979, 1.2179826498031616, 1.2179687023162842, 1.1712538003921509, 1.1712538003921509, 1.1712538003921509, 1.1712538003921509, 2.2867448329925537, 0.6135138869285583, 0.6135138869285583, 0.6135139465332031, 0.6135139465332031, 0.6135139465332031, 0.6135138869285583, 0.6135139465332031, 0.6135139465332031, 0.6135139465332031, 0.6135138869285583, 0.6135138869285583, 0.6135138869285583, 0.6135138869285583, 0.6135139465332031, 0.6135139465332031, 0.6135139465332031, 0.6135139465332031, 0.6135139465332031, 0.6135138869285583, 0.6135139465332031, 0.6135139465332031, 0.6135139465332031, 0.6135138869285583, 0.6135139465332031, 0.6135139465332031, 0.6135139465332031, 0.6135138869285583, 0.6135138869285583, 0.6135138869285583, 0.6135138869285583, 0.6135138869285583, 0.6135139465332031, 0.6135138869285583, 0.6135138869285583, 0.6135138869285583, 0.6135139465332031, 0.6135139465332031, 0.6135138869285583, 0.6135138869285583, 0.6135138869285583, 0.6135139465332031, 0.6135139465332031, 0.6135138869285583, 0.6135140061378479, 0.6135138869285583, 0.6135139465332031, 0.6135139465332031, 0.6135138869285583, 0.6135139465332031, 0.6135139465332031, 0.6135139465332031, 0.6135139465332031, 0.6135139465332031, 0.6135139465332031, 0.6135139465332031, 0.6135139465332031, 0.6135138869285583, 0.6135139465332031, 0.6135138869285583, 0.6135138869285583, 0.6135138869285583, 0.6135138869285583, 0.6135138869285583, 0.6135138869285583, 0.6135138869285583, 1.1712605953216553, 0.6135138869285583, 0.6135138869285583, 0.6135139465332031, 0.6135139465332031, 0.6135138869285583, 0.6135139465332031, 0.6135139465332031, 0.6135138869285583, 0.6135139465332031, 0.6135139465332031, 0.6135138869285583, 0.6135138869285583, 0.6135138869285583, 0.6135139465332031, 0.6135138869285583, 0.6135138869285583, 0.6135138869285583, 1.1712594032287598, 1.1712586879730225, 0.6135138869285583, 0.6135138869285583, 0.6135138869285583, 0.6135138869285583, 0.6135139465332031, 0.6135138869285583, 0.6135138869285583, 0.6135138869285583, 0.6135139465332031, 0.6135138869285583, 0.6135139465332031, 0.6135139465332031, 0.6135139465332031, 0.6135139465332031, 1.171259880065918, 0.6135139465332031, 0.6135138869285583, 0.6135138869285583, 0.6135138869285583, 0.6135138869285583, 0.6135138869285583, 0.6135138869285583, 0.6135139465332031, 0.6135138869285583, 0.6135139465332031, 0.6135138869285583, 0.6135138869285583, 0.6135138869285583, 0.6135138869285583, 0.6135139465332031, 0.6135139465332031, 0.6135139465332031, 0.6135138869285583, 0.6135138869285583, 0.6135139465332031, 0.6135139465332031, 0.6135139465332031, 0.6135139465332031, 0.6135139465332031, 0.6135139465332031, 0.6135138869285583, 0.6135138869285583, 0.6135138869285583, 0.6135138869285583, 0.6135138869285583, 0.6135138869285583, 0.6135139465332031, 0.6135139465332031, 0.6135139465332031, 0.6135139465332031, 0.6135139465332031, 0.6135138869285583, 0.6135139465332031, 0.6135138869285583, 0.6135138869285583, 0.6135139465332031, 0.6135139465332031, 0.6135138869285583, 0.6135138869285583, 0.6135138869285583, 0.6135138869285583, 0.6135138869285583, 0.6135138869285583, 0.6135139465332031, 0.6135140061378479, 0.6135139465332031, 0.6135139465332031, 0.6135139465332031, 0.6135139465332031, 0.6135139465332031, 0.6135139465332031, 0.6135138869285583, 0.6135138869285583, 0.6135138869285583, 0.6135138869285583, 0.6135138869285583, 0.6135138869285583, 0.6135138869285583, 0.6135138869285583, 0.6135139465332031, 0.6135138869285583, 0.6135139465332031, 0.6135139465332031, 0.6135138869285583, 1.1712640523910522, 0.6135138869285583, 0.6135138869285583, 0.6135138869285583, 0.6135138869285583, 0.6135138869285583, 0.6135139465332031, 1.7289979457855225, 0.6135138869285583, 0.6135138869285583, 0.6135138869285583, 0.6135138869285583, 1.1712613105773926, 0.6135139465332031, 1.7290440797805786, 0.6135138869285583, 0.6135138869285583, 0.6135139465332031, 0.6135139465332031, 0.6135138869285583, 0.6135139465332031, 0.6135139465332031, 0.6135139465332031, 0.6135138869285583, 0.6135139465332031, 0.6135139465332031, 1.1712783575057983, 0.6135138869285583, 0.6135139465332031, 0.6135139465332031, 0.6135138869285583, 1.171266794204712, 0.6135138869285583, 0.6135138869285583, 0.6135138869285583, 0.6135138869285583, 0.6135138869285583, 0.6135137677192688, 0.6135138869285583, 0.6135138869285583, 1.1712727546691895, 0.6135139465332031, 0.6135138869285583, 0.6135139465332031, 0.6135139465332031, 0.6135139465332031, 0.6135139465332031, 0.6135138869285583, 0.6135138869285583, 0.6135138869285583, 0.6135138869285583, 0.6135139465332031, 0.6135139465332031, 0.6135139465332031, 0.6135137677192688, 0.6135139465332031, 0.6135139465332031, 1.171271800994873, 0.6135138869285583, 1.171280026435852, 0.6135139465332031, 0.6135138869285583, 0.6135139465332031, 0.6135138869285583, 0.6135250329971313, 0.6135234832763672, 0.6135234832763672, 0.6135228872299194, 0.6135216951370239, 0.6135209202766418, 0.6135198473930359, 0.6135193109512329, 0.6135190725326538, 0.6135184168815613, 0.6135185360908508, 0.6135181188583374, 1.206559658050537, 1.206559658050537, 1.206559658050537, 1.206559658050537, 1.7811229228973389, 0.6320075392723083, 0.6320075392723083, 0.6320075392723083, 0.6320075392723083, 0.6320075392723083, 0.6320075392723083, 0.6320075392723083, 0.6320075392723083, 0.6320075392723083, 0.6320075392723083, 0.6320075392723083, 0.6320075392723083, 0.6320075392723083, 0.6320075392723083, 0.6320075392723083, 0.6320075392723083, 0.6320075392723083, 0.6320075392723083, 0.6320075392723083, 0.6320075392723083, 0.6320075392723083, 0.6320075392723083, 0.6320075392723083, 0.6320075392723083, 0.6320075392723083, 0.6320075392723083, 0.6320075392723083, 0.6320075392723083, 0.6320075392723083, 0.6320075392723083, 0.6320075392723083, 0.6320075392723083, 0.6320074200630188, 0.6320074200630188, 0.6320074200630188, 0.6320074200630188, 0.6320074200630188, 0.6320074200630188, 0.6320074200630188, 0.6320074200630188, 0.6320074200630188, 0.6320074200630188, 0.6320074200630188, 0.6320074200630188, 0.6320074200630188, 0.6320074200630188, 0.6320074200630188, 0.6320074200630188, 0.6320074200630188, 0.6320074200630188, 0.6320074200630188, 0.6320074200630188, 0.6320074200630188, 0.6320074200630188, 0.6320074200630188, 0.6320075392723083, 0.6320075392723083, 0.6320075392723083, 0.6320075392723083, 0.6320075392723083, 0.6320075392723083, 0.6320075392723083, 0.6320075392723083, 0.6320075392723083, 1.7811448574066162, 1.2065719366073608, 1.2054980993270874, 0.6320075392723083, 0.6320075392723083, 1.2065622806549072, 1.2065680027008057, 1.206565022468567, 1.206561803817749, 1.7811212539672852, 0.6320075392723083, 0.6320075392723083, 0.6320075392723083, 0.6320075392723083, 1.2065658569335938, 0.6320075392723083, 0.6320075392723083, 0.6320075392723083, 0.6320075392723083, 0.6320075392723083, 0.6320075392723083, 0.6320075392723083, 0.6320075392723083, 4.0768513679504395, 0.6320075392723083, 0.6320075392723083, 0.6320075392723083, 0.6320075392723083, 0.6320075392723083, 0.6320075392723083, 0.6320075392723083, 0.6320075392723083, 0.6320074200630188, 0.6320074200630188, 0.6320074200630188, 0.6320074200630188, 0.6320074200630188, 0.6320074200630188, 0.6320074200630188, 0.6320074200630188, 0.6320074200630188, 0.6320075392723083, 1.2065588235855103, 1.2065715789794922, 0.6320074200630188, 0.6320074200630188, 0.6320074200630188, 0.6320074200630188, 0.6320074200630188, 0.6320074200630188, 0.6320074200630188, 0.6320074200630188, 0.6320074200630188, 1.2054994106292725, 0.6320074200630188, 0.6320074200630188, 0.6320074200630188, 2.930272102355957, 0.6320074200630188, 0.6320074200630188, 1.7811537981033325, 0.6320074200630188, 0.6320074200630188, 0.6320074200630188, 0.6320075392723083, 0.6320074200630188, 0.6320074200630188, 0.6320074200630188, 0.6320074200630188, 0.6320074200630188, 0.6320074200630188, 0.6320074200630188, 1.2065763473510742, 1.2065831422805786, 0.6320074200630188, 0.6320074200630188, 0.6320074200630188, 0.6320074200630188, 0.6320074200630188, 0.6320074200630188, 0.6320074200630188, 0.6320074200630188, 0.6320074200630188, 0.6320074200630188, 0.6320074200630188, 0.6320074200630188, 0.6320074200630188, 0.6320074200630188, 0.6320074200630188, 0.6320074200630188, 0.6320074200630188, 0.6320074200630188, 0.6320074200630188, 0.6320074200630188, 0.6320074200630188, 0.6320074200630188, 0.6320074200630188, 0.6320074200630188, 0.6320074200630188, 0.6320074200630188, 0.6320074200630188, 0.6320074200630188, 0.6320074200630188, 0.6320074200630188, 0.6320074200630188, 0.6320074200630188, 0.6320074200630188, 0.6320074200630188, 1.2065660953521729, 0.6320074200630188, 1.2065660953521729, 0.6320074200630188, 0.632007360458374, 0.632007360458374, 1.2065316438674927, 0.6320074200630188, 1.2065223455429077, 0.6320074200630188, 0.6320074200630188, 0.6320074200630188, 0.6320074200630188, 0.6320074200630188, 0.6320074200630188, 0.6320074200630188, 0.6320074200630188, 0.692468523979187, 0.6320074200630188, 0.6320074200630188, 0.6320074200630188, 0.6320074200630188, 0.6669859886169434, 0.6320153474807739, 0.6320148706436157, 1.205283522605896, 1.205283522605896, 1.205283522605896, 0.6313390731811523, 0.6313390731811523, 0.6313390731811523, 0.6313390731811523, 0.6313390731811523, 0.6313390731811523, 0.6313390731811523, 0.6313390731811523, 0.6313390731811523, 0.6313390731811523, 0.6313390731811523, 0.6313390731811523, 0.6313390731811523, 0.6313390731811523, 0.6313390731811523, 0.6313390731811523, 0.6313390731811523, 0.6313390731811523, 0.6313390731811523, 0.6313390731811523, 0.6313390731811523, 0.6313390731811523, 0.6313390731811523, 0.6313390731811523, 0.6313390731811523, 0.6313390731811523, 0.6313390731811523, 0.6313390731811523, 0.6313390731811523, 0.6313390731811523, 0.6313390731811523, 0.6313390731811523, 0.6313390731811523, 0.6313390731811523, 0.6313390731811523, 0.6313390731811523, 0.6313390731811523, 0.6313390731811523, 0.6313390731811523, 0.6313390731811523, 0.6313390731811523, 0.6313390731811523, 0.6313390731811523, 0.6313390731811523, 0.6313390731811523, 0.6313390731811523, 0.6313390731811523, 1.2052890062332153, 0.6313390135765076, 0.6313390135765076, 0.6313390135765076, 0.6313390135765076, 0.6313390731811523, 0.6313390135765076, 0.6313390731811523, 0.6313390135765076, 0.6313389539718628, 0.6313390135765076, 0.6313390135765076, 0.6313390135765076, 0.6313390135765076, 0.6313390135765076, 0.6313390135765076, 0.6313390135765076, 0.6313390135765076, 0.6313390135765076, 0.6313390135765076, 0.6313390135765076, 0.6313390135765076, 0.6313390135765076, 0.6313390731811523, 0.6313390731811523, 0.6313390731811523, 0.6313390731811523, 1.20529043674469, 1.2052881717681885, 0.6313390135765076, 0.6313390135765076, 0.6313390135765076, 0.6313390731811523, 0.6313390731811523, 0.6313390731811523, 0.6313390135765076, 0.6313390135765076, 0.6313390135765076, 0.6313390135765076, 0.6313390135765076, 0.6313390135765076, 0.6313390135765076, 0.6313390135765076, 0.6313390135765076, 0.6313390135765076, 0.6313390731811523, 0.6313390135765076, 0.6313390135765076, 0.6313390135765076, 0.6313390135765076, 0.6313390135765076, 0.6313390135765076, 0.6313390135765076, 0.6313390135765076, 0.6313390135765076, 0.6313390135765076, 0.6313390135765076, 0.6313389539718628, 0.6313390731811523, 0.6313390135765076, 0.6313390135765076, 0.6313390135765076, 0.6313390135765076, 0.6313390135765076, 0.6313390135765076, 0.6313390135765076, 0.6313390135765076, 0.6313390135765076, 0.6313390135765076, 0.6313390135765076, 0.6313390135765076, 0.6313390135765076, 0.6313390135765076, 0.6313390135765076, 0.6313390731811523, 0.6313390135765076, 0.6313390135765076, 0.6313390135765076, 0.6313390731811523, 1.779259443283081, 0.6313390135765076, 0.6313390135765076, 0.6313390135765076, 0.6313390135765076, 0.6313390135765076, 0.6313390135765076, 0.6313390731811523, 0.6313390135765076, 0.6313390135765076, 0.6313390135765076, 0.6313390135765076, 0.6313390135765076, 0.6313390135765076, 0.6313390135765076, 0.6313390135765076, 0.6313390135765076, 0.6313390135765076, 0.6313390135765076, 0.6313390135765076, 0.6313390135765076, 0.6313390135765076, 0.6313390135765076, 0.6313390135765076, 0.6313390135765076, 0.6313390135765076, 0.6313390135765076, 1.205294132232666, 2.927170753479004, 1.2052955627441406, 0.6313390135765076, 0.6313390135765076, 0.6313390135765076, 0.6313390135765076, 0.6313390135765076, 0.6313390135765076, 0.6313390135765076, 0.6313390135765076, 0.6313390731811523, 0.6313390135765076, 0.6313390135765076, 0.6313390135765076, 0.6313390135765076, 0.6313390135765076, 0.6313390135765076, 0.6313390135765076, 0.6313390135765076, 0.6313390135765076, 0.6313389539718628, 0.6313390135765076, 0.6313390135765076, 0.6313390135765076, 0.6313390731811523, 0.6313390135765076, 0.6313390135765076, 0.6313390135765076, 0.6313390135765076, 1.2053042650222778, 1.2052979469299316, 1.2052967548370361, 0.6313390135765076, 0.6313390135765076, 0.6313390135765076, 0.6313390135765076, 1.205295205116272, 0.6313390135765076, 0.6313390135765076, 1.7792317867279053, 1.2052903175354004, 1.205297827720642, 0.6313390135765076, 0.6313390135765076, 0.6313390135765076, 0.6313390135765076, 0.6313390135765076, 0.6313390135765076, 0.6313390135765076, 0.6313390731811523, 0.6313390135765076, 0.6313387751579285, 0.6313390135765076, 0.6313390135765076, 0.6313390731811523, 0.6313469409942627, 0.6313464641571045, 0.6313449740409851, 0.6313444375991821, 0.6313433647155762, 0.6313433647155762, 0.6313425898551941, 0.6313425898551941, 0.6313422918319702, 0.6313419938087463, 0.6313419938087463, 0.6313418745994568, 0.6313415765762329, 1.1995346546173096, 1.1995346546173096, 1.1995346546173096, 1.1995346546173096, 1.1995346546173096, 1.1970255374908447, 1.1970255374908447, 1.770757794380188, 0.6283276677131653, 0.6283276677131653, 0.6283276677131653, 0.6283276677131653, 0.6283276677131653, 0.6283276677131653, 0.6283276677131653, 0.6283276677131653, 0.6283276677131653, 0.6283276677131653, 0.6283276677131653, 0.6283276677131653, 0.6283276677131653, 0.6283276677131653, 0.6283276677131653, 0.6283276677131653, 0.6283276677131653, 0.6283276677131653, 0.6283276677131653, 0.6283276677131653, 0.6283276677131653, 0.6283276677131653, 0.6283276677131653, 0.6283276677131653, 0.6283276677131653, 0.6283276677131653, 0.6283276677131653, 0.6283276677131653, 0.6283276677131653, 0.6283276677131653, 0.6283276677131653, 0.6283276677131653, 0.6283276677131653, 0.6283276677131653, 0.6283276677131653, 0.6283276677131653, 0.6283276677131653, 0.6283276677131653, 0.6283276677131653, 0.6283276677131653, 0.6283276677131653, 0.6283276677131653, 0.6283276677131653, 0.6283276677131653, 1.1995470523834229, 0.6283276677131653, 0.6283276677131653, 0.6283276677131653, 0.6283276677131653, 1.1995415687561035, 1.199548363685608, 1.1995400190353394, 0.6283276677131653, 1.1995413303375244, 0.6283276677131653, 0.6283276677131653, 0.6283276677131653, 0.6283276081085205, 0.6283276081085205, 0.6283276677131653, 0.6283276677131653, 0.6283276677131653, 0.6283276677131653, 0.6283276677131653, 0.6283276677131653, 0.6283276677131653, 1.1995435953140259, 0.6283276081085205, 0.6283276677131653, 0.6283276081085205, 0.6283276677131653, 0.6283276677131653, 1.1995502710342407, 1.1995495557785034, 0.6283276677131653, 0.6283276677131653, 0.6283276677131653, 0.6283276677131653, 0.6283276677131653, 0.6283276677131653, 0.6283276081085205, 1.1995443105697632, 0.6283276081085205, 0.6283276677131653, 0.6283276677131653, 0.6283276677131653, 0.6283276677131653, 0.6283276677131653, 0.6283276677131653, 0.6283276677131653, 0.6283276677131653, 0.6283276677131653, 0.6283276677131653, 0.6283276677131653, 0.6283276677131653, 1.7707574367523193, 0.6283276677131653, 0.6283276677131653, 0.6283276677131653, 0.6283276677131653, 0.6283276677131653, 0.6283276677131653, 0.6283276081085205, 0.6283276677131653, 0.6283276677131653, 0.6283276677131653, 0.6283276677131653, 0.6283276081085205, 0.6283276677131653, 0.6283276677131653, 0.6283276677131653, 0.6283276677131653, 0.6283276677131653, 1.19955313205719, 0.6283276677131653, 0.6283276677131653, 0.6283276677131653, 1.7334587574005127, 0.6283276677131653, 1.7707971334457397, 0.6283276677131653, 0.6283276677131653, 0.6283276677131653, 0.6283276677131653, 0.6283276677131653, 0.6283276677131653, 0.6283276677131653, 0.6283276677131653, 0.6283276677131653, 0.6283276677131653, 0.6283276677131653, 0.6283276677131653, 0.6283276677131653, 0.6283276677131653, 0.6283276677131653, 0.6283276677131653, 0.6283276677131653, 0.6283276677131653, 0.6283276677131653, 0.6283276677131653, 0.6283276677131653, 0.6283276677131653, 0.6283276677131653, 0.6283276677131653, 0.6283276677131653, 0.6283276677131653, 0.6283276677131653, 0.6283276677131653, 0.6283276677131653, 0.6283276677131653, 0.6283276677131653, 1.770762324333191, 1.1995607614517212, 0.6283276677131653, 0.6283276677131653, 0.6283276677131653, 1.1995769739151, 0.6283276677131653, 1.1369307041168213, 0.6283276677131653, 0.6283276677131653, 0.6283276677131653, 0.6283276677131653, 0.6283276677131653, 0.6283276677131653, 0.6283276677131653, 0.6283276677131653, 0.6283276677131653, 0.6283276677131653, 0.6283276677131653, 0.6283386945724487, 0.6283381581306458, 0.6283339858055115, 0.6283339262008667, 0.6283320188522339], \"Term\": [\"wiener\", \"wien\", \"apple\", \"gehen\", \"drei\", \"sp\\u00f6\", \"\\u00f6sterreich\", \"athen\", \"\\u2013\", \"google\", \"zur\\u00fcck\", \"deutsche\", \"deutscher\", \"faymann\", \"juni\", \"fp\\u00f6\", \"kauft\", \"zwei\", \"belastet\", \"bundestag\", \"kurz\", \"macht\", \"tote\", \"vs\", \"neues\", \"mehr\", \"bringt\", \"gr\\u00fcne\", \"immer\", \"miklleitner\", \"athen\", \"s\\u00fcdkorea\", \"fest\", \"tsipras\", \"razzia\", \"immer\", \"west\", \"x\", \"vertreiben\", \"wing\", \"kinderwunsch\", \"os\", \"hauses\", \"el\", \"capitanvorschau\", \"apps\", \"\\u00fcberwachen\", \"massiv\", \"saudiarabien\", \"gchq\", \"verhandeln\", \"tage\", \"alexis\", \"nachgeben\", \"internetgeschwindigkeit\", \"hinkt\", \"mai\", \"gesucht\", \"demenzrisiko\", \"schickimicki\", \"indonesien\", \"jungfr\\u00e4ulichkeitstests\", \"milit\\u00e4r\", \"bitrate\", \"asylstopp\", \"m\\u00e4chtigste\", \"geteiltes\", \"posting\", \"amtsmissbrauch\", \"maximale\", \"match\", \"fp\\u00f6bezirksgruppe\", \"sch\\u00f6nberg\", \"verteidigt\", \"merstoten\", \"schwertsik\", \"fu\\u00dfballfelder\", \"chronisch\", \"gef\\u00e4hrden\", \"nerven\", \"verkehrsfl\\u00e4che\", \"w\\u00e4chst\", \"k\\u00fcnftig\", \"lightning\", \"unerf\\u00fcllter\", \"feuern\", \"socialmediaaktivit\\u00e4ten\", \"sexaff\\u00e4re\", \"strausskahn\", \"evakuiert\", \"glasfaserkabel\", \"lateinamerika\", \"vernetzen\", \"\\u00fcbersteht\", \"entschl\\u00fcsselung\", \"exzentrik\", \"hanspeter\", \"leogang\", \"riesige\", \"griechen\", \"gl\\u00e4ubiger\", \"versuch\", \"reifepr\\u00fcfung\", \"trennkost\", \"h\\u00e4lfte\", \"friss\", \"di\\u00e4ten\", \"nabucco\", \"abzuwenden\", \"frauenleiche\", \"siebenten\", \"ungeliebter\", \"faymann\", \"linz\", \"tablets\", \"extras\", \"achtung\", \"d\\u00fcrfte\", \"burg\", \"verpasst\", \"milliardenstrafe\", \"kanada\", \"cut\", \"batterien\", \"handlanger\", \"pr\\u00fcfstand\", \"hypoabschlusspr\\u00fcfer\", \"koalition\\u00e4re\", \"benutzen\", \"geschichteprojekt\", \"tokio\", \"fundb\\u00fcro\", \"d\\u00fcrfen\", \"verf\\u00fcgbar\", \"project\", \"music\", \"frauen\", \"wiesberger\", \"wwdc\", \"jemenitische\", \"streaming\", \"rivalen\", \"gerhard\", \"niedriger\", \"sp\\u00f6gesch\\u00e4ftsf\\u00fchrer\", \"verlieren\", \"appleauftrag\", \"chiphersteller\", \"ams\", \"gasriesen\", \"stahlen\", \"rebellenf\\u00fchrer\", \"strategie\", \"arbeitslose\", \"gelingt\", \"merlicekgrossebner\", \"werber\", \"trag\\u00f6dien\", \"ging\", \"helden\", \"fu\\u00dfball\", \"wei\\u00dfrussen\", \"emails\", \"copreise\", \"irak\", \"enttabuisiert\", \"kooperation\", \"twitter\", \"\\u00f6sterreich\", \"gest\\u00e4rkt\", \"kronprinz\", \"verloren\", \"krank\", \"michael\", \"landeshauptleute\", \"prostitution\", \"legen\", \"oszeukrainesondergesandter\", \"agentur\", \"aupairs\", \"blendet\", \"auktion\", \"kurt\", \"livenachrichten\", \"apple\", \"buchs\", \"besonders\", \"whatsappservice\", \"wochenlang\", \"darabos\", \"uskonzerne\", \"schande\", \"hamas\", \"pal\\u00e4stinensischer\", \"wei\\u00dfen\", \"johannes\", \"waffenlieferungen\", \"t\\u00e4glich\", \"studentenheime\", \"ak\", \"marokko\", \"angriff\", \"nudeln\", \"bilanz\", \"geisterfahrer\", \"geldgeber\", \"verweste\", \"starb\", \"schwung\", \"frequenzauktion\", \"bietgefecht\", \"kroatien\", \"hakenkreuz\", \"belastungen\", \"modulares\", \"warum\", \"facebook\", \"horten\", \"\\u00f6sterreicher\", \"ende\", \"oft\", \"kepler\", \"technology\", \"geldreserven\", \"flei\\u00dfige\", \"dicke\", \"bundestagsrechnern\", \"hofinger\", \"neuer\", \"usnotenbank\", \"nullzins\", \"miklleitner\", \"europa\", \"deutscher\", \"zeigt\", \"h\\u00e4lt\", \"mehr\", \"\\u2013\", \"russland\", \"gibt\", \"millionen\", \"neue\", \"geht\", \"vier\", \"fp\\u00f6\", \"spotify\", \"suttner\", \"fair\", \"swift\", \"monate\", \"kunst\", \"bilderberger\", \"kauft\", \"jagdsaison\", \"falschen\", \"verd\\u00e4chtiger\", \"chefredakteure\", \"touristen\", \"dead\", \"festgenommen\", \"sieg\", \"eint\", \"lacht\", \"mazedoniens\", \"lager\", \"telfs\", \"falschgeld\", \"large\", \"hadron\", \"musikdienst\", \"halbe\", \"wut\", \"arbeitsamt\", \"verbindung\", \"ausbildung\", \"verfeindete\", \"demonstration\", \"games\", \"geoblocking\", \"toni\\u00b4s\", \"prozess\", \"freilandeier\", \"androidsmartphone\", \"s\\u00fc\\u00dfeste\", \"rasant\", \"verdauen\", \"woolly\", \"yoshis\", \"konzentriert\", \"schwellenl\\u00e4ndern\", \"holen\", \"konzerne\", \"nottinghamachtelfinale\", \"chile\", \"windbichler\", \"beginn\", \"f\\u00e4r\\u00f6ern\", \"grindwale\", \"abschied\", \"redezeit\", \"kopf\", \"neuseelands\", \"epigenetische\", \"meteoriten\", \"findet\", \"collider\", \"\\u00fcberall\", \"vererbung\", \"halten\", \"verd\\u00e4chtige\", \"sichergestellt\", \"world\", \"chef\", \"s\\u00fcdafrika\", \"erdogan\", \"gewinnen\", \"pazifik\", \"wittgensteinpreis\", \"programmiersprache\", \"source\", \"longchampchef\", \"beikost\", \"taylor\", \"christies\", \"einander\", \"filme\", \"chinesischer\", \"andritz\", \"fisch\", \"entschieden\", \"sothebys\", \"dezember\", \"wann\", \"namen\", \"innerem\", \"zen\", \"runde\", \"konkurs\", \"geschenk\", \"ehepaar\", \"smarttvs\", \"kleiner\", \"kennewickmannes\", \"gelesen\", \"passende\", \"milliarde\", \"langen\", \"tasche\", \"poststreik\", \"unruhe\", \"windeln\", \"vs\", \"get\\u00f6tet\", \"mexiko\", \"bitcoingeldautomat\", \"morrison\", \"tabak\", \"ingolstadt\", \"durchgehend\", \"yadon\", \"nachbesserungen\", \"markus\", \"\\u00f6vplandeschefs\", \"niemand\", \"cassegrain\", \"baumeister\", \"blatternachfolge\", \"verwandelt\", \"grenzposten\", \"evolutionsbiologin\", \"pal\\u00e4stinenserregierung\", \"bbc\", \"zukunft\", \"tief\", \"partie\", \"passionsspiel\", \"journalisten\", \"gestohlene\", \"schwierige\", \"traunsee\", \"fischsauce\", \"use\", \"news\", \"byzantinistin\", \"verbarrikadiert\", \"blicken\", \"jurassic\", \"schlund\", \"startet\", \"soulschamanen\", \"spotlight\", \"papierkram\", \"einreichplanung\", \"flats\", \"pochen\", \"plo\", \"folgenreiche\", \"albanerparteichef\", \"satte\", \"danube\", \"vorarlberg\", \"eu\", \"wechselt\", \"minilabor\", \"nationalbibliothek\", \"hellseher\", \"beschlagnahmte\", \"hergestellt\", \"wien\", \"debatten\", \"aufnehmen\", \"reisegesch\\u00e4ft\", \"kuoni\", \"snowden\", \"reformiert\", \"nsadatenspeicherung\", \"pucken\", \"drei\", \"erwachsene\", \"gartenteich\", \"ultimatum\", \"letztes\", \"reformiertenkirche\", \"installiert\", \"welpenh\\u00e4ndlerpaar\", \"rausgehauen\", \"macht\", \"g\\u00e4hnen\", \"wuchs\", \"wellensittiche\", \"tastatur\", \"blackberry\", \"apple\", \"oasen\", \"penistransplantation\", \"dxo\", \"userfotos\", \"persische\", \"iran\", \"kindermode\", \"ma\\u00dfnahme\", \"tages\", \"risiko\", \"hopfen\", \"wildfr\\u00f6sche\", \"schl\\u00e4gt\", \"premier\", \"vater\", \"gewinnt\", \"handy\", \"nato\", \"ablinger\", \"jemen\", \"googles\", \"powershell\", \"klopp\", \"bildm\\u00e4chtig\", \"koopkarriere\", \"cars\", \"ausl\\u00f6sen\", \"homer\", \"marge\", \"scheiden\", \"simpson\", \"legovideospiel\", \"penissen\", \"auftritte\", \"abgrund\", \"festivals\", \"walls\", \"sporting\", \"schockiert\", \"facebookcommunity\", \"entfernt\", \"nummer\", \"asylpartei\", \"s\\u00fcdchinesischen\", \"gitarre\", \"bed\\u00e4chtig\", \"\\u00f6sterreichische\", \"genderdebatte\", \"sahara\", \"elinor\", \"mayainschrift\", \"nigeria\", \"burkett\", \"magers\\u00fcchtige\", \"gedanken\", \"artmann\", \"c\", \"h\", \"aufgabe\", \"ersetzen\", \"ipad\", \"offroadrennen\", \"laptop\", \"eingriff\", \"finanzieren\", \"pornhub\", \"entzifferung\", \"liegen\", \"grenzen\", \"erbgut\", \"amnestyvorw\\u00fcrfe\", \"ignoranten\", \"ametsreiter\", \"ermittlungen\", \"signal\", \"albanien\", \"moonshot\", \"gratiswlan\", \"fl\\u00e4chendeckendes\", \"ungenauigkeit\", \"verschaffen\", \"abh\\u00f6ren\", \"eingestellt\", \"p\\u00e4dophile\", \"ana\", \"friedensgespr\\u00e4che\", \"dach\", \"ringb\\u00e4ckerei\", \"nord\", \"sachs\", \"ausschuss\", \"november\", \"forschung\", \"diskussion\", \"mal\", \"ratingausblick\", \"sp\", \"tv\", \"smarttvsystem\", \"kan\\u00e4le\", \"neuzug\\u00e4ngen\", \"\\u00e4rztetage\", \"hielt\", \"verdurstet\", \"techbranche\", \"cook\", \"omv\", \"arbeitszeit\", \"weltraum\", \"pornodreh\", \"zweiter\", \"stelle\", \"na\", \"gesundheitswissen\", \"meer\", \"essen\", \"bed\\u00fcrfnisse\", \"liegt\", \"ussuchliste\", \"gazprom\", \"zusammenarbeit\", \"baustellen\", \"hinterl\\u00e4sst\", \"pal\\u00e4stina\", \"euausl\\u00e4nder\", \"landgewinnung\", \"lieferservice\", \"schriftsteller\", \"stress\", \"beginnt\", \"bankern\", \"data\", \"jobbatical\", \"b\\u00fcrozellen\", \"arbeiten\", \"chance\", \"trolle\", \"panik\", \"explosionen\", \"ebola\", \"pakt\", \"diktators\", \"kasachischen\", \"tim\", \"initiative\", \"carmena\", \"deutsche\", \"uspr\\u00e4sidentbewerber\", \"websuche\", \"schwulenpaar\", \"sp\\u00f6\", \"rosberg\", \"fp\\u00f6\", \"vox\", \"bringt\", \"pro\", \"lulu\", \"dominiert\", \"sozialhilfe\", \"bubendetektive\", \"russischer\", \"gew\\u00e4hlt\", \"crowdfunding\", \"lernen\", \"goldman\", \"berufungsverfahren\", \"stundentage\", \"trab\", \"oscar\", \"pistorius\", \"wahlumfragen\", \"sch\\u00fctzi\", \"ausgetr\\u00e4umt\", \"parteirebell\", \"offenbar\", \"ludvik\", \"legospielzeugfigur\", \"revanche\", \"burger\", \"kerners\", \"nina\", \"markenschutz\", \"geschichte\", \"stundenwoche\", \"todesf\\u00e4lle\", \"gewerkschaft\", \"hitzige\", \"weltmuseum\", \"cup\", \"hoffnung\", \"feministische\", \"vorbereitung\", \"gr\\u00fcnwei\\u00df\", \"sodbrennen\", \"tschechischer\", \"t\\u00fcrkei\", \"vaculik\", \"umgehen\", \"vorbilder\", \"weibliche\", \"king\", \"jubelt\", \"erdo\\u011fan\", \"denkzettel\", \"hamilton\", \"fleischfressern\", \"peilt\", \"tvwoche\", \"ebenen\", \"weiteres\", \"nimmt\", \"negativ\", \"wappnen\", \"cyberattacken\", \"unternehmen\", \"rest\", \"b\\u00fcrgermeisterin\", \"pflanzen\", \"genforschung\", \"indignadoskandidatin\", \"bitte\", \"auszeit\", \"virtuellen\", \"scheiterte\", \"hilf\", \"formelboliden\", \"geht\", \"ssh\", \"positives\", \"lokalwahlen\", \"eugh\", \"eingschr\\u00e4nkte\", \"macht\", \"praktikanten\", \"apple\", \"passierte\", \"weisungsrecht\", \"nudelverbot\", \"folgt\", \"hei\\u00dfen\", \"kaltfront\", \"ministerrat\", \"neue\", \"streamingdienst\", \"yogaclip\", \"beteiligen\", \"regierung\", \"usa\", \"deutschland\", \"pleite\", \"handy\", \"spezielle\", \"gestorben\", \"tun\", \"sehe\", \"\\u00e4ndern\", \"f\\u00fchrt\", \"fl\\u00fcchtlingen\", \"ober\\u00f6sterreich\", \"anschluss\", \"seid\", \"\\u00f6konom\", \"staat\", \"wirtschaft\", \"hilft\", \"privatsendung\", \"jugendliche\", \"k\\u00f6nnten\", \"pr\\u00e4sidentenbewerber\", \"rauscher\", \"misik\", \"haiangriffen\", \"j\\u00e4hrliche\", \"aufgehoben\", \"aslan\", \"museum\", \"auslieferung\", \"beschluss\", \"pr\\u00fcfstein\", \"made\", \"bedrohen\", \"drohnen\", \"tiere\", \"datenl\\u00f6schungen\", \"dinner\", \"ostseekreuzfahrt\", \"h\\u00fcrden\", \"veteranen\", \"jeans\", \"pes\", \"kommen\", \"stunden\", \"orfstruktur\", \"passagiermaschinen\", \"kollateralfragen\", \"milliardenfache\", \"enth\\u00fcllt\", \"nachts\", \"thronesfinale\", \"stehen\", \"starthilfe\", \"robovogel\", \"aufbruch\", \"roboschabe\", \"schalke\", \"schwerwiegenden\", \"konfisziert\", \"wichtigster\", \"westen\", \"putins\", \"feind\", \"zinsflaute\", \"steuerbelastungen\", \"tonnenweise\", \"jahrzehntealtes\", \"spoiler\", \"triumph\", \"anleger\", \"andromeda\", \"fleisch\", \"oecd\", \"galaxie\", \"autobahn\", \"verhindert\", \"google\", \"neuerungen\", \"fu\\u00dfballsimulation\", \"juni\", \"mittwoch\", \"chromium\", \"schlichtungsstelle\", \"lauschangriff\", \"game\", \"bef\\u00fcrchten\", \"effect\", \"\\u00e4rger\", \"mass\", \"paradigmenwechsel\", \"bereits\", \"kandidatin\", \"million\\u00e4rfrage\", \"biegt\", \"eis\", \"neue\", \"vidal\", \"entt\\u00e4uschte\", \"reisende\", \"zwei\", \"\\u2013\", \"derstandardat\", \"russland\", \"capello\", \"uruguay\", \"kritische\", \"l\\u00fccke\", \"gibt\", \"werkzeugkiste\", \"wechselt\", \"euro\", \"griechenland\", \"verursacht\", \"bleibt\", \"clinton\", \"frankreich\", \"scheitert\", \"start\", \"open\", \"krebs\", \"premier\", \"wochen\", \"usa\", \"europa\", \"watch\", \"ganz\", \"euwettbewerbsverfahren\", \"dritte\", \"seit\", \"rom\", \"pr\\u00e4sidentin\", \"kritik\", \"grexit\", \"blick\", \"europas\", \"offtopicforum\", \"le\", \"mans\", \"manifests\", \"daumen\", \"drogenprozess\", \"lotste\", \"berlin\", \"einheitliche\", \"england\", \"navi\", \"bndgel\\u00e4nde\", \"zentralmatura\", \"zeiten\", \"unsicheren\", \"fehlgeleitet\", \"fu\\u00dfg\\u00e4nger\", \"barroso\", \"unsichtbare\", \"richterlicher\", \"radioaktiver\", \"flugger\\u00e4te\", \"rindt\", \"gemeinden\", \"hilfsmittel\", \"jochen\", \"iqtests\", \"schr\\u00e4nkt\", \"vorfall\", \"livestream\", \"chris\", \"ergebnis\", \"evans\", \"rassistischen\", \"zauberphantom\", \"spsitzung\", \"harter\", \"strafzettel\", \"gemeinsam\", \"gott\", \"gr\\u00fcne\", \"jahren\", \"steiermark\", \"ggegner\", \"protest\", \"funkstille\", \"syriens\", \"seitens\", \"st\\u00fchlen\", \"beraten\", \"weniger\", \"unis\", \"arbeiterkinder\", \"expr\\u00e4sidenten\", \"nishikori\", \"thomas\", \"sabo\", \"rose\", \"sturmgrazspieler\", \"homophobie\", \"regierungschefin\", \"d\\u00fcrre\", \"sch\\u00e4men\", \"kontrollieren\", \"menschenlos\", \"beschr\\u00e4nkungen\", \"ubahn\", \"gro\\u00dfen\", \"fallout\", \"bethesda\", \"epressekonferenz\", \"wien\", \"zur\\u00fcck\", \"rekordstrafe\", \"streamingservice\", \"abschreckende\", \"gefordert\", \"ortskaiser\", \"sonymusicchef\", \"heute\", \"apples\", \"greifen\", \"jeremy\", \"top\", \"morgenrituale\", \"gear\", \"dbb\", \"eigenen\", \"nachfolger\", \"schiffsungl\\u00fcck\", \"zipfer\", \"vermisst\", \"landestheater\", \"athener\", \"staatsbankrottoptionen\", \"freiheit\", \"mubaraks\", \"saudileaks\", \"leitet\", \"israel\", \"letzte\", \"steuerreform\", \"multilinguale\", \"zeitungen\", \"verl\\u00e4ngerten\", \"grad\", \"inseratenwahn\", \"\\u2013\", \"oper\", \"fahrerlos\", \"identit\\u00e4rendemo\", \"k\\u00e4mpferin\", \"mittelschicht\", \"tiananmen\", \"peter\", \"usunternehmen\", \"metallica\", \"begr\\u00e4bnis\", \"eigene\", \"regelung\", \"euplan\", \"kostenpflichtig\", \"dienstag\", \"weltweit\", \"jeansgilet\", \"trodat\", \"china\", \"the\", \"wegen\", \"japan\", \"paperwhite\", \"spielende\", \"grenzsch\\u00fctzer\", \"kommaustria\", \"mehr\", \"gehen\", \"ab\", \"wiener\", \"google\", \"vier\", \"mailand\", \"stuttgart\", \"app\", \"kosten\", \"belgische\", \"justiz\", \"\\u00f6sv\", \"bergsteigerin\", \"\\u00f6ffentlichen\", \"aufrecht\", \"pond\", \"k\\u00f6pfen\", \"migr\\u00e4ne\", \"mehreren\", \"saudiarabisches\", \"badawi\", \"gericht\", \"urteil\", \"k\\u00fcnstliche\", \"labor\", \"rattenpfote\", \"usforscher\", \"badehose\", \"umek\", \"hotellerie\", \"song\", \"baut\", \"gr\\u00f6\\u00dfenwahn\", \"schnell\", \"steil\", \"erpressungsversuch\", \"klaus\", \"funkt\", \"one\", \"alter\", \"wehsely\", \"abbauarbeiten\", \"haidermaurer\", \"schelling\", \"gestoppt\", \"auswahlshow\", \"tote\", \"angek\\u00fcndigt\", \"druck\", \"gut\", \"kritisiert\", \"hcb\", \"steuerreform\", \"erneut\", \"knights\", \"conwert\", \"contest\", \"dollar\", \"bringt\", \"the\", \"sieht\", \"h\\u00e4lt\", \"erfolgreichstes\", \"gelsen\", \"melbourne\", \"malaysiaairlinesmaschine\", \"sammelt\", \"kickstartergame\", \"kommt\", \"\\u00f6sterreichs\", \"millionen\", \"euro\", \"brautschau\", \"notgelandet\", \"buczolich\", \"zwei\", \"autobranche\", \"mirko\", \"\\u00f6sterreich\", \"neue\", \"bremen\", \"paar\", \"preis\", \"wilde\", \"gehen\", \"auslosung\", \"seesterne\", \"luna\", \"werbeanrufe\", \"sms\", \"dracula\", \"quatsch\", \"prada\", \"paypal\", \"raubzug\", \"champions\", \"fidschi\", \"rossa\", \"sport\", \"automatisierte\", \"agb\", \"k\\u00fcndigt\", \"eurosondergipfel\", \"leichnam\", \"\\u00f6ko\", \"sheets\", \"sudern\", \"shitstorm\", \"angezapfte\", \"hdp\", \"geboren\", \"hindupilger\", \"eigentor\", \"konservierte\", \"schuld\", \"spielt\", \"absolute\", \"krise\", \"fp\\u00f6demo\", \"belohnt\", \"akp\", \"einzug\", \"old\", \"party\", \"steckt\", \"gentechnik\", \"schach\", \"abwehrschlacht\", \"erlauben\", \"asylquartier\", \"klagt\", \"fp\\u00f6protest\", \"abstieg\", \"mccarthy\", \"tiergarten\", \"sch\\u00f6nbrunn\", \"luchse\", \"r\\u00e4umt\", \"kurier\", \"melissa\", \"jogger\", \"zulieferern\", \"uskinokassen\", \"euparlament\", \"urheberrechtsreform\", \"zeichnet\", \"fazonlinechef\", \"pay\", \"gender\", \"digitalbranche\", \"mehrheit\", \"kr\\u00e4uter\", \"forum\", \"erdberg\", \"genuss\", \"kochen\", \"l\\u00f8kke\", \"weiber\", \"rebbe\", \"drittel\", \"\\u00fcbergewichtig\", \"b\\u00fchne\", \"casinosverkauf\", \"rasch\", \"dresdner\", \"trugen\", \"deutlicher\", \"st\\u00e4rkung\", \"kind\", \"streit\", \"wurde\", \"nichtw\\u00e4hler\", \"fp\", \"sexistischer\", \"edwardsnowdenplatz\", \"relativen\", \"teilnehmer\", \"fifa\", \"spy\", \"zusammenhang\", \"erdo\\u011fans\", \"download\", \"besseres\", \"grunde\", \"verl\\u00e4ngerung\", \"bekanntester\", \"rauch\", \"schicken\", \"sauerbrunn\", \"favoriten\", \"\\u00f6hbherren\", \"leadagentur\", \"kolle\", \"werder\", \"internationale\", \"fotos\", \"frischer\", \"sacher\", \"traditionsbetrieb\", \"mali\", \"eumissionen\", \"kongo\", \"adligen\", \"bleisarg\", \"angebot\", \"pepi\", \"imbiss\", \"filiale\", \"er\\u00f6ffnet\", \"leberkas\", \"supermarkt\", \"orangen\", \"ingenieure\", \"japanische\", \"thema\", \"kinderlosigkeit\", \"versehentlich\", \"queenbesuch\", \"ohrfeigte\", \"m\\u00e4dchen\", \"stellen\", \"blutgerinnseln\", \"er\\u00f6ffnung\", \"prozessen\", \"antibabypille\", \"ehrenrunden\", \"drehen\", \"leitungen\", \"engagiert\", \"wind\", \"bad\", \"zuschauerzahl\", \"leicht\", \"m\\u00fcsste\", \"kleines\", \"volk\", \"gestiegen\", \"bundesliga\", \"afghanisches\", \"verr\\u00fcckt\", \"pilz\", \"riechen\", \"foofighterss\\u00e4nger\", \"opposition\", \"sparpaket\", \"massenproteste\", \"s\\u00fcdindien\", \"rassismus\", \"charleston\", \"s\\u00fcdstaatenflagge\", \"gro\\u00dfw\\u00e4scherei\", \"prokurdische\", \"schafft\", \"einigt\", \"legt\", \"mitregieren\", \"neubeginn\", \"siegt\", \"chip\", \"faymanns\", \"deutliche\", \"drei\", \"klimt\", \"fragen\", \"hashtag\", \"handykuschelpolster\", \"miklleitner\", \"d\\u00e4nemark\", \"macht\", \"erfinderpreis\", \"wechseln\", \"cities\", \"sicherheitsforscher\", \"\\u00f6de\", \"amerikaner\", \"grundst\\u00fcck\", \"alleingelassen\", \"mob\", \"rosetta\", \"di\\u00e4twahn\", \"statt\", \"br\\u00fcsseler\", \"entbrannt\", \"bluttat\", \"loveparade\", \"ab\", \"bittere\", \"billige\", \"spitzentreffen\", \"personen\", \"foundation\", \"schwanger\", \"semmeringtunnel\", \"gloggnitz\", \"deutsche\", \"excelkonkurrent\", \"baustart\", \"gebrauchtwagenk\\u00e4ufe\", \"kuba\", \"startupgr\\u00fcnder\", \"verhandlungen\", \"schaltsekunde\", \"duisburg\", \"sekunde\", \"geheilt\", \"rasmussen\", \"trentino\", \"braunb\\u00e4r\", \"erwachsenen\", \"busungl\\u00fcck\", \"selbstmordattent\\u00e4ter\", \"zwei\", \"felsovanyierben\", \"\\u00f6sterreich\", \"hypoausschuss\", \"millionenfl\\u00fcsse\", \"vorschl\\u00e4ge\", \"wohnen\", \"graz\", \"rechten\", \"leben\", \"usa\", \"politik\", \"bank\", \"h\\u00e4upl\", \"entscheiden\", \"bleiben\", \"bein\", \"bnd\", \"offen\", \"uni\", \"brasilien\", \"turbo\", \"chancen\", \"bundestag\", \"kongress\", \"breguet\", \"pfeift\", \"kerry\", \"freihandel\", \"gtb\", \"fahrradunfall\", \"cyberangriffausma\\u00df\", \"groove\", \"ghetto\", \"gangs\", \"bronx\", \"informiert\", \"beschlie\\u00dft\", \"russlandsanktionen\", \"waterloo\", \"weiterer\", \"r\\u00fcckschlag\", \"sohn\", \"arbeitskampf\", \"heizt\", \"live\", \"juli\", \"iphonekriege\", \"sinnlos\", \"usau\\u00dfenminister\", \"supermamas\", \"verl\\u00e4ngerte\", \"kardinal\", \"garmischpartenkirchen\", \"zepter\", \"o\", \"kickback\", \"unhilfskoordinator\", \"sexistische\", \"\\u00e4u\\u00dferungen\", \"atomphysiker\", \"gestank\", \"hypouausschuss\", \"ver\\u00f6ffentlichung\", \"professur\", \"dick\", \"patten\", \"usschauspieler\", \"versto\\u00dfen\", \"konvention\", \"s\\u00fcdsudan\", \"nieder\", \"nobelpreistr\\u00e4ger\", \"horrorszenario\", \"erwartete\", \"intermezzos\", \"neustadt\", \"emp\\u00f6rt\", \"fernsehdoku\", \"verl\\u00e4ngert\", \"flughafen\", \"again\", \"\\u00fcbergibt\", \"\\u2019\", \"vorstandsvertr\\u00e4ge\", \"schummelf\\u00e4lle\", \"over\", \"ferrari\", \"kurz\", \"koalition\", \"jailbreak\", \"karten\", \"krankenhaus\", \"frieden\", \"rock\", \"wissen\", \"jahr\", \"deutscher\", \"amtsanma\\u00dfungsprozess\", \"stra\\u00dfenstrich\", \"matura\", \"selbstjustiz\", \"r\\u00fccken\", \"schulen\", \"nsasp\\u00e4hlisten\", \"rapid\", \"zittersieg\", \"gr\\u00f6\\u00dfere\", \"bosnienherzegowina\", \"all\", \"heutigem\", \"wiener\", \"zerbrochen\", \"jobabbau\", \"geldregen\", \"karl\", \"malley\", \"symbolische\", \"fl\\u00fcchtlingsgr\\u00e4ber\", \"unternehmer\", \"thunderbolt\", \"onlineshopping\", \"ausbildungstrainer\", \"sicherheitskonferenz\", \"russischen\", \"tour\", \"mindestpensionen\", \"group\", \"iphone\", \"d\\u00e9j\\u00e0vu\", \"vs\", \"russische\", \"asylantr\\u00e4gen\", \"pf\\u00e4ndet\", \"monatsrekord\", \"dragovic\", \"einmarsches\", \"bregenzwien\", \"citybike\", \"herr\", \"packt\", \"ios\", \"juventus\", \"al\", \"aufgaben\", \"wien\", \"poroschenko\", \"schlafen\", \"jahre\", \"mobile\", \"baukonzernchefs\", \"verhaftet\", \"ausrutscher\", \"voll\", \"rucksack\", \"st\\u00e4rken\", \"slowaken\", \"exekutive\", \"linke\", \"georgien\", \"wenig\", \"android\", \"evolutionsbiologe\", \"carta\", \"gier\", \"dame\", \"tevez\", \"zw\\u00f6lf\", \"unwettern\", \"fluch\", \"erneuerung\", \"gm\", \"anarchie\", \"gr\\u00fc\\u00dfe\", \"finanzausgleich\", \"erhalten\", \"benachteiligte\", \"fr\\u00fcher\", \"ichag\", \"kleinstadth\\u00f6lle\", \"gering\", \"lasst\", \"oben\", \"baugewerkschaft\", \"kassen\", \"dornhelm\", \"tschechen\", \"exekutor\", \"werbeblocker\", \"selfieshootout\", \"hilfsgelder\", \"fraglich\", \"reformen\", \"japaner\", \"exgetreue\", \"serien\", \"neuer\", \"notfall\", \"zwei\", \"hinein\", \"songs\", \"mieux\", \"apple\", \"dauern\", \"neue\", \"kindern\", \"krieg\", \"r\\u00fcstzeug\", \"klagen\", \"bryant\", \"kobe\", \"youtubewerberwahl\", \"\\u00f6fbtruppe\", \"fp\\u00f6\", \"eizellen\", \"einsetzen\", \"tochter\", \"messi\", \"sp\\u00f6\", \"gro\\u00dfe\", \"treffen\", \"k\\u00e4mpfe\", \"internet\", \"community\", \"geworden\", \"landtag\", \"googlesuche\", \"osteoporose\", \"m\\u00e4chtiger\", \"entrisches\", \"bruce\", \"questions\", \"applaus\", \"\\u00fcbers\", \"holz\", \"buch\", \"werkzeug\", \"setzten\", \"sitzung\", \"vorprogrammiert\", \"weltsicht\", \"de\", \"forscher\", \"spr\\u00fcche\", \"simple\", \"maiziere\", \"nsabndaff\\u00e4re\", \"problemspionagezielen\", \"trotzt\", \"behebung\", \"pralles\", \"olympiabewerbung\", \"nu\\u00dfdorfer\", \"offizielle\", \"verteilzentrum\", \"bekannt\", \"faircover\", \"ego\", \"flotte\", \"denguefieber\", \"football\", \"austrian\", \"wowspieler\", \"ausgleich\", \"deutlich\", \"sahen\", \"prix\", \"sch\\u00fcler\", \"podcast\", \"benotet\", \"nebenwirkung\", \"n\\u00e4chster\", \"gehackt\", \"mailverschl\\u00fcsselung\", \"ben\\u00edtez\", \"israelische\", \"vermeiden\", \"milit\\u00e4rambulanz\", \"brustkrebstherapie\", \"vperneuerung\", \"zeichen\", \"sexuellen\", \"neuformulierung\", \"bel\\u00e4stigung\", \"openpgp\", \"kennen\", \"turkish\", \"rafsanjani\", \"drohte\", \"ard\", \"cannes\", \"hardliner\", \"bieten\", \"irans\", \"formel\", \"monfils\", \"m\\u00f6belpf\\u00e4ndung\", \"wartet\", \"n\\u00e4chste\", \"scheitern\", \"toter\", \"saudische\", \"mobilderstandardat\", \"ebike\", \"laufband\", \"r\\u00e4dern\", \"antifp\\u00f6wahlkampf\", \"fiorentinatrainer\", \"uweltmeister\", \"serbien\", \"sousa\", \"luftangriffe\", \"verdacht\", \"medienkritik\", \"offenbarungseid\", \"amoklauf\", \"stockt\", \"h\\u00f6rndlwalks\", \"schmausen\", \"niggemeier\", \"portal\", \"asylunterbringung\", \"quartiere\", \"m\\u00fcssen\", \"dinge\", \"sozialwohnungen\", \"vorgereiht\", \"lunch\", \"windowsshortcuts\", \"asked\", \"optimierte\", \"protestcamp\", \"alberschwende\", \"ger\\u00e4umt\", \"gewaltsam\", \"maidan\", \"sekunden\", \"weltblutspendetag\", \"syrer\", \"jemand\", \"braucht\", \"blutkonserve\", \"buffett\", \"kirchenasyl\", \"eturbolader\", \"spiele\", \"scharf\", \"adi\", \"salzburgtrainer\", \"vanity\", \"neues\", \"real\", \"pizarro\", \"klug\", \"goldtorsch\\u00fctze\", \"serbische\", \"uskomponist\", \"bonobos\", \"schuller\", \"haftbefehle\", \"aufruhr\", \"verschl\\u00fcsseln\", \"applechef\", \"rolling\", \"premiere\", \"stones\", \"minuten\", \"meisten\", \"k\\u00e4ngurus\", \"heiklen\", \"gesch\\u00e4ften\", \"exhypoforensiker\", \"hosenflattern\", \"gusenbauer\", \"fall\", \"saison\", \"innovation\", \"erste\", \"wiener\", \"einigung\", \"gerhaher\", \"straches\", \"lobbyiert\", \"kasachstan\", \"schnitt\", \"amador\", \"aspern\", \"sternerestaurant\", \"fronten\", \"pda\", \"jauch\", \"juan\", \"form\", \"einrichtungen\", \"sozialen\", \"abmahnungen\", \"downloader\", \"einwanderern\", \"wmboykott\", \"zuckerberg\", \"facebookchef\", \"bitter\", \"m\\u00fccken\", \"collegegeb\\u00fchren\", \"history\", \"schweigt\", \"uncovering\", \"kommt\", \"kampf\", \"derstandardat\", \"regenwetter\", \"asylwerber\", \"glaubt\", \"euparlamentspr\\u00e4sident\", \"juni\", \"eingreiftruppe\", \"lugner\", \"neue\", \"neuer\", \"zur\\u00fcck\", \"gunther\", \"chipbranche\", \"kam\", \"cleveland\", \"hietzing\", \"bauprojekt\", \"megadeal\", \"\\u00f6fbteam\", \"beibehalten\", \"superstrategie\", \"sanktionen\", \"altera\", \"h\\u00fcrde\", \"regenbogenparade\", \"obama\", \"seestadt\", \"asyl\", \"postings\", \"drusen\", \"schluckt\", \"frau\", \"krautreporter\", \"sch\\u00fctzen\", \"putin\", \"schon\", \"wieso\", \"beim\", \"zeit\", \"zeitung\", \"bekommt\", \"schaffen\", \"spielen\", \"h\\u00e4nde\", \"belastet\", \"nichols\", \"transit\", \"leichten\", \"erlitt\", \"enterprisestar\", \"musiker\", \"alias\", \"pessimistischen\", \"ungerechtigkeiten\", \"lustig\", \"paviane\", \"opfern\", \"israelischer\", \"dreij\\u00e4hrige\", \"kader\", \"lazaro\", \"perle\", \"madl\", \"arch\\u00e4ologen\", \"entz\\u00fcckt\", \"nat\\u00fcrliche\", \"josef\", \"ognjen\", \"exfifamitglied\", \"lohnende\", \"blazer\", \"korruption\", \"gesch\\u00e4ftsmodell\", \"gaminghype\", \"zurechnungsf\\u00e4hig\", \"amokfahrer\", \"katastrophe\", \"gestand\", \"ragger\", \"strafantrag\", \"gerettet\", \"fp\\u00f6landesrat\", \"eingebracht\", \"mechanische\", \"tastaturen\", \"g\\u00f6tzis\", \"jahresweltbestleistung\", \"kazmirek\", \"z+\", \"trotz\", \"steirern\", \"st\\u00e4rksten\", \"kapstadt\", \"uhura\", \"platz\", \"best\\u00e4tigt\", \"stra\\u00dfe\", \"entscheidungen\", \"r\\u00fccktritt\", \"n\\u00e4chsten\", \"bentley\", \"ilsanker\", \"continental\", \"stromausfall\", \"hinteregger\", \"hitzeproblem\", \"sony\", \"xperia\", \"z\", \"nesthocker\", \"\\u00e4ltester\", \"haft\", \"burma\", \"donauinsel\", \"energieforschung\", \"adolf\", \"klimaschutz\", \"festplattenabgabe\", \"fl\\u00fcchtlinge\", \"polizisten\", \"innenministerin\", \"bulgariens\", \"schlaganfall\", \"burgenl\\u00e4ndischen\", \"selbstgemacht\", \"compliance\", \"geld\", \"korruptionsverdacht\", \"heimische\", \"euweit\", \"wandervogel\", \"verstie\\u00df\", \"medientransparenz\", \"flecken\", \"ansicht\", \"ceres\", \"\\u00f6vag\", \"mysteri\\u00f6sen\", \"kopfverbot\", \"kandidat\", \"drei\", \"stankovic\", \"offene\", \"bevorzugt\", \"rechnungen\", \"europaspiele\", \"besuch\", \"gl\\u00fcckseligkeit\", \"snowdendokumente\", \"zugriff\", \"lopatka\", \"reinhold\", \"mindestpensionisten\", \"ehefrau\", \"entlastung\", \"sicht\", \"gabalier\", \"usb\", \"austria\", \"verbotener\", \"eichmann\", \"machos\", \"sp\\u00f6\", \"treibt\", \"mehr\", \"zarte\", \"b\\u00fcrgermeister\", \"grenze\", \"leistbarkeit\", \"pfl\\u00e4nzchen\", \"wohnimmobilien\", \"sozifresser\", \"minister\", \"polnische\", \"lan\", \"strompreise\", \"wirbt\", \"handytarife\", \"mafiaskandals\", \"protestieren\", \"steigender\", \"preise\", \"britische\", \"protestdrohung\", \"autos\", \"migranten\", \"strippenzieher\", \"marktbeherrschende\", \"\\u00f6bb\", \"exhypokunde\", \"mensch\", \"kompromiss\", \"verstrickt\", \"gipfel\", \"landtagspr\\u00e4sidenten\", \"derzeit\", \"neue\", \"jahre\", \"fl\\u00fcchtlingsverteilung\", \"armenier\", \"mittelmeer\", \"griechenland\", \"niedergestochen\", \"fp\\u00f6\", \"diplomatie\", \"landeshauptmann\", \"alijewprozess\", \"donald\", \"kreativdirektor\", \"aufpoliert\", \"kollektiv\", \"werbung\", \"sprechen\", \"fl\\u00fcchtlingsstreit\", \"anleitung\", \"treffen\", \"obama\", \"putin\", \"gestorben\", \"nie\"], \"Total\": [10.0, 11.0, 8.0, 3.0, 5.0, 6.0, 11.0, 2.0, 8.0, 5.0, 6.0, 4.0, 3.0, 4.0, 4.0, 5.0, 2.0, 6.0, 2.0, 2.0, 3.0, 7.0, 4.0, 2.0, 4.0, 8.0, 3.0, 3.0, 2.0, 3.0, 2.967175245285034, 2.368938684463501, 1.7707433700561523, 1.7707436084747314, 1.7707436084747314, 2.942904472351074, 1.1725276708602905, 1.1725276708602905, 1.1725276708602905, 1.1725276708602905, 1.1725276708602905, 1.1725276708602905, 1.1725276708602905, 1.1725276708602905, 1.1725276708602905, 1.1725276708602905, 1.1725276708602905, 1.1725276708602905, 1.1725276708602905, 1.1725276708602905, 1.1725276708602905, 1.1725276708602905, 1.1725276708602905, 1.1725276708602905, 1.1725276708602905, 1.1725276708602905, 1.1725276708602905, 1.1725276708602905, 1.1725276708602905, 1.1725276708602905, 1.1725276708602905, 1.1725276708602905, 1.1725276708602905, 1.1725276708602905, 1.1725276708602905, 1.1725276708602905, 1.1725276708602905, 1.1725276708602905, 1.1725276708602905, 1.1725276708602905, 1.1725276708602905, 1.1725276708602905, 1.1725276708602905, 1.1725276708602905, 1.1725276708602905, 1.1725276708602905, 1.1725276708602905, 1.1725276708602905, 1.1725276708602905, 1.1725276708602905, 1.1725276708602905, 1.1725276708602905, 1.1725276708602905, 1.1725276708602905, 1.1725276708602905, 1.1725276708602905, 1.1725276708602905, 1.1725276708602905, 1.1725276708602905, 1.1725276708602905, 1.1725276708602905, 1.1725276708602905, 1.1725276708602905, 1.1725276708602905, 1.1725276708602905, 1.1725276708602905, 1.1725276708602905, 1.1725276708602905, 1.1725276708602905, 1.1725276708602905, 1.1725276708602905, 1.1725276708602905, 1.1725276708602905, 1.1725276708602905, 1.1725276708602905, 1.1725276708602905, 1.1725276708602905, 1.1725276708602905, 1.1725276708602905, 1.1725276708602905, 1.1725276708602905, 1.1725276708602905, 4.691208839416504, 2.3231756687164307, 1.1725279092788696, 1.17252779006958, 1.1725276708602905, 1.1725279092788696, 1.1725279092788696, 1.1725279092788696, 1.17252779006958, 1.1725276708602905, 1.1725279092788696, 1.1725276708602905, 1.1725276708602905, 1.17252779006958, 1.17252779006958, 1.1725276708602905, 1.1725276708602905, 1.1725279092788696, 1.1725276708602905, 1.1725276708602905, 1.17252779006958, 2.3341612815856934, 2.334160804748535, 2.3341610431671143, 2.3419508934020996, 2.345902442932129, 1.1725276708602905, 1.1725276708602905, 1.1725276708602905, 1.1725276708602905, 1.1725276708602905, 1.1725276708602905, 1.1725276708602905, 1.1725276708602905, 1.1725276708602905, 1.1725276708602905, 1.1725276708602905, 1.1725276708602905, 1.1725276708602905, 1.1725276708602905, 1.1725276708602905, 1.1725276708602905, 1.1725276708602905, 1.1725276708602905, 1.1725276708602905, 1.1725276708602905, 1.1725276708602905, 1.1725276708602905, 1.1725276708602905, 1.1725276708602905, 1.1725276708602905, 1.1725276708602905, 1.1725276708602905, 1.1725276708602905, 1.1725276708602905, 1.1725276708602905, 11.046220779418945, 1.1725276708602905, 1.1725276708602905, 1.1725276708602905, 1.1725276708602905, 1.1725276708602905, 1.1725276708602905, 1.1725276708602905, 1.1725276708602905, 1.1725276708602905, 1.1725276708602905, 1.1725276708602905, 1.1725276708602905, 1.1725276708602905, 1.1725276708602905, 1.1725276708602905, 8.737333297729492, 1.1725276708602905, 1.1725276708602905, 1.1725276708602905, 1.1725279092788696, 1.1725279092788696, 1.1725279092788696, 1.1725279092788696, 1.1725279092788696, 1.1725279092788696, 1.1725279092788696, 1.1725279092788696, 1.1725279092788696, 1.1725279092788696, 1.1725276708602905, 1.1725276708602905, 1.1725276708602905, 1.1725276708602905, 1.1725276708602905, 1.1725276708602905, 1.1725276708602905, 1.1725276708602905, 1.1725276708602905, 1.1725276708602905, 1.1725276708602905, 1.1725276708602905, 1.1725276708602905, 1.1725279092788696, 1.1725279092788696, 1.1725276708602905, 1.1725276708602905, 4.650146484375, 2.9024291038513184, 1.1725279092788696, 2.91589617729187, 2.916503429412842, 1.1725276708602905, 1.1725276708602905, 1.1725276708602905, 1.1725279092788696, 1.1725276708602905, 1.17252779006958, 1.1725276708602905, 1.17252779006958, 6.4087815284729, 1.1725276708602905, 1.1725276708602905, 3.457430124282837, 3.4832592010498047, 3.4944000244140625, 3.5004453659057617, 3.5271854400634766, 8.14706039428711, 8.18885326385498, 4.0662126541137695, 4.091467380523682, 4.10113000869751, 14.441951751708984, 6.3339128494262695, 4.102243423461914, 5.752172470092773, 1.6791753768920898, 1.6791752576828003, 1.6791753768920898, 1.6791752576828003, 1.6791753768920898, 1.679175615310669, 1.6792700290679932, 2.8280677795410156, 1.1267436742782593, 1.1267436742782593, 1.1267436742782593, 1.1267436742782593, 1.1267436742782593, 1.1267436742782593, 1.1267436742782593, 1.1267436742782593, 1.1267436742782593, 1.1267436742782593, 1.1267436742782593, 1.1267436742782593, 1.1267436742782593, 1.1267436742782593, 1.1267436742782593, 1.1267436742782593, 1.1267436742782593, 1.1267436742782593, 1.1267436742782593, 1.1267436742782593, 1.1267436742782593, 1.1267436742782593, 1.1267436742782593, 1.1267436742782593, 1.1267436742782593, 1.1267436742782593, 1.1267436742782593, 1.1267436742782593, 1.1267436742782593, 1.1267436742782593, 1.1267436742782593, 1.1267436742782593, 1.1267436742782593, 1.1267436742782593, 1.1267436742782593, 1.1267436742782593, 1.1267436742782593, 1.1267436742782593, 1.1267436742782593, 1.1267437934875488, 1.1267436742782593, 1.1267436742782593, 1.1267437934875488, 1.1267437934875488, 1.1267437934875488, 1.1267436742782593, 1.1267436742782593, 1.1267436742782593, 1.1267436742782593, 1.1267436742782593, 1.1267436742782593, 1.1267436742782593, 1.1267436742782593, 1.1267436742782593, 1.1267436742782593, 2.2369155883789062, 1.1267436742782593, 1.1267436742782593, 2.2425923347473145, 2.2503821849823, 2.250382423400879, 2.253119945526123, 2.253119945526123, 1.1267436742782593, 1.1267436742782593, 1.1267436742782593, 1.1267436742782593, 1.1267436742782593, 1.1267436742782593, 1.1267436742782593, 1.1267436742782593, 1.1267436742782593, 1.1267436742782593, 1.1267436742782593, 1.1267436742782593, 1.1267436742782593, 1.1267436742782593, 1.1267436742782593, 1.1267436742782593, 1.1267436742782593, 1.1267436742782593, 1.1267436742782593, 1.1267436742782593, 1.1267437934875488, 1.1267436742782593, 1.1267436742782593, 1.1267437934875488, 1.1267436742782593, 1.1267436742782593, 1.1267436742782593, 1.1267436742782593, 1.1267436742782593, 1.1267436742782593, 1.1267436742782593, 1.1267436742782593, 1.1267436742782593, 1.1267436742782593, 1.1267436742782593, 2.828279972076416, 2.8501877784729004, 2.855626344680786, 1.1267436742782593, 1.1267436742782593, 1.1267436742782593, 1.1267436742782593, 1.1267436742782593, 1.1267436742782593, 1.1267436742782593, 1.1267436742782593, 1.1267436742782593, 1.1267436742782593, 1.1267436742782593, 1.1267436742782593, 1.1267436742782593, 1.1267436742782593, 1.1267436742782593, 1.1267437934875488, 1.1267436742782593, 1.1267436742782593, 3.3877429962158203, 1.1267436742782593, 1.1267436742782593, 1.1267436742782593, 1.1267436742782593, 1.1267437934875488, 1.1267437934875488, 1.1267437934875488, 1.1267437934875488, 1.1267437934875488, 1.1267436742782593, 1.1267437934875488, 1.1267436742782593, 1.1267436742782593, 1.1267436742782593, 1.1267436742782593, 3.9707372188568115, 1.1267436742782593, 1.1267436742782593, 1.1267437934875488, 1.1267436742782593, 1.1267436742782593, 1.1267437934875488, 1.1267437934875488, 1.1267437934875488, 1.1267437934875488, 1.1267436742782593, 1.1267436742782593, 1.1267436742782593, 4.547042369842529, 4.56392240524292, 1.1267436742782593, 1.1267436742782593, 1.1267437934875488, 1.1267436742782593, 1.1267436742782593, 11.578977584838867, 1.1267437934875488, 1.1267437934875488, 1.1267436742782593, 1.1267436742782593, 1.1267436742782593, 1.1267436742782593, 1.1267436742782593, 1.1267437934875488, 5.646005630493164, 1.1267437934875488, 1.1267436742782593, 1.1267437934875488, 1.1267437934875488, 1.1267437934875488, 1.1267437934875488, 1.1267437934875488, 1.1267437934875488, 7.393067836761475, 1.1267437934875488, 1.1267437934875488, 1.1267437934875488, 1.1267436742782593, 1.1267436742782593, 8.737333297729492, 1.1267436742782593, 1.1267436742782593, 1.1267436742782593, 1.1267437934875488, 1.1267436742782593, 1.1267436742782593, 1.1267437934875488, 1.1267436742782593, 1.1267436742782593, 1.1267437934875488, 1.1267436742782593, 1.1267437934875488, 1.1267436742782593, 2.8530995845794678, 1.6979504823684692, 3.985391616821289, 2.8386573791503906, 2.297149658203125, 1.7011456489562988, 1.7011456489562988, 1.7011455297470093, 1.1377290487289429, 1.1377288103103638, 1.1377290487289429, 1.1377288103103638, 1.1377288103103638, 1.1377288103103638, 1.1377288103103638, 1.1377288103103638, 1.1377288103103638, 1.1377288103103638, 1.1377288103103638, 1.1377288103103638, 1.1377288103103638, 1.1377290487289429, 1.1377288103103638, 1.1377288103103638, 1.1377288103103638, 1.1377288103103638, 1.1377288103103638, 1.1377288103103638, 1.1377288103103638, 1.1377288103103638, 1.1377290487289429, 1.1377288103103638, 1.1377290487289429, 1.1377290487289429, 1.1377288103103638, 1.1377288103103638, 1.1377288103103638, 1.1377289295196533, 1.1377289295196533, 1.1377289295196533, 1.1377289295196533, 1.1377288103103638, 1.1377289295196533, 1.1377289295196533, 1.1377289295196533, 1.1377288103103638, 1.1377288103103638, 1.1377288103103638, 1.1377289295196533, 1.1377288103103638, 1.1377289295196533, 1.1377289295196533, 1.1377288103103638, 1.1377289295196533, 1.1377289295196533, 1.1377288103103638, 1.1377288103103638, 1.1377289295196533, 1.1377289295196533, 2.253577947616577, 1.1377288103103638, 1.1377288103103638, 1.1377288103103638, 1.1377288103103638, 1.1377288103103638, 1.1377288103103638, 1.1377290487289429, 1.1377288103103638, 1.1377288103103638, 1.1377288103103638, 1.1377288103103638, 1.1377288103103638, 1.1377290487289429, 1.1377288103103638, 1.1377288103103638, 1.1377288103103638, 1.1377288103103638, 1.1377288103103638, 1.1377288103103638, 2.2763047218322754, 2.2763044834136963, 2.2811355590820312, 1.1377288103103638, 1.1377288103103638, 1.1377288103103638, 1.1377288103103638, 1.1377290487289429, 1.1377288103103638, 1.1377290487289429, 1.1377288103103638, 1.1377288103103638, 1.1377290487289429, 1.1377290487289429, 2.299360990524292, 1.1377288103103638, 1.1377288103103638, 1.1377288103103638, 1.1377288103103638, 1.1377288103103638, 1.1377288103103638, 1.1377290487289429, 1.1377290487289429, 1.1377288103103638, 1.1377288103103638, 1.1377288103103638, 1.1377288103103638, 1.1377288103103638, 1.1377288103103638, 1.1377288103103638, 1.1377288103103638, 1.1377288103103638, 1.1377288103103638, 1.1377290487289429, 1.1377288103103638, 1.1377288103103638, 1.1377288103103638, 1.1377288103103638, 1.1377288103103638, 1.1377288103103638, 1.1377288103103638, 1.1377288103103638, 1.1377288103103638, 1.1377288103103638, 1.1377288103103638, 1.1377288103103638, 1.1377288103103638, 1.1377288103103638, 1.1377288103103638, 1.1377288103103638, 1.1377288103103638, 1.1377290487289429, 1.1377288103103638, 1.1377288103103638, 4.551660537719727, 1.1377290487289429, 1.1377290487289429, 1.1377290487289429, 6.884892463684082, 1.1377290487289429, 5.752172470092773, 1.1377288103103638, 3.457587242126465, 1.1377289295196533, 1.1377289295196533, 1.1377289295196533, 1.1377289295196533, 1.1377289295196533, 1.1377289295196533, 1.1377289295196533, 1.1377289295196533, 1.1377289295196533, 1.1377289295196533, 1.1377289295196533, 1.1377289295196533, 1.1377289295196533, 1.1377289295196533, 1.1377289295196533, 1.1377289295196533, 1.1377289295196533, 1.1377289295196533, 1.1377289295196533, 1.1377289295196533, 1.1377289295196533, 1.1377289295196533, 1.1377289295196533, 1.1377289295196533, 1.1377289295196533, 1.1377289295196533, 1.1377288103103638, 1.1377289295196533, 1.1377289295196533, 1.1377289295196533, 1.1377289295196533, 1.1377289295196533, 1.1377289295196533, 1.1377289295196533, 1.1377289295196533, 1.1377289295196533, 1.1377289295196533, 1.1377289295196533, 1.1377289295196533, 1.1377289295196533, 1.1377289295196533, 1.1377289295196533, 1.1377289295196533, 1.1377290487289429, 1.1377290487289429, 1.1377289295196533, 1.1377289295196533, 1.1377289295196533, 1.1377289295196533, 1.1377289295196533, 1.1377289295196533, 1.1377289295196533, 1.1377289295196533, 1.1377289295196533, 1.1377289295196533, 1.1377289295196533, 1.1377289295196533, 1.1377289295196533, 1.1377289295196533, 1.1377289295196533, 1.1377289295196533, 1.1377289295196533, 1.1377289295196533, 1.1377289295196533, 1.1377289295196533, 1.1377289295196533, 1.1377289295196533, 1.1377289295196533, 1.1377289295196533, 1.1377289295196533, 1.1377289295196533, 6.3339128494262695, 1.1377289295196533, 1.1377289295196533, 1.1377289295196533, 1.1377289295196533, 1.1377289295196533, 7.393067836761475, 1.1377289295196533, 8.737333297729492, 1.1377289295196533, 1.1377289295196533, 1.1377289295196533, 1.1377289295196533, 1.1377289295196533, 1.1377289295196533, 1.1377289295196533, 14.441951751708984, 1.1377289295196533, 1.1377289295196533, 1.1377289295196533, 2.90695858001709, 5.147025108337402, 2.8605668544769287, 2.3111040592193604, 2.8386573791503906, 1.7341902256011963, 3.9951624870300293, 1.7128878831863403, 1.7122811079025269, 1.7089358568191528, 2.309889078140259, 1.7177188396453857, 1.6901605129241943, 1.7359445095062256, 1.7246297597885132, 1.7246299982070923, 1.7246298789978027, 1.7246298789978027, 1.7246299982070923, 1.1494709253311157, 1.1494709253311157, 1.1494709253311157, 1.1494709253311157, 1.1494709253311157, 1.1494709253311157, 1.1494709253311157, 1.1494709253311157, 1.1494709253311157, 1.1494709253311157, 1.1494709253311157, 1.1494709253311157, 1.1494709253311157, 1.1494709253311157, 1.1494709253311157, 1.1494709253311157, 1.1494709253311157, 1.1494709253311157, 1.1494709253311157, 1.1494709253311157, 1.1494709253311157, 1.1494709253311157, 1.1494709253311157, 1.1494709253311157, 1.1494709253311157, 2.2823703289031982, 1.1494709253311157, 1.1494709253311157, 1.1494709253311157, 1.1494709253311157, 1.1494709253311157, 1.1494709253311157, 1.1494709253311157, 1.1494709253311157, 1.1494709253311157, 1.1494709253311157, 1.1494709253311157, 1.1494709253311157, 1.1494709253311157, 1.1494710445404053, 1.1494709253311157, 1.1494709253311157, 1.1494709253311157, 1.1494709253311157, 1.1494709253311157, 1.1494709253311157, 1.1494709253311157, 1.1494709253311157, 1.1494709253311157, 1.1494709253311157, 1.1494709253311157, 1.1494709253311157, 1.1494709253311157, 1.1494709253311157, 2.322845220565796, 1.1494709253311157, 1.1494709253311157, 1.1494709253311157, 1.1494709253311157, 5.771371841430664, 1.1494709253311157, 1.1494709253311157, 4.591085433959961, 1.1494709253311157, 1.1494709253311157, 1.1494709253311157, 1.1494709253311157, 1.1494709253311157, 1.1494709253311157, 1.1494709253311157, 1.1494709253311157, 1.1494709253311157, 1.1494709253311157, 1.1494709253311157, 1.1494709253311157, 1.1494709253311157, 1.1494709253311157, 2.919306993484497, 14.441951751708984, 1.1494709253311157, 1.1494709253311157, 1.1494709253311157, 6.892019748687744, 8.18885326385498, 4.050724506378174, 4.0662126541137695, 1.1494709253311157, 1.1494709253311157, 1.1494709253311157, 1.1494709253311157, 4.091467380523682, 1.1494710445404053, 4.56392240524292, 4.63171911239624, 6.32643461227417, 1.1494709253311157, 3.4653048515319824, 2.8916916847229004, 2.2817635536193848, 2.325922727584839, 2.900475025177002, 2.88010835647583, 1.7072111368179321, 2.8530995845794678, 1.7019028663635254, 5.147025108337402, 3.4832592010498047, 1.7672349214553833, 1.7672351598739624, 1.7672351598739624, 1.7672350406646729, 1.7672351598739624, 1.7672350406646729, 1.7672350406646729, 1.7672350406646729, 1.7672351598739624, 1.7672350406646729, 1.7672351598739624, 1.7672404050827026, 1.1707736253738403, 1.1707736253738403, 1.1707736253738403, 1.1707736253738403, 1.1707736253738403, 1.1707736253738403, 1.1707736253738403, 1.1707736253738403, 1.1707736253738403, 1.1707736253738403, 1.1707736253738403, 1.1707736253738403, 1.1707736253738403, 1.1707736253738403, 1.1707736253738403, 1.1707736253738403, 1.1707736253738403, 1.1707736253738403, 1.1707736253738403, 1.1707736253738403, 1.1707736253738403, 1.1707736253738403, 1.1707736253738403, 1.1707736253738403, 1.1707736253738403, 1.1707736253738403, 1.1707736253738403, 1.1707736253738403, 1.1707736253738403, 1.1707736253738403, 1.1707736253738403, 1.1707736253738403, 1.1707736253738403, 1.1707736253738403, 1.1707736253738403, 1.1707736253738403, 1.1707736253738403, 1.1707736253738403, 1.1707736253738403, 3.5071053504943848, 2.3249757289886475, 2.3306522369384766, 2.3417880535125732, 2.3423945903778076, 1.1707736253738403, 1.1707736253738403, 1.1707736253738403, 1.1707736253738403, 1.1707736253738403, 1.1707736253738403, 1.1707736253738403, 1.1707736253738403, 1.1707736253738403, 1.1707736253738403, 1.1707736253738403, 1.1707736253738403, 1.1707736253738403, 1.1707736253738403, 1.1707736253738403, 1.1707736253738403, 1.1707736253738403, 1.1707736253738403, 1.1707736253738403, 1.1707736253738403, 1.1707736253738403, 1.1707736253738403, 1.1707736253738403, 1.1707736253738403, 1.1707736253738403, 1.1707736253738403, 11.578977584838867, 6.964398384094238, 1.1707736253738403, 1.1707736253738403, 1.1707736253738403, 1.1707736253738403, 1.1707736253738403, 1.1707736253738403, 1.1707736253738403, 1.1707736253738403, 1.1707736253738403, 1.1707736253738403, 1.1707736253738403, 1.1707736253738403, 1.1707736253738403, 1.1707736253738403, 1.1707736253738403, 1.1707736253738403, 1.1707736253738403, 1.1707736253738403, 1.1707736253738403, 1.1707736253738403, 1.1707736253738403, 1.1707736253738403, 1.1707736253738403, 1.1707736253738403, 1.1707736253738403, 1.1707736253738403, 2.9058122634887695, 2.9178836345672607, 2.927215337753296, 1.1707736253738403, 1.1707736253738403, 1.1707736253738403, 1.1707736253738403, 1.1707736253738403, 8.18885326385498, 1.1707736253738403, 1.1707736253738403, 1.1707736253738403, 1.1707736253738403, 1.1707736253738403, 1.1707736253738403, 1.1707736253738403, 1.1707736253738403, 1.1707736253738403, 1.1707736253738403, 1.1707736253738403, 1.1707736253738403, 1.1707736253738403, 1.1707736253738403, 1.1707736253738403, 1.1707736253738403, 1.1707736253738403, 1.1707736253738403, 3.4770193099975586, 3.479647159576416, 3.4818499088287354, 3.492377758026123, 1.1707736253738403, 1.1707736253738403, 1.1707736253738403, 1.1707736253738403, 8.14706039428711, 3.998194456100464, 4.029080867767334, 10.392918586730957, 5.771371841430664, 4.102243423461914, 1.7342922687530518, 1.7342922687530518, 1.7342922687530518, 1.7342921495437622, 1.7342922687530518, 1.7342922687530518, 1.7342922687530518, 1.1543021202087402, 1.1543020009994507, 1.1543020009994507, 1.1543020009994507, 1.1543020009994507, 1.1543020009994507, 1.1543020009994507, 1.1543020009994507, 1.1543020009994507, 1.1543020009994507, 1.1543020009994507, 1.1543020009994507, 1.1543020009994507, 1.1543020009994507, 1.1543020009994507, 1.1543020009994507, 1.1543020009994507, 1.1543020009994507, 1.1543020009994507, 1.1543020009994507, 1.1543020009994507, 1.1543020009994507, 1.1543020009994507, 1.1543020009994507, 1.1543020009994507, 1.1543020009994507, 2.286724328994751, 2.2920327186584473, 1.1543020009994507, 1.1543020009994507, 2.308236598968506, 2.3307533264160156, 1.1543020009994507, 1.1543020009994507, 4.021734237670898, 2.872868537902832, 2.8806581497192383, 2.8833959102630615, 2.904698133468628, 1.1543020009994507, 2.927215337753296, 5.183486461639404, 1.1543020009994507, 1.1543020009994507, 1.1543020009994507, 3.4571304321289062, 3.457587242126465, 3.479647159576416, 3.500175714492798, 3.5271854400634766, 1.1543020009994507, 1.1543021202087402, 1.1543021202087402, 1.1543021202087402, 1.1543020009994507, 1.1543020009994507, 4.011129379272461, 4.031305313110352, 4.10113000869751, 4.63171911239624, 1.1543022394180298, 1.1543021202087402, 1.1543020009994507, 6.892019748687744, 1.1543020009994507, 1.1543020009994507, 11.046220779418945, 14.441951751708984, 1.6897919178009033, 1.6897919178009033, 1.6897919178009033, 1.6897917985916138, 3.998194456100464, 1.1320518255233765, 1.1320518255233765, 1.132051944732666, 1.132051944732666, 1.132051944732666, 1.1320518255233765, 1.132051944732666, 1.132051944732666, 1.132051944732666, 1.1320518255233765, 1.1320518255233765, 1.1320518255233765, 1.1320518255233765, 1.132051944732666, 1.132051944732666, 1.132051944732666, 1.132051944732666, 1.132051944732666, 1.1320518255233765, 1.132051944732666, 1.132051944732666, 1.132051944732666, 1.1320518255233765, 1.132051944732666, 1.132051944732666, 1.132051944732666, 1.1320518255233765, 1.1320518255233765, 1.1320518255233765, 1.1320518255233765, 1.1320518255233765, 1.132051944732666, 1.1320518255233765, 1.132051944732666, 1.132051944732666, 1.132051944732666, 1.132051944732666, 1.1320518255233765, 1.1320518255233765, 1.1320518255233765, 1.132051944732666, 1.132051944732666, 1.132051944732666, 1.1320520639419556, 1.1320518255233765, 1.132051944732666, 1.132051944732666, 1.1320518255233765, 1.132051944732666, 1.132051944732666, 1.132051944732666, 1.132051944732666, 1.132051944732666, 1.132051944732666, 1.132051944732666, 1.132051944732666, 1.1320518255233765, 1.132051944732666, 1.1320518255233765, 1.1320518255233765, 1.1320518255233765, 1.1320518255233765, 1.1320518255233765, 1.1320518255233765, 1.1320518255233765, 2.2422239780426025, 1.1320518255233765, 1.1320518255233765, 1.132051944732666, 1.132051944732666, 1.1320518255233765, 1.132051944732666, 1.132051944732666, 1.1320518255233765, 1.132051944732666, 1.132051944732666, 1.1320518255233765, 1.1320518255233765, 1.1320518255233765, 1.132051944732666, 1.1320518255233765, 1.1320518255233765, 1.1320518255233765, 2.2609987258911133, 2.2649505138397217, 1.1320518255233765, 1.1320518255233765, 1.1320518255233765, 1.1320518255233765, 1.132051944732666, 1.1320518255233765, 1.1320518255233765, 1.1320518255233765, 1.132051944732666, 1.1320518255233765, 1.132051944732666, 1.132051944732666, 1.132051944732666, 1.132051944732666, 2.2880070209503174, 1.132051944732666, 1.1320518255233765, 1.132051944732666, 1.1320518255233765, 1.132051944732666, 1.1320518255233765, 1.1320518255233765, 1.132051944732666, 1.1320518255233765, 1.132051944732666, 1.132051944732666, 1.1320518255233765, 1.1320518255233765, 1.1320518255233765, 1.132051944732666, 1.132051944732666, 1.132051944732666, 1.1320518255233765, 1.1320518255233765, 1.132051944732666, 1.132051944732666, 1.132051944732666, 1.132051944732666, 1.132051944732666, 1.132051944732666, 1.1320518255233765, 1.1320518255233765, 1.1320518255233765, 1.1320518255233765, 1.1320518255233765, 1.1320518255233765, 1.132051944732666, 1.132051944732666, 1.132051944732666, 1.132051944732666, 1.132051944732666, 1.1320518255233765, 1.132051944732666, 1.1320518255233765, 1.1320518255233765, 1.132051944732666, 1.132051944732666, 1.1320518255233765, 1.1320518255233765, 1.1320518255233765, 1.1320518255233765, 1.1320518255233765, 1.132051944732666, 1.132051944732666, 1.1320520639419556, 1.132051944732666, 1.132051944732666, 1.132051944732666, 1.132051944732666, 1.132051944732666, 1.132051944732666, 1.1320518255233765, 1.1320518255233765, 1.1320518255233765, 1.132051944732666, 1.132051944732666, 1.132051944732666, 1.1320518255233765, 1.1320518255233765, 1.132051944732666, 1.132051944732666, 1.132051944732666, 1.132051944732666, 1.1320518255233765, 2.8167757987976074, 1.1320518255233765, 1.132051944732666, 1.132051944732666, 1.132051944732666, 1.132051944732666, 1.132051944732666, 5.646005630493164, 1.1320518255233765, 1.1320518255233765, 1.132051944732666, 1.132051944732666, 3.457430124282837, 1.132051944732666, 7.393067836761475, 1.1320518255233765, 1.132051944732666, 1.1320520639419556, 1.1320520639419556, 1.132051944732666, 1.1320520639419556, 1.1320520639419556, 1.1320520639419556, 1.132051944732666, 1.1320520639419556, 1.1320520639419556, 3.9601821899414062, 1.132051944732666, 1.1320520639419556, 1.1320520639419556, 1.132051944732666, 4.029080867767334, 1.1320518255233765, 1.1320518255233765, 1.132051944732666, 1.1320520639419556, 1.1320518255233765, 1.1320518255233765, 1.1320520639419556, 1.1320520639419556, 4.551660537719727, 1.1320520639419556, 1.132051944732666, 1.1320520639419556, 1.1320520639419556, 1.132051944732666, 1.1320520639419556, 1.1320518255233765, 1.132051944732666, 1.1320518255233765, 1.132051944732666, 1.1320520639419556, 1.1320520639419556, 1.1320520639419556, 1.1320518255233765, 1.1320520639419556, 1.1320520639419556, 6.892019748687744, 1.1320518255233765, 11.046220779418945, 1.1320520639419556, 1.132051944732666, 1.1320520639419556, 1.1320520639419556, 3.4499709606170654, 1.7302669286727905, 4.033703327178955, 5.147025108337402, 1.7120417356491089, 2.3102574348449707, 2.2997207641601562, 2.280945062637329, 2.31025767326355, 1.7302674055099487, 2.3267290592193604, 1.6844837665557861, 1.7234164476394653, 1.7234164476394653, 1.7234164476394653, 1.7234164476394653, 2.8557090759277344, 1.1488643884658813, 1.1488643884658813, 1.1488643884658813, 1.1488642692565918, 1.1488643884658813, 1.1488643884658813, 1.1488643884658813, 1.1488642692565918, 1.1488643884658813, 1.1488643884658813, 1.1488643884658813, 1.1488643884658813, 1.1488642692565918, 1.1488643884658813, 1.1488643884658813, 1.1488643884658813, 1.1488643884658813, 1.1488643884658813, 1.1488642692565918, 1.1488642692565918, 1.1488642692565918, 1.1488642692565918, 1.1488642692565918, 1.1488642692565918, 1.1488642692565918, 1.1488643884658813, 1.1488642692565918, 1.1488642692565918, 1.1488642692565918, 1.1488643884658813, 1.1488642692565918, 1.1488642692565918, 1.1488641500473022, 1.1488642692565918, 1.1488641500473022, 1.1488641500473022, 1.1488641500473022, 1.1488641500473022, 1.1488641500473022, 1.1488641500473022, 1.1488641500473022, 1.1488641500473022, 1.1488641500473022, 1.1488641500473022, 1.1488641500473022, 1.1488641500473022, 1.1488641500473022, 1.1488641500473022, 1.1488641500473022, 1.1488641500473022, 1.1488641500473022, 1.1488641500473022, 1.1488641500473022, 1.1488641500473022, 1.1488641500473022, 1.1488643884658813, 1.1488642692565918, 1.1488643884658813, 1.1488642692565918, 1.1488642692565918, 1.1488643884658813, 1.1488642692565918, 1.1488642692565918, 1.1488642692565918, 3.4269161224365234, 2.275848627090454, 2.2758495807647705, 1.1488643884658813, 1.1488643884658813, 2.2868335247039795, 2.294623374938965, 2.297361135482788, 2.297361373901367, 3.4944000244140625, 1.1488642692565918, 1.1488643884658813, 1.1488642692565918, 1.1488643884658813, 2.319877862930298, 1.1488642692565918, 1.1488642692565918, 1.1488643884658813, 1.1488643884658813, 1.1488643884658813, 1.1488643884658813, 1.1488643884658813, 1.1488642692565918, 10.392918586730957, 1.1488643884658813, 1.1488643884658813, 1.1488642692565918, 1.1488643884658813, 1.1488642692565918, 1.1488643884658813, 1.1488643884658813, 1.1488643884658813, 1.1488641500473022, 1.1488641500473022, 1.1488642692565918, 1.1488641500473022, 1.1488641500473022, 1.1488641500473022, 1.1488642692565918, 1.1488641500473022, 1.1488641500473022, 1.1488642692565918, 2.828279972076416, 2.861992359161377, 1.1488642692565918, 1.1488641500473022, 1.1488642692565918, 1.1488641500473022, 1.1488641500473022, 1.1488641500473022, 1.1488641500473022, 1.1488641500473022, 1.1488641500473022, 2.895578145980835, 1.1488641500473022, 1.1488641500473022, 1.1488641500473022, 11.578977584838867, 1.1488641500473022, 1.1488642692565918, 5.762648105621338, 1.1488641500473022, 1.1488641500473022, 1.1488641500473022, 1.1488643884658813, 1.1488641500473022, 1.1488641500473022, 1.1488641500473022, 1.1488641500473022, 1.1488641500473022, 1.1488641500473022, 1.1488641500473022, 3.43803071975708, 3.463284969329834, 1.1488641500473022, 1.1488641500473022, 1.1488641500473022, 1.1488641500473022, 1.1488641500473022, 1.1488641500473022, 1.1488641500473022, 1.1488642692565918, 1.1488641500473022, 1.1488641500473022, 1.1488642692565918, 1.1488642692565918, 1.1488641500473022, 1.1488641500473022, 1.1488641500473022, 1.1488641500473022, 1.1488641500473022, 1.1488641500473022, 1.1488641500473022, 1.1488641500473022, 1.1488641500473022, 1.1488641500473022, 1.1488641500473022, 1.1488641500473022, 1.1488641500473022, 1.1488641500473022, 1.1488641500473022, 1.1488641500473022, 1.1488641500473022, 1.1488641500473022, 1.1488641500473022, 1.1488642692565918, 1.1488641500473022, 1.1488641500473022, 6.4087815284729, 1.1488641500473022, 6.892019748687744, 1.1488641500473022, 1.1488641500473022, 1.1488642692565918, 8.737333297729492, 1.1488641500473022, 14.441951751708984, 1.1488641500473022, 1.1488641500473022, 1.1488641500473022, 1.1488641500473022, 1.1488641500473022, 1.1488641500473022, 1.1488641500473022, 1.1488642692565918, 5.752172470092773, 1.1488641500473022, 1.1488641500473022, 1.1488641500473022, 1.1488641500473022, 6.884892463684082, 2.8795032501220703, 2.3165321350097656, 1.7222009897232056, 1.7222012281417847, 1.7222012281417847, 1.148256540298462, 1.148256540298462, 1.148256540298462, 1.148256540298462, 1.148256540298462, 1.148256540298462, 1.148256540298462, 1.148256540298462, 1.148256540298462, 1.148256540298462, 1.148256540298462, 1.148256540298462, 1.148256540298462, 1.148256540298462, 1.148256540298462, 1.148256540298462, 1.148256540298462, 1.148256540298462, 1.148256540298462, 1.148256540298462, 1.148256540298462, 1.148256540298462, 1.148256540298462, 1.148256540298462, 1.148256540298462, 1.148256540298462, 1.148256540298462, 1.148256540298462, 1.148256540298462, 1.148256540298462, 1.148256540298462, 1.148256540298462, 1.148256540298462, 1.148256540298462, 1.148256540298462, 1.148256540298462, 1.148256540298462, 1.148256540298462, 1.148256540298462, 1.148256540298462, 1.148256540298462, 1.148256540298462, 1.148256540298462, 1.148256540298462, 1.148256540298462, 1.148256540298462, 1.148256540298462, 2.285618305206299, 1.148256540298462, 1.148256540298462, 1.148256540298462, 1.148256540298462, 1.1482566595077515, 1.148256540298462, 1.1482566595077515, 1.148256540298462, 1.148256540298462, 1.148256540298462, 1.148256540298462, 1.148256540298462, 1.148256540298462, 1.1482566595077515, 1.148256540298462, 1.148256540298462, 1.148256540298462, 1.148256540298462, 1.148256540298462, 1.148256540298462, 1.148256540298462, 1.148256540298462, 1.148256540298462, 1.148256540298462, 1.148256540298462, 1.148256540298462, 2.3204164505004883, 2.3204166889190674, 1.148256540298462, 1.148256540298462, 1.148256540298462, 1.1482566595077515, 1.1482566595077515, 1.1482566595077515, 1.148256540298462, 1.148256540298462, 1.148256540298462, 1.148256540298462, 1.148256540298462, 1.148256540298462, 1.1482566595077515, 1.148256540298462, 1.148256540298462, 1.148256540298462, 1.148256540298462, 1.148256540298462, 1.148256540298462, 1.148256540298462, 1.148256540298462, 1.148256540298462, 1.148256540298462, 1.148256540298462, 1.148256540298462, 1.148256540298462, 1.148256540298462, 1.148256540298462, 1.148256540298462, 1.1482566595077515, 1.148256540298462, 1.148256540298462, 1.148256540298462, 1.148256540298462, 1.148256540298462, 1.148256540298462, 1.148256540298462, 1.148256540298462, 1.148256540298462, 1.148256540298462, 1.148256540298462, 1.148256540298462, 1.148256540298462, 1.148256540298462, 1.148256540298462, 1.1482566595077515, 1.148256540298462, 1.148256540298462, 1.148256540298462, 1.148256540298462, 4.036013603210449, 1.148256540298462, 1.148256540298462, 1.1482566595077515, 1.148256540298462, 1.148256540298462, 1.148256540298462, 1.1482566595077515, 1.148256540298462, 1.148256540298462, 1.148256540298462, 1.148256540298462, 1.148256540298462, 1.148256540298462, 1.148256540298462, 1.148256540298462, 1.148256540298462, 1.148256540298462, 1.1482566595077515, 1.148256540298462, 1.1482566595077515, 1.148256540298462, 1.148256540298462, 1.148256540298462, 1.148256540298462, 1.148256540298462, 1.148256540298462, 2.838050127029419, 10.392918586730957, 3.431377410888672, 1.148256540298462, 1.148256540298462, 1.148256540298462, 1.148256540298462, 1.148256540298462, 1.148256540298462, 1.148256540298462, 1.148256540298462, 1.1482566595077515, 1.148256540298462, 1.148256540298462, 1.148256540298462, 1.148256540298462, 1.148256540298462, 1.148256540298462, 1.148256540298462, 1.148256540298462, 1.148256540298462, 1.1482566595077515, 1.148256540298462, 1.148256540298462, 1.148256540298462, 1.1482566595077515, 1.148256540298462, 1.148256540298462, 1.148256540298462, 1.148256540298462, 4.011129379272461, 4.047545909881592, 4.050724506378174, 1.148256540298462, 1.148256540298462, 1.148256540298462, 1.148256540298462, 4.591085433959961, 1.148256540298462, 1.148256540298462, 14.441951751708984, 6.4087815284729, 6.964398384094238, 1.148256540298462, 1.148256540298462, 1.148256540298462, 1.148256540298462, 1.148256540298462, 1.148256540298462, 1.148256540298462, 1.1482566595077515, 1.148256540298462, 1.1482566595077515, 1.148256540298462, 1.148256540298462, 1.1482566595077515, 2.2584288120269775, 3.431746006011963, 1.728246808052063, 2.8296356201171875, 2.3429336547851562, 1.744718074798584, 1.7282465696334839, 2.3081347942352295, 1.719463586807251, 2.3264622688293457, 2.868356943130493, 2.2805490493774414, 2.2994537353515625, 1.7167259454727173, 1.7167260646820068, 1.7167260646820068, 1.7167260646820068, 1.7167260646820068, 1.7166435718536377, 1.7166435718536377, 2.8630917072296143, 1.1455190181732178, 1.1455190181732178, 1.1455190181732178, 1.1455190181732178, 1.1455190181732178, 1.1455190181732178, 1.1455190181732178, 1.1455190181732178, 1.1455190181732178, 1.1455190181732178, 1.1455190181732178, 1.1455190181732178, 1.1455190181732178, 1.1455190181732178, 1.1455190181732178, 1.1455190181732178, 1.1455190181732178, 1.1455190181732178, 1.1455190181732178, 1.1455190181732178, 1.1455190181732178, 1.1455190181732178, 1.1455190181732178, 1.1455190181732178, 1.1455190181732178, 1.1455190181732178, 1.1455190181732178, 1.1455190181732178, 1.1455190181732178, 1.1455190181732178, 1.1455190181732178, 1.1455190181732178, 1.1455190181732178, 1.1455190181732178, 1.1455190181732178, 1.1455190181732178, 1.1455190181732178, 1.1455190181732178, 1.1455190181732178, 1.1455190181732178, 1.1455190181732178, 1.1455190181732178, 1.1455190181732178, 1.1455190181732178, 2.274466037750244, 1.1455190181732178, 1.1455190181732178, 1.1455190181732178, 1.1455190181732178, 2.2801430225372314, 2.290670394897461, 2.290670394897461, 1.1455190181732178, 2.2967159748077393, 1.1455190181732178, 1.1455190181732178, 1.1455190181732178, 1.1455190181732178, 1.1455190181732178, 1.1455190181732178, 1.1455190181732178, 1.1455190181732178, 1.1455190181732178, 1.1455190181732178, 1.1455190181732178, 1.1455190181732178, 2.8443167209625244, 1.1455190181732178, 1.1455190181732178, 1.1455190181732178, 1.1455190181732178, 1.1455190181732178, 2.8484106063842773, 2.8766045570373535, 1.1455190181732178, 1.1455190181732178, 1.1455190181732178, 1.1455190181732178, 1.1455190181732178, 1.1455190181732178, 1.1455190181732178, 2.889493465423584, 1.1455190181732178, 1.1455190181732178, 1.1455190181732178, 1.1455190181732178, 1.1455190181732178, 1.1455190181732178, 1.1455190181732178, 1.1455190181732178, 1.1455190181732178, 1.1455190181732178, 1.1455190181732178, 1.1455190181732178, 1.1455190181732178, 5.646005630493164, 1.1455190181732178, 1.1455190181732178, 1.1455190181732178, 1.1455190181732178, 1.1455190181732178, 1.1455190181732178, 1.1455190181732178, 1.1455190181732178, 1.1455190181732178, 1.1455190181732178, 1.1455190181732178, 1.1455190181732178, 1.1455190181732178, 1.1455190181732178, 1.1455190181732178, 1.1455190181732178, 1.1455190181732178, 3.406519889831543, 1.1455190181732178, 1.1455190181732178, 1.1455190181732178, 6.884892463684082, 1.1455190181732178, 8.14706039428711, 1.1455190181732178, 1.1455190181732178, 1.1455190181732178, 1.1455190181732178, 1.1455190181732178, 1.1455190181732178, 1.1455190181732178, 1.1455190181732178, 1.1455190181732178, 1.1455190181732178, 1.1455190181732178, 1.1455190181732178, 1.1455190181732178, 1.1455190181732178, 1.1455190181732178, 1.1455190181732178, 1.1455190181732178, 1.1455190181732178, 1.1455190181732178, 1.1455190181732178, 1.1455190181732178, 1.1455190181732178, 1.1455190181732178, 1.1455190181732178, 1.1455190181732178, 1.1455190181732178, 1.1455190181732178, 1.1455190181732178, 1.1455190181732178, 1.1455190181732178, 1.1455190181732178, 14.441951751708984, 5.762648105621338, 1.1455190181732178, 1.1455190181732178, 1.1455190181732178, 6.32643461227417, 1.1455190181732178, 5.752172470092773, 1.1455190181732178, 1.1455190181732178, 1.1455190181732178, 1.1455190181732178, 1.1455190181732178, 1.1455190181732178, 1.1455190181732178, 1.1455190181732178, 1.1455190181732178, 1.1455190181732178, 1.1455190181732178, 2.3165321350097656, 3.431746006011963, 2.868356943130493, 3.9951624870300293, 2.8799495697021484], \"loglift\": [30.0, 29.0, 28.0, 27.0, 26.0, 25.0, 24.0, 23.0, 22.0, 21.0, 20.0, 19.0, 18.0, 17.0, 16.0, 15.0, 14.0, 13.0, 12.0, 11.0, 10.0, 9.0, 8.0, 7.0, 6.0, 5.0, 4.0, 3.0, 2.0, 1.0, 1.9778000116348267, 1.9230999946594238, 1.8249000310897827, 1.8249000310897827, 1.8249000310897827, 1.7064000368118286, 1.590499997138977, 1.590499997138977, 1.590499997138977, 1.590499997138977, 1.590499997138977, 1.590499997138977, 1.590499997138977, 1.590499997138977, 1.590499997138977, 1.590499997138977, 1.590499997138977, 1.590499997138977, 1.590499997138977, 1.590499997138977, 1.590499997138977, 1.590499997138977, 1.590499997138977, 1.590499997138977, 1.590499997138977, 1.590499997138977, 1.590499997138977, 1.590499997138977, 1.590499997138977, 1.590499997138977, 1.590499997138977, 1.590499997138977, 1.590499997138977, 1.590499997138977, 1.590499997138977, 1.590499997138977, 1.590499997138977, 1.590499997138977, 1.590499997138977, 1.590499997138977, 1.590499997138977, 1.590499997138977, 1.590499997138977, 1.590499997138977, 1.590499997138977, 1.590499997138977, 1.590499997138977, 1.590499997138977, 1.590499997138977, 1.590499997138977, 1.590499997138977, 1.590499997138977, 1.590499997138977, 1.590499997138977, 1.590499997138977, 1.590499997138977, 1.590499997138977, 1.590499997138977, 1.590499997138977, 1.590499997138977, 1.590499997138977, 1.590499997138977, 1.590499997138977, 1.590499997138977, 1.590499997138977, 1.590499997138977, 1.590499997138977, 1.590499997138977, 1.590499997138977, 1.590499997138977, 1.590499997138977, 1.590499997138977, 1.590499997138977, 1.590499997138977, 1.590499997138977, 1.590499997138977, 1.590499997138977, 1.590499997138977, 1.590499997138977, 1.590499997138977, 1.590499997138977, 1.590499997138977, 1.5195000171661377, 1.5534000396728516, 1.590499997138977, 1.590499997138977, 1.590499997138977, 1.590499997138977, 1.590499997138977, 1.590499997138977, 1.590499997138977, 1.590499997138977, 1.590499997138977, 1.590499997138977, 1.590499997138977, 1.590499997138977, 1.590499997138977, 1.590499997138977, 1.590499997138977, 1.590499997138977, 1.590499997138977, 1.590499997138977, 1.590499997138977, 1.548699975013733, 1.548699975013733, 1.548699975013733, 1.545300006866455, 1.5436999797821045, 1.590499997138977, 1.590499997138977, 1.590499997138977, 1.590499997138977, 1.590499997138977, 1.590499997138977, 1.590499997138977, 1.590499997138977, 1.590499997138977, 1.590499997138977, 1.590499997138977, 1.590499997138977, 1.590499997138977, 1.590499997138977, 1.590499997138977, 1.590499997138977, 1.590499997138977, 1.590499997138977, 1.590499997138977, 1.590499997138977, 1.590499997138977, 1.590499997138977, 1.590499997138977, 1.590499997138977, 1.590499997138977, 1.590499997138977, 1.590499997138977, 1.590499997138977, 1.590499997138977, 1.590499997138977, 1.3442000150680542, 1.590499997138977, 1.590499997138977, 1.590499997138977, 1.590499997138977, 1.590499997138977, 1.590499997138977, 1.590499997138977, 1.590499997138977, 1.590499997138977, 1.590499997138977, 1.590499997138977, 1.590499997138977, 1.590499997138977, 1.590499997138977, 1.590499997138977, 1.2950999736785889, 1.590499997138977, 1.590499997138977, 1.590499997138977, 1.590499997138977, 1.590499997138977, 1.590499997138977, 1.590499997138977, 1.590499997138977, 1.590499997138977, 1.590499997138977, 1.590499997138977, 1.590499997138977, 1.590499997138977, 1.590499997138977, 1.590499997138977, 1.590499997138977, 1.590499997138977, 1.590499997138977, 1.590499997138977, 1.590499997138977, 1.590499997138977, 1.590499997138977, 1.590499997138977, 1.590499997138977, 1.590499997138977, 1.590499997138977, 1.590499997138977, 1.590499997138977, 1.590499997138977, 1.590499997138977, 1.248900055885315, 1.3308000564575195, 1.590499997138977, 1.326200008392334, 1.3259999752044678, 1.590499997138977, 1.590499997138977, 1.590499997138977, 1.590499997138977, 1.590499997138977, 1.590499997138977, 1.590499997138977, 1.590499997138977, 0.9280999898910522, 1.590499997138977, 1.590499997138977, 1.1557999849319458, 1.1483999490737915, 1.1452000141143799, 1.143399953842163, 1.1358000040054321, 0.6881999969482422, 0.6830000281333923, 0.9936000108718872, 0.9873999953269958, 0.9850999712944031, 0.11569999903440475, 0.5504000186920166, 0.9847999811172485, 0.6467000246047974, 2.042099952697754, 2.042099952697754, 2.042099952697754, 2.042099952697754, 2.042099952697754, 2.042099952697754, 2.0399999618530273, 1.9103000164031982, 1.7943999767303467, 1.7943999767303467, 1.7943999767303467, 1.7943999767303467, 1.7943999767303467, 1.7943999767303467, 1.7943999767303467, 1.7943999767303467, 1.7943999767303467, 1.7943999767303467, 1.7943999767303467, 1.7943999767303467, 1.7943999767303467, 1.7943999767303467, 1.7943999767303467, 1.7943999767303467, 1.7943999767303467, 1.7943999767303467, 1.7943999767303467, 1.7943999767303467, 1.7943999767303467, 1.7943999767303467, 1.7943999767303467, 1.7943999767303467, 1.7943999767303467, 1.7943999767303467, 1.7943999767303467, 1.7943999767303467, 1.7943999767303467, 1.7943999767303467, 1.7943999767303467, 1.7943999767303467, 1.7943999767303467, 1.7943999767303467, 1.7943999767303467, 1.7943999767303467, 1.7943999767303467, 1.7943999767303467, 1.7943999767303467, 1.7943999767303467, 1.7943999767303467, 1.7943999767303467, 1.7943999767303467, 1.7943999767303467, 1.7943999767303467, 1.7943999767303467, 1.7943999767303467, 1.7943999767303467, 1.7943999767303467, 1.7943999767303467, 1.7943999767303467, 1.7943999767303467, 1.7943999767303467, 1.7943999767303467, 1.7943999767303467, 1.7553000450134277, 1.7943999767303467, 1.7943999767303467, 1.7527999877929688, 1.7493000030517578, 1.7493000030517578, 1.7481000423431396, 1.7481000423431396, 1.7943999767303467, 1.7943999767303467, 1.7943999767303467, 1.7943999767303467, 1.7943999767303467, 1.7943999767303467, 1.7943999767303467, 1.7943999767303467, 1.7943999767303467, 1.7943999767303467, 1.7943999767303467, 1.7943999767303467, 1.7943999767303467, 1.7943999767303467, 1.7943999767303467, 1.7943999767303467, 1.7943999767303467, 1.7943999767303467, 1.7943999767303467, 1.7943999767303467, 1.7943999767303467, 1.7943999767303467, 1.7943999767303467, 1.7943999767303467, 1.7943999767303467, 1.7943999767303467, 1.7943999767303467, 1.7943999767303467, 1.7943999767303467, 1.7943999767303467, 1.7943999767303467, 1.7943999767303467, 1.7943999767303467, 1.7943999767303467, 1.7943999767303467, 1.5206999778747559, 1.5130000114440918, 1.5111000537872314, 1.7943999767303467, 1.7943999767303467, 1.7943999767303467, 1.7943999767303467, 1.7943999767303467, 1.7943999767303467, 1.7943999767303467, 1.7943999767303467, 1.7943999767303467, 1.7943999767303467, 1.7943999767303467, 1.7943999767303467, 1.7943999767303467, 1.7943999767303467, 1.7943999767303467, 1.7943999767303467, 1.7943999767303467, 1.7943999767303467, 1.3402999639511108, 1.7943999767303467, 1.7943999767303467, 1.7943999767303467, 1.7943999767303467, 1.7943999767303467, 1.7943999767303467, 1.7943999767303467, 1.7943999767303467, 1.7943999767303467, 1.7943999767303467, 1.7943999767303467, 1.7943999767303467, 1.7943999767303467, 1.7943999767303467, 1.7943999767303467, 1.18149995803833, 1.7943999767303467, 1.7943999767303467, 1.7943999767303467, 1.7943999767303467, 1.7943999767303467, 1.7943999767303467, 1.7943999767303467, 1.7943999767303467, 1.7943999767303467, 1.7943999767303467, 1.7943999767303467, 1.7943999767303467, 1.0460000038146973, 1.0422999858856201, 1.7943999767303467, 1.7943999767303467, 1.7943999767303467, 1.7943999767303467, 1.7943999767303467, 0.5006999969482422, 1.7943999767303467, 1.7943999767303467, 1.7943999767303467, 1.7943999767303467, 1.7943999767303467, 1.7943999767303467, 1.7943999767303467, 1.7943999767303467, 0.8295000195503235, 1.7943999767303467, 1.7943999767303467, 1.7943999767303467, 1.7943999767303467, 1.7943999767303467, 1.7943999767303467, 1.7943999767303467, 1.7943999767303467, 0.5598999857902527, 1.7943999767303467, 1.7943999767303467, 1.7943999767303467, 1.7943999767303467, 1.7943999767303467, 0.3928000032901764, 1.7943999767303467, 1.7943999767303467, 1.7943999767303467, 1.7943999767303467, 1.7943999767303467, 1.7943999767303467, 1.7943999767303467, 1.7943999767303467, 1.7943999767303467, 1.7943999767303467, 1.7943999767303467, 1.7943999767303467, 1.7943999767303467, 0.8654000163078308, 1.3844000101089478, 0.5311999917030334, 0.8705000281333923, 1.0821000337600708, 2.009999990463257, 2.009999990463257, 2.009999990463257, 1.7655999660491943, 1.7655999660491943, 1.7655999660491943, 1.7655999660491943, 1.7655999660491943, 1.7655999660491943, 1.7655999660491943, 1.7655999660491943, 1.7655999660491943, 1.7655999660491943, 1.7655999660491943, 1.7655999660491943, 1.7655999660491943, 1.7655999660491943, 1.7655999660491943, 1.7655999660491943, 1.7655999660491943, 1.7655999660491943, 1.7655999660491943, 1.7655999660491943, 1.7655999660491943, 1.7655999660491943, 1.7655999660491943, 1.7655999660491943, 1.7655999660491943, 1.7655999660491943, 1.7655999660491943, 1.7655999660491943, 1.7655999660491943, 1.7655999660491943, 1.7655999660491943, 1.7655999660491943, 1.7655999660491943, 1.7655999660491943, 1.7655999660491943, 1.7655999660491943, 1.7655999660491943, 1.7655999660491943, 1.7655999660491943, 1.7655999660491943, 1.7655999660491943, 1.7655999660491943, 1.7655999660491943, 1.7655999660491943, 1.7655999660491943, 1.7655999660491943, 1.7655999660491943, 1.7655999660491943, 1.7655999660491943, 1.7655999660491943, 1.7655999660491943, 1.7288000583648682, 1.7655999660491943, 1.7655999660491943, 1.7655999660491943, 1.7655999660491943, 1.7655999660491943, 1.7655999660491943, 1.7655999660491943, 1.7655999660491943, 1.7655999660491943, 1.7655999660491943, 1.7655999660491943, 1.7655999660491943, 1.7655999660491943, 1.7655999660491943, 1.7655999660491943, 1.7655999660491943, 1.7655999660491943, 1.7655999660491943, 1.7655999660491943, 1.7187000513076782, 1.7187000513076782, 1.716599941253662, 1.7655999660491943, 1.7655999660491943, 1.7655999660491943, 1.7655999660491943, 1.7655999660491943, 1.7655999660491943, 1.7655999660491943, 1.7655999660491943, 1.7655999660491943, 1.7655999660491943, 1.7655999660491943, 1.7086000442504883, 1.7655999660491943, 1.7655999660491943, 1.7655999660491943, 1.7655999660491943, 1.7655999660491943, 1.7655999660491943, 1.7655999660491943, 1.7655999660491943, 1.7655999660491943, 1.7655999660491943, 1.7655999660491943, 1.7655999660491943, 1.7655999660491943, 1.7655999660491943, 1.7655999660491943, 1.7655999660491943, 1.7655999660491943, 1.7655999660491943, 1.7655999660491943, 1.7655999660491943, 1.7655999660491943, 1.7655999660491943, 1.7655999660491943, 1.7655999660491943, 1.7655999660491943, 1.7655999660491943, 1.7655999660491943, 1.7655999660491943, 1.7655999660491943, 1.7655999660491943, 1.7655999660491943, 1.7655999660491943, 1.7655999660491943, 1.7655999660491943, 1.7655999660491943, 1.7655999660491943, 1.7655999660491943, 1.7655999660491943, 1.7655999660491943, 1.4153000116348267, 1.7655999660491943, 1.7655999660491943, 1.7655999660491943, 1.281000018119812, 1.7655999660491943, 1.1812000274658203, 1.7655999660491943, 1.3006999492645264, 1.7655999660491943, 1.7655999660491943, 1.7655999660491943, 1.7655999660491943, 1.7655999660491943, 1.7655999660491943, 1.7655999660491943, 1.7655999660491943, 1.7655999660491943, 1.7655999660491943, 1.7655999660491943, 1.7655999660491943, 1.7655999660491943, 1.7655999660491943, 1.7655999660491943, 1.7655999660491943, 1.7655999660491943, 1.7655999660491943, 1.7655999660491943, 1.7655999660491943, 1.7655999660491943, 1.7655999660491943, 1.7655999660491943, 1.7655999660491943, 1.7655999660491943, 1.7655999660491943, 1.7655999660491943, 1.7655999660491943, 1.7655999660491943, 1.7655999660491943, 1.7655999660491943, 1.7655999660491943, 1.7655999660491943, 1.7655999660491943, 1.7655999660491943, 1.7655999660491943, 1.7655999660491943, 1.7655999660491943, 1.7655999660491943, 1.7655999660491943, 1.7655999660491943, 1.7655999660491943, 1.7655999660491943, 1.7655999660491943, 1.7655999660491943, 1.7655999660491943, 1.7655999660491943, 1.7655999660491943, 1.7655999660491943, 1.7655999660491943, 1.7655999660491943, 1.7655999660491943, 1.7655999660491943, 1.7655999660491943, 1.7655999660491943, 1.7655999660491943, 1.7655999660491943, 1.7655999660491943, 1.7655999660491943, 1.7655999660491943, 1.7655999660491943, 1.7655999660491943, 1.7655999660491943, 1.7655999660491943, 1.7655999660491943, 1.7655999660491943, 1.7655999660491943, 1.7655999660491943, 1.7655999660491943, 1.7655999660491943, 1.7655999660491943, 0.6953999996185303, 1.7655999660491943, 1.7655999660491943, 1.7655999660491943, 1.7655999660491943, 1.7655999660491943, 0.5407000184059143, 1.7655999660491943, 0.37369999289512634, 1.7655999660491943, 1.7655999660491943, 1.7655999660491943, 1.7655999660491943, 1.7655999660491943, 1.7655999660491943, 1.7655999660491943, -0.12890000641345978, 1.7655999660491943, 1.7655999660491943, 1.7655999660491943, 0.8276000022888184, 0.25619998574256897, 0.8435999751091003, 1.0569000244140625, 0.8513000011444092, 1.344099998474121, 0.5095999836921692, 1.3565000295639038, 1.3567999601364136, 1.3588000535964966, 1.0575000047683716, 1.353700041770935, 1.3697999715805054, 1.3430999517440796, 1.9602999687194824, 1.9602999687194824, 1.9602999687194824, 1.9602999687194824, 1.9602999687194824, 1.7194000482559204, 1.7194000482559204, 1.7194000482559204, 1.7194000482559204, 1.7194000482559204, 1.7194000482559204, 1.7194000482559204, 1.7194000482559204, 1.7194000482559204, 1.7194000482559204, 1.7194000482559204, 1.7194000482559204, 1.7194000482559204, 1.7194000482559204, 1.7194000482559204, 1.7194000482559204, 1.7194000482559204, 1.7194000482559204, 1.7194000482559204, 1.7194000482559204, 1.7194000482559204, 1.7194000482559204, 1.7194000482559204, 1.7194000482559204, 1.7194000482559204, 1.6800999641418457, 1.7194000482559204, 1.7194000482559204, 1.7194000482559204, 1.7194000482559204, 1.7194000482559204, 1.7194000482559204, 1.7194000482559204, 1.7194000482559204, 1.7194000482559204, 1.7194000482559204, 1.7194000482559204, 1.7194000482559204, 1.7194000482559204, 1.7194000482559204, 1.7194000482559204, 1.7194000482559204, 1.7194000482559204, 1.7194000482559204, 1.7194000482559204, 1.7194000482559204, 1.7194000482559204, 1.7194000482559204, 1.7194000482559204, 1.7194000482559204, 1.7194000482559204, 1.7194000482559204, 1.7194000482559204, 1.7194000482559204, 1.662500023841858, 1.7194000482559204, 1.7194000482559204, 1.7194000482559204, 1.7194000482559204, 1.4214999675750732, 1.7194000482559204, 1.7194000482559204, 1.3707000017166138, 1.7194000482559204, 1.7194000482559204, 1.7194000482559204, 1.7194000482559204, 1.7194000482559204, 1.7194000482559204, 1.7194000482559204, 1.7194000482559204, 1.7194000482559204, 1.7194000482559204, 1.7194000482559204, 1.7194000482559204, 1.7194000482559204, 1.7194000482559204, 1.434000015258789, 0.9016000032424927, 1.7194000482559204, 1.7194000482559204, 1.7194000482559204, 0.9643999934196472, 0.7919999957084656, 1.1064000129699707, 1.1025999784469604, 1.7194000482559204, 1.7194000482559204, 1.7194000482559204, 1.7194000482559204, 1.0964000225067139, 1.7194000482559204, 0.9871000051498413, 0.9724000096321106, 0.6606000065803528, 1.7194000482559204, 0.6158999800682068, 0.7968000173568726, 1.0336999893188477, 1.0146000385284424, 0.7937999963760376, 0.8008000254631042, 1.323799967765808, 0.8102999925613403, 1.3269000053405762, 0.22030000388622284, 0.6107000112533569, 1.832800030708313, 1.832800030708313, 1.832800030708313, 1.832800030708313, 1.832800030708313, 1.832800030708313, 1.832800030708313, 1.832800030708313, 1.832800030708313, 1.832800030708313, 1.832800030708313, 1.8313000202178955, 1.5979000329971313, 1.5979000329971313, 1.5979000329971313, 1.5979000329971313, 1.5979000329971313, 1.5979000329971313, 1.5979000329971313, 1.5979000329971313, 1.5979000329971313, 1.5979000329971313, 1.5979000329971313, 1.5979000329971313, 1.5979000329971313, 1.5979000329971313, 1.5979000329971313, 1.5979000329971313, 1.5979000329971313, 1.5979000329971313, 1.5979000329971313, 1.5979000329971313, 1.5979000329971313, 1.5979000329971313, 1.5979000329971313, 1.5979000329971313, 1.5979000329971313, 1.5979000329971313, 1.5979000329971313, 1.5979000329971313, 1.5979000329971313, 1.5979000329971313, 1.5979000329971313, 1.5979000329971313, 1.5979000329971313, 1.5979000329971313, 1.5979000329971313, 1.5979000329971313, 1.5979000329971313, 1.5979000329971313, 1.5979000329971313, 1.5369000434875488, 1.558500051498413, 1.5561000108718872, 1.551300048828125, 1.5511000156402588, 1.5979000329971313, 1.5979000329971313, 1.5979000329971313, 1.5979000329971313, 1.5979000329971313, 1.5979000329971313, 1.5979000329971313, 1.5979000329971313, 1.5979000329971313, 1.5979000329971313, 1.5979000329971313, 1.5979000329971313, 1.5979000329971313, 1.5979000329971313, 1.5979000329971313, 1.5979000329971313, 1.5979000329971313, 1.5979000329971313, 1.5979000329971313, 1.5979000329971313, 1.5979000329971313, 1.5979000329971313, 1.5979000329971313, 1.5979000329971313, 1.5979000329971313, 1.5979000329971313, 1.3016999959945679, 1.3487999439239502, 1.5979000329971313, 1.5979000329971313, 1.5979000329971313, 1.5979000329971313, 1.5979000329971313, 1.5979000329971313, 1.5979000329971313, 1.5979000329971313, 1.5979000329971313, 1.5979000329971313, 1.5979000329971313, 1.5979000329971313, 1.5979000329971313, 1.5979000329971313, 1.5979000329971313, 1.5979000329971313, 1.5979000329971313, 1.5979000329971313, 1.5979000329971313, 1.5979000329971313, 1.5979000329971313, 1.5979000329971313, 1.5979000329971313, 1.5979000329971313, 1.5979000329971313, 1.5979000329971313, 1.3355000019073486, 1.3314000368118286, 1.3281999826431274, 1.5979000329971313, 1.5979000329971313, 1.5979000329971313, 1.5979000329971313, 1.5979000329971313, 0.968500018119812, 1.5979000329971313, 1.5979000329971313, 1.5979000329971313, 1.5979000329971313, 1.5979000329971313, 1.5979000329971313, 1.5979000329971313, 1.5979000329971313, 1.5979000329971313, 1.5979000329971313, 1.5979000329971313, 1.5979000329971313, 1.5979000329971313, 1.5979000329971313, 1.5979000329971313, 1.5979000329971313, 1.5979000329971313, 1.5979000329971313, 1.1561000347137451, 1.1553000211715698, 1.1547000408172607, 1.1517000198364258, 1.5979000329971313, 1.5979000329971313, 1.5979000329971313, 1.5979000329971313, 0.694100022315979, 1.0163999795913696, 1.0087000131607056, 0.4505999982357025, 0.6492999792098999, 0.9907000064849854, 1.9301999807357788, 1.9301999807357788, 1.9301999807357788, 1.9301999807357788, 1.9301999807357788, 1.9301999807357788, 1.9301999807357788, 1.690600037574768, 1.690600037574768, 1.690600037574768, 1.690600037574768, 1.690600037574768, 1.690600037574768, 1.690600037574768, 1.690600037574768, 1.690600037574768, 1.690600037574768, 1.690600037574768, 1.690600037574768, 1.690600037574768, 1.690600037574768, 1.690600037574768, 1.690600037574768, 1.690600037574768, 1.690600037574768, 1.690600037574768, 1.690600037574768, 1.690600037574768, 1.690600037574768, 1.690600037574768, 1.690600037574768, 1.690600037574768, 1.690600037574768, 1.6535999774932861, 1.6512999534606934, 1.690600037574768, 1.690600037574768, 1.6442999839782715, 1.634600043296814, 1.690600037574768, 1.690600037574768, 1.4785000085830688, 1.4255000352859497, 1.422700047492981, 1.4218000173568726, 1.4143999814987183, 1.690600037574768, 1.4067000150680542, 1.2247999906539917, 1.690600037574768, 1.690600037574768, 1.690600037574768, 1.2403000593185425, 1.2402000427246094, 1.2338000535964966, 1.2280000448226929, 1.2202999591827393, 1.690600037574768, 1.690600037574768, 1.690600037574768, 1.690600037574768, 1.690600037574768, 1.690600037574768, 1.0916999578475952, 1.0866999626159668, 1.0694999694824219, 0.9477999806404114, 1.690600037574768, 1.690600037574768, 1.690600037574768, 0.5504000186920166, 1.690600037574768, 1.690600037574768, 0.0786999985575676, -0.18940000236034393, 2.0371999740600586, 2.0371999740600586, 2.0371999740600586, 2.0371999740600586, 1.8450000286102295, 1.791100025177002, 1.791100025177002, 1.791100025177002, 1.791100025177002, 1.791100025177002, 1.791100025177002, 1.791100025177002, 1.791100025177002, 1.791100025177002, 1.791100025177002, 1.791100025177002, 1.791100025177002, 1.791100025177002, 1.791100025177002, 1.791100025177002, 1.791100025177002, 1.791100025177002, 1.791100025177002, 1.791100025177002, 1.791100025177002, 1.791100025177002, 1.791100025177002, 1.791100025177002, 1.791100025177002, 1.791100025177002, 1.791100025177002, 1.791100025177002, 1.791100025177002, 1.791100025177002, 1.791100025177002, 1.791100025177002, 1.791100025177002, 1.791100025177002, 1.791100025177002, 1.791100025177002, 1.791100025177002, 1.791100025177002, 1.791100025177002, 1.791100025177002, 1.791100025177002, 1.791100025177002, 1.791100025177002, 1.791100025177002, 1.791100025177002, 1.791100025177002, 1.791100025177002, 1.791100025177002, 1.791100025177002, 1.791100025177002, 1.791100025177002, 1.791100025177002, 1.791100025177002, 1.791100025177002, 1.791100025177002, 1.791100025177002, 1.791100025177002, 1.791100025177002, 1.791100025177002, 1.791100025177002, 1.791100025177002, 1.791100025177002, 1.791100025177002, 1.791100025177002, 1.791100025177002, 1.791100025177002, 1.7542999982833862, 1.791100025177002, 1.791100025177002, 1.791100025177002, 1.791100025177002, 1.791100025177002, 1.791100025177002, 1.791100025177002, 1.791100025177002, 1.791100025177002, 1.791100025177002, 1.791100025177002, 1.791100025177002, 1.791100025177002, 1.791100025177002, 1.791100025177002, 1.791100025177002, 1.791100025177002, 1.746000051498413, 1.7443000078201294, 1.791100025177002, 1.791100025177002, 1.791100025177002, 1.791100025177002, 1.791100025177002, 1.791100025177002, 1.791100025177002, 1.791100025177002, 1.791100025177002, 1.791100025177002, 1.791100025177002, 1.791100025177002, 1.791100025177002, 1.791100025177002, 1.7340999841690063, 1.791100025177002, 1.791100025177002, 1.791100025177002, 1.791100025177002, 1.791100025177002, 1.791100025177002, 1.791100025177002, 1.791100025177002, 1.791100025177002, 1.791100025177002, 1.791100025177002, 1.791100025177002, 1.791100025177002, 1.791100025177002, 1.791100025177002, 1.791100025177002, 1.791100025177002, 1.791100025177002, 1.791100025177002, 1.791100025177002, 1.791100025177002, 1.791100025177002, 1.791100025177002, 1.791100025177002, 1.791100025177002, 1.791100025177002, 1.791100025177002, 1.791100025177002, 1.791100025177002, 1.791100025177002, 1.791100025177002, 1.791100025177002, 1.791100025177002, 1.791100025177002, 1.791100025177002, 1.791100025177002, 1.791100025177002, 1.791100025177002, 1.791100025177002, 1.791100025177002, 1.791100025177002, 1.791100025177002, 1.791100025177002, 1.791100025177002, 1.791100025177002, 1.791100025177002, 1.791100025177002, 1.791100025177002, 1.791100025177002, 1.791100025177002, 1.791100025177002, 1.791100025177002, 1.791100025177002, 1.791100025177002, 1.791100025177002, 1.791100025177002, 1.791100025177002, 1.791100025177002, 1.791100025177002, 1.791100025177002, 1.791100025177002, 1.791100025177002, 1.791100025177002, 1.791100025177002, 1.791100025177002, 1.791100025177002, 1.791100025177002, 1.791100025177002, 1.791100025177002, 1.5262000560760498, 1.791100025177002, 1.791100025177002, 1.791100025177002, 1.791100025177002, 1.791100025177002, 1.791100025177002, 1.2202999591827393, 1.791100025177002, 1.791100025177002, 1.791100025177002, 1.791100025177002, 1.3213000297546387, 1.791100025177002, 0.9508000016212463, 1.791100025177002, 1.791100025177002, 1.791100025177002, 1.791100025177002, 1.791100025177002, 1.791100025177002, 1.791100025177002, 1.791100025177002, 1.791100025177002, 1.791100025177002, 1.791100025177002, 1.1855000257492065, 1.791100025177002, 1.791100025177002, 1.791100025177002, 1.791100025177002, 1.1683000326156616, 1.791100025177002, 1.791100025177002, 1.791100025177002, 1.791100025177002, 1.791100025177002, 1.791100025177002, 1.791100025177002, 1.791100025177002, 1.0463000535964966, 1.791100025177002, 1.791100025177002, 1.791100025177002, 1.791100025177002, 1.791100025177002, 1.791100025177002, 1.791100025177002, 1.791100025177002, 1.791100025177002, 1.791100025177002, 1.791100025177002, 1.791100025177002, 1.791100025177002, 1.791100025177002, 1.791100025177002, 1.791100025177002, 0.6315000057220459, 1.791100025177002, 0.15970000624656677, 1.791100025177002, 1.791100025177002, 1.791100025177002, 1.791100025177002, 0.676800012588501, 1.3668999671936035, 0.5205000042915344, 0.2768000066280365, 1.377500057220459, 1.0778000354766846, 1.0823999643325806, 1.0906000137329102, 1.0778000354766846, 1.3668999671936035, 1.0707000494003296, 1.3937000036239624, 1.9400999546051025, 1.9400999546051025, 1.9400999546051025, 1.9400999546051025, 1.8244999647140503, 1.6990000009536743, 1.6990000009536743, 1.6990000009536743, 1.6990000009536743, 1.6990000009536743, 1.6990000009536743, 1.6990000009536743, 1.6990000009536743, 1.6990000009536743, 1.6990000009536743, 1.6990000009536743, 1.6990000009536743, 1.6990000009536743, 1.6990000009536743, 1.6990000009536743, 1.6990000009536743, 1.6990000009536743, 1.6990000009536743, 1.6990000009536743, 1.6990000009536743, 1.6990000009536743, 1.6990000009536743, 1.6990000009536743, 1.6990000009536743, 1.6990000009536743, 1.6990000009536743, 1.6990000009536743, 1.6990000009536743, 1.6990000009536743, 1.6990000009536743, 1.6990000009536743, 1.6990000009536743, 1.6990000009536743, 1.6990000009536743, 1.6990000009536743, 1.6990000009536743, 1.6990000009536743, 1.6990000009536743, 1.6990000009536743, 1.6990000009536743, 1.6990000009536743, 1.6990000009536743, 1.6990000009536743, 1.6990000009536743, 1.6990000009536743, 1.6990000009536743, 1.6990000009536743, 1.6990000009536743, 1.6990000009536743, 1.6990000009536743, 1.6990000009536743, 1.6990000009536743, 1.6990000009536743, 1.6990000009536743, 1.6990000009536743, 1.6990000009536743, 1.6990000009536743, 1.6990000009536743, 1.6990000009536743, 1.6990000009536743, 1.6990000009536743, 1.6990000009536743, 1.6990000009536743, 1.6990000009536743, 1.642199993133545, 1.6619999408721924, 1.6612000465393066, 1.6990000009536743, 1.6990000009536743, 1.6571999788284302, 1.6538000106811523, 1.6526000499725342, 1.6526000499725342, 1.6226999759674072, 1.6990000009536743, 1.6990000009536743, 1.6990000009536743, 1.6990000009536743, 1.642899990081787, 1.6990000009536743, 1.6990000009536743, 1.6990000009536743, 1.6990000009536743, 1.6990000009536743, 1.6990000009536743, 1.6990000009536743, 1.6990000009536743, 1.36080002784729, 1.6990000009536743, 1.6990000009536743, 1.6990000009536743, 1.6990000009536743, 1.6990000009536743, 1.6990000009536743, 1.6990000009536743, 1.6990000009536743, 1.6990000009536743, 1.6990000009536743, 1.6990000009536743, 1.6990000009536743, 1.6990000009536743, 1.6990000009536743, 1.6990000009536743, 1.6990000009536743, 1.6990000009536743, 1.6990000009536743, 1.444700002670288, 1.4328999519348145, 1.6990000009536743, 1.6990000009536743, 1.6990000009536743, 1.6990000009536743, 1.6990000009536743, 1.6990000009536743, 1.6990000009536743, 1.6990000009536743, 1.6990000009536743, 1.420300006866455, 1.6990000009536743, 1.6990000009536743, 1.6990000009536743, 0.9225000143051147, 1.6990000009536743, 1.6990000009536743, 1.122499942779541, 1.6990000009536743, 1.6990000009536743, 1.6990000009536743, 1.6990000009536743, 1.6990000009536743, 1.6990000009536743, 1.6990000009536743, 1.6990000009536743, 1.6990000009536743, 1.6990000009536743, 1.6990000009536743, 1.249500036239624, 1.2422000169754028, 1.6990000009536743, 1.6990000009536743, 1.6990000009536743, 1.6990000009536743, 1.6990000009536743, 1.6990000009536743, 1.6990000009536743, 1.6990000009536743, 1.6990000009536743, 1.6990000009536743, 1.6990000009536743, 1.6990000009536743, 1.6990000009536743, 1.6990000009536743, 1.6990000009536743, 1.6990000009536743, 1.6990000009536743, 1.6990000009536743, 1.6990000009536743, 1.6990000009536743, 1.6990000009536743, 1.6990000009536743, 1.6990000009536743, 1.6990000009536743, 1.6990000009536743, 1.6990000009536743, 1.6990000009536743, 1.6990000009536743, 1.6990000009536743, 1.6990000009536743, 1.6990000009536743, 1.6990000009536743, 1.6990000009536743, 1.6990000009536743, 0.6266999840736389, 1.6990000009536743, 0.5540000200271606, 1.6990000009536743, 1.6990000009536743, 1.6990000009536743, 0.31679999828338623, 1.6990000009536743, -0.1858000010251999, 1.6990000009536743, 1.6990000009536743, 1.6990000009536743, 1.6990000009536743, 1.6990000009536743, 1.6990000009536743, 1.6990000009536743, 1.6990000009536743, 0.17949999868869781, 1.6990000009536743, 1.6990000009536743, 1.6990000009536743, 1.6990000009536743, -0.037700001150369644, 0.7802000045776367, 0.9976999759674072, 1.94350004196167, 1.94350004196167, 1.94350004196167, 1.702299952507019, 1.702299952507019, 1.702299952507019, 1.702299952507019, 1.702299952507019, 1.702299952507019, 1.702299952507019, 1.702299952507019, 1.702299952507019, 1.702299952507019, 1.702299952507019, 1.702299952507019, 1.702299952507019, 1.702299952507019, 1.702299952507019, 1.702299952507019, 1.702299952507019, 1.702299952507019, 1.702299952507019, 1.702299952507019, 1.702299952507019, 1.702299952507019, 1.702299952507019, 1.702299952507019, 1.702299952507019, 1.702299952507019, 1.702299952507019, 1.702299952507019, 1.702299952507019, 1.702299952507019, 1.702299952507019, 1.702299952507019, 1.702299952507019, 1.702299952507019, 1.702299952507019, 1.702299952507019, 1.702299952507019, 1.702299952507019, 1.702299952507019, 1.702299952507019, 1.702299952507019, 1.702299952507019, 1.702299952507019, 1.702299952507019, 1.702299952507019, 1.702299952507019, 1.702299952507019, 1.6605000495910645, 1.702299952507019, 1.702299952507019, 1.702299952507019, 1.702299952507019, 1.702299952507019, 1.702299952507019, 1.702299952507019, 1.702299952507019, 1.702299952507019, 1.702299952507019, 1.702299952507019, 1.702299952507019, 1.702299952507019, 1.702299952507019, 1.702299952507019, 1.702299952507019, 1.702299952507019, 1.702299952507019, 1.702299952507019, 1.702299952507019, 1.702299952507019, 1.702299952507019, 1.702299952507019, 1.702299952507019, 1.702299952507019, 1.702299952507019, 1.645400047302246, 1.645400047302246, 1.702299952507019, 1.702299952507019, 1.702299952507019, 1.702299952507019, 1.702299952507019, 1.702299952507019, 1.702299952507019, 1.702299952507019, 1.702299952507019, 1.702299952507019, 1.702299952507019, 1.702299952507019, 1.702299952507019, 1.702299952507019, 1.702299952507019, 1.702299952507019, 1.702299952507019, 1.702299952507019, 1.702299952507019, 1.702299952507019, 1.702299952507019, 1.702299952507019, 1.702299952507019, 1.702299952507019, 1.702299952507019, 1.702299952507019, 1.702299952507019, 1.702299952507019, 1.702299952507019, 1.702299952507019, 1.702299952507019, 1.702299952507019, 1.702299952507019, 1.702299952507019, 1.702299952507019, 1.702299952507019, 1.702299952507019, 1.702299952507019, 1.702299952507019, 1.702299952507019, 1.702299952507019, 1.702299952507019, 1.702299952507019, 1.702299952507019, 1.702299952507019, 1.702299952507019, 1.702299952507019, 1.702299952507019, 1.702299952507019, 1.702299952507019, 1.4814000129699707, 1.702299952507019, 1.702299952507019, 1.702299952507019, 1.702299952507019, 1.702299952507019, 1.702299952507019, 1.702299952507019, 1.702299952507019, 1.702299952507019, 1.702299952507019, 1.702299952507019, 1.702299952507019, 1.702299952507019, 1.702299952507019, 1.702299952507019, 1.702299952507019, 1.702299952507019, 1.702299952507019, 1.702299952507019, 1.702299952507019, 1.702299952507019, 1.702299952507019, 1.702299952507019, 1.702299952507019, 1.702299952507019, 1.702299952507019, 1.444000005722046, 1.0333000421524048, 1.2541999816894531, 1.702299952507019, 1.702299952507019, 1.702299952507019, 1.702299952507019, 1.702299952507019, 1.702299952507019, 1.702299952507019, 1.702299952507019, 1.702299952507019, 1.702299952507019, 1.702299952507019, 1.702299952507019, 1.702299952507019, 1.702299952507019, 1.702299952507019, 1.702299952507019, 1.702299952507019, 1.702299952507019, 1.702299952507019, 1.702299952507019, 1.702299952507019, 1.702299952507019, 1.702299952507019, 1.702299952507019, 1.702299952507019, 1.702299952507019, 1.702299952507019, 1.098099946975708, 1.0889999866485596, 1.0882999897003174, 1.702299952507019, 1.702299952507019, 1.702299952507019, 1.702299952507019, 0.9629999995231628, 1.702299952507019, 1.702299952507019, 0.20649999380111694, 0.6294999718666077, 0.5462999939918518, 1.702299952507019, 1.702299952507019, 1.702299952507019, 1.702299952507019, 1.702299952507019, 1.702299952507019, 1.702299952507019, 1.702299952507019, 1.702299952507019, 1.702299952507019, 1.702299952507019, 1.702299952507019, 1.702299952507019, 1.0259000062942505, 0.6075000166893005, 1.2934000492095947, 0.8004000186920166, 0.9890999794006348, 1.2839000225067139, 1.2934000492095947, 1.00409996509552, 1.2984999418258667, 0.9962000250816345, 0.7868000268936157, 1.0161000490188599, 1.0077999830245972, 1.9677000045776367, 1.9677000045776367, 1.9677000045776367, 1.9677000045776367, 1.9677000045776367, 1.9657000303268433, 1.9657000303268433, 1.8457000255584717, 1.7257000207901, 1.7257000207901, 1.7257000207901, 1.7257000207901, 1.7257000207901, 1.7257000207901, 1.7257000207901, 1.7257000207901, 1.7257000207901, 1.7257000207901, 1.7257000207901, 1.7257000207901, 1.7257000207901, 1.7257000207901, 1.7257000207901, 1.7257000207901, 1.7257000207901, 1.7257000207901, 1.7257000207901, 1.7257000207901, 1.7257000207901, 1.7257000207901, 1.7257000207901, 1.7257000207901, 1.7257000207901, 1.7257000207901, 1.7257000207901, 1.7257000207901, 1.7257000207901, 1.7257000207901, 1.7257000207901, 1.7257000207901, 1.7257000207901, 1.7257000207901, 1.7257000207901, 1.7257000207901, 1.7257000207901, 1.7257000207901, 1.7257000207901, 1.7257000207901, 1.7257000207901, 1.7257000207901, 1.7257000207901, 1.7257000207901, 1.686400055885315, 1.7257000207901, 1.7257000207901, 1.7257000207901, 1.7257000207901, 1.683899998664856, 1.6792999505996704, 1.6792999505996704, 1.7257000207901, 1.6766999959945679, 1.7257000207901, 1.7257000207901, 1.7257000207901, 1.7257000207901, 1.7257000207901, 1.7257000207901, 1.7257000207901, 1.7257000207901, 1.7257000207901, 1.7257000207901, 1.7257000207901, 1.7257000207901, 1.4628000259399414, 1.7257000207901, 1.7257000207901, 1.7257000207901, 1.7257000207901, 1.7257000207901, 1.461400032043457, 1.4515999555587769, 1.7257000207901, 1.7257000207901, 1.7257000207901, 1.7257000207901, 1.7257000207901, 1.7257000207901, 1.7257000207901, 1.447100043296814, 1.7257000207901, 1.7257000207901, 1.7257000207901, 1.7257000207901, 1.7257000207901, 1.7257000207901, 1.7257000207901, 1.7257000207901, 1.7257000207901, 1.7257000207901, 1.7257000207901, 1.7257000207901, 1.7257000207901, 1.166700005531311, 1.7257000207901, 1.7257000207901, 1.7257000207901, 1.7257000207901, 1.7257000207901, 1.7257000207901, 1.7257000207901, 1.7257000207901, 1.7257000207901, 1.7257000207901, 1.7257000207901, 1.7257000207901, 1.7257000207901, 1.7257000207901, 1.7257000207901, 1.7257000207901, 1.7257000207901, 1.2825000286102295, 1.7257000207901, 1.7257000207901, 1.7257000207901, 0.9470000267028809, 1.7257000207901, 0.800000011920929, 1.7257000207901, 1.7257000207901, 1.7257000207901, 1.7257000207901, 1.7257000207901, 1.7257000207901, 1.7257000207901, 1.7257000207901, 1.7257000207901, 1.7257000207901, 1.7257000207901, 1.7257000207901, 1.7257000207901, 1.7257000207901, 1.7257000207901, 1.7257000207901, 1.7257000207901, 1.7257000207901, 1.7257000207901, 1.7257000207901, 1.7257000207901, 1.7257000207901, 1.7257000207901, 1.7257000207901, 1.7257000207901, 1.7257000207901, 1.7257000207901, 1.7257000207901, 1.7257000207901, 1.7257000207901, 1.7257000207901, 0.22750000655651093, 0.7567999958992004, 1.7257000207901, 1.7257000207901, 1.7257000207901, 0.6635000109672546, 1.7257000207901, 0.7049999833106995, 1.7257000207901, 1.7257000207901, 1.7257000207901, 1.7257000207901, 1.7257000207901, 1.7257000207901, 1.7257000207901, 1.7257000207901, 1.7257000207901, 1.7257000207901, 1.7257000207901, 1.0214999914169312, 0.6284999847412109, 0.8077999949455261, 0.476500004529953, 0.8037999868392944], \"logprob\": [30.0, 29.0, 28.0, 27.0, 26.0, 25.0, 24.0, 23.0, 22.0, 21.0, 20.0, 19.0, 18.0, 17.0, 16.0, 15.0, 14.0, 13.0, 12.0, 11.0, 10.0, 9.0, 8.0, 7.0, 6.0, 5.0, 4.0, 3.0, 2.0, 1.0, -5.337100028991699, -5.6168999671936035, -6.006100177764893, -6.006100177764893, -6.006100177764893, -5.616700172424316, -6.6528000831604, -6.6528000831604, -6.6528000831604, -6.6528000831604, -6.6528000831604, -6.6528000831604, -6.6528000831604, -6.6528000831604, -6.6528000831604, -6.6528000831604, -6.6528000831604, -6.6528000831604, -6.6528000831604, -6.6528000831604, -6.6528000831604, -6.6528000831604, -6.6528000831604, -6.6528000831604, -6.6528000831604, -6.6528000831604, -6.6528000831604, -6.6528000831604, -6.6528000831604, -6.6528000831604, -6.6528000831604, -6.6528000831604, -6.6528000831604, -6.6528000831604, -6.6528000831604, -6.6528000831604, -6.6528000831604, -6.6528000831604, -6.6528000831604, -6.6528000831604, -6.6528000831604, -6.6528000831604, -6.6528000831604, -6.6528000831604, -6.6528000831604, -6.6528000831604, -6.6528000831604, -6.6528000831604, -6.6528000831604, -6.6528000831604, -6.6528000831604, -6.6528000831604, -6.6528000831604, -6.6528000831604, -6.6528000831604, -6.6528000831604, -6.6528000831604, -6.6528000831604, -6.6528000831604, -6.6528000831604, -6.6528000831604, -6.6528000831604, -6.6528000831604, -6.6528000831604, -6.6528000831604, -6.6528000831604, -6.6528000831604, -6.6528000831604, -6.6528000831604, -6.6528000831604, -6.6528000831604, -6.6528000831604, -6.6528000831604, -6.6528000831604, -6.6528000831604, -6.6528000831604, -6.6528000831604, -6.6528000831604, -6.6528000831604, -6.6528000831604, -6.6528000831604, -6.6528000831604, -5.337299823760986, -6.006100177764893, -6.6528000831604, -6.6528000831604, -6.6528000831604, -6.6528000831604, -6.6528000831604, -6.6528000831604, -6.6528000831604, -6.6528000831604, -6.6528000831604, -6.6528000831604, -6.6528000831604, -6.6528000831604, -6.6528000831604, -6.6528000831604, -6.6528000831604, -6.6528000831604, -6.6528000831604, -6.6528000831604, -6.6528000831604, -6.006100177764893, -6.006100177764893, -6.006100177764893, -6.006100177764893, -6.006100177764893, -6.6528000831604, -6.6528000831604, -6.6528000831604, -6.6528000831604, -6.6528000831604, -6.6528000831604, -6.6528000831604, -6.6528000831604, -6.6528000831604, -6.6528000831604, -6.6528000831604, -6.6528000831604, -6.6528000831604, -6.6528000831604, -6.6528000831604, -6.6528000831604, -6.6528000831604, -6.6528000831604, -6.6528000831604, -6.6528000831604, -6.6528000831604, -6.6528000831604, -6.6528000831604, -6.6528000831604, -6.6528000831604, -6.6528000831604, -6.6528000831604, -6.6528000831604, -6.6528000831604, -6.6528000831604, -4.656199932098389, -6.6528000831604, -6.6528000831604, -6.6528000831604, -6.6528000831604, -6.6528000831604, -6.6528000831604, -6.6528000831604, -6.6528000831604, -6.6528000831604, -6.6528000831604, -6.6528000831604, -6.6528000831604, -6.6528000831604, -6.6528000831604, -6.6528000831604, -4.939799785614014, -6.6528000831604, -6.6528000831604, -6.6528000831604, -6.6528000831604, -6.6528000831604, -6.6528000831604, -6.6528000831604, -6.6528000831604, -6.6528000831604, -6.6528000831604, -6.6528000831604, -6.6528000831604, -6.6528000831604, -6.6528000831604, -6.6528000831604, -6.6528000831604, -6.6528000831604, -6.6528000831604, -6.6528000831604, -6.6528000831604, -6.6528000831604, -6.6528000831604, -6.6528000831604, -6.6528000831604, -6.6528000831604, -6.6528000831604, -6.6528000831604, -6.6528000831604, -6.6528000831604, -6.6528000831604, -5.616600036621094, -6.006100177764893, -6.6528000831604, -6.006100177764893, -6.006100177764893, -6.6528000831604, -6.6528000831604, -6.6528000831604, -6.6528000831604, -6.6528000831604, -6.6528000831604, -6.6528000831604, -6.6528000831604, -5.616600036621094, -6.6528000831604, -6.6528000831604, -6.006100177764893, -6.006100177764893, -6.006100177764893, -6.006100177764893, -6.006100177764893, -5.616600036621094, -5.616700172424316, -6.006100177764893, -6.006100177764893, -6.006100177764893, -5.616700172424316, -6.006100177764893, -6.006100177764893, -6.006100177764893, -5.8420000076293945, -5.8420000076293945, -5.8420000076293945, -5.8420000076293945, -5.8420000076293945, -5.8420000076293945, -5.844099998474121, -5.452600002288818, -6.488699913024902, -6.488699913024902, -6.488699913024902, -6.488699913024902, -6.488699913024902, -6.488699913024902, -6.488699913024902, -6.488699913024902, -6.488699913024902, -6.488699913024902, -6.488699913024902, -6.488699913024902, -6.488699913024902, -6.488699913024902, -6.488699913024902, -6.488699913024902, -6.488699913024902, -6.488699913024902, -6.488699913024902, -6.488699913024902, -6.488699913024902, -6.488699913024902, -6.488699913024902, -6.488699913024902, -6.488699913024902, -6.488699913024902, -6.488699913024902, -6.488699913024902, -6.488699913024902, -6.488699913024902, -6.488699913024902, -6.488699913024902, -6.488699913024902, -6.488699913024902, -6.488699913024902, -6.488699913024902, -6.488699913024902, -6.488699913024902, -6.488699913024902, -6.488699913024902, -6.488699913024902, -6.488699913024902, -6.488699913024902, -6.488699913024902, -6.488699913024902, -6.488699913024902, -6.488699913024902, -6.488699913024902, -6.488699913024902, -6.488699913024902, -6.488699913024902, -6.488699913024902, -6.488699913024902, -6.488699913024902, -6.488699913024902, -5.8420000076293945, -6.488699913024902, -6.488699913024902, -5.8420000076293945, -5.8420000076293945, -5.8420000076293945, -5.8420000076293945, -5.8420000076293945, -6.488699913024902, -6.488699913024902, -6.488699913024902, -6.488699913024902, -6.488699913024902, -6.488699913024902, -6.488699913024902, -6.488699913024902, -6.488699913024902, -6.488699913024902, -6.488699913024902, -6.488699913024902, -6.488699913024902, -6.488699913024902, -6.488699913024902, -6.488699913024902, -6.488699913024902, -6.488699913024902, -6.488699913024902, -6.488699913024902, -6.488699913024902, -6.488699913024902, -6.488699913024902, -6.488699913024902, -6.488699913024902, -6.488699913024902, -6.488699913024902, -6.488699913024902, -6.488699913024902, -6.488699913024902, -6.488699913024902, -6.488699913024902, -6.488699913024902, -6.488699913024902, -6.488699913024902, -5.8420000076293945, -5.8420000076293945, -5.8420000076293945, -6.488699913024902, -6.488699913024902, -6.488699913024902, -6.488699913024902, -6.488699913024902, -6.488699913024902, -6.488699913024902, -6.488699913024902, -6.488699913024902, -6.488699913024902, -6.488699913024902, -6.488699913024902, -6.488699913024902, -6.488699913024902, -6.488699913024902, -6.488699913024902, -6.488699913024902, -6.488699913024902, -5.8420000076293945, -6.488699913024902, -6.488699913024902, -6.488699913024902, -6.488699913024902, -6.488699913024902, -6.488699913024902, -6.488699913024902, -6.488699913024902, -6.488699913024902, -6.488699913024902, -6.488699913024902, -6.488699913024902, -6.488699913024902, -6.488699913024902, -6.488699913024902, -5.8420000076293945, -6.488699913024902, -6.488699913024902, -6.488699913024902, -6.488699913024902, -6.488699913024902, -6.488699913024902, -6.488699913024902, -6.488699913024902, -6.488699913024902, -6.488699913024902, -6.488699913024902, -6.488699913024902, -5.8420000076293945, -5.8420000076293945, -6.488699913024902, -6.488699913024902, -6.488699913024902, -6.488699913024902, -6.488699913024902, -5.452600002288818, -6.488699913024902, -6.488699913024902, -6.488699913024902, -6.488699913024902, -6.488699913024902, -6.488699913024902, -6.488699913024902, -6.488699913024902, -5.8420000076293945, -6.488699913024902, -6.488699913024902, -6.488699913024902, -6.488699913024902, -6.488699913024902, -6.488699913024902, -6.488699913024902, -6.488699913024902, -5.8420000076293945, -6.488699913024902, -6.488699913024902, -6.488699913024902, -6.488699913024902, -6.488699913024902, -5.842100143432617, -6.488699913024902, -6.488699913024902, -6.488699913024902, -6.488699913024902, -6.488699913024902, -6.488699913024902, -6.488699913024902, -6.488699913024902, -6.488699913024902, -6.488699913024902, -6.488699913024902, -6.488699913024902, -6.488699913024902, -6.488699913024902, -6.488699913024902, -6.488699913024902, -6.488699913024902, -6.488699913024902, -5.861199855804443, -5.861199855804443, -5.861199855804443, -6.507800102233887, -6.507800102233887, -6.507800102233887, -6.507800102233887, -6.507800102233887, -6.507800102233887, -6.507800102233887, -6.507800102233887, -6.507800102233887, -6.507800102233887, -6.507800102233887, -6.507800102233887, -6.507800102233887, -6.507800102233887, -6.507800102233887, -6.507800102233887, -6.507800102233887, -6.507800102233887, -6.507800102233887, -6.507800102233887, -6.507800102233887, -6.507800102233887, -6.507800102233887, -6.507800102233887, -6.507800102233887, -6.507800102233887, -6.507800102233887, -6.507800102233887, -6.507800102233887, -6.507800102233887, -6.507800102233887, -6.507800102233887, -6.507800102233887, -6.507800102233887, -6.507800102233887, -6.507800102233887, -6.507800102233887, -6.507800102233887, -6.507800102233887, -6.507800102233887, -6.507800102233887, -6.507800102233887, -6.507800102233887, -6.507800102233887, -6.507800102233887, -6.507800102233887, -6.507800102233887, -6.507800102233887, -6.507800102233887, -6.507800102233887, -6.507800102233887, -5.861199855804443, -6.507800102233887, -6.507800102233887, -6.507800102233887, -6.507800102233887, -6.507800102233887, -6.507800102233887, -6.507800102233887, -6.507800102233887, -6.507800102233887, -6.507800102233887, -6.507800102233887, -6.507800102233887, -6.507800102233887, -6.507800102233887, -6.507800102233887, -6.507800102233887, -6.507800102233887, -6.507800102233887, -6.507800102233887, -5.861199855804443, -5.861199855804443, -5.861199855804443, -6.507800102233887, -6.507800102233887, -6.507800102233887, -6.507800102233887, -6.507800102233887, -6.507800102233887, -6.507800102233887, -6.507800102233887, -6.507800102233887, -6.507800102233887, -6.507800102233887, -5.861199855804443, -6.507800102233887, -6.507800102233887, -6.507800102233887, -6.507800102233887, -6.507800102233887, -6.507800102233887, -6.507800102233887, -6.507800102233887, -6.507800102233887, -6.507800102233887, -6.507800102233887, -6.507800102233887, -6.507800102233887, -6.507800102233887, -6.507800102233887, -6.507800102233887, -6.507800102233887, -6.507800102233887, -6.507800102233887, -6.507800102233887, -6.507800102233887, -6.507800102233887, -6.507800102233887, -6.507800102233887, -6.507800102233887, -6.507800102233887, -6.507800102233887, -6.507800102233887, -6.507800102233887, -6.507800102233887, -6.507800102233887, -6.507800102233887, -6.507800102233887, -6.507800102233887, -6.507800102233887, -6.507800102233887, -6.507800102233887, -6.507800102233887, -6.507800102233887, -5.471700191497803, -6.507800102233887, -6.507800102233887, -6.507800102233887, -5.1921000480651855, -6.507800102233887, -5.471700191497803, -6.507800102233887, -5.861199855804443, -6.507800102233887, -6.507800102233887, -6.507800102233887, -6.507800102233887, -6.507800102233887, -6.507800102233887, -6.507800102233887, -6.507800102233887, -6.507800102233887, -6.507800102233887, -6.507800102233887, -6.507800102233887, -6.507800102233887, -6.507800102233887, -6.507800102233887, -6.507800102233887, -6.507800102233887, -6.507800102233887, -6.507800102233887, -6.507800102233887, -6.507800102233887, -6.507800102233887, -6.507800102233887, -6.507800102233887, -6.507800102233887, -6.507800102233887, -6.507800102233887, -6.507800102233887, -6.507800102233887, -6.507800102233887, -6.507800102233887, -6.507800102233887, -6.507800102233887, -6.507800102233887, -6.507800102233887, -6.507800102233887, -6.507800102233887, -6.507800102233887, -6.507800102233887, -6.507800102233887, -6.507800102233887, -6.507800102233887, -6.507800102233887, -6.507800102233887, -6.507800102233887, -6.507800102233887, -6.507800102233887, -6.507800102233887, -6.507800102233887, -6.507800102233887, -6.507800102233887, -6.507800102233887, -6.507800102233887, -6.507800102233887, -6.507800102233887, -6.507800102233887, -6.507800102233887, -6.507800102233887, -6.507800102233887, -6.507800102233887, -6.507800102233887, -6.507800102233887, -6.507800102233887, -6.507800102233887, -6.507800102233887, -6.507800102233887, -6.507800102233887, -6.507800102233887, -6.507800102233887, -6.507800102233887, -6.507800102233887, -5.861199855804443, -6.507800102233887, -6.507800102233887, -6.507800102233887, -6.507800102233887, -6.507800102233887, -5.861199855804443, -6.507800102233887, -5.861199855804443, -6.507800102233887, -6.507800102233887, -6.507800102233887, -6.507800102233887, -6.507800102233887, -6.507800102233887, -6.507800102233887, -5.861199855804443, -6.507800102233887, -6.507800102233887, -6.507800102233887, -6.507800102233887, -6.507800102233887, -6.507800102233887, -6.507800102233887, -6.507800102233887, -6.507800102233887, -6.507800102233887, -6.507800102233887, -6.507800102233887, -6.507800102233887, -6.507800102233887, -6.507800102233887, -6.507800102233887, -6.507800102233887, -5.897200107574463, -5.897200107574463, -5.897200107574463, -5.897200107574463, -5.897200107574463, -6.543799877166748, -6.543799877166748, -6.543799877166748, -6.543799877166748, -6.543799877166748, -6.543799877166748, -6.543799877166748, -6.543799877166748, -6.543799877166748, -6.543799877166748, -6.543799877166748, -6.543799877166748, -6.543799877166748, -6.543799877166748, -6.543799877166748, -6.543799877166748, -6.543799877166748, -6.543799877166748, -6.543799877166748, -6.543799877166748, -6.543799877166748, -6.543799877166748, -6.543799877166748, -6.543799877166748, -6.543799877166748, -5.89709997177124, -6.543799877166748, -6.543799877166748, -6.543799877166748, -6.543799877166748, -6.543799877166748, -6.543799877166748, -6.543799877166748, -6.543799877166748, -6.543799877166748, -6.543799877166748, -6.543799877166748, -6.543799877166748, -6.543799877166748, -6.543799877166748, -6.543799877166748, -6.543799877166748, -6.543799877166748, -6.543799877166748, -6.543799877166748, -6.543799877166748, -6.543799877166748, -6.543799877166748, -6.543799877166748, -6.543799877166748, -6.543799877166748, -6.543799877166748, -6.543799877166748, -6.543799877166748, -5.897200107574463, -6.543799877166748, -6.543799877166748, -6.543799877166748, -6.543799877166748, -5.228099822998047, -6.543799877166748, -6.543799877166748, -5.507699966430664, -6.543799877166748, -6.543799877166748, -6.543799877166748, -6.543799877166748, -6.543799877166748, -6.543799877166748, -6.543799877166748, -6.543799877166748, -6.543799877166748, -6.543799877166748, -6.543799877166748, -6.543799877166748, -6.543799877166748, -6.543799877166748, -5.89709997177124, -4.8308000564575195, -6.543799877166748, -6.543799877166748, -6.543799877166748, -5.507699966430664, -5.507699966430664, -5.89709997177124, -5.89709997177124, -6.543799877166748, -6.543799877166748, -6.543799877166748, -6.543799877166748, -5.89709997177124, -6.543799877166748, -5.89709997177124, -5.89709997177124, -5.89709997177124, -6.543799877166748, -6.543799877166748, -6.543799877166748, -6.543799877166748, -6.543799877166748, -6.543799877166748, -6.543799877166748, -6.543799877166748, -6.543799877166748, -6.543799877166748, -6.543799877166748, -6.543799877166748, -6.000199794769287, -6.000199794769287, -6.000199794769287, -6.000199794769287, -6.000199794769287, -6.000199794769287, -6.000199794769287, -6.000199794769287, -6.000199794769287, -6.000199794769287, -6.000199794769287, -6.001699924468994, -6.6468000411987305, -6.6468000411987305, -6.6468000411987305, -6.6468000411987305, -6.6468000411987305, -6.6468000411987305, -6.6468000411987305, -6.6468000411987305, -6.6468000411987305, -6.6468000411987305, -6.6468000411987305, -6.6468000411987305, -6.6468000411987305, -6.6468000411987305, -6.6468000411987305, -6.6468000411987305, -6.6468000411987305, -6.6468000411987305, -6.6468000411987305, -6.6468000411987305, -6.6468000411987305, -6.6468000411987305, -6.6468000411987305, -6.6468000411987305, -6.6468000411987305, -6.6468000411987305, -6.6468000411987305, -6.6468000411987305, -6.6468000411987305, -6.6468000411987305, -6.6468000411987305, -6.6468000411987305, -6.6468000411987305, -6.6468000411987305, -6.6468000411987305, -6.6468000411987305, -6.6468000411987305, -6.6468000411987305, -6.6468000411987305, -5.6107001304626465, -6.000199794769287, -6.000199794769287, -6.000199794769287, -6.000199794769287, -6.6468000411987305, -6.6468000411987305, -6.6468000411987305, -6.6468000411987305, -6.6468000411987305, -6.6468000411987305, -6.6468000411987305, -6.6468000411987305, -6.6468000411987305, -6.6468000411987305, -6.6468000411987305, -6.6468000411987305, -6.6468000411987305, -6.6468000411987305, -6.6468000411987305, -6.6468000411987305, -6.6468000411987305, -6.6468000411987305, -6.6468000411987305, -6.6468000411987305, -6.6468000411987305, -6.6468000411987305, -6.6468000411987305, -6.6468000411987305, -6.6468000411987305, -6.6468000411987305, -4.651599884033203, -5.1128997802734375, -6.6468000411987305, -6.6468000411987305, -6.6468000411987305, -6.6468000411987305, -6.6468000411987305, -6.6468000411987305, -6.6468000411987305, -6.6468000411987305, -6.6468000411987305, -6.6468000411987305, -6.6468000411987305, -6.6468000411987305, -6.6468000411987305, -6.6468000411987305, -6.6468000411987305, -6.6468000411987305, -6.6468000411987305, -6.6468000411987305, -6.6468000411987305, -6.6468000411987305, -6.6468000411987305, -6.6468000411987305, -6.6468000411987305, -6.6468000411987305, -6.6468000411987305, -6.6468000411987305, -6.000199794769287, -6.000199794769287, -6.000199794769287, -6.6468000411987305, -6.6468000411987305, -6.6468000411987305, -6.6468000411987305, -6.6468000411987305, -5.331200122833252, -6.6468000411987305, -6.6468000411987305, -6.6468000411987305, -6.6468000411987305, -6.6468000411987305, -6.6468000411987305, -6.6468000411987305, -6.6468000411987305, -6.6468000411987305, -6.6468000411987305, -6.6468000411987305, -6.6468000411987305, -6.6468000411987305, -6.6468000411987305, -6.6468000411987305, -6.6468000411987305, -6.6468000411987305, -6.6468000411987305, -6.000199794769287, -6.000199794769287, -6.000199794769287, -6.000199794769287, -6.6468000411987305, -6.6468000411987305, -6.6468000411987305, -6.6468000411987305, -5.6107001304626465, -6.000199794769287, -6.000199794769287, -5.610799789428711, -6.000199794769287, -6.000199794769287, -5.9217000007629395, -5.9217000007629395, -5.9217000007629395, -5.9217000007629395, -5.9217000007629395, -5.9217000007629395, -5.9217000007629395, -6.568299770355225, -6.568299770355225, -6.568299770355225, -6.568299770355225, -6.568299770355225, -6.568299770355225, -6.568299770355225, -6.568299770355225, -6.568299770355225, -6.568299770355225, -6.568299770355225, -6.568299770355225, -6.568299770355225, -6.568299770355225, -6.568299770355225, -6.568299770355225, -6.568299770355225, -6.568299770355225, -6.568299770355225, -6.568299770355225, -6.568299770355225, -6.568299770355225, -6.568299770355225, -6.568299770355225, -6.568299770355225, -6.568299770355225, -5.9217000007629395, -5.9217000007629395, -6.568299770355225, -6.568299770355225, -5.9217000007629395, -5.9217000007629395, -6.568299770355225, -6.568299770355225, -5.532199859619141, -5.9217000007629395, -5.9217000007629395, -5.9217000007629395, -5.9217000007629395, -6.568299770355225, -5.9217000007629395, -5.532199859619141, -6.568299770355225, -6.568299770355225, -6.568299770355225, -5.9217000007629395, -5.9217000007629395, -5.9217000007629395, -5.9217000007629395, -5.9217000007629395, -6.568299770355225, -6.568299770355225, -6.568299770355225, -6.568299770355225, -6.568299770355225, -6.568299770355225, -5.9217000007629395, -5.9217000007629395, -5.9217000007629395, -5.9217000007629395, -6.568299770355225, -6.568299770355225, -6.568299770355225, -5.9217000007629395, -6.568299770355225, -6.568299770355225, -5.9217000007629395, -5.9217000007629395, -5.84060001373291, -5.84060001373291, -5.84060001373291, -5.84060001373291, -5.171599864959717, -6.487299919128418, -6.487299919128418, -6.487299919128418, -6.487299919128418, -6.487299919128418, -6.487299919128418, -6.487299919128418, -6.487299919128418, -6.487299919128418, -6.487299919128418, -6.487299919128418, -6.487299919128418, -6.487299919128418, -6.487299919128418, -6.487299919128418, -6.487299919128418, -6.487299919128418, -6.487299919128418, -6.487299919128418, -6.487299919128418, -6.487299919128418, -6.487299919128418, -6.487299919128418, -6.487299919128418, -6.487299919128418, -6.487299919128418, -6.487299919128418, -6.487299919128418, -6.487299919128418, -6.487299919128418, -6.487299919128418, -6.487299919128418, -6.487299919128418, -6.487299919128418, -6.487299919128418, -6.487299919128418, -6.487299919128418, -6.487299919128418, -6.487299919128418, -6.487299919128418, -6.487299919128418, -6.487299919128418, -6.487299919128418, -6.487299919128418, -6.487299919128418, -6.487299919128418, -6.487299919128418, -6.487299919128418, -6.487299919128418, -6.487299919128418, -6.487299919128418, -6.487299919128418, -6.487299919128418, -6.487299919128418, -6.487299919128418, -6.487299919128418, -6.487299919128418, -6.487299919128418, -6.487299919128418, -6.487299919128418, -6.487299919128418, -6.487299919128418, -6.487299919128418, -6.487299919128418, -6.487299919128418, -5.84060001373291, -6.487299919128418, -6.487299919128418, -6.487299919128418, -6.487299919128418, -6.487299919128418, -6.487299919128418, -6.487299919128418, -6.487299919128418, -6.487299919128418, -6.487299919128418, -6.487299919128418, -6.487299919128418, -6.487299919128418, -6.487299919128418, -6.487299919128418, -6.487299919128418, -6.487299919128418, -5.84060001373291, -5.84060001373291, -6.487299919128418, -6.487299919128418, -6.487299919128418, -6.487299919128418, -6.487299919128418, -6.487299919128418, -6.487299919128418, -6.487299919128418, -6.487299919128418, -6.487299919128418, -6.487299919128418, -6.487299919128418, -6.487299919128418, -6.487299919128418, -5.84060001373291, -6.487299919128418, -6.487299919128418, -6.487299919128418, -6.487299919128418, -6.487299919128418, -6.487299919128418, -6.487299919128418, -6.487299919128418, -6.487299919128418, -6.487299919128418, -6.487299919128418, -6.487299919128418, -6.487299919128418, -6.487299919128418, -6.487299919128418, -6.487299919128418, -6.487299919128418, -6.487299919128418, -6.487299919128418, -6.487299919128418, -6.487299919128418, -6.487299919128418, -6.487299919128418, -6.487299919128418, -6.487299919128418, -6.487299919128418, -6.487299919128418, -6.487299919128418, -6.487299919128418, -6.487299919128418, -6.487299919128418, -6.487299919128418, -6.487299919128418, -6.487299919128418, -6.487299919128418, -6.487299919128418, -6.487299919128418, -6.487299919128418, -6.487299919128418, -6.487299919128418, -6.487299919128418, -6.487299919128418, -6.487299919128418, -6.487299919128418, -6.487299919128418, -6.487299919128418, -6.487299919128418, -6.487299919128418, -6.487299919128418, -6.487299919128418, -6.487299919128418, -6.487299919128418, -6.487299919128418, -6.487299919128418, -6.487299919128418, -6.487299919128418, -6.487299919128418, -6.487299919128418, -6.487299919128418, -6.487299919128418, -6.487299919128418, -6.487299919128418, -6.487299919128418, -6.487299919128418, -6.487299919128418, -6.487299919128418, -6.487299919128418, -6.487299919128418, -6.487299919128418, -5.84060001373291, -6.487299919128418, -6.487299919128418, -6.487299919128418, -6.487299919128418, -6.487299919128418, -6.487299919128418, -5.451200008392334, -6.487299919128418, -6.487299919128418, -6.487299919128418, -6.487299919128418, -5.84060001373291, -6.487299919128418, -5.451200008392334, -6.487299919128418, -6.487299919128418, -6.487299919128418, -6.487299919128418, -6.487299919128418, -6.487299919128418, -6.487299919128418, -6.487299919128418, -6.487299919128418, -6.487299919128418, -6.487299919128418, -5.84060001373291, -6.487299919128418, -6.487299919128418, -6.487299919128418, -6.487299919128418, -5.84060001373291, -6.487299919128418, -6.487299919128418, -6.487299919128418, -6.487299919128418, -6.487299919128418, -6.487299919128418, -6.487299919128418, -6.487299919128418, -5.84060001373291, -6.487299919128418, -6.487299919128418, -6.487299919128418, -6.487299919128418, -6.487299919128418, -6.487299919128418, -6.487299919128418, -6.487299919128418, -6.487299919128418, -6.487299919128418, -6.487299919128418, -6.487299919128418, -6.487299919128418, -6.487299919128418, -6.487299919128418, -6.487299919128418, -5.84060001373291, -6.487299919128418, -5.84060001373291, -6.487299919128418, -6.487299919128418, -6.487299919128418, -6.487299919128418, -6.487299919128418, -6.487299919128418, -6.487299919128418, -6.487299919128418, -6.487299919128418, -6.487299919128418, -6.487299919128418, -6.487299919128418, -6.487299919128418, -6.487299919128418, -6.487299919128418, -6.487299919128418, -5.918099880218506, -5.918099880218506, -5.918099880218506, -5.918099880218506, -5.528600215911865, -6.564700126647949, -6.564700126647949, -6.564700126647949, -6.564700126647949, -6.564700126647949, -6.564700126647949, -6.564700126647949, -6.564700126647949, -6.564700126647949, -6.564700126647949, -6.564700126647949, -6.564700126647949, -6.564700126647949, -6.564700126647949, -6.564700126647949, -6.564700126647949, -6.564700126647949, -6.564700126647949, -6.564700126647949, -6.564700126647949, -6.564700126647949, -6.564700126647949, -6.564700126647949, -6.564700126647949, -6.564700126647949, -6.564700126647949, -6.564700126647949, -6.564700126647949, -6.564700126647949, -6.564700126647949, -6.564700126647949, -6.564700126647949, -6.564700126647949, -6.564700126647949, -6.564700126647949, -6.564700126647949, -6.564700126647949, -6.564700126647949, -6.564700126647949, -6.564700126647949, -6.564700126647949, -6.564700126647949, -6.564700126647949, -6.564700126647949, -6.564700126647949, -6.564700126647949, -6.564700126647949, -6.564700126647949, -6.564700126647949, -6.564700126647949, -6.564700126647949, -6.564700126647949, -6.564700126647949, -6.564700126647949, -6.564700126647949, -6.564700126647949, -6.564700126647949, -6.564700126647949, -6.564700126647949, -6.564700126647949, -6.564700126647949, -6.564700126647949, -6.564700126647949, -6.564700126647949, -5.528600215911865, -5.918099880218506, -5.918900012969971, -6.564700126647949, -6.564700126647949, -5.918099880218506, -5.918099880218506, -5.918099880218506, -5.918099880218506, -5.528600215911865, -6.564700126647949, -6.564700126647949, -6.564700126647949, -6.564700126647949, -5.918099880218506, -6.564700126647949, -6.564700126647949, -6.564700126647949, -6.564700126647949, -6.564700126647949, -6.564700126647949, -6.564700126647949, -6.564700126647949, -4.700500011444092, -6.564700126647949, -6.564700126647949, -6.564700126647949, -6.564700126647949, -6.564700126647949, -6.564700126647949, -6.564700126647949, -6.564700126647949, -6.564700126647949, -6.564700126647949, -6.564700126647949, -6.564700126647949, -6.564700126647949, -6.564700126647949, -6.564700126647949, -6.564700126647949, -6.564700126647949, -6.564700126647949, -5.918099880218506, -5.918099880218506, -6.564700126647949, -6.564700126647949, -6.564700126647949, -6.564700126647949, -6.564700126647949, -6.564700126647949, -6.564700126647949, -6.564700126647949, -6.564700126647949, -5.918900012969971, -6.564700126647949, -6.564700126647949, -6.564700126647949, -5.030700206756592, -6.564700126647949, -6.564700126647949, -5.528600215911865, -6.564700126647949, -6.564700126647949, -6.564700126647949, -6.564700126647949, -6.564700126647949, -6.564700126647949, -6.564700126647949, -6.564700126647949, -6.564700126647949, -6.564700126647949, -6.564700126647949, -5.918099880218506, -5.918000221252441, -6.564700126647949, -6.564700126647949, -6.564700126647949, -6.564700126647949, -6.564700126647949, -6.564700126647949, -6.564700126647949, -6.564700126647949, -6.564700126647949, -6.564700126647949, -6.564700126647949, -6.564700126647949, -6.564700126647949, -6.564700126647949, -6.564700126647949, -6.564700126647949, -6.564700126647949, -6.564700126647949, -6.564700126647949, -6.564700126647949, -6.564700126647949, -6.564700126647949, -6.564700126647949, -6.564700126647949, -6.564700126647949, -6.564700126647949, -6.564700126647949, -6.564700126647949, -6.564700126647949, -6.564700126647949, -6.564700126647949, -6.564700126647949, -6.564700126647949, -6.564700126647949, -5.918099880218506, -6.564700126647949, -5.918099880218506, -6.564700126647949, -6.564700126647949, -6.564700126647949, -5.918099880218506, -6.564700126647949, -5.918099880218506, -6.564700126647949, -6.564700126647949, -6.564700126647949, -6.564700126647949, -6.564700126647949, -6.564700126647949, -6.564700126647949, -6.564700126647949, -6.473299980163574, -6.564700126647949, -6.564700126647949, -6.564700126647949, -6.564700126647949, -6.510799884796143, -6.564700126647949, -6.564700126647949, -5.915299892425537, -5.915299892425537, -5.915299892425537, -6.5619001388549805, -6.5619001388549805, -6.5619001388549805, -6.5619001388549805, -6.5619001388549805, -6.5619001388549805, -6.5619001388549805, -6.5619001388549805, -6.5619001388549805, -6.5619001388549805, -6.5619001388549805, -6.5619001388549805, -6.5619001388549805, -6.5619001388549805, -6.5619001388549805, -6.5619001388549805, -6.5619001388549805, -6.5619001388549805, -6.5619001388549805, -6.5619001388549805, -6.5619001388549805, -6.5619001388549805, -6.5619001388549805, -6.5619001388549805, -6.5619001388549805, -6.5619001388549805, -6.5619001388549805, -6.5619001388549805, -6.5619001388549805, -6.5619001388549805, -6.5619001388549805, -6.5619001388549805, -6.5619001388549805, -6.5619001388549805, -6.5619001388549805, -6.5619001388549805, -6.5619001388549805, -6.5619001388549805, -6.5619001388549805, -6.5619001388549805, -6.5619001388549805, -6.5619001388549805, -6.5619001388549805, -6.5619001388549805, -6.5619001388549805, -6.5619001388549805, -6.5619001388549805, -5.915299892425537, -6.5619001388549805, -6.5619001388549805, -6.5619001388549805, -6.5619001388549805, -6.5619001388549805, -6.5619001388549805, -6.5619001388549805, -6.5619001388549805, -6.5619001388549805, -6.5619001388549805, -6.5619001388549805, -6.5619001388549805, -6.5619001388549805, -6.5619001388549805, -6.5619001388549805, -6.5619001388549805, -6.5619001388549805, -6.5619001388549805, -6.5619001388549805, -6.5619001388549805, -6.5619001388549805, -6.5619001388549805, -6.5619001388549805, -6.5619001388549805, -6.5619001388549805, -6.5619001388549805, -5.915299892425537, -5.915299892425537, -6.5619001388549805, -6.5619001388549805, -6.5619001388549805, -6.5619001388549805, -6.5619001388549805, -6.5619001388549805, -6.5619001388549805, -6.5619001388549805, -6.5619001388549805, -6.5619001388549805, -6.5619001388549805, -6.5619001388549805, -6.5619001388549805, -6.5619001388549805, -6.5619001388549805, -6.5619001388549805, -6.5619001388549805, -6.5619001388549805, -6.5619001388549805, -6.5619001388549805, -6.5619001388549805, -6.5619001388549805, -6.5619001388549805, -6.5619001388549805, -6.5619001388549805, -6.5619001388549805, -6.5619001388549805, -6.5619001388549805, -6.5619001388549805, -6.5619001388549805, -6.5619001388549805, -6.5619001388549805, -6.5619001388549805, -6.5619001388549805, -6.5619001388549805, -6.5619001388549805, -6.5619001388549805, -6.5619001388549805, -6.5619001388549805, -6.5619001388549805, -6.5619001388549805, -6.5619001388549805, -6.5619001388549805, -6.5619001388549805, -6.5619001388549805, -6.5619001388549805, -6.5619001388549805, -6.5619001388549805, -6.5619001388549805, -6.5619001388549805, -5.5258002281188965, -6.5619001388549805, -6.5619001388549805, -6.5619001388549805, -6.5619001388549805, -6.5619001388549805, -6.5619001388549805, -6.5619001388549805, -6.5619001388549805, -6.5619001388549805, -6.5619001388549805, -6.5619001388549805, -6.5619001388549805, -6.5619001388549805, -6.5619001388549805, -6.5619001388549805, -6.5619001388549805, -6.5619001388549805, -6.5619001388549805, -6.5619001388549805, -6.5619001388549805, -6.5619001388549805, -6.5619001388549805, -6.5619001388549805, -6.5619001388549805, -6.5619001388549805, -6.5619001388549805, -5.915299892425537, -5.0279998779296875, -5.915299892425537, -6.5619001388549805, -6.5619001388549805, -6.5619001388549805, -6.5619001388549805, -6.5619001388549805, -6.5619001388549805, -6.5619001388549805, -6.5619001388549805, -6.5619001388549805, -6.5619001388549805, -6.5619001388549805, -6.5619001388549805, -6.5619001388549805, -6.5619001388549805, -6.5619001388549805, -6.5619001388549805, -6.5619001388549805, -6.5619001388549805, -6.5619001388549805, -6.5619001388549805, -6.5619001388549805, -6.5619001388549805, -6.5619001388549805, -6.5619001388549805, -6.5619001388549805, -6.5619001388549805, -6.5619001388549805, -5.915299892425537, -5.915299892425537, -5.915299892425537, -6.5619001388549805, -6.5619001388549805, -6.5619001388549805, -6.5619001388549805, -5.915299892425537, -6.5619001388549805, -6.5619001388549805, -5.5258002281188965, -5.915299892425537, -5.915299892425537, -6.5619001388549805, -6.5619001388549805, -6.5619001388549805, -6.5619001388549805, -6.5619001388549805, -6.5619001388549805, -6.5619001388549805, -6.5619001388549805, -6.5619001388549805, -6.5619001388549805, -6.5619001388549805, -6.5619001388549805, -6.5619001388549805, -6.5619001388549805, -6.5619001388549805, -6.5619001388549805, -6.5619001388549805, -6.5619001388549805, -6.5619001388549805, -6.5619001388549805, -6.5619001388549805, -6.5619001388549805, -6.5619001388549805, -6.5619001388549805, -6.5619001388549805, -6.5619001388549805, -5.8942999839782715, -5.8942999839782715, -5.8942999839782715, -5.8942999839782715, -5.8942999839782715, -5.896399974822998, -5.896399974822998, -5.504799842834473, -6.540900230407715, -6.540900230407715, -6.540900230407715, -6.540900230407715, -6.540900230407715, -6.540900230407715, -6.540900230407715, -6.540900230407715, -6.540900230407715, -6.540900230407715, -6.540900230407715, -6.540900230407715, -6.540900230407715, -6.540900230407715, -6.540900230407715, -6.540900230407715, -6.540900230407715, -6.540900230407715, -6.540900230407715, -6.540900230407715, -6.540900230407715, -6.540900230407715, -6.540900230407715, -6.540900230407715, -6.540900230407715, -6.540900230407715, -6.540900230407715, -6.540900230407715, -6.540900230407715, -6.540900230407715, -6.540900230407715, -6.540900230407715, -6.540900230407715, -6.540900230407715, -6.540900230407715, -6.540900230407715, -6.540900230407715, -6.540900230407715, -6.540900230407715, -6.540900230407715, -6.540900230407715, -6.540900230407715, -6.540900230407715, -6.540900230407715, -5.8942999839782715, -6.540900230407715, -6.540900230407715, -6.540900230407715, -6.540900230407715, -5.8942999839782715, -5.8942999839782715, -5.8942999839782715, -6.540900230407715, -5.8942999839782715, -6.540900230407715, -6.540900230407715, -6.540900230407715, -6.540900230407715, -6.540900230407715, -6.540900230407715, -6.540900230407715, -6.540900230407715, -6.540900230407715, -6.540900230407715, -6.540900230407715, -6.540900230407715, -5.8942999839782715, -6.540900230407715, -6.540900230407715, -6.540900230407715, -6.540900230407715, -6.540900230407715, -5.8942999839782715, -5.8942999839782715, -6.540900230407715, -6.540900230407715, -6.540900230407715, -6.540900230407715, -6.540900230407715, -6.540900230407715, -6.540900230407715, -5.8942999839782715, -6.540900230407715, -6.540900230407715, -6.540900230407715, -6.540900230407715, -6.540900230407715, -6.540900230407715, -6.540900230407715, -6.540900230407715, -6.540900230407715, -6.540900230407715, -6.540900230407715, -6.540900230407715, -6.540900230407715, -5.504799842834473, -6.540900230407715, -6.540900230407715, -6.540900230407715, -6.540900230407715, -6.540900230407715, -6.540900230407715, -6.540900230407715, -6.540900230407715, -6.540900230407715, -6.540900230407715, -6.540900230407715, -6.540900230407715, -6.540900230407715, -6.540900230407715, -6.540900230407715, -6.540900230407715, -6.540900230407715, -5.8942999839782715, -6.540900230407715, -6.540900230407715, -6.540900230407715, -5.526100158691406, -6.540900230407715, -5.504799842834473, -6.540900230407715, -6.540900230407715, -6.540900230407715, -6.540900230407715, -6.540900230407715, -6.540900230407715, -6.540900230407715, -6.540900230407715, -6.540900230407715, -6.540900230407715, -6.540900230407715, -6.540900230407715, -6.540900230407715, -6.540900230407715, -6.540900230407715, -6.540900230407715, -6.540900230407715, -6.540900230407715, -6.540900230407715, -6.540900230407715, -6.540900230407715, -6.540900230407715, -6.540900230407715, -6.540900230407715, -6.540900230407715, -6.540900230407715, -6.540900230407715, -6.540900230407715, -6.540900230407715, -6.540900230407715, -6.540900230407715, -5.504799842834473, -5.8942999839782715, -6.540900230407715, -6.540900230407715, -6.540900230407715, -5.8942999839782715, -6.540900230407715, -5.94789981842041, -6.540900230407715, -6.540900230407715, -6.540900230407715, -6.540900230407715, -6.540900230407715, -6.540900230407715, -6.540900230407715, -6.540900230407715, -6.540900230407715, -6.540900230407715, -6.540900230407715, -6.540900230407715, -6.540900230407715, -6.540900230407715, -6.540900230407715, -6.540900230407715]}, \"token.table\": {\"Topic\": [4, 5, 7, 10, 6, 3, 3, 3, 9, 2, 5, 7, 7, 7, 1, 1, 9, 7, 10, 7, 8, 7, 1, 1, 7, 8, 2, 3, 9, 1, 10, 10, 8, 7, 6, 7, 9, 9, 7, 2, 3, 3, 10, 9, 1, 8, 1, 3, 8, 2, 3, 5, 6, 8, 2, 4, 7, 3, 4, 6, 7, 1, 4, 10, 1, 3, 10, 7, 9, 6, 9, 1, 2, 3, 5, 8, 1, 9, 5, 1, 3, 5, 2, 8, 1, 3, 10, 9, 10, 3, 9, 4, 9, 2, 7, 9, 10, 8, 3, 7, 1, 9, 9, 1, 5, 8, 4, 3, 8, 4, 2, 10, 6, 9, 3, 1, 1, 2, 8, 3, 9, 4, 7, 3, 8, 3, 2, 3, 9, 10, 9, 6, 3, 4, 6, 7, 10, 7, 6, 6, 1, 6, 7, 3, 5, 1, 8, 8, 2, 9, 7, 3, 6, 2, 4, 3, 3, 4, 2, 3, 5, 9, 9, 2, 10, 1, 7, 9, 7, 10, 4, 10, 1, 6, 7, 9, 8, 9, 10, 1, 9, 5, 4, 6, 5, 3, 2, 8, 4, 5, 1, 7, 9, 10, 10, 3, 5, 10, 4, 9, 1, 1, 2, 3, 7, 2, 1, 3, 9, 7, 2, 2, 10, 1, 6, 7, 1, 3, 4, 5, 7, 7, 1, 5, 2, 7, 9, 7, 1, 5, 7, 5, 9, 8, 8, 9, 7, 6, 8, 8, 7, 3, 5, 6, 10, 8, 9, 9, 8, 7, 3, 9, 1, 6, 9, 10, 7, 7, 8, 1, 1, 10, 3, 3, 10, 7, 2, 7, 10, 3, 3, 3, 9, 4, 1, 3, 3, 8, 7, 2, 10, 7, 3, 8, 7, 2, 10, 2, 2, 3, 4, 5, 10, 2, 7, 9, 1, 5, 2, 4, 1, 7, 8, 9, 4, 5, 8, 10, 9, 2, 9, 10, 6, 10, 6, 3, 1, 3, 3, 1, 8, 3, 3, 8, 2, 1, 3, 4, 8, 5, 5, 9, 2, 2, 1, 2, 9, 3, 1, 4, 6, 9, 10, 9, 7, 7, 3, 4, 5, 7, 1, 8, 2, 3, 5, 9, 2, 8, 1, 5, 7, 3, 9, 4, 10, 3, 4, 1, 7, 2, 5, 6, 9, 3, 10, 10, 8, 7, 9, 7, 8, 7, 2, 6, 7, 10, 10, 7, 5, 7, 5, 4, 9, 4, 6, 10, 5, 9, 7, 2, 2, 7, 8, 1, 1, 5, 3, 9, 3, 7, 4, 9, 10, 2, 7, 10, 5, 5, 7, 2, 10, 3, 9, 3, 3, 5, 7, 3, 8, 9, 10, 8, 2, 9, 8, 2, 9, 7, 1, 4, 5, 8, 1, 3, 1, 8, 1, 8, 10, 10, 7, 5, 7, 10, 3, 4, 10, 9, 2, 5, 7, 10, 2, 1, 1, 4, 3, 10, 2, 5, 3, 7, 2, 9, 3, 7, 7, 6, 5, 8, 7, 10, 3, 8, 2, 4, 5, 6, 9, 10, 6, 3, 2, 3, 9, 2, 7, 8, 7, 7, 3, 9, 1, 2, 3, 7, 8, 9, 3, 3, 7, 7, 9, 5, 1, 2, 4, 5, 6, 1, 3, 4, 9, 5, 10, 7, 10, 5, 1, 5, 8, 2, 7, 8, 8, 10, 8, 9, 10, 3, 5, 1, 1, 1, 7, 9, 9, 3, 5, 8, 2, 9, 9, 5, 2, 2, 7, 1, 2, 4, 5, 7, 7, 5, 4, 7, 3, 8, 8, 1, 2, 3, 7, 9, 10, 1, 7, 7, 7, 2, 8, 3, 2, 9, 2, 2, 2, 10, 1, 4, 3, 1, 9, 8, 5, 8, 3, 3, 5, 10, 3, 6, 8, 10, 10, 2, 3, 7, 9, 9, 9, 3, 9, 3, 4, 7, 7, 7, 7, 1, 3, 8, 9, 10, 1, 7, 10, 7, 7, 8, 4, 7, 8, 3, 5, 9, 1, 10, 1, 8, 5, 2, 1, 3, 8, 3, 7, 1, 9, 8, 1, 5, 6, 1, 1, 4, 5, 2, 1, 3, 9, 10, 4, 4, 2, 10, 8, 5, 8, 2, 1, 3, 1, 5, 7, 7, 3, 5, 1, 9, 7, 5, 7, 1, 2, 3, 4, 5, 6, 7, 8, 1, 1, 8, 10, 1, 8, 1, 2, 1, 6, 5, 5, 7, 3, 3, 7, 7, 2, 8, 10, 9, 1, 6, 8, 9, 2, 3, 1, 9, 10, 10, 8, 7, 2, 6, 3, 6, 7, 8, 9, 10, 1, 1, 3, 1, 2, 5, 8, 9, 3, 2, 9, 2, 4, 6, 7, 8, 10, 9, 3, 5, 8, 8, 1, 4, 5, 9, 8, 1, 10, 3, 1, 9, 7, 1, 10, 8, 3, 9, 4, 5, 7, 8, 10, 3, 9, 5, 5, 3, 1, 7, 8, 9, 10, 5, 10, 3, 2, 5, 5, 1, 1, 2, 4, 5, 6, 7, 8, 10, 2, 8, 8, 1, 2, 6, 8, 5, 7, 7, 7, 6, 8, 3, 5, 6, 3, 8, 8, 9, 9, 4, 6, 9, 2, 10, 3, 2, 2, 4, 10, 9, 4, 6, 9, 1, 2, 2, 7, 1, 3, 1, 2, 3, 8, 9, 7, 10, 1, 9, 5, 7, 1, 6, 7, 9, 10, 8, 3, 1, 2, 2, 8, 5, 8, 3, 9, 3, 8, 5, 4, 7, 8, 1, 10, 3, 9, 10, 3, 3, 1, 2, 9, 3, 5, 2, 8, 1, 9, 6, 1, 7, 8, 1, 1, 5, 6, 10, 5, 7, 10, 9, 9, 4, 8, 5, 3, 10, 7, 1, 9, 3, 1, 8, 7, 2, 3, 10, 2, 9, 5, 2, 8, 7, 9, 1, 1, 8, 9, 3, 8, 8, 5, 1, 2, 9, 3, 4, 5, 9, 10, 2, 8, 9, 1, 2, 4, 5, 8, 10, 5, 7, 10, 4, 2, 8, 5, 6, 9, 10, 8, 7, 9, 4, 5, 9, 3, 1, 5, 8, 3, 5, 7, 1, 10, 2, 9, 3, 4, 8, 1, 3, 4, 6, 9, 2, 6, 8, 4, 10, 3, 9, 2, 5, 6, 9, 1, 10, 4, 3, 10, 8, 8, 8, 3, 9, 8, 10, 2, 5, 10, 9, 2, 1, 3, 8, 8, 6, 7, 10, 7, 2, 8, 1, 3, 9, 8, 7, 6, 2, 7, 8, 10, 7, 3, 9, 6, 2, 8, 1, 8, 7, 4, 7, 10, 5, 4, 7, 6, 7, 9, 10, 10, 4, 7, 8, 2, 7, 5, 8, 2, 2, 1, 3, 2, 10, 10, 10, 6, 5, 1, 8, 9, 10, 10, 4, 7, 8, 7, 5, 4, 5, 6, 9, 1, 1, 7, 7, 2, 2, 7, 1, 7, 8, 10, 9, 5, 9, 4, 6, 7, 1, 6, 6, 2, 2, 10, 1, 10, 5, 3, 9, 10, 2, 3, 2, 8, 1, 9, 4, 10, 5, 7, 1, 2, 5, 6, 7, 8, 7, 1, 3, 3, 2, 7, 8, 7, 7, 10, 10, 5, 7, 1, 3, 1, 2, 5, 2, 3, 3, 3, 1, 8, 1, 2, 8, 1, 5, 9, 10, 3, 2, 10, 5, 7, 7, 3, 9, 9, 3, 7, 9, 10, 7, 4, 10, 2, 3, 4, 5, 7, 8, 10, 4, 10, 10, 3, 1, 9, 6, 9, 9, 3, 6, 6, 7, 8, 5, 5, 3, 3, 10, 2, 1, 4, 7, 1, 1, 8, 1, 3, 2, 2, 7, 10, 9, 10, 3, 9, 1, 3, 5, 6, 7, 9, 10, 6, 2, 7, 9, 6, 7, 10, 5, 1, 1, 8, 5, 2, 2, 5, 6, 1, 8, 10, 6, 1, 7, 10, 1, 9, 2, 4, 1, 1, 5, 6, 9, 7, 4, 8, 10, 2, 10, 3, 9, 6, 4, 7, 10, 5, 4, 7, 9, 8, 1, 2, 8, 9, 3, 5, 2, 5, 5, 4, 1, 3, 2, 10, 10, 9, 1, 7, 9, 9, 9, 7, 3, 1, 2, 5, 1, 4, 2, 2, 2, 5, 9, 10, 5, 9, 3, 1, 10, 7, 1, 3, 4, 5, 6, 7, 8, 9, 10, 1, 4, 5, 8, 9, 10, 4, 3, 5, 6, 9, 9, 2, 8, 3, 2, 10, 7, 3, 5, 8, 10, 8, 10, 1, 2, 3, 9, 3, 3, 5, 8, 3, 8, 6, 2, 3, 9, 2, 8, 1, 3, 1, 3, 9, 1, 9, 10, 3, 9, 8, 2, 6, 7, 8, 9, 10, 8, 2, 3, 4, 2, 7, 3, 9, 10, 9, 3, 5, 1, 10, 7, 7, 9, 1, 3, 2, 6, 8, 1, 2, 4, 6, 9, 5, 10, 7, 9, 7, 4, 5, 1, 3, 9, 4, 1, 8, 7, 8, 3, 3, 2, 1, 3, 5, 2, 4, 3, 2, 7, 4, 2, 3, 2, 8, 10, 7, 7, 2, 9, 3, 3, 2, 7, 10, 2, 7, 4, 10, 5, 8, 3, 10, 8, 7, 3, 9, 3, 10, 1, 3, 4, 2, 2, 9, 6, 7, 10, 10, 6, 3, 3, 8, 9, 3, 1, 1, 5, 9, 2, 3, 7, 3, 9, 7, 10, 2, 4, 6, 10, 9, 4, 9, 3, 9, 8, 2, 1, 3, 7, 1, 4, 5, 9, 10, 10, 2, 7, 4, 5, 1, 4, 2, 2, 5, 9, 10, 4, 3, 9, 7, 7, 9, 5, 9, 10, 8, 2, 7, 7, 7, 5, 3, 6, 7, 7, 4, 2, 1, 9, 7, 1, 10, 1, 7, 2, 8, 2, 2, 5, 2, 7, 9, 9, 1, 3, 5, 8, 5, 1, 10, 2, 4, 5, 7, 3, 3, 5, 7, 1, 5, 3, 2, 1, 4, 4, 8, 10, 9, 5, 3, 5, 7, 7, 8, 2, 3, 4, 8, 8, 3, 1, 4, 9, 10, 8, 9, 7, 5, 8, 8, 6, 10, 8, 5, 7, 3, 3, 9, 9, 9, 6, 9, 2, 1, 6, 5, 9, 7, 7, 10, 7, 4, 7, 1, 9, 3, 1, 9, 4, 5, 6, 3, 5, 6, 7, 1, 5, 8, 10, 4, 6, 9, 2, 2, 9, 6, 9, 3, 7, 8, 9, 3, 5, 7, 8, 9, 8, 7, 9, 2, 1, 4, 2, 3, 1, 5, 1, 7, 9, 1, 6, 9, 3, 6, 9, 7, 3, 8, 4, 5, 5, 7, 9, 10, 8, 7, 8, 7, 9, 9, 8, 9, 1, 8, 7, 9, 7, 7, 2, 7, 8, 10, 1, 2, 7, 1, 5, 6, 10, 3, 9, 3, 8, 9, 8, 2, 3, 7, 2, 10, 1, 3, 8, 6, 8, 10, 5, 2, 2, 2, 9, 9, 3, 9, 10, 3, 7, 3, 5, 9, 10, 5, 7, 7, 4, 7, 3, 2, 2, 10, 9, 5, 7, 1, 3, 5, 8, 9, 10, 1, 3, 4, 5, 1, 10, 1, 4, 5, 6, 8, 2, 3, 5, 7, 9, 4, 7, 2, 3, 6, 7, 8, 7, 4, 3, 5, 10, 6, 10, 3, 7, 9, 4, 5, 6, 9, 9, 9, 10, 5, 1, 1, 9, 10, 8, 1, 3, 5, 4, 7, 3, 10, 10, 10, 1, 4, 3, 3, 5, 6, 8, 10, 7, 5, 7, 8, 7, 9, 2, 2, 8, 9, 5, 2, 10, 3, 7, 1, 7, 8, 2, 2, 1, 1, 2, 2, 2, 10, 2, 3, 1, 7, 2, 8, 2, 5, 6, 7, 5, 4, 8, 5, 2, 4, 7, 3, 8, 3, 1, 2, 4, 5, 4, 6, 7, 8, 9, 8, 2, 3, 7, 1, 10, 2, 5, 8, 10, 10, 1, 7, 4, 5, 3, 7, 10, 9, 7, 8, 3, 1, 3, 4, 8, 9, 3, 3, 1, 1, 3, 5, 10, 2, 6, 3, 9, 1, 1, 3, 10, 8, 8, 5, 2, 5, 5, 3, 8, 8, 7, 6, 4, 1, 2, 3, 4, 6, 7, 8, 10, 8, 10, 2, 2, 6, 7, 9, 1, 1, 3, 8, 3, 5, 9, 3, 9, 2, 10, 2, 2, 10, 9, 2, 3, 2, 2, 2, 2, 1, 3, 8, 1, 7, 4, 1, 1, 1, 8, 8, 5, 1, 7, 9, 5, 1, 1, 7, 3, 9, 7, 10, 8, 10, 1, 1, 9, 1, 4, 2, 1, 8, 4, 4, 1, 3, 4, 5, 3, 7, 8, 2, 3, 3, 5, 9, 9, 7, 8, 3, 9, 2, 8, 1, 3, 3, 10, 2, 3, 9, 1, 2, 5, 7, 8, 5, 8, 3, 7, 2, 3, 4, 5, 8, 3, 5, 6, 10, 6, 7, 3, 3, 8, 3, 1, 1, 2, 2, 9, 3, 3, 9, 5, 3, 6, 8, 10, 5, 7, 8, 1, 10, 7, 9, 4, 1, 4, 1, 4, 2, 5, 7, 8, 9, 10, 5, 6, 7, 8, 9, 1, 4, 6, 9, 10, 7, 2, 7, 2, 2, 9, 1, 10, 4, 8, 9, 2, 9, 2, 4, 1, 7, 10, 2, 2, 3, 9, 2, 7, 2, 1, 1, 1, 10, 2, 3, 2, 8, 10, 10, 10, 5, 9, 7, 1, 4, 6, 8, 10, 5, 10, 5, 2, 5, 8, 8, 4, 5, 8, 9, 10, 2, 3, 9, 10, 7, 10, 2, 4, 5, 7, 8, 9, 3, 7, 7, 4, 5, 6, 7, 8, 10, 3, 8, 10, 3, 10, 4, 3, 8, 10, 7, 9, 8, 6, 7, 7, 4, 1, 2, 3, 4, 6, 7, 8, 9, 10, 1, 9, 10, 3, 1, 2, 4, 6, 10, 6, 10, 2, 2, 7, 8, 9, 1, 1, 1, 3, 4, 5, 9, 10, 8], \"Freq\": [0.2481955587863922, 0.2481955587863922, 0.2481955587863922, 0.2481955587863922, 0.8663244247436523, 0.878943920135498, 0.8789440989494324, 0.5878391265869141, 0.8708855509757996, 0.887513279914856, 0.8541361093521118, 0.8833516836166382, 0.8833518028259277, 0.8833516836166382, 0.8528583645820618, 0.8528583645820618, 0.8708855509757996, 0.8833518028259277, 0.8729667663574219, 0.8833516836166382, 0.870424747467041, 0.8833516836166382, 0.8528583645820618, 0.8528583645820618, 0.8833516836166382, 0.8704249262809753, 0.8875132203102112, 0.8789440989494324, 0.8708855509757996, 0.8528583645820618, 0.8729667663574219, 0.8729667663574219, 0.870424747467041, 0.8833516240119934, 0.43629395961761475, 0.43629395961761475, 0.8708855509757996, 0.8708855509757996, 0.8833516240119934, 0.44373881816864014, 0.44373881816864014, 0.8789439797401428, 0.8729667663574219, 0.8708855509757996, 0.8528583645820618, 0.8704248666763306, 0.8528583645820618, 0.8789440989494324, 0.8704248666763306, 0.887513279914856, 0.28874319791793823, 0.28874319791793823, 0.28874319791793823, 0.28874319791793823, 0.887513279914856, 0.8699654340744019, 0.8833516836166382, 0.34808415174484253, 0.34808415174484253, 0.34808415174484253, 0.8833516836166382, 0.8528583645820618, 0.8699654340744019, 0.8729667663574219, 0.5760552883148193, 0.5760552883148193, 0.8729667663574219, 0.8833518028259277, 0.8708855509757996, 0.5766040682792664, 0.8708855509757996, 0.4578055739402771, 0.11445139348506927, 0.11445139348506927, 0.11445139348506927, 0.11445139348506927, 0.8528583645820618, 0.8708855509757996, 0.8541361093521118, 0.8528583645820618, 0.8789440989494324, 0.8541361093521118, 0.887513279914856, 0.8704248666763306, 0.8528583645820618, 0.8789440989494324, 0.8729667663574219, 0.8708855509757996, 0.8729667663574219, 0.8789439797401428, 0.87088543176651, 0.8699654340744019, 0.8708855509757996, 0.35340240597724915, 0.35340240597724915, 0.35340240597724915, 0.35340240597724915, 0.8704248666763306, 0.8789440989494324, 0.8833518028259277, 0.8528583645820618, 0.8708855509757996, 0.8708855509757996, 0.674041748046875, 0.8541361093521118, 0.8704249262809753, 0.8699654340744019, 0.8789440989494324, 0.8704249262809753, 0.8699654340744019, 0.8875132203102112, 0.8729667663574219, 0.8663244247436523, 0.8708855509757996, 0.8789440989494324, 0.8528583645820618, 0.8528583645820618, 0.887513279914856, 0.8704248666763306, 0.8789439797401428, 0.8708855509757996, 0.8699654340744019, 0.8833518028259277, 0.8789440989494324, 0.870424747467041, 0.8789440989494324, 0.29355472326278687, 0.29355472326278687, 0.29355472326278687, 0.29355472326278687, 0.8708855509757996, 0.8663244247436523, 0.8789439797401428, 0.8699654340744019, 0.8663244247436523, 0.8833516836166382, 0.8729667663574219, 0.8833518028259277, 0.8663244247436523, 0.8663244247436523, 0.43285220861434937, 0.43285220861434937, 0.43285220861434937, 0.8789440989494324, 0.8541361093521118, 0.8528583645820618, 0.8704249262809753, 0.8704249262809753, 0.887513279914856, 0.8708855509757996, 0.8833516836166382, 0.8789440989494324, 0.8663244247436523, 0.887513279914856, 0.8699654340744019, 0.878943920135498, 0.8789440989494324, 0.8699654340744019, 0.8875132203102112, 0.8789440989494324, 0.8541361093521118, 0.8708855509757996, 0.8708855509757996, 0.887513279914856, 0.582504153251648, 0.577945351600647, 0.577945351600647, 0.8708855509757996, 0.8833516836166382, 0.5825040936470032, 0.34927278757095337, 0.6985455751419067, 0.8528583645820618, 0.5766040682792664, 0.8833516836166382, 0.8708855509757996, 0.8704249262809753, 0.8708855509757996, 0.8729667663574219, 0.8528583645820618, 0.8708855509757996, 0.8541361093521118, 0.8699654340744019, 0.8663243055343628, 0.8541361093521118, 0.8789439797401428, 0.887513279914856, 0.870424747467041, 0.8699654340744019, 0.8541361093521118, 0.8528583645820618, 0.8833516836166382, 0.436553418636322, 0.436553418636322, 0.8729667663574219, 0.8789439797401428, 0.8541361093521118, 0.8729667663574219, 0.8699654340744019, 0.8708855509757996, 0.8528583645820618, 0.8528583645820618, 0.5954968333244324, 0.878943920135498, 0.8833518028259277, 0.887513279914856, 0.8528583645820618, 0.8789439797401428, 0.8708855509757996, 0.8833518028259277, 0.887513279914856, 0.887513279914856, 0.8729667663574219, 0.4328521490097046, 0.4328521490097046, 0.4328521490097046, 0.2885749042034149, 0.2885749042034149, 0.2885749042034149, 0.2885749042034149, 0.2885749042034149, 0.8833518028259277, 0.8528583645820618, 0.5658556818962097, 0.887513279914856, 0.8833518028259277, 0.8708855509757996, 0.8833516240119934, 0.42978790402412415, 0.42978790402412415, 0.42978790402412415, 0.8541361093521118, 0.87088543176651, 0.870424747467041, 0.5802428126335144, 0.8708855509757996, 0.8833516240119934, 0.866324245929718, 0.8704249262809753, 0.870424747467041, 0.5917888283729553, 0.2892190217971802, 0.2892190217971802, 0.2892190217971802, 0.8729667663574219, 0.870424747467041, 0.8708855509757996, 0.87088543176651, 0.8704249262809753, 0.8833516836166382, 0.8789439797401428, 0.8708855509757996, 0.8528583645820618, 0.8663244247436523, 0.8708855509757996, 0.8729667663574219, 0.8833516836166382, 0.35017573833465576, 0.7003514766693115, 0.8528583645820618, 0.8528581857681274, 0.8729667663574219, 0.8789439797401428, 0.8789439797401428, 0.8729667663574219, 0.8833516240119934, 0.8875132203102112, 0.8833518028259277, 0.8729667663574219, 0.8789439797401428, 0.8789440989494324, 0.8789439797401428, 0.8708855509757996, 0.8699654340744019, 0.8528583645820618, 0.8789440989494324, 0.8789440989494324, 0.8704249262809753, 0.8833518028259277, 0.887513279914856, 0.8729667663574219, 0.8833518028259277, 0.8789440989494324, 0.5802428126335144, 0.8833518028259277, 0.44436895847320557, 0.44436895847320557, 0.887513279914856, 0.887513279914856, 0.28760266304016113, 0.28760266304016113, 0.28760266304016113, 0.28760266304016113, 0.887513279914856, 0.8833516836166382, 0.8708855509757996, 0.8528583645820618, 0.8541361093521118, 0.887513279914856, 0.8699654340744019, 0.8528583645820618, 0.8833516240119934, 0.8704249262809753, 0.8708855509757996, 0.34581834077835083, 0.34581834077835083, 0.34581834077835083, 0.34581834077835083, 0.8708855509757996, 0.887513279914856, 0.5806522369384766, 0.8729667663574219, 0.8663244247436523, 0.8729667663574219, 0.8663244247436523, 0.878943920135498, 0.8528583645820618, 0.8789439797401428, 0.8789439797401428, 0.8528581857681274, 0.8704248666763306, 0.8789439797401428, 0.8789440989494324, 0.8704249262809753, 0.887513279914856, 0.8528581857681274, 0.8789440989494324, 0.8699654340744019, 0.8704249262809753, 0.8541361093521118, 0.8541361093521118, 0.8708855509757996, 0.887513279914856, 0.8875132203102112, 0.8528583645820618, 0.887513279914856, 0.8708855509757996, 0.8789439797401428, 0.24686941504478455, 0.24686941504478455, 0.24686941504478455, 0.24686941504478455, 0.8729667663574219, 0.8708855509757996, 0.8833516836166382, 0.8833518028259277, 0.4394000768661499, 0.21970003843307495, 0.21970003843307495, 0.21970003843307495, 0.28617215156555176, 0.5723443031311035, 0.3495810627937317, 0.3495810627937317, 0.3495810627937317, 0.3495810627937317, 0.887513279914856, 0.8704249262809753, 0.8528582453727722, 0.8541361093521118, 0.8833518028259277, 0.8789440989494324, 0.8708855509757996, 0.8699654340744019, 0.8729667663574219, 0.4393085539340973, 0.4393085539340973, 0.8528583645820618, 0.8833516240119934, 0.2892572283744812, 0.2892572283744812, 0.2892572283744812, 0.2892572283744812, 0.8789439797401428, 0.8729667663574219, 0.8729667663574219, 0.8704249262809753, 0.8833516836166382, 0.8708855509757996, 0.8833518028259277, 0.8704249262809753, 0.8833516836166382, 0.17711636424064636, 0.17711636424064636, 0.3542327284812927, 0.3542327284812927, 0.8729667663574219, 0.8833516836166382, 0.5658556818962097, 0.8833516836166382, 0.8541361093521118, 0.8699654340744019, 0.8708855509757996, 0.34714290499687195, 0.34714290499687195, 0.34714290499687195, 0.5731585025787354, 0.5731585025787354, 0.8833516836166382, 0.887513279914856, 0.887513279914856, 0.8833516836166382, 0.8704248666763306, 0.8528582453727722, 0.8528581857681274, 0.8541361093521118, 0.8789439797401428, 0.87088543176651, 0.8789440989494324, 0.8833516836166382, 0.8699654340744019, 0.8708855509757996, 0.8729667663574219, 0.8875132203102112, 0.8833516836166382, 0.8729667663574219, 0.8541361093521118, 0.8541361093521118, 0.8833518028259277, 0.887513279914856, 0.8729667663574219, 0.8789440989494324, 0.8708855509757996, 0.8789439797401428, 0.8789439797401428, 0.8541361093521118, 0.8833518028259277, 0.2914281487464905, 0.2914281487464905, 0.2914281487464905, 0.2914281487464905, 0.8704249262809753, 0.887513279914856, 0.8708855509757996, 0.8704249262809753, 0.887513279914856, 0.8708855509757996, 0.8833516836166382, 0.34254705905914307, 0.34254705905914307, 0.34254705905914307, 0.8704249262809753, 0.8528583645820618, 0.8789440989494324, 0.8528583645820618, 0.8704249262809753, 0.3428763449192047, 0.3428763449192047, 0.3428763449192047, 0.8729667663574219, 0.8833518028259277, 0.8541361093521118, 0.8833516240119934, 0.8729667663574219, 0.8789440989494324, 0.8699654340744019, 0.8729667663574219, 0.8708855509757996, 0.4384147822856903, 0.4384147822856903, 0.4384147822856903, 0.8729667663574219, 0.887513279914856, 0.8528583645820618, 0.8528583645820618, 0.8699654340744019, 0.8789439797401428, 0.8729667663574219, 0.887513279914856, 0.8541361093521118, 0.8789440989494324, 0.8833516836166382, 0.4438289999961853, 0.4438289999961853, 0.8789439797401428, 0.8833516836166382, 0.8833518028259277, 0.8663244247436523, 0.8541361093521118, 0.8704249262809753, 0.8833516240119934, 0.8729667663574219, 0.8789440989494324, 0.8704249262809753, 0.19292034208774567, 0.19292034208774567, 0.19292034208774567, 0.38584068417549133, 0.19292034208774567, 0.19292034208774567, 0.8663244247436523, 0.8789440989494324, 0.35235458612442017, 0.35235458612442017, 0.35235458612442017, 0.8875132203102112, 0.8833518028259277, 0.8704249262809753, 0.8833516836166382, 0.8833516836166382, 0.8789440989494324, 0.8708855509757996, 0.21992318332195282, 0.21992318332195282, 0.21992318332195282, 0.21992318332195282, 0.21992318332195282, 0.21992318332195282, 0.8789440989494324, 0.8789439797401428, 0.8833516836166382, 0.8833518028259277, 0.8708855509757996, 0.8541361093521118, 0.21590255200862885, 0.21590255200862885, 0.21590255200862885, 0.21590255200862885, 0.21590255200862885, 0.28708744049072266, 0.28708744049072266, 0.28708744049072266, 0.28708744049072266, 0.5658556222915649, 0.8729667663574219, 0.8833516836166382, 0.8729667663574219, 0.5658556222915649, 0.8528583645820618, 0.8541361093521118, 0.8704249262809753, 0.8875132203102112, 0.8833516240119934, 0.8704249262809753, 0.8704249262809753, 0.8729667663574219, 0.8704249262809753, 0.8708855509757996, 0.8729667663574219, 0.8789440989494324, 0.8541361093521118, 0.8528582453727722, 0.8528583645820618, 0.34453898668289185, 0.34453898668289185, 0.34453898668289185, 0.8708855509757996, 0.8789440989494324, 0.8541361093521118, 0.870424747467041, 0.5955303907394409, 0.8708855509757996, 0.8708855509757996, 0.8541361093521118, 0.887513279914856, 0.887513279914856, 0.8833516836166382, 0.4263293445110321, 0.21316467225551605, 0.21316467225551605, 0.21316467225551605, 0.8833516836166382, 0.8833518028259277, 0.8541361093521118, 0.8699654340744019, 0.8833518028259277, 0.8789439797401428, 0.8704249262809753, 0.8704248666763306, 0.5647345781326294, 0.887513279914856, 0.8789440989494324, 0.3510729670524597, 0.3510729670524597, 0.3510729670524597, 0.8528583645820618, 0.8833518028259277, 0.8833518028259277, 0.8833516836166382, 0.887513279914856, 0.8704249262809753, 0.8789439797401428, 0.887513279914856, 0.8708855509757996, 0.887513279914856, 0.8875132203102112, 0.887513279914856, 0.8729667663574219, 0.43050652742385864, 0.43050652742385864, 0.8789439797401428, 0.8528583645820618, 0.8708855509757996, 0.8704248666763306, 0.8541361093521118, 0.8704248666763306, 0.8789440989494324, 0.3476320803165436, 0.3476320803165436, 0.3476320803165436, 0.5821674466133118, 0.5821674466133118, 0.870424747467041, 0.8729667663574219, 0.8729667663574219, 0.8875132203102112, 0.8789439797401428, 0.8833518028259277, 0.8708855509757996, 0.8708855509757996, 0.8708855509757996, 0.8789439797401428, 0.8708855509757996, 0.4393084943294525, 0.4393084943294525, 0.8833518028259277, 0.8833516836166382, 0.8833518028259277, 0.8833518028259277, 0.17384736239910126, 0.3476947247982025, 0.17384736239910126, 0.17384736239910126, 0.17384736239910126, 0.8528583645820618, 0.8833516836166382, 0.8729667663574219, 0.8833516836166382, 0.8833518028259277, 0.8704249262809753, 0.43825751543045044, 0.43825751543045044, 0.43825751543045044, 0.4332502484321594, 0.4332502484321594, 0.4332502484321594, 0.4269944429397583, 0.4269944429397583, 0.8528583645820618, 0.870424747467041, 0.8541361093521118, 0.887513279914856, 0.8528583645820618, 0.4372858703136444, 0.4372858703136444, 0.878943920135498, 0.8833518028259277, 0.8528583645820618, 0.87088543176651, 0.8704249262809753, 0.8528583645820618, 0.8541361093521118, 0.8663244247436523, 0.8528583645820618, 0.8528583645820618, 0.8699654340744019, 0.8541361093521118, 0.8875132203102112, 0.43292123079299927, 0.43292123079299927, 0.43292123079299927, 0.8729667663574219, 0.8699654340744019, 0.8699654340744019, 0.887513279914856, 0.8729667663574219, 0.870424747467041, 0.5658556222915649, 0.870424747467041, 0.887513279914856, 0.8528583645820618, 0.8789440989494324, 0.8528583645820618, 0.8541361093521118, 0.8833516836166382, 0.8833516240119934, 0.8789440989494324, 0.8541361093521118, 0.8528583645820618, 0.8708855509757996, 0.8833516836166382, 0.2501128911972046, 0.5002257823944092, 0.1578802913427353, 0.1578802913427353, 0.1578802913427353, 0.1578802913427353, 0.1578802913427353, 0.1578802913427353, 0.1578802913427353, 0.1578802913427353, 0.8528583645820618, 0.346081405878067, 0.346081405878067, 0.346081405878067, 0.8528583645820618, 0.8704248666763306, 0.8528581857681274, 0.887513279914856, 0.8528583645820618, 0.8663243055343628, 0.8541361093521118, 0.8541361093521118, 0.8833518028259277, 0.8789440989494324, 0.8789439797401428, 0.8833516836166382, 0.8833516836166382, 0.887513279914856, 0.8704249262809753, 0.8729667663574219, 0.8708855509757996, 0.8528583645820618, 0.8663244247436523, 0.8704249262809753, 0.8708855509757996, 0.887513279914856, 0.8789439797401428, 0.8528581857681274, 0.87088543176651, 0.8729667663574219, 0.8729667663574219, 0.8704249262809753, 0.8833516836166382, 0.8875132203102112, 0.8663244247436523, 0.2503027021884918, 0.2503027021884918, 0.2503027021884918, 0.2503027021884918, 0.2503027021884918, 0.2503027021884918, 0.8528583645820618, 0.8528583645820618, 0.878943920135498, 0.8528583645820618, 0.3508540689945221, 0.3508540689945221, 0.3508540689945221, 0.8708855509757996, 0.8789439797401428, 0.4438289999961853, 0.4438289999961853, 0.25091636180877686, 0.25091636180877686, 0.25091636180877686, 0.25091636180877686, 0.25091636180877686, 0.25091636180877686, 0.8708855509757996, 0.8789439797401428, 0.42702412605285645, 0.42702412605285645, 0.870424747467041, 0.24441109597682953, 0.24441109597682953, 0.24441109597682953, 0.24441109597682953, 0.8704249262809753, 0.8528583645820618, 0.8729667663574219, 0.8789440989494324, 0.8528583645820618, 0.8708855509757996, 0.8833516240119934, 0.8528583645820618, 0.8729667663574219, 0.8704249262809753, 0.8789439797401428, 0.8708855509757996, 0.34653806686401367, 0.17326903343200684, 0.17326903343200684, 0.17326903343200684, 0.17326903343200684, 0.5878391861915588, 0.8708855509757996, 0.8541361093521118, 0.8541361093521118, 0.8789440989494324, 0.28985750675201416, 0.28985750675201416, 0.28985750675201416, 0.28985750675201416, 0.28985750675201416, 0.8541361093521118, 0.8729667663574219, 0.8789440989494324, 0.887513279914856, 0.8541361093521118, 0.5658556222915649, 0.8528583645820618, 0.15806691348552704, 0.15806691348552704, 0.15806691348552704, 0.15806691348552704, 0.15806691348552704, 0.15806691348552704, 0.15806691348552704, 0.15806691348552704, 0.8875132203102112, 0.870424747467041, 0.8704249262809753, 0.3472821116447449, 0.3472821116447449, 0.3472821116447449, 0.3472821116447449, 0.8541361093521118, 0.8833516836166382, 0.8833516836166382, 0.8833516240119934, 0.8663244247436523, 0.870424747467041, 0.285135418176651, 0.570270836353302, 0.285135418176651, 0.8789439797401428, 0.8704248666763306, 0.870424747467041, 0.8708855509757996, 0.8708855509757996, 0.34681329131126404, 0.34681329131126404, 0.34681329131126404, 0.8875132203102112, 0.8729667663574219, 0.8789439797401428, 0.887513279914856, 0.3515782952308655, 0.3515782952308655, 0.3515782952308655, 0.8708855509757996, 0.8699654340744019, 0.4332311451435089, 0.4332311451435089, 0.8528581857681274, 0.887513279914856, 0.44704413414001465, 0.44704413414001465, 0.8528581857681274, 0.8789439797401428, 0.8528583645820618, 0.3522792160511017, 0.3522792160511017, 0.3522792160511017, 0.3522792160511017, 0.8833516836166382, 0.8729667663574219, 0.8528583645820618, 0.8708855509757996, 0.8541361093521118, 0.8833516836166382, 0.8528583645820618, 0.8663244247436523, 0.8833516836166382, 0.8708855509757996, 0.8729667663574219, 0.8704248666763306, 0.8789439797401428, 0.8528583645820618, 0.8875132203102112, 0.887513279914856, 0.8704249262809753, 0.8541361093521118, 0.8704248666763306, 0.8789440989494324, 0.8708855509757996, 0.8789439797401428, 0.8704249262809753, 0.8541361093521118, 0.579834520816803, 0.8833518028259277, 0.8704249262809753, 0.8528583645820618, 0.8729667663574219, 0.8789440989494324, 0.8708855509757996, 0.8729667663574219, 0.8789439797401428, 0.8789439797401428, 0.8528582453727722, 0.887513279914856, 0.8708855509757996, 0.8789440989494324, 0.8541361093521118, 0.887513279914856, 0.8704249262809753, 0.8528581857681274, 0.8708855509757996, 0.8663244247436523, 0.8528582453727722, 0.8833516240119934, 0.8704249262809753, 0.8528583645820618, 0.2835121750831604, 0.2835121750831604, 0.2835121750831604, 0.5825321078300476, 0.43483540415763855, 0.43483540415763855, 0.43483540415763855, 0.8708855509757996, 0.87088543176651, 0.8699654340744019, 0.8704249262809753, 0.8541361093521118, 0.8789439797401428, 0.8729667663574219, 0.8833516836166382, 0.679600715637207, 0.3398003578186035, 0.8789439797401428, 0.8528583645820618, 0.8704248666763306, 0.8833518028259277, 0.887513279914856, 0.8789440989494324, 0.8729667663574219, 0.887513279914856, 0.8708855509757996, 0.8541361093521118, 0.8875132203102112, 0.8704249262809753, 0.8833516836166382, 0.5806522369384766, 0.8528583645820618, 0.3453541696071625, 0.3453541696071625, 0.3453541696071625, 0.8789440989494324, 0.8704249262809753, 0.8704248666763306, 0.8541361093521118, 0.8528583645820618, 0.887513279914856, 0.8708855509757996, 0.34413784742355347, 0.34413784742355347, 0.34413784742355347, 0.8708855509757996, 0.8729667663574219, 0.887513279914856, 0.4352819621562958, 0.4352819621562958, 0.17353133857250214, 0.17353133857250214, 0.17353133857250214, 0.17353133857250214, 0.3470626771450043, 0.17353133857250214, 0.43011200428009033, 0.43011200428009033, 0.8729667663574219, 0.8699654340744019, 0.43939635157585144, 0.43939635157585144, 0.28633788228034973, 0.28633788228034973, 0.28633788228034973, 0.28633788228034973, 0.8704248666763306, 0.8833518028259277, 0.8708855509757996, 0.8699654340744019, 0.8541361093521118, 0.8708855509757996, 0.5878391265869141, 0.8528583645820618, 0.8541361093521118, 0.870424747467041, 0.8789440989494324, 0.8541361093521118, 0.8833516836166382, 0.8528581857681274, 0.8729667663574219, 0.887513279914856, 0.8708855509757996, 0.8789439797401428, 0.8699654340744019, 0.8704248666763306, 0.8528583645820618, 0.2178134173154831, 0.4356268346309662, 0.2178134173154831, 0.2178134173154831, 0.887513279914856, 0.5766040682792664, 0.8704249262809753, 0.8699654340744019, 0.8729667663574219, 0.8789439797401428, 0.8708855509757996, 0.2470632940530777, 0.2470632940530777, 0.2470632940530777, 0.2470632940530777, 0.8528583645820618, 0.8729667663574219, 0.8699654340744019, 0.878943920135498, 0.8729667663574219, 0.8704248666763306, 0.870424747467041, 0.870424747467041, 0.8789440989494324, 0.8708855509757996, 0.8704249262809753, 0.8729667663574219, 0.7071966528892517, 0.35359832644462585, 0.8729667663574219, 0.87088543176651, 0.887513279914856, 0.8528583645820618, 0.8789439797401428, 0.8704248666763306, 0.8704249262809753, 0.8663244247436523, 0.44228243827819824, 0.44228243827819824, 0.8833518028259277, 0.8875132203102112, 0.8704249262809753, 0.8528583645820618, 0.8789439797401428, 0.8708855509757996, 0.8704249262809753, 0.8833516836166382, 0.8663244247436523, 0.887513279914856, 0.8833516240119934, 0.8704249262809753, 0.8729667663574219, 0.8833518028259277, 0.8789440989494324, 0.87088543176651, 0.8663244247436523, 0.43939653038978577, 0.43939653038978577, 0.8528583645820618, 0.8704249262809753, 0.8833518028259277, 0.8699654340744019, 0.8833516836166382, 0.8729667663574219, 0.8541361093521118, 0.43814098834991455, 0.43814098834991455, 0.2493063509464264, 0.2493063509464264, 0.2493063509464264, 0.2493063509464264, 0.8729667663574219, 0.8699654340744019, 0.8833516836166382, 0.870424747467041, 0.887513279914856, 0.8833518028259277, 0.8541361093521118, 0.8704249262809753, 0.887513279914856, 0.887513279914856, 0.8528583645820618, 0.8789440989494324, 0.887513279914856, 0.8729667663574219, 0.8729667663574219, 0.8729667663574219, 0.5766041278839111, 0.8541361093521118, 0.8528583645820618, 0.870424747467041, 0.5815767049789429, 0.5815767049789429, 0.8729667663574219, 0.5857506394386292, 0.5857506394386292, 0.8704249262809753, 0.8833518028259277, 0.5658556818962097, 0.8699654340744019, 0.34426984190940857, 0.34426984190940857, 0.34426984190940857, 0.8528581857681274, 0.8528583645820618, 0.8833518028259277, 0.8833516240119934, 0.5955303311347961, 0.887513279914856, 0.8833516836166382, 0.8528583645820618, 0.2918075621128082, 0.5836151242256165, 0.2918075621128082, 0.5806522965431213, 0.8541361093521118, 0.87088543176651, 0.8699654340744019, 0.8663244247436523, 0.8833516836166382, 0.8528583645820618, 0.8663244247436523, 0.8663244247436523, 0.887513279914856, 0.887513279914856, 0.8729667663574219, 0.8528583645820618, 0.8729667663574219, 0.8541361093521118, 0.878943920135498, 0.8708855509757996, 0.8729667663574219, 0.887513279914856, 0.8789440989494324, 0.887513279914856, 0.8704249262809753, 0.8528583645820618, 0.87088543176651, 0.8699654340744019, 0.8729667663574219, 0.8541361093521118, 0.8833518028259277, 0.24791114032268524, 0.24791114032268524, 0.24791114032268524, 0.24791114032268524, 0.24791114032268524, 0.24791114032268524, 0.8833516836166382, 0.8528583645820618, 0.8789439797401428, 0.8789440989494324, 0.3550158441066742, 0.3550158441066742, 0.3550158441066742, 0.8833518028259277, 0.8833516836166382, 0.8729667663574219, 0.8729667663574219, 0.8541361093521118, 0.8833518028259277, 0.8528583645820618, 0.8789439797401428, 0.3427141606807709, 0.3427141606807709, 0.3427141606807709, 0.8875132203102112, 0.8789440989494324, 0.8789439797401428, 0.8789440989494324, 0.8528583645820618, 0.8704249262809753, 0.43044528365135193, 0.43044528365135193, 0.8704248666763306, 0.8528583645820618, 0.8541361093521118, 0.8708855509757996, 0.8729667663574219, 0.8789439797401428, 0.887513279914856, 0.8729667663574219, 0.8541361093521118, 0.8833516836166382, 0.8833516836166382, 0.8789439797401428, 0.8708855509757996, 0.8708855509757996, 0.8789439797401428, 0.8833516836166382, 0.8708855509757996, 0.8729667663574219, 0.8833516836166382, 0.8699654340744019, 0.8729667663574219, 0.13526184856891632, 0.13526184856891632, 0.13526184856891632, 0.13526184856891632, 0.27052369713783264, 0.13526184856891632, 0.13526184856891632, 0.8699654340744019, 0.8729667663574219, 0.8729667663574219, 0.8789439797401428, 0.8528583645820618, 0.8708855509757996, 0.5766040682792664, 0.8708855509757996, 0.8708855509757996, 0.43837815523147583, 0.43837815523147583, 0.8663243055343628, 0.8833516836166382, 0.8704248666763306, 0.8541361093521118, 0.8541361093521118, 0.8789440989494324, 0.8789440989494324, 0.8729667663574219, 0.887513279914856, 0.8528583645820618, 0.8699654340744019, 0.8833516836166382, 0.8528583645820618, 0.8528583645820618, 0.8704248666763306, 0.8528583645820618, 0.8789439797401428, 0.887513279914856, 0.887513279914856, 0.8833516836166382, 0.8729667663574219, 0.8708855509757996, 0.8729667663574219, 0.878943920135498, 0.8708855509757996, 0.24548731744289398, 0.12274365872144699, 0.24548731744289398, 0.12274365872144699, 0.12274365872144699, 0.12274365872144699, 0.24548731744289398, 0.8663244247436523, 0.4459857642650604, 0.4459857642650604, 0.8708855509757996, 0.8663243055343628, 0.8833516836166382, 0.8729667663574219, 0.8541361093521118, 0.8528583645820618, 0.8528583645820618, 0.8704249262809753, 0.8541361093521118, 0.887513279914856, 0.3501858711242676, 0.3501858711242676, 0.3501858711242676, 0.8528583645820618, 0.8704248666763306, 0.8729667663574219, 0.8663244247436523, 0.28923216462135315, 0.28923216462135315, 0.28923216462135315, 0.8528583645820618, 0.8708855509757996, 0.887513279914856, 0.8699654340744019, 0.8528582453727722, 0.2438352406024933, 0.2438352406024933, 0.2438352406024933, 0.2438352406024933, 0.8833516836166382, 0.8699654340744019, 0.8704248666763306, 0.8729667663574219, 0.887513279914856, 0.8729667663574219, 0.8789439797401428, 0.8708855509757996, 0.8663244247436523, 0.8699654340744019, 0.8833518028259277, 0.8729667663574219, 0.8541361093521118, 0.8699654340744019, 0.8833516836166382, 0.8708855509757996, 0.8704249262809753, 0.8528583645820618, 0.5955303907394409, 0.8704248666763306, 0.8708855509757996, 0.8789440989494324, 0.8541361093521118, 0.887513279914856, 0.8541361093521118, 0.8541361093521118, 0.8699654340744019, 0.42841944098472595, 0.42841944098472595, 0.887513279914856, 0.8729667663574219, 0.8729667663574219, 0.8708855509757996, 0.8528583645820618, 0.8833516836166382, 0.8708855509757996, 0.87088543176651, 0.8708855509757996, 0.8833516836166382, 0.8789440989494324, 0.8528583645820618, 0.887513279914856, 0.8541361093521118, 0.8528583645820618, 0.8699654340744019, 0.887513279914856, 0.887513279914856, 0.435322105884552, 0.435322105884552, 0.435322105884552, 0.8729667663574219, 0.8541361093521118, 0.8708855509757996, 0.8789439797401428, 0.8528583645820618, 0.8729667663574219, 0.8833516836166382, 0.13848543167114258, 0.06924271583557129, 0.27697086334228516, 0.06924271583557129, 0.06924271583557129, 0.06924271583557129, 0.06924271583557129, 0.13848543167114258, 0.13848543167114258, 0.3120718002319336, 0.1560359001159668, 0.1560359001159668, 0.1560359001159668, 0.1560359001159668, 0.1560359001159668, 0.8699654340744019, 0.24776923656463623, 0.24776923656463623, 0.24776923656463623, 0.49553847312927246, 0.8708855509757996, 0.887513279914856, 0.8704249262809753, 0.8789440989494324, 0.887513279914856, 0.8729667663574219, 0.8833518028259277, 0.3472282886505127, 0.3472282886505127, 0.3472282886505127, 0.3472282886505127, 0.8704249262809753, 0.8729667663574219, 0.8528583645820618, 0.887513279914856, 0.8789439797401428, 0.8708855509757996, 0.8789439797401428, 0.8789439797401428, 0.8541361093521118, 0.8704249262809753, 0.8789440989494324, 0.8704249262809753, 0.8663243055343628, 0.8875132203102112, 0.8789440989494324, 0.8708855509757996, 0.887513279914856, 0.8704248666763306, 0.8528583645820618, 0.8789439797401428, 0.8528583645820618, 0.8789440989494324, 0.8708855509757996, 0.4309571385383606, 0.4309571385383606, 0.8729667663574219, 0.4375183582305908, 0.4375183582305908, 0.8704248666763306, 0.887513279914856, 0.2913968563079834, 0.2913968563079834, 0.2913968563079834, 0.2913968563079834, 0.2913968563079834, 0.8704249262809753, 0.5916597843170166, 0.5916597843170166, 0.8699654340744019, 0.593653678894043, 0.593653678894043, 0.8789439797401428, 0.8708855509757996, 0.8729667663574219, 0.8708855509757996, 0.8789439797401428, 0.5658539533615112, 0.8528583645820618, 0.8729667663574219, 0.8833516836166382, 0.8833518028259277, 0.8708855509757996, 0.43490344285964966, 0.43490344285964966, 0.4373067617416382, 0.4373067617416382, 0.8704249262809753, 0.3472091555595398, 0.3472091555595398, 0.3472091555595398, 0.3472091555595398, 0.8708855509757996, 0.8541361093521118, 0.8729667663574219, 0.8833518028259277, 0.8708855509757996, 0.8833518028259277, 0.8699654340744019, 0.8541361093521118, 0.8528583645820618, 0.8789439797401428, 0.8708855509757996, 0.8699654340744019, 0.8528583645820618, 0.8704248666763306, 0.5917888283729553, 0.8704249262809753, 0.8789440989494324, 0.8789440989494324, 0.887513279914856, 0.8528581857681274, 0.8789440989494324, 0.8541361093521118, 0.8875132203102112, 0.8699654340744019, 0.8789439797401428, 0.887513279914856, 0.8833518028259277, 0.8699654340744019, 0.887513279914856, 0.8789439797401428, 0.887513279914856, 0.8704249262809753, 0.8729667663574219, 0.8833518028259277, 0.8833516836166382, 0.887513279914856, 0.8708855509757996, 0.8789439797401428, 0.8789440989494324, 0.887513279914856, 0.8833516836166382, 0.8729667663574219, 0.887513279914856, 0.8833516240119934, 0.8699654340744019, 0.8729667663574219, 0.8541361093521118, 0.870424747467041, 0.8789439797401428, 0.8729667663574219, 0.8704249262809753, 0.8833516836166382, 0.8789439797401428, 0.8708855509757996, 0.43856897950172424, 0.43856897950172424, 0.43269363045692444, 0.43269363045692444, 0.43269363045692444, 0.8875132203102112, 0.8875132203102112, 0.8708855509757996, 0.5840979218482971, 0.5840979218482971, 0.8729667663574219, 0.8729667663574219, 0.8663244247436523, 0.8789440989494324, 0.8789440989494324, 0.8704249262809753, 0.8708855509757996, 0.8789439797401428, 0.8528583645820618, 0.42681533098220825, 0.42681533098220825, 0.42681533098220825, 0.887513279914856, 0.878943920135498, 0.8833516836166382, 0.8789439797401428, 0.8708855509757996, 0.5917888283729553, 0.8729667663574219, 0.35049599409103394, 0.35049599409103394, 0.35049599409103394, 0.35049599409103394, 0.8708855509757996, 0.8699654340744019, 0.8708855509757996, 0.8789439797401428, 0.8708855509757996, 0.8704249262809753, 0.887513279914856, 0.4284195005893707, 0.4284195005893707, 0.8833516836166382, 0.8528583645820618, 0.4269135594367981, 0.4269135594367981, 0.8708855509757996, 0.8729667663574219, 0.8729667663574219, 0.887513279914856, 0.8833518028259277, 0.8699654340744019, 0.5658556818962097, 0.8528582453727722, 0.8699654340744019, 0.8875132203102112, 0.3486316502094269, 0.3486316502094269, 0.3486316502094269, 0.3486316502094269, 0.8699654340744019, 0.8789440989494324, 0.8708855509757996, 0.8833516836166382, 0.8833516836166382, 0.8708855509757996, 0.8541361093521118, 0.8708855509757996, 0.8729667663574219, 0.870424747467041, 0.887513279914856, 0.8833518028259277, 0.8833516240119934, 0.8833518028259277, 0.8541361093521118, 0.8789440989494324, 0.8663244247436523, 0.8833518028259277, 0.8833518028259277, 0.8699654340744019, 0.8875132203102112, 0.5647345185279846, 0.8708855509757996, 0.8833518028259277, 0.8528583645820618, 0.8729667663574219, 0.5779455304145813, 0.5779455304145813, 0.887513279914856, 0.8704249262809753, 0.887513279914856, 0.8875132203102112, 0.8541361093521118, 0.44278571009635925, 0.44278571009635925, 0.44278571009635925, 0.8708855509757996, 0.3440021574497223, 0.3440021574497223, 0.3440021574497223, 0.3440021574497223, 0.8541361093521118, 0.8528583645820618, 0.8729667663574219, 0.887513279914856, 0.8699654340744019, 0.8541361093521118, 0.8833518028259277, 0.8789439797401428, 0.8789439797401428, 0.8541361093521118, 0.8833518028259277, 0.8528583645820618, 0.8541361093521118, 0.8789440989494324, 0.8875132203102112, 0.8528583645820618, 0.8699654340744019, 0.8699654340744019, 0.43580135703086853, 0.43580135703086853, 0.8708855509757996, 0.5658556818962097, 0.878943920135498, 0.8541361093521118, 0.8833516240119934, 0.8833518028259277, 0.8704249262809753, 0.8875132203102112, 0.3494069278240204, 0.3494069278240204, 0.3494069278240204, 0.8704249262809753, 0.8789439797401428, 0.24592909216880798, 0.24592909216880798, 0.24592909216880798, 0.24592909216880798, 0.870424747467041, 0.87088543176651, 0.8833516836166382, 0.4310571849346161, 0.4310571849346161, 0.870424747467041, 0.43540430068969727, 0.43540430068969727, 0.8704249262809753, 0.8541361093521118, 0.8833518028259277, 0.8789440989494324, 0.8789440989494324, 0.8708855509757996, 0.8708855509757996, 0.8708855509757996, 0.8663244247436523, 0.8708855509757996, 0.887513279914856, 0.8528583645820618, 0.8663244247436523, 0.8541361093521118, 0.8708855509757996, 0.8833518028259277, 0.8833516836166382, 0.5825040936470032, 0.8833516836166382, 0.8699653744697571, 0.8833518028259277, 0.8528581857681274, 0.8708855509757996, 0.8789440989494324, 0.4309570789337158, 0.4309570789337158, 0.42993688583374023, 0.42993688583374023, 0.42993688583374023, 0.8789439797401428, 0.42904582619667053, 0.42904582619667053, 0.8833516836166382, 0.8528583645820618, 0.8541361093521118, 0.8704248666763306, 0.8729667663574219, 0.8699654340744019, 0.5786211490631104, 0.5786211490631104, 0.887513279914856, 0.887513279914856, 0.8708855509757996, 0.8663244247436523, 0.8708855509757996, 0.8789440989494324, 0.4384908974170685, 0.4384908974170685, 0.4384908974170685, 0.8789440989494324, 0.8541361093521118, 0.8833518028259277, 0.8704248666763306, 0.8708855509757996, 0.8704248666763306, 0.8833518028259277, 0.8708855509757996, 0.887513279914856, 0.8528583645820618, 0.8699654340744019, 0.8875132203102112, 0.878943920135498, 0.8528583645820618, 0.8541361093521118, 0.8528583645820618, 0.8833516836166382, 0.8708855509757996, 0.4298371970653534, 0.4298371970653534, 0.4298371970653534, 0.8789439797401428, 0.5786210894584656, 0.5786210894584656, 0.8833518028259277, 0.5840162634849548, 0.5840162634849548, 0.5798345804214478, 0.5658556222915649, 0.8541361093521118, 0.8833518028259277, 0.8708855509757996, 0.8729667663574219, 0.870424747467041, 0.8833516240119934, 0.8704249262809753, 0.8833516240119934, 0.8708855509757996, 0.8708855509757996, 0.8704249262809753, 0.8708855509757996, 0.8528583645820618, 0.8704249262809753, 0.8833518028259277, 0.8708855509757996, 0.8833516836166382, 0.8833518028259277, 0.887513279914856, 0.8833516240119934, 0.8704249262809753, 0.8729667663574219, 0.8528583645820618, 0.887513279914856, 0.8833516836166382, 0.2856999337673187, 0.2856999337673187, 0.2856999337673187, 0.2856999337673187, 0.8789440989494324, 0.8708855509757996, 0.8789440989494324, 0.8704248666763306, 0.8708855509757996, 0.8704249262809753, 0.887513279914856, 0.8789440989494324, 0.8833516836166382, 0.887513279914856, 0.8729667663574219, 0.8528583645820618, 0.8789439797401428, 0.8704248666763306, 0.8663244247436523, 0.8704249262809753, 0.8729667663574219, 0.8541361093521118, 0.887513279914856, 0.887513279914856, 0.887513279914856, 0.8708855509757996, 0.8708855509757996, 0.8789439797401428, 0.8708855509757996, 0.8729667663574219, 0.8789440989494324, 0.8833516836166382, 0.5766379833221436, 0.5766379833221436, 0.87088543176651, 0.5825321078300476, 0.8541361093521118, 0.8833518028259277, 0.8833516836166382, 0.8699654340744019, 0.8833516836166382, 0.8789440989494324, 0.5955303907394409, 0.887513279914856, 0.8729667663574219, 0.8708855509757996, 0.8541361093521118, 0.8833516836166382, 0.14524555206298828, 0.29049110412597656, 0.14524555206298828, 0.14524555206298828, 0.14524555206298828, 0.29049110412597656, 0.8528583645820618, 0.8789439797401428, 0.5798345804214478, 0.8541361093521118, 0.8528583645820618, 0.8729667663574219, 0.8528583645820618, 0.3447711169719696, 0.3447711169719696, 0.3447711169719696, 0.3447711169719696, 0.2518424093723297, 0.2518424093723297, 0.2518424093723297, 0.2518424093723297, 0.2518424093723297, 0.8699654340744019, 0.8833516836166382, 0.2525136470794678, 0.2525136470794678, 0.2525136470794678, 0.2525136470794678, 0.2525136470794678, 0.8833518028259277, 0.8699654340744019, 0.42906445264816284, 0.42906445264816284, 0.8729667663574219, 0.8663244247436523, 0.8729667663574219, 0.8789440989494324, 0.8833516836166382, 0.8708855509757996, 0.8699654340744019, 0.34162160754203796, 0.34162160754203796, 0.8708855509757996, 0.8708855509757996, 0.8708855509757996, 0.8729667663574219, 0.8541361093521118, 0.8528583645820618, 0.8528583645820618, 0.436553418636322, 0.436553418636322, 0.870424747467041, 0.8528583645820618, 0.8789439797401428, 0.8541361093521118, 0.44151073694229126, 0.44151073694229126, 0.8789440989494324, 0.8729667663574219, 0.8729667663574219, 0.8729667663574219, 0.8528583645820618, 0.8699654340744019, 0.8789439797401428, 0.8789439797401428, 0.8541361093521118, 0.5766040682792664, 0.8704249262809753, 0.8729667663574219, 0.8833518028259277, 0.8541361093521118, 0.8833516836166382, 0.8704248666763306, 0.8833518028259277, 0.87088543176651, 0.5955304503440857, 0.5955304503440857, 0.870424747467041, 0.8708855509757996, 0.8541361093521118, 0.4443689286708832, 0.4443689286708832, 0.878943920135498, 0.8833516836166382, 0.8442599177360535, 0.8833516836166382, 0.8704249262809753, 0.887513279914856, 0.887513279914856, 0.8528581857681274, 0.8528583645820618, 0.887513279914856, 0.887513279914856, 0.887513279914856, 0.8729667663574219, 0.887513279914856, 0.878943920135498, 0.8528583645820618, 0.8833518028259277, 0.887513279914856, 0.8704249262809753, 0.2873854637145996, 0.2873854637145996, 0.2873854637145996, 0.8833518028259277, 0.8541361093521118, 0.8699654340744019, 0.8704249262809753, 0.8541361093521118, 0.887513279914856, 0.8699654340744019, 0.8833516836166382, 0.878943920135498, 0.8704249262809753, 0.8789439797401428, 0.8528583645820618, 0.887513279914856, 0.8699654340744019, 0.8541361093521118, 0.24864895641803741, 0.49729791283607483, 0.24864895641803741, 0.24864895641803741, 0.8708855509757996, 0.8704249262809753, 0.887513279914856, 0.8789439797401428, 0.8833518028259277, 0.8528583645820618, 0.8729667663574219, 0.8875132203102112, 0.43167975544929504, 0.43167975544929504, 0.43167975544929504, 0.8729667663574219, 0.8528583645820618, 0.8833516240119934, 0.8699654340744019, 0.8541361093521118, 0.8789440989494324, 0.4396636188030243, 0.4396636188030243, 0.8708855509757996, 0.8833518028259277, 0.8704249262809753, 0.8789439797401428, 0.5647345185279846, 0.5838093757629395, 0.5838093757629395, 0.5802428126335144, 0.8708855509757996, 0.8789440989494324, 0.8789439797401428, 0.8528583645820618, 0.8528581857681274, 0.8789439797401428, 0.8541361093521118, 0.8729667663574219, 0.8875132203102112, 0.8663244247436523, 0.8789439797401428, 0.8708855509757996, 0.8528583645820618, 0.8528583645820618, 0.878943920135498, 0.8729667663574219, 0.8704248666763306, 0.5802428126335144, 0.8541361093521118, 0.887513279914856, 0.8541361093521118, 0.8541361093521118, 0.8789439797401428, 0.870424747467041, 0.8704249262809753, 0.8833518028259277, 0.8663244247436523, 0.8699654340744019, 0.1942869871854782, 0.1942869871854782, 0.1942869871854782, 0.1942869871854782, 0.1942869871854782, 0.1942869871854782, 0.1942869871854782, 0.1942869871854782, 0.870424747467041, 0.8729667663574219, 0.8875132203102112, 0.8875132203102112, 0.8663244247436523, 0.8833516836166382, 0.8708855509757996, 0.8528581857681274, 0.8528583645820618, 0.878943920135498, 0.8704249262809753, 0.8789440989494324, 0.8541361093521118, 0.8708855509757996, 0.8789439797401428, 0.8708855509757996, 0.5889453291893005, 0.5889453291893005, 0.887513279914856, 0.887513279914856, 0.8729667663574219, 0.87088543176651, 0.887513279914856, 0.8789440989494324, 0.887513279914856, 0.887513279914856, 0.887513279914856, 0.887513279914856, 0.42841941118240356, 0.42841941118240356, 0.8704249262809753, 0.8528583645820618, 0.8833516240119934, 0.8699654340744019, 0.8528583645820618, 0.8528583645820618, 0.8528583645820618, 0.870424747467041, 0.8704248666763306, 0.8541361093521118, 0.437061607837677, 0.437061607837677, 0.87088543176651, 0.8541361093521118, 0.8528583645820618, 0.8528581857681274, 0.8833516836166382, 0.8789440989494324, 0.8708855509757996, 0.8833516836166382, 0.8729667663574219, 0.8704249262809753, 0.8729667663574219, 0.8528583645820618, 0.8528583645820618, 0.8708855509757996, 0.8528583645820618, 0.8699654340744019, 0.887513279914856, 0.8528583645820618, 0.8704249262809753, 0.8699654340744019, 0.8699654340744019, 0.24376904964447021, 0.24376904964447021, 0.24376904964447021, 0.24376904964447021, 0.8789439797401428, 0.8833516836166382, 0.8704249262809753, 0.887513279914856, 0.8789439797401428, 0.878943920135498, 0.8541361093521118, 0.8708855509757996, 0.8708855509757996, 0.8833516240119934, 0.870424747467041, 0.8789440989494324, 0.8708855509757996, 0.3535717725753784, 0.3535717725753784, 0.8528581857681274, 0.8789439797401428, 0.8789440989494324, 0.8729667663574219, 0.887513279914856, 0.8789439797401428, 0.8708855509757996, 0.4300939738750458, 0.2150469869375229, 0.2150469869375229, 0.2150469869375229, 0.2150469869375229, 0.5658557415008545, 0.870424747467041, 0.878943920135498, 0.8833516836166382, 0.21910977363586426, 0.21910977363586426, 0.21910977363586426, 0.21910977363586426, 0.21910977363586426, 0.2872036397457123, 0.2872036397457123, 0.2872036397457123, 0.2872036397457123, 0.8663244247436523, 0.8833516836166382, 0.878943920135498, 0.8789439797401428, 0.870424747467041, 0.8789439797401428, 0.8528581857681274, 0.8528583645820618, 0.8875132203102112, 0.8875132203102112, 0.8708855509757996, 0.8789439797401428, 0.8789440989494324, 0.8708855509757996, 0.8541361093521118, 0.29086416959762573, 0.29086416959762573, 0.29086416959762573, 0.29086416959762573, 0.8541361093521118, 0.8833516836166382, 0.8704249262809753, 0.8528583645820618, 0.8729667663574219, 0.8833518028259277, 0.8708855509757996, 0.8699653744697571, 0.8528583645820618, 0.8699654340744019, 0.8528583645820618, 0.8699654340744019, 0.1727268248796463, 0.43181705474853516, 0.08636341243982315, 0.25909024477005005, 0.08636341243982315, 0.08636341243982315, 0.19243872165679932, 0.09621936082839966, 0.09621936082839966, 0.38487744331359863, 0.288658082485199, 0.42627519369125366, 0.42627519369125366, 0.4348858892917633, 0.4348858892917633, 0.4348858892917633, 0.5917888879776001, 0.8875132203102112, 0.8833518028259277, 0.887513279914856, 0.887513279914856, 0.8708855509757996, 0.8528583645820618, 0.8729667663574219, 0.5798345804214478, 0.43528202176094055, 0.43528202176094055, 0.887513279914856, 0.87088543176651, 0.5875775814056396, 0.5875775814056396, 0.8528581857681274, 0.8833516240119934, 0.8729667663574219, 0.887513279914856, 0.44591251015663147, 0.44591251015663147, 0.8708855509757996, 0.8875132203102112, 0.8833518028259277, 0.887513279914856, 0.8528583645820618, 0.8528583645820618, 0.8528583645820618, 0.8729667663574219, 0.887513279914856, 0.8789439797401428, 0.887513279914856, 0.8704249262809753, 0.8729667663574219, 0.8729667663574219, 0.8729667663574219, 0.8541361093521118, 0.8708855509757996, 0.8833518028259277, 0.2856779396533966, 0.2856779396533966, 0.2856779396533966, 0.2856779396533966, 0.5825040936470032, 0.8541361093521118, 0.5825040936470032, 0.8541361093521118, 0.887513279914856, 0.8541361093521118, 0.8704248666763306, 0.870424747467041, 0.8699654340744019, 0.8541361093521118, 0.870424747467041, 0.8708855509757996, 0.8729667663574219, 0.2951817810535431, 0.2951817810535431, 0.2951817810535431, 0.2951817810535431, 0.8833518028259277, 0.8729667663574219, 0.14358742535114288, 0.14358742535114288, 0.43076226115226746, 0.14358742535114288, 0.14358742535114288, 0.14358742535114288, 0.8789440989494324, 0.8833518028259277, 0.8833518028259277, 0.2901906967163086, 0.1450953483581543, 0.1450953483581543, 0.1450953483581543, 0.1450953483581543, 0.1450953483581543, 0.8789440989494324, 0.8704249262809753, 0.8729667663574219, 0.5851594805717468, 0.5851594805717468, 0.8699654340744019, 0.878943920135498, 0.8704249262809753, 0.8729667663574219, 0.8833516836166382, 0.87088543176651, 0.8704248666763306, 0.8663244247436523, 0.8833518028259277, 0.8833516836166382, 0.579834520816803, 0.452643483877182, 0.0905286967754364, 0.0905286967754364, 0.0905286967754364, 0.0905286967754364, 0.0905286967754364, 0.0905286967754364, 0.0905286967754364, 0.0905286967754364, 0.34294775128364563, 0.34294775128364563, 0.34294775128364563, 0.878943920135498, 0.24805861711502075, 0.24805861711502075, 0.24805861711502075, 0.24805861711502075, 0.24805861711502075, 0.5766040682792664, 0.8729667663574219, 0.887513279914856, 0.887513279914856, 0.8833516836166382, 0.8704248666763306, 0.8708855509757996, 0.8528583645820618, 0.8528583645820618, 0.24423444271087646, 0.12211722135543823, 0.24423444271087646, 0.24423444271087646, 0.12211722135543823, 0.12211722135543823, 0.8704248666763306], \"Term\": [\"ab\", \"ab\", \"ab\", \"ab\", \"abbauarbeiten\", \"abgrund\", \"abh\\u00f6ren\", \"ablinger\", \"abmahnungen\", \"abschied\", \"abschreckende\", \"absolute\", \"abstieg\", \"abwehrschlacht\", \"abzuwenden\", \"achtung\", \"adi\", \"adligen\", \"adolf\", \"afghanisches\", \"again\", \"agb\", \"agentur\", \"ak\", \"akp\", \"al\", \"albanerparteichef\", \"albanien\", \"alberschwende\", \"alexis\", \"alias\", \"alijewprozess\", \"all\", \"alleingelassen\", \"alter\", \"alter\", \"altera\", \"amador\", \"amerikaner\", \"ametsreiter\", \"ametsreiter\", \"amnestyvorw\\u00fcrfe\", \"amokfahrer\", \"amoklauf\", \"ams\", \"amtsanma\\u00dfungsprozess\", \"amtsmissbrauch\", \"ana\", \"anarchie\", \"andritz\", \"android\", \"android\", \"android\", \"android\", \"androidsmartphone\", \"andromeda\", \"angebot\", \"angek\\u00fcndigt\", \"angek\\u00fcndigt\", \"angek\\u00fcndigt\", \"angezapfte\", \"angriff\", \"anleger\", \"anleitung\", \"anschluss\", \"anschluss\", \"ansicht\", \"antibabypille\", \"antifp\\u00f6wahlkampf\", \"app\", \"applaus\", \"apple\", \"apple\", \"apple\", \"apple\", \"apple\", \"appleauftrag\", \"applechef\", \"apples\", \"apps\", \"arbeiten\", \"arbeiterkinder\", \"arbeitsamt\", \"arbeitskampf\", \"arbeitslose\", \"arbeitszeit\", \"arch\\u00e4ologen\", \"ard\", \"armenier\", \"artmann\", \"asked\", \"aslan\", \"aspern\", \"asyl\", \"asyl\", \"asyl\", \"asyl\", \"asylantr\\u00e4gen\", \"asylpartei\", \"asylquartier\", \"asylstopp\", \"asylunterbringung\", \"asylwerber\", \"athen\", \"athener\", \"atomphysiker\", \"aufbruch\", \"aufgabe\", \"aufgaben\", \"aufgehoben\", \"aufnehmen\", \"aufpoliert\", \"aufrecht\", \"aufruhr\", \"auftritte\", \"auktion\", \"aupairs\", \"ausbildung\", \"ausbildungstrainer\", \"ausgetr\\u00e4umt\", \"ausgleich\", \"auslieferung\", \"auslosung\", \"ausl\\u00f6sen\", \"ausrutscher\", \"ausschuss\", \"austria\", \"austria\", \"austria\", \"austria\", \"austrian\", \"auswahlshow\", \"auszeit\", \"autobahn\", \"autobranche\", \"automatisierte\", \"autos\", \"bad\", \"badawi\", \"badehose\", \"bank\", \"bank\", \"bank\", \"bankern\", \"barroso\", \"batterien\", \"baugewerkschaft\", \"baukonzernchefs\", \"baumeister\", \"bauprojekt\", \"baustart\", \"baustellen\", \"baut\", \"bbc\", \"bedrohen\", \"bed\\u00e4chtig\", \"bed\\u00fcrfnisse\", \"bef\\u00fcrchten\", \"beginn\", \"beginnt\", \"begr\\u00e4bnis\", \"behebung\", \"beibehalten\", \"beikost\", \"beim\", \"bein\", \"bein\", \"bekannt\", \"bekanntester\", \"bekommt\", \"belastet\", \"belastet\", \"belastungen\", \"belgische\", \"belohnt\", \"bel\\u00e4stigung\", \"benachteiligte\", \"benotet\", \"bentley\", \"benutzen\", \"ben\\u00edtez\", \"beraten\", \"bereits\", \"bergsteigerin\", \"berlin\", \"berufungsverfahren\", \"beschlagnahmte\", \"beschlie\\u00dft\", \"beschluss\", \"beschr\\u00e4nkungen\", \"besonders\", \"besseres\", \"best\\u00e4tigt\", \"best\\u00e4tigt\", \"besuch\", \"beteiligen\", \"bethesda\", \"bevorzugt\", \"biegt\", \"bieten\", \"bietgefecht\", \"bilanz\", \"bilderberger\", \"bildm\\u00e4chtig\", \"billige\", \"bitcoingeldautomat\", \"bitrate\", \"bitte\", \"bitter\", \"bittere\", \"blackberry\", \"blatternachfolge\", \"blazer\", \"bleiben\", \"bleiben\", \"bleiben\", \"bleibt\", \"bleibt\", \"bleibt\", \"bleibt\", \"bleibt\", \"bleisarg\", \"blendet\", \"blick\", \"blicken\", \"blutgerinnseln\", \"blutkonserve\", \"bluttat\", \"bnd\", \"bnd\", \"bnd\", \"bndgel\\u00e4nde\", \"bonobos\", \"bosnienherzegowina\", \"brasilien\", \"braucht\", \"braunb\\u00e4r\", \"brautschau\", \"bregenzwien\", \"breguet\", \"bremen\", \"bringt\", \"bringt\", \"bringt\", \"britische\", \"bronx\", \"bruce\", \"brustkrebstherapie\", \"bryant\", \"br\\u00fcsseler\", \"bubendetektive\", \"buch\", \"buchs\", \"buczolich\", \"buffett\", \"bulgariens\", \"bundesliga\", \"bundestag\", \"bundestag\", \"bundestagsrechnern\", \"burg\", \"burgenl\\u00e4ndischen\", \"burger\", \"burkett\", \"burma\", \"busungl\\u00fcck\", \"byzantinistin\", \"b\\u00fchne\", \"b\\u00fcrgermeister\", \"b\\u00fcrgermeisterin\", \"b\\u00fcrozellen\", \"c\", \"cannes\", \"capello\", \"capitanvorschau\", \"carmena\", \"cars\", \"carta\", \"casinosverkauf\", \"cassegrain\", \"ceres\", \"champions\", \"chance\", \"chancen\", \"charleston\", \"chef\", \"chef\", \"chefredakteure\", \"chile\", \"china\", \"china\", \"china\", \"china\", \"chinesischer\", \"chip\", \"chipbranche\", \"chiphersteller\", \"chris\", \"christies\", \"chromium\", \"chronisch\", \"cities\", \"citybike\", \"cleveland\", \"clinton\", \"clinton\", \"clinton\", \"clinton\", \"collegegeb\\u00fchren\", \"collider\", \"community\", \"compliance\", \"contest\", \"continental\", \"conwert\", \"cook\", \"copreise\", \"crowdfunding\", \"cup\", \"cut\", \"cyberangriffausma\\u00df\", \"cyberattacken\", \"dach\", \"dame\", \"danube\", \"darabos\", \"data\", \"datenl\\u00f6schungen\", \"dauern\", \"daumen\", \"dbb\", \"de\", \"dead\", \"debatten\", \"demenzrisiko\", \"demonstration\", \"denguefieber\", \"denkzettel\", \"derstandardat\", \"derstandardat\", \"derstandardat\", \"derstandardat\", \"derzeit\", \"deutlich\", \"deutliche\", \"deutlicher\", \"deutsche\", \"deutsche\", \"deutsche\", \"deutsche\", \"deutscher\", \"deutscher\", \"deutschland\", \"deutschland\", \"deutschland\", \"deutschland\", \"dezember\", \"dick\", \"dicke\", \"dienstag\", \"digitalbranche\", \"diktators\", \"dinge\", \"dinner\", \"diplomatie\", \"diskussion\", \"diskussion\", \"di\\u00e4ten\", \"di\\u00e4twahn\", \"dollar\", \"dollar\", \"dollar\", \"dollar\", \"dominiert\", \"donald\", \"donauinsel\", \"dornhelm\", \"download\", \"downloader\", \"dracula\", \"dragovic\", \"drehen\", \"drei\", \"drei\", \"drei\", \"drei\", \"dreij\\u00e4hrige\", \"dresdner\", \"dritte\", \"drittel\", \"drogenprozess\", \"drohnen\", \"drohte\", \"druck\", \"druck\", \"druck\", \"drusen\", \"drusen\", \"duisburg\", \"durchgehend\", \"dxo\", \"d\\u00e4nemark\", \"d\\u00e9j\\u00e0vu\", \"d\\u00fcrfen\", \"d\\u00fcrfte\", \"d\\u00fcrre\", \"ebenen\", \"ebike\", \"ebola\", \"edwardsnowdenplatz\", \"effect\", \"ego\", \"ehefrau\", \"ehepaar\", \"ehrenrunden\", \"eichmann\", \"eigene\", \"eigenen\", \"eigentor\", \"einander\", \"eingebracht\", \"eingestellt\", \"eingreiftruppe\", \"eingriff\", \"eingschr\\u00e4nkte\", \"einheitliche\", \"einigt\", \"einigung\", \"einigung\", \"einigung\", \"einigung\", \"einmarsches\", \"einreichplanung\", \"einrichtungen\", \"einsetzen\", \"eint\", \"einwanderern\", \"einzug\", \"eis\", \"eis\", \"eis\", \"eizellen\", \"el\", \"elinor\", \"emails\", \"emp\\u00f6rt\", \"ende\", \"ende\", \"ende\", \"energieforschung\", \"engagiert\", \"england\", \"entbrannt\", \"enterprisestar\", \"entfernt\", \"enth\\u00fcllt\", \"entlastung\", \"entrisches\", \"entscheiden\", \"entscheiden\", \"entscheiden\", \"entscheidungen\", \"entschieden\", \"entschl\\u00fcsselung\", \"enttabuisiert\", \"entt\\u00e4uschte\", \"entzifferung\", \"entz\\u00fcckt\", \"epigenetische\", \"epressekonferenz\", \"erbgut\", \"erdberg\", \"erdogan\", \"erdogan\", \"erdo\\u011fan\", \"erdo\\u011fans\", \"erfinderpreis\", \"erfolgreichstes\", \"ergebnis\", \"erhalten\", \"erlauben\", \"erlitt\", \"ermittlungen\", \"erneuerung\", \"erneut\", \"erneut\", \"erneut\", \"erneut\", \"erneut\", \"erneut\", \"erpressungsversuch\", \"ersetzen\", \"erste\", \"erste\", \"erste\", \"erwachsene\", \"erwachsenen\", \"erwartete\", \"er\\u00f6ffnet\", \"er\\u00f6ffnung\", \"essen\", \"eturbolader\", \"eu\", \"eu\", \"eu\", \"eu\", \"eu\", \"eu\", \"euausl\\u00e4nder\", \"eugh\", \"eumissionen\", \"euparlament\", \"euparlamentspr\\u00e4sident\", \"euplan\", \"euro\", \"euro\", \"euro\", \"euro\", \"euro\", \"europa\", \"europa\", \"europa\", \"europa\", \"europas\", \"europaspiele\", \"eurosondergipfel\", \"euweit\", \"euwettbewerbsverfahren\", \"evakuiert\", \"evans\", \"evolutionsbiologe\", \"evolutionsbiologin\", \"excelkonkurrent\", \"exekutive\", \"exekutor\", \"exfifamitglied\", \"exgetreue\", \"exhypoforensiker\", \"exhypokunde\", \"explosionen\", \"expr\\u00e4sidenten\", \"extras\", \"exzentrik\", \"facebook\", \"facebook\", \"facebook\", \"facebookchef\", \"facebookcommunity\", \"fahrerlos\", \"fahrradunfall\", \"fair\", \"faircover\", \"fall\", \"fallout\", \"falschen\", \"falschgeld\", \"favoriten\", \"faymann\", \"faymann\", \"faymann\", \"faymann\", \"faymanns\", \"fazonlinechef\", \"fehlgeleitet\", \"feind\", \"felsovanyierben\", \"feministische\", \"fernsehdoku\", \"ferrari\", \"fest\", \"festgenommen\", \"festivals\", \"festplattenabgabe\", \"festplattenabgabe\", \"festplattenabgabe\", \"feuern\", \"fidschi\", \"fifa\", \"filiale\", \"filme\", \"finanzausgleich\", \"finanzieren\", \"findet\", \"fiorentinatrainer\", \"fisch\", \"fischsauce\", \"flats\", \"flecken\", \"fleisch\", \"fleisch\", \"fleischfressern\", \"flei\\u00dfige\", \"flotte\", \"fluch\", \"flugger\\u00e4te\", \"flughafen\", \"fl\\u00e4chendeckendes\", \"fl\\u00fcchtlinge\", \"fl\\u00fcchtlinge\", \"fl\\u00fcchtlinge\", \"fl\\u00fcchtlingen\", \"fl\\u00fcchtlingen\", \"fl\\u00fcchtlingsgr\\u00e4ber\", \"fl\\u00fcchtlingsstreit\", \"fl\\u00fcchtlingsverteilung\", \"folgenreiche\", \"folgt\", \"foofighterss\\u00e4nger\", \"football\", \"form\", \"formel\", \"formelboliden\", \"forscher\", \"forschung\", \"forschung\", \"forum\", \"fotos\", \"foundation\", \"fp\", \"fp\\u00f6\", \"fp\\u00f6\", \"fp\\u00f6\", \"fp\\u00f6\", \"fp\\u00f6\", \"fp\\u00f6bezirksgruppe\", \"fp\\u00f6demo\", \"fp\\u00f6landesrat\", \"fp\\u00f6protest\", \"fragen\", \"fraglich\", \"frankreich\", \"frankreich\", \"frankreich\", \"frau\", \"frau\", \"frau\", \"frauen\", \"frauen\", \"frauenleiche\", \"freihandel\", \"freiheit\", \"freilandeier\", \"frequenzauktion\", \"frieden\", \"frieden\", \"friedensgespr\\u00e4che\", \"frischer\", \"friss\", \"fronten\", \"fr\\u00fcher\", \"fundb\\u00fcro\", \"funkstille\", \"funkt\", \"fu\\u00dfball\", \"fu\\u00dfballfelder\", \"fu\\u00dfballsimulation\", \"fu\\u00dfg\\u00e4nger\", \"f\\u00e4r\\u00f6ern\", \"f\\u00fchrt\", \"f\\u00fchrt\", \"f\\u00fchrt\", \"gabalier\", \"galaxie\", \"game\", \"games\", \"gaminghype\", \"gangs\", \"ganz\", \"garmischpartenkirchen\", \"gartenteich\", \"gasriesen\", \"gazprom\", \"gchq\", \"gear\", \"geboren\", \"gebrauchtwagenk\\u00e4ufe\", \"gedanken\", \"gefordert\", \"gef\\u00e4hrden\", \"gehackt\", \"geheilt\", \"gehen\", \"gehen\", \"geht\", \"geht\", \"geht\", \"geht\", \"geht\", \"geht\", \"geht\", \"geht\", \"geisterfahrer\", \"geld\", \"geld\", \"geld\", \"geldgeber\", \"geldregen\", \"geldreserven\", \"gelesen\", \"gelingt\", \"gelsen\", \"gemeinden\", \"gemeinsam\", \"gender\", \"genderdebatte\", \"genforschung\", \"gentechnik\", \"genuss\", \"geoblocking\", \"georgien\", \"gerettet\", \"gerhaher\", \"gerhard\", \"gericht\", \"gering\", \"ger\\u00e4umt\", \"geschenk\", \"geschichte\", \"geschichteprojekt\", \"gesch\\u00e4ften\", \"gesch\\u00e4ftsmodell\", \"gestand\", \"gestank\", \"gestiegen\", \"gestohlene\", \"gestoppt\", \"gestorben\", \"gestorben\", \"gestorben\", \"gestorben\", \"gestorben\", \"gestorben\", \"gest\\u00e4rkt\", \"gesucht\", \"gesundheitswissen\", \"geteiltes\", \"get\\u00f6tet\", \"get\\u00f6tet\", \"get\\u00f6tet\", \"gewaltsam\", \"gewerkschaft\", \"gewinnen\", \"gewinnen\", \"gewinnt\", \"gewinnt\", \"gewinnt\", \"gewinnt\", \"gewinnt\", \"gewinnt\", \"geworden\", \"gew\\u00e4hlt\", \"ggegner\", \"ggegner\", \"ghetto\", \"gibt\", \"gibt\", \"gibt\", \"gibt\", \"gier\", \"ging\", \"gipfel\", \"gitarre\", \"glasfaserkabel\", \"glaubt\", \"gloggnitz\", \"gl\\u00e4ubiger\", \"gl\\u00fcckseligkeit\", \"gm\", \"goldman\", \"goldtorsch\\u00fctze\", \"google\", \"google\", \"google\", \"google\", \"google\", \"googles\", \"googlesuche\", \"gott\", \"grad\", \"gratiswlan\", \"graz\", \"graz\", \"graz\", \"graz\", \"graz\", \"greifen\", \"grenze\", \"grenzen\", \"grenzposten\", \"grenzsch\\u00fctzer\", \"grexit\", \"griechen\", \"griechenland\", \"griechenland\", \"griechenland\", \"griechenland\", \"griechenland\", \"griechenland\", \"griechenland\", \"griechenland\", \"grindwale\", \"groove\", \"group\", \"gro\\u00dfe\", \"gro\\u00dfe\", \"gro\\u00dfe\", \"gro\\u00dfe\", \"gro\\u00dfen\", \"gro\\u00dfw\\u00e4scherei\", \"grunde\", \"grundst\\u00fcck\", \"gr\\u00f6\\u00dfenwahn\", \"gr\\u00f6\\u00dfere\", \"gr\\u00fcne\", \"gr\\u00fcne\", \"gr\\u00fcne\", \"gr\\u00fcnwei\\u00df\", \"gr\\u00fc\\u00dfe\", \"gtb\", \"gunther\", \"gusenbauer\", \"gut\", \"gut\", \"gut\", \"g\\u00e4hnen\", \"g\\u00f6tzis\", \"h\", \"hadron\", \"haft\", \"haft\", \"haft\", \"haftbefehle\", \"haiangriffen\", \"haidermaurer\", \"haidermaurer\", \"hakenkreuz\", \"halbe\", \"halten\", \"halten\", \"hamas\", \"hamilton\", \"handlanger\", \"handy\", \"handy\", \"handy\", \"handy\", \"handykuschelpolster\", \"handytarife\", \"hanspeter\", \"hardliner\", \"harter\", \"hashtag\", \"hauses\", \"hcb\", \"hdp\", \"heiklen\", \"heimische\", \"heizt\", \"hei\\u00dfen\", \"helden\", \"hellseher\", \"hergestellt\", \"herr\", \"heute\", \"heutigem\", \"hielt\", \"hietzing\", \"hilf\", \"hilfsgelder\", \"hilfsmittel\", \"hilft\", \"hindupilger\", \"hinein\", \"hinkt\", \"hinteregger\", \"hinterl\\u00e4sst\", \"history\", \"hitzeproblem\", \"hitzige\", \"hoffnung\", \"hofinger\", \"holen\", \"holz\", \"homer\", \"homophobie\", \"hopfen\", \"horrorszenario\", \"horten\", \"hosenflattern\", \"hotellerie\", \"hypoabschlusspr\\u00fcfer\", \"hypoausschuss\", \"hypouausschuss\", \"h\\u00e4lfte\", \"h\\u00e4lt\", \"h\\u00e4lt\", \"h\\u00e4lt\", \"h\\u00e4nde\", \"h\\u00e4upl\", \"h\\u00e4upl\", \"h\\u00e4upl\", \"h\\u00f6rndlwalks\", \"h\\u00fcrde\", \"h\\u00fcrden\", \"ichag\", \"identit\\u00e4rendemo\", \"ignoranten\", \"ilsanker\", \"imbiss\", \"immer\", \"immer\", \"indignadoskandidatin\", \"indonesien\", \"informiert\", \"ingenieure\", \"ingolstadt\", \"initiative\", \"innenministerin\", \"innerem\", \"innovation\", \"inseratenwahn\", \"installiert\", \"intermezzos\", \"internationale\", \"internet\", \"internetgeschwindigkeit\", \"ios\", \"ios\", \"ios\", \"ipad\", \"iphone\", \"iphonekriege\", \"iqtests\", \"irak\", \"iran\", \"irans\", \"israel\", \"israel\", \"israel\", \"israelische\", \"israelischer\", \"jagdsaison\", \"jahr\", \"jahr\", \"jahre\", \"jahre\", \"jahre\", \"jahre\", \"jahre\", \"jahre\", \"jahren\", \"jahren\", \"jahresweltbestleistung\", \"jahrzehntealtes\", \"jailbreak\", \"jailbreak\", \"japan\", \"japan\", \"japan\", \"japan\", \"japaner\", \"japanische\", \"jauch\", \"jeans\", \"jeansgilet\", \"jemand\", \"jemen\", \"jemenitische\", \"jeremy\", \"jobabbau\", \"jobbatical\", \"jochen\", \"jogger\", \"johannes\", \"josef\", \"journalisten\", \"juan\", \"jubelt\", \"jugendliche\", \"juli\", \"jungfr\\u00e4ulichkeitstests\", \"juni\", \"juni\", \"juni\", \"juni\", \"jurassic\", \"justiz\", \"juventus\", \"j\\u00e4hrliche\", \"kader\", \"kaltfront\", \"kam\", \"kampf\", \"kampf\", \"kampf\", \"kampf\", \"kanada\", \"kandidat\", \"kandidatin\", \"kan\\u00e4le\", \"kapstadt\", \"kardinal\", \"karl\", \"karten\", \"kasachischen\", \"kasachstan\", \"kassen\", \"katastrophe\", \"kauft\", \"kauft\", \"kazmirek\", \"kennen\", \"kennewickmannes\", \"kepler\", \"kerners\", \"kerry\", \"kickback\", \"kickstartergame\", \"kind\", \"kind\", \"kinderlosigkeit\", \"kindermode\", \"kindern\", \"kinderwunsch\", \"king\", \"kirchenasyl\", \"klagen\", \"klagt\", \"klaus\", \"kleiner\", \"kleines\", \"kleinstadth\\u00f6lle\", \"klimaschutz\", \"klimt\", \"klopp\", \"klug\", \"knights\", \"koalition\", \"koalition\", \"koalition\\u00e4re\", \"kobe\", \"kochen\", \"kollateralfragen\", \"kolle\", \"kollektiv\", \"kommaustria\", \"kommen\", \"kommen\", \"kommt\", \"kommt\", \"kommt\", \"kommt\", \"kompromiss\", \"konfisziert\", \"kongo\", \"kongress\", \"konkurs\", \"konservierte\", \"kontrollieren\", \"konvention\", \"konzentriert\", \"konzerne\", \"kooperation\", \"koopkarriere\", \"kopf\", \"kopfverbot\", \"korruption\", \"korruptionsverdacht\", \"kosten\", \"kostenpflichtig\", \"krank\", \"krankenhaus\", \"krautreporter\", \"krautreporter\", \"kreativdirektor\", \"krebs\", \"krebs\", \"krieg\", \"krise\", \"kritik\", \"kritische\", \"kritisiert\", \"kritisiert\", \"kritisiert\", \"kroatien\", \"kronprinz\", \"kr\\u00e4uter\", \"kuba\", \"kunst\", \"kuoni\", \"kurier\", \"kurt\", \"kurz\", \"kurz\", \"kurz\", \"k\\u00e4mpfe\", \"k\\u00e4mpferin\", \"k\\u00e4ngurus\", \"k\\u00f6nnten\", \"k\\u00f6pfen\", \"k\\u00fcndigt\", \"k\\u00fcnftig\", \"k\\u00fcnstliche\", \"labor\", \"lacht\", \"lager\", \"lan\", \"landeshauptleute\", \"landeshauptmann\", \"landestheater\", \"landgewinnung\", \"landtag\", \"landtagspr\\u00e4sidenten\", \"langen\", \"laptop\", \"large\", \"lasst\", \"lateinamerika\", \"laufband\", \"lauschangriff\", \"lazaro\", \"le\", \"leadagentur\", \"leben\", \"leben\", \"leben\", \"leben\", \"leben\", \"leben\", \"leberkas\", \"legen\", \"legospielzeugfigur\", \"legovideospiel\", \"legt\", \"legt\", \"legt\", \"leichnam\", \"leicht\", \"leichten\", \"leistbarkeit\", \"leitet\", \"leitungen\", \"leogang\", \"lernen\", \"letzte\", \"letzte\", \"letzte\", \"letztes\", \"lieferservice\", \"liegen\", \"liegt\", \"lightning\", \"linke\", \"linz\", \"linz\", \"live\", \"livenachrichten\", \"livestream\", \"lobbyiert\", \"lohnende\", \"lokalwahlen\", \"longchampchef\", \"lopatka\", \"lotste\", \"loveparade\", \"luchse\", \"ludvik\", \"luftangriffe\", \"lugner\", \"lulu\", \"luna\", \"lunch\", \"lustig\", \"l\\u00f8kke\", \"l\\u00fccke\", \"machos\", \"macht\", \"macht\", \"macht\", \"macht\", \"macht\", \"macht\", \"macht\", \"made\", \"madl\", \"mafiaskandals\", \"magers\\u00fcchtige\", \"mai\", \"maidan\", \"mailand\", \"mailverschl\\u00fcsselung\", \"maiziere\", \"mal\", \"mal\", \"malaysiaairlinesmaschine\", \"mali\", \"malley\", \"manifests\", \"mans\", \"marge\", \"markenschutz\", \"marktbeherrschende\", \"markus\", \"marokko\", \"mass\", \"massenproteste\", \"massiv\", \"match\", \"matura\", \"maximale\", \"mayainschrift\", \"mazedoniens\", \"ma\\u00dfnahme\", \"mccarthy\", \"mechanische\", \"medienkritik\", \"medientransparenz\", \"meer\", \"megadeal\", \"mehr\", \"mehr\", \"mehr\", \"mehr\", \"mehr\", \"mehr\", \"mehr\", \"mehreren\", \"mehrheit\", \"mehrheit\", \"meisten\", \"melbourne\", \"melissa\", \"mensch\", \"menschenlos\", \"merlicekgrossebner\", \"merstoten\", \"messi\", \"metallica\", \"meteoriten\", \"mexiko\", \"mexiko\", \"mexiko\", \"michael\", \"mieux\", \"migranten\", \"migr\\u00e4ne\", \"miklleitner\", \"miklleitner\", \"miklleitner\", \"milit\\u00e4r\", \"milit\\u00e4rambulanz\", \"milliarde\", \"milliardenfache\", \"milliardenstrafe\", \"millionen\", \"millionen\", \"millionen\", \"millionen\", \"millionenfl\\u00fcsse\", \"million\\u00e4rfrage\", \"mindestpensionen\", \"mindestpensionisten\", \"minilabor\", \"minister\", \"ministerrat\", \"minuten\", \"mirko\", \"misik\", \"mitregieren\", \"mittelmeer\", \"mittelschicht\", \"mittwoch\", \"mob\", \"mobilderstandardat\", \"mobile\", \"modulares\", \"monate\", \"monatsrekord\", \"monfils\", \"moonshot\", \"morgenrituale\", \"morrison\", \"mubaraks\", \"multilinguale\", \"museum\", \"music\", \"music\", \"musikdienst\", \"musiker\", \"mysteri\\u00f6sen\", \"m\\u00e4chtiger\", \"m\\u00e4chtigste\", \"m\\u00e4dchen\", \"m\\u00f6belpf\\u00e4ndung\", \"m\\u00fccken\", \"m\\u00fcssen\", \"m\\u00fcsste\", \"na\", \"nabucco\", \"nachbesserungen\", \"nachfolger\", \"nachgeben\", \"nachts\", \"namen\", \"nationalbibliothek\", \"nato\", \"nato\", \"nato\", \"nat\\u00fcrliche\", \"navi\", \"nebenwirkung\", \"negativ\", \"nerven\", \"nesthocker\", \"neubeginn\", \"neue\", \"neue\", \"neue\", \"neue\", \"neue\", \"neue\", \"neue\", \"neue\", \"neue\", \"neuer\", \"neuer\", \"neuer\", \"neuer\", \"neuer\", \"neuer\", \"neuerungen\", \"neues\", \"neues\", \"neues\", \"neues\", \"neuformulierung\", \"neuseelands\", \"neustadt\", \"neuzug\\u00e4ngen\", \"news\", \"nichols\", \"nichtw\\u00e4hler\", \"nie\", \"nie\", \"nie\", \"nie\", \"nieder\", \"niedergestochen\", \"niedriger\", \"niemand\", \"nigeria\", \"niggemeier\", \"nimmt\", \"nina\", \"nishikori\", \"nobelpreistr\\u00e4ger\", \"nord\", \"notfall\", \"notgelandet\", \"nottinghamachtelfinale\", \"november\", \"nsabndaff\\u00e4re\", \"nsadatenspeicherung\", \"nsasp\\u00e4hlisten\", \"nudeln\", \"nudelverbot\", \"nullzins\", \"nummer\", \"nu\\u00dfdorfer\", \"n\\u00e4chste\", \"n\\u00e4chste\", \"n\\u00e4chsten\", \"n\\u00e4chster\", \"n\\u00e4chster\", \"o\", \"oasen\", \"obama\", \"obama\", \"obama\", \"obama\", \"obama\", \"oben\", \"ober\\u00f6sterreich\", \"ober\\u00f6sterreich\", \"oecd\", \"offen\", \"offen\", \"offenbar\", \"offenbarungseid\", \"offene\", \"offizielle\", \"offroadrennen\", \"offtopicforum\", \"oft\", \"ognjen\", \"ohrfeigte\", \"old\", \"olympiabewerbung\", \"omv\", \"omv\", \"one\", \"one\", \"onlineshopping\", \"open\", \"open\", \"open\", \"open\", \"openpgp\", \"oper\", \"opfern\", \"opposition\", \"optimierte\", \"orangen\", \"orfstruktur\", \"ortskaiser\", \"os\", \"oscar\", \"osteoporose\", \"ostseekreuzfahrt\", \"oszeukrainesondergesandter\", \"over\", \"paar\", \"packt\", \"pakt\", \"pal\\u00e4stina\", \"pal\\u00e4stinenserregierung\", \"pal\\u00e4stinensischer\", \"panik\", \"paperwhite\", \"papierkram\", \"paradigmenwechsel\", \"parteirebell\", \"partie\", \"party\", \"passagiermaschinen\", \"passende\", \"passierte\", \"passionsspiel\", \"patten\", \"paviane\", \"pay\", \"paypal\", \"pazifik\", \"pda\", \"peilt\", \"penissen\", \"penistransplantation\", \"pepi\", \"perle\", \"persische\", \"personen\", \"pes\", \"pessimistischen\", \"peter\", \"pfeift\", \"pflanzen\", \"pfl\\u00e4nzchen\", \"pf\\u00e4ndet\", \"pilz\", \"pistorius\", \"pizarro\", \"platz\", \"platz\", \"pleite\", \"pleite\", \"pleite\", \"plo\", \"pochen\", \"podcast\", \"politik\", \"politik\", \"polizisten\", \"polnische\", \"pond\", \"pornhub\", \"pornodreh\", \"poroschenko\", \"portal\", \"positives\", \"posting\", \"postings\", \"postings\", \"postings\", \"poststreik\", \"powershell\", \"prada\", \"praktikanten\", \"pralles\", \"preis\", \"preise\", \"premier\", \"premier\", \"premier\", \"premier\", \"premiere\", \"privatsendung\", \"prix\", \"pro\", \"problemspionagezielen\", \"professur\", \"programmiersprache\", \"project\", \"project\", \"prokurdische\", \"prostitution\", \"protest\", \"protest\", \"protestcamp\", \"protestdrohung\", \"protestieren\", \"prozess\", \"prozessen\", \"pr\\u00e4sidentenbewerber\", \"pr\\u00e4sidentin\", \"pr\\u00fcfstand\", \"pr\\u00fcfstein\", \"pucken\", \"putin\", \"putin\", \"putin\", \"putin\", \"putins\", \"p\\u00e4dophile\", \"quartiere\", \"quatsch\", \"queenbesuch\", \"questions\", \"radioaktiver\", \"rafsanjani\", \"ragger\", \"rapid\", \"rasant\", \"rasch\", \"rasmussen\", \"rassismus\", \"rassistischen\", \"ratingausblick\", \"rattenpfote\", \"raubzug\", \"rauch\", \"rauscher\", \"rausgehauen\", \"razzia\", \"real\", \"rebbe\", \"rebellenf\\u00fchrer\", \"rechnungen\", \"rechten\", \"rechten\", \"redezeit\", \"reformen\", \"reformiert\", \"reformiertenkirche\", \"regelung\", \"regenbogenparade\", \"regenbogenparade\", \"regenbogenparade\", \"regenwetter\", \"regierung\", \"regierung\", \"regierung\", \"regierung\", \"regierungschefin\", \"reifepr\\u00fcfung\", \"reinhold\", \"reisegesch\\u00e4ft\", \"reisende\", \"rekordstrafe\", \"relativen\", \"rest\", \"revanche\", \"richterlicher\", \"riechen\", \"riesige\", \"rindt\", \"ringb\\u00e4ckerei\", \"risiko\", \"rivalen\", \"roboschabe\", \"robovogel\", \"rock\", \"rock\", \"rolling\", \"rom\", \"rosberg\", \"rose\", \"rosetta\", \"rossa\", \"rucksack\", \"runde\", \"russische\", \"russische\", \"russische\", \"russischen\", \"russischer\", \"russland\", \"russland\", \"russland\", \"russland\", \"russlandsanktionen\", \"r\\u00e4dern\", \"r\\u00e4umt\", \"r\\u00fccken\", \"r\\u00fccken\", \"r\\u00fcckschlag\", \"r\\u00fccktritt\", \"r\\u00fccktritt\", \"r\\u00fcstzeug\", \"sabo\", \"sacher\", \"sachs\", \"sahara\", \"sahen\", \"saison\", \"salzburgtrainer\", \"sammelt\", \"sanktionen\", \"satte\", \"saudiarabien\", \"saudiarabisches\", \"saudileaks\", \"saudische\", \"sauerbrunn\", \"schach\", \"schaffen\", \"schafft\", \"schalke\", \"schaltsekunde\", \"schande\", \"scharf\", \"scheiden\", \"scheitern\", \"scheitern\", \"scheitert\", \"scheitert\", \"scheitert\", \"scheiterte\", \"schelling\", \"schelling\", \"schicken\", \"schickimicki\", \"schiffsungl\\u00fcck\", \"schlafen\", \"schlaganfall\", \"schlichtungsstelle\", \"schluckt\", \"schluckt\", \"schlund\", \"schl\\u00e4gt\", \"schmausen\", \"schnell\", \"schnitt\", \"schockiert\", \"schon\", \"schon\", \"schon\", \"schriftsteller\", \"schr\\u00e4nkt\", \"schuld\", \"schulen\", \"schuller\", \"schummelf\\u00e4lle\", \"schwanger\", \"schweigt\", \"schwellenl\\u00e4ndern\", \"schwertsik\", \"schwerwiegenden\", \"schwierige\", \"schwulenpaar\", \"schwung\", \"sch\\u00e4men\", \"sch\\u00f6nberg\", \"sch\\u00f6nbrunn\", \"sch\\u00fcler\", \"sch\\u00fctzen\", \"sch\\u00fctzen\", \"sch\\u00fctzen\", \"sch\\u00fctzi\", \"seestadt\", \"seestadt\", \"seesterne\", \"sehe\", \"sehe\", \"seid\", \"seit\", \"seitens\", \"sekunde\", \"sekunden\", \"selbstgemacht\", \"selbstjustiz\", \"selbstmordattent\\u00e4ter\", \"selfieshootout\", \"semmeringtunnel\", \"serbien\", \"serbische\", \"serien\", \"setzten\", \"sexaff\\u00e4re\", \"sexistische\", \"sexistischer\", \"sexuellen\", \"sheets\", \"shitstorm\", \"sichergestellt\", \"sicherheitsforscher\", \"sicherheitskonferenz\", \"sicht\", \"siebenten\", \"sieg\", \"siegt\", \"sieht\", \"sieht\", \"sieht\", \"sieht\", \"signal\", \"simple\", \"simpson\", \"sinnlos\", \"sitzung\", \"slowaken\", \"smarttvs\", \"smarttvsystem\", \"sms\", \"snowden\", \"snowdendokumente\", \"socialmediaaktivit\\u00e4ten\", \"sodbrennen\", \"sohn\", \"song\", \"songs\", \"sony\", \"sonymusicchef\", \"sothebys\", \"soulschamanen\", \"source\", \"sousa\", \"sozialen\", \"sozialhilfe\", \"sozialwohnungen\", \"sozifresser\", \"sp\", \"sparpaket\", \"spezielle\", \"spezielle\", \"spiele\", \"spielen\", \"spielende\", \"spielt\", \"spitzentreffen\", \"spoiler\", \"sport\", \"sporting\", \"spotify\", \"spotlight\", \"sprechen\", \"spr\\u00fcche\", \"spsitzung\", \"spy\", \"sp\\u00f6\", \"sp\\u00f6\", \"sp\\u00f6\", \"sp\\u00f6\", \"sp\\u00f6\", \"sp\\u00f6\", \"sp\\u00f6gesch\\u00e4ftsf\\u00fchrer\", \"ssh\", \"staat\", \"staatsbankrottoptionen\", \"stahlen\", \"stankovic\", \"starb\", \"start\", \"start\", \"start\", \"start\", \"startet\", \"startet\", \"startet\", \"startet\", \"startet\", \"starthilfe\", \"startupgr\\u00fcnder\", \"statt\", \"statt\", \"statt\", \"statt\", \"statt\", \"steckt\", \"stehen\", \"steiermark\", \"steiermark\", \"steigender\", \"steil\", \"steirern\", \"stelle\", \"stellen\", \"sternerestaurant\", \"steuerbelastungen\", \"steuerreform\", \"steuerreform\", \"stockt\", \"stones\", \"straches\", \"strafantrag\", \"strafzettel\", \"strategie\", \"strausskahn\", \"stra\\u00dfe\", \"stra\\u00dfe\", \"stra\\u00dfenstrich\", \"streaming\", \"streamingdienst\", \"streamingservice\", \"streit\", \"streit\", \"stress\", \"strippenzieher\", \"stromausfall\", \"strompreise\", \"studentenheime\", \"stunden\", \"stundentage\", \"stundenwoche\", \"sturmgrazspieler\", \"stuttgart\", \"st\\u00e4rken\", \"st\\u00e4rksten\", \"st\\u00e4rkung\", \"st\\u00fchlen\", \"sudern\", \"supermamas\", \"supermarkt\", \"superstrategie\", \"suttner\", \"swift\", \"symbolische\", \"syrer\", \"syriens\", \"s\\u00fcdafrika\", \"s\\u00fcdafrika\", \"s\\u00fcdchinesischen\", \"s\\u00fcdindien\", \"s\\u00fcdkorea\", \"s\\u00fcdstaatenflagge\", \"s\\u00fcdsudan\", \"s\\u00fc\\u00dfeste\", \"tabak\", \"tablets\", \"tage\", \"tages\", \"tasche\", \"tastatur\", \"tastaturen\", \"taylor\", \"techbranche\", \"technology\", \"teilnehmer\", \"telfs\", \"tevez\", \"the\", \"the\", \"the\", \"thema\", \"thomas\", \"thronesfinale\", \"thunderbolt\", \"tiananmen\", \"tief\", \"tiere\", \"tiergarten\", \"tim\", \"tochter\", \"todesf\\u00e4lle\", \"tokio\", \"toni\\u00b4s\", \"tonnenweise\", \"top\", \"tote\", \"tote\", \"tote\", \"tote\", \"toter\", \"tour\", \"touristen\", \"trab\", \"traditionsbetrieb\", \"trag\\u00f6dien\", \"transit\", \"traunsee\", \"treffen\", \"treffen\", \"treffen\", \"treibt\", \"trennkost\", \"trentino\", \"triumph\", \"trodat\", \"trolle\", \"trotz\", \"trotz\", \"trotzt\", \"trugen\", \"tschechen\", \"tschechischer\", \"tsipras\", \"tun\", \"tun\", \"turbo\", \"turkish\", \"tv\", \"tvwoche\", \"twitter\", \"t\\u00e4glich\", \"t\\u00fcrkei\", \"ubahn\", \"uhura\", \"ultimatum\", \"umek\", \"umgehen\", \"uncovering\", \"unerf\\u00fcllter\", \"ungeliebter\", \"ungenauigkeit\", \"ungerechtigkeiten\", \"unhilfskoordinator\", \"uni\", \"unis\", \"unruhe\", \"unsicheren\", \"unsichtbare\", \"unternehmen\", \"unternehmer\", \"unwettern\", \"urheberrechtsreform\", \"urteil\", \"uruguay\", \"usa\", \"usa\", \"usa\", \"usa\", \"usa\", \"usa\", \"usa\", \"usa\", \"usau\\u00dfenminister\", \"usb\", \"use\", \"userfotos\", \"usforscher\", \"uskinokassen\", \"uskomponist\", \"uskonzerne\", \"usnotenbank\", \"uspr\\u00e4sidentbewerber\", \"usschauspieler\", \"ussuchliste\", \"usunternehmen\", \"uweltmeister\", \"vaculik\", \"vanity\", \"vater\", \"vater\", \"verbarrikadiert\", \"verbindung\", \"verbotener\", \"verdacht\", \"verdauen\", \"verdurstet\", \"verd\\u00e4chtige\", \"verd\\u00e4chtiger\", \"vererbung\", \"verfeindete\", \"verf\\u00fcgbar\", \"verf\\u00fcgbar\", \"verhaftet\", \"verhandeln\", \"verhandlungen\", \"verhindert\", \"verkehrsfl\\u00e4che\", \"verlieren\", \"verloren\", \"verl\\u00e4ngert\", \"verl\\u00e4ngerte\", \"verl\\u00e4ngerten\", \"verl\\u00e4ngerung\", \"verl\\u00e4ngerung\", \"vermeiden\", \"vermisst\", \"vernetzen\", \"verpasst\", \"verr\\u00fcckt\", \"verschaffen\", \"verschl\\u00fcsseln\", \"versehentlich\", \"verstie\\u00df\", \"versto\\u00dfen\", \"verstrickt\", \"versuch\", \"verteidigt\", \"verteilzentrum\", \"vertreiben\", \"verursacht\", \"verwandelt\", \"verweste\", \"ver\\u00f6ffentlichung\", \"veteranen\", \"vidal\", \"vier\", \"vier\", \"vier\", \"vier\", \"virtuellen\", \"volk\", \"voll\", \"vorarlberg\", \"vorbereitung\", \"vorbilder\", \"vorfall\", \"vorgereiht\", \"vorprogrammiert\", \"vorschl\\u00e4ge\", \"vorstandsvertr\\u00e4ge\", \"vox\", \"vperneuerung\", \"vs\", \"vs\", \"waffenlieferungen\", \"wahlumfragen\", \"walls\", \"wandervogel\", \"wann\", \"wappnen\", \"wartet\", \"warum\", \"warum\", \"warum\", \"warum\", \"warum\", \"watch\", \"waterloo\", \"websuche\", \"wechseln\", \"wechselt\", \"wechselt\", \"wechselt\", \"wechselt\", \"wechselt\", \"wegen\", \"wegen\", \"wegen\", \"wegen\", \"wehsely\", \"weiber\", \"weibliche\", \"weisungsrecht\", \"weiterer\", \"weiteres\", \"wei\\u00dfen\", \"wei\\u00dfrussen\", \"wellensittiche\", \"welpenh\\u00e4ndlerpaar\", \"weltblutspendetag\", \"weltmuseum\", \"weltraum\", \"weltsicht\", \"weltweit\", \"wenig\", \"wenig\", \"wenig\", \"wenig\", \"weniger\", \"werbeanrufe\", \"werbeblocker\", \"werber\", \"werbung\", \"werder\", \"werkzeug\", \"werkzeugkiste\", \"west\", \"westen\", \"whatsappservice\", \"wichtigster\", \"wien\", \"wien\", \"wien\", \"wien\", \"wien\", \"wien\", \"wiener\", \"wiener\", \"wiener\", \"wiener\", \"wiener\", \"wiesberger\", \"wiesberger\", \"wieso\", \"wieso\", \"wieso\", \"wilde\", \"wildfr\\u00f6sche\", \"wind\", \"windbichler\", \"windeln\", \"windowsshortcuts\", \"wing\", \"wirbt\", \"wirtschaft\", \"wissen\", \"wissen\", \"wittgensteinpreis\", \"wmboykott\", \"wochen\", \"wochen\", \"wochenlang\", \"wohnen\", \"wohnimmobilien\", \"woolly\", \"world\", \"world\", \"wowspieler\", \"wuchs\", \"wurde\", \"wut\", \"wwdc\", \"w\\u00e4chst\", \"x\", \"xperia\", \"yadon\", \"yogaclip\", \"yoshis\", \"youtubewerberwahl\", \"z\", \"z+\", \"zarte\", \"zauberphantom\", \"zeichen\", \"zeichnet\", \"zeigt\", \"zeigt\", \"zeigt\", \"zeigt\", \"zeit\", \"zeiten\", \"zeitung\", \"zeitungen\", \"zen\", \"zentralmatura\", \"zepter\", \"zerbrochen\", \"zinsflaute\", \"zipfer\", \"zittersieg\", \"zuckerberg\", \"zugriff\", \"zukunft\", \"zukunft\", \"zukunft\", \"zukunft\", \"zulieferern\", \"zurechnungsf\\u00e4hig\", \"zur\\u00fcck\", \"zur\\u00fcck\", \"zur\\u00fcck\", \"zur\\u00fcck\", \"zur\\u00fcck\", \"zur\\u00fcck\", \"zusammenarbeit\", \"zusammenhang\", \"zuschauerzahl\", \"zwei\", \"zwei\", \"zwei\", \"zwei\", \"zwei\", \"zwei\", \"zweiter\", \"zw\\u00f6lf\", \"\\u00e4ltester\", \"\\u00e4ndern\", \"\\u00e4ndern\", \"\\u00e4rger\", \"\\u00e4rztetage\", \"\\u00e4u\\u00dferungen\", \"\\u00f6bb\", \"\\u00f6de\", \"\\u00f6fbteam\", \"\\u00f6fbtruppe\", \"\\u00f6ffentlichen\", \"\\u00f6hbherren\", \"\\u00f6ko\", \"\\u00f6konom\", \"\\u00f6sterreich\", \"\\u00f6sterreich\", \"\\u00f6sterreich\", \"\\u00f6sterreich\", \"\\u00f6sterreich\", \"\\u00f6sterreich\", \"\\u00f6sterreich\", \"\\u00f6sterreich\", \"\\u00f6sterreich\", \"\\u00f6sterreicher\", \"\\u00f6sterreicher\", \"\\u00f6sterreicher\", \"\\u00f6sterreichische\", \"\\u00f6sterreichs\", \"\\u00f6sterreichs\", \"\\u00f6sterreichs\", \"\\u00f6sterreichs\", \"\\u00f6sterreichs\", \"\\u00f6sv\", \"\\u00f6vag\", \"\\u00f6vplandeschefs\", \"\\u00fcberall\", \"\\u00fcbergewichtig\", \"\\u00fcbergibt\", \"\\u00fcbers\", \"\\u00fcbersteht\", \"\\u00fcberwachen\", \"\\u2013\", \"\\u2013\", \"\\u2013\", \"\\u2013\", \"\\u2013\", \"\\u2013\", \"\\u2019\"]}, \"R\": 30, \"lambda.step\": 0.01, \"plot.opts\": {\"xlab\": \"PC1\", \"ylab\": \"PC2\"}, \"topic.order\": [1, 2, 3, 4, 5, 6, 7, 8, 9, 10]};\n",
              "\n",
              "function LDAvis_load_lib(url, callback){\n",
              "  var s = document.createElement('script');\n",
              "  s.src = url;\n",
              "  s.async = true;\n",
              "  s.onreadystatechange = s.onload = callback;\n",
              "  s.onerror = function(){console.warn(\"failed to load library \" + url);};\n",
              "  document.getElementsByTagName(\"head\")[0].appendChild(s);\n",
              "}\n",
              "\n",
              "if(typeof(LDAvis) !== \"undefined\"){\n",
              "   // already loaded: just create the visualization\n",
              "   !function(LDAvis){\n",
              "       new LDAvis(\"#\" + \"ldavis_el47851400022283173041049754701\", ldavis_el47851400022283173041049754701_data);\n",
              "   }(LDAvis);\n",
              "}else if(typeof define === \"function\" && define.amd){\n",
              "   // require.js is available: use it to load d3/LDAvis\n",
              "   require.config({paths: {d3: \"https://cdnjs.cloudflare.com/ajax/libs/d3/3.5.5/d3.min\"}});\n",
              "   require([\"d3\"], function(d3){\n",
              "      window.d3 = d3;\n",
              "      LDAvis_load_lib(\"https://cdn.rawgit.com/bmabey/pyLDAvis/files/ldavis.v1.0.0.js\", function(){\n",
              "        new LDAvis(\"#\" + \"ldavis_el47851400022283173041049754701\", ldavis_el47851400022283173041049754701_data);\n",
              "      });\n",
              "    });\n",
              "}else{\n",
              "    // require.js not available: dynamically load d3 & LDAvis\n",
              "    LDAvis_load_lib(\"https://cdnjs.cloudflare.com/ajax/libs/d3/3.5.5/d3.min.js\", function(){\n",
              "         LDAvis_load_lib(\"https://cdn.rawgit.com/bmabey/pyLDAvis/files/ldavis.v1.0.0.js\", function(){\n",
              "                 new LDAvis(\"#\" + \"ldavis_el47851400022283173041049754701\", ldavis_el47851400022283173041049754701_data);\n",
              "            })\n",
              "         });\n",
              "}\n",
              "</script>"
            ],
            "text/plain": [
              "<IPython.core.display.HTML object>"
            ]
          },
          "metadata": {
            "tags": []
          },
          "execution_count": 99
        }
      ]
    }
  ]
}