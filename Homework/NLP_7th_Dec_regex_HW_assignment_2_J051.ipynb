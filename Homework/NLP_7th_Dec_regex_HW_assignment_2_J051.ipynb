{
  "nbformat": 4,
  "nbformat_minor": 0,
  "metadata": {
    "colab": {
      "name": "NLP_7th_Dec_HW_assignment_2_J051.ipynb",
      "provenance": [],
      "collapsed_sections": [],
      "include_colab_link": true
    },
    "kernelspec": {
      "name": "python3",
      "display_name": "Python 3"
    }
  },
  "cells": [
    {
      "cell_type": "markdown",
      "metadata": {
        "id": "view-in-github",
        "colab_type": "text"
      },
      "source": [
        "<a href=\"https://colab.research.google.com/github/universeatmyfeet/NLP/blob/master/Homework/NLP_7th_Dec_HW_assignment_2_J051.ipynb\" target=\"_parent\"><img src=\"https://colab.research.google.com/assets/colab-badge.svg\" alt=\"Open In Colab\"/></a>"
      ]
    },
    {
      "cell_type": "code",
      "metadata": {
        "id": "LqXNvPH_538m",
        "colab_type": "code",
        "colab": {}
      },
      "source": [
        "import pandas as pd\n",
        "db = pd.read_json('http://snap.stanford.edu/data/amazon/productGraph/categoryFiles/reviews_Office_Products_5.json.gz',lines = True)#reading gz file from url\n"
      ],
      "execution_count": 0,
      "outputs": []
    },
    {
      "cell_type": "code",
      "metadata": {
        "id": "FgTpRu-g58O8",
        "colab_type": "code",
        "colab": {}
      },
      "source": [
        "db['reviewText'] = db['reviewText'].str.lower()#all characters become lower-cased\n",
        "db['summary'] = db['summary'].str.lower()"
      ],
      "execution_count": 0,
      "outputs": []
    },
    {
      "cell_type": "code",
      "metadata": {
        "id": "aIp0fp3E7Uwo",
        "colab_type": "code",
        "outputId": "4865b51c-9aea-4e95-b038-77d48a1f4e2d",
        "colab": {
          "base_uri": "https://localhost:8080/",
          "height": 54
        }
      },
      "source": [
        "import re\n",
        "s = db.loc[0].reviewText\n",
        "s\n",
        "\n"
      ],
      "execution_count": 72,
      "outputs": [
        {
          "output_type": "execute_result",
          "data": {
            "text/plain": [
              "\"i bought my first hp12c in about 1984 or so, and it served me faithfully until 2002 when i lost it while travelling.  i searched for another one to replace it, but found one difficult to come by in my area.  so, i decided to buy up and purchased an hp 49g.  what a mistake!  i know that many people view the hp 49g (now 49g+) as the flagship of the hp line, but for me that was a disaster.the 49g may be powerful, but using it is extremely counterintuitive...and the manual was sketchy at best.  the 12c, on the other hand, does what i need in a way that makes good sense to me.if you are looking for a solid, reliable calculator, the hp12c may be for you.  it's programmable.  it does basic statistics well, and many business applications too.  the manual makes sense; you will be up and running in short order.i'm ready to set my 49g aside and move back to my old friend.  i didn't even have to replace the batteries in well over a decade of use!hp 12c, i'm coming home!\""
            ]
          },
          "metadata": {
            "tags": []
          },
          "execution_count": 72
        }
      ]
    },
    {
      "cell_type": "markdown",
      "metadata": {
        "id": "hU1qxtMDMOxq",
        "colab_type": "text"
      },
      "source": [
        "**NOT BEGINNING WITH B OR ENDING WITH G**"
      ]
    },
    {
      "cell_type": "code",
      "metadata": {
        "id": "CVMzB9YVJ_Te",
        "colab_type": "code",
        "outputId": "c3655039-ab3c-4240-e1fb-7d74339ea3a2",
        "colab": {
          "base_uri": "https://localhost:8080/",
          "height": 1000
        }
      },
      "source": [
        "def reg(text):\n",
        "    punctuations = '''!()-[]{};:\\,<>./?@#$%^&*_~'''   \n",
        "    # creating punctuations reference \n",
        "    text = text.replace(\"'\",\"\")\n",
        "    for char in text:\n",
        "      if char in punctuations:\n",
        "        text = text.replace(char,\" \")\n",
        "      \n",
        "    s2 = re.findall(r\"\\b(?!b)\\w+\",text,re.IGNORECASE) \n",
        "    # negative look ahead for b\n",
        "    sample = ' '.join([str(elem) for elem in s2]) \n",
        "    # converting output list of regex to string using list comprehension\n",
        "    s3 = re.findall(r\"\\w+(?<!g)\\b\", sample)\n",
        "    # negative look behind for g from all the words that were filtered before ie. dont have b in the beginning\n",
        "    return s3\n",
        "    \n",
        "\n",
        "\n",
        "db['regText1'] = db['reviewText'].apply(reg)\n",
        "db['regSum1'] = db['summary'].apply(reg)\n",
        "db['regText1'][0]"
      ],
      "execution_count": 112,
      "outputs": [
        {
          "output_type": "execute_result",
          "data": {
            "text/plain": [
              "['i',\n",
              " 'my',\n",
              " 'first',\n",
              " 'hp12c',\n",
              " 'in',\n",
              " 'about',\n",
              " '1984',\n",
              " 'or',\n",
              " 'so',\n",
              " 'and',\n",
              " 'it',\n",
              " 'served',\n",
              " 'me',\n",
              " 'faithfully',\n",
              " 'until',\n",
              " '2002',\n",
              " 'when',\n",
              " 'i',\n",
              " 'lost',\n",
              " 'it',\n",
              " 'while',\n",
              " 'i',\n",
              " 'searched',\n",
              " 'for',\n",
              " 'another',\n",
              " 'one',\n",
              " 'to',\n",
              " 'replace',\n",
              " 'it',\n",
              " 'found',\n",
              " 'one',\n",
              " 'difficult',\n",
              " 'to',\n",
              " 'come',\n",
              " 'in',\n",
              " 'my',\n",
              " 'area',\n",
              " 'so',\n",
              " 'i',\n",
              " 'decided',\n",
              " 'to',\n",
              " 'up',\n",
              " 'and',\n",
              " 'purchased',\n",
              " 'an',\n",
              " 'hp',\n",
              " 'what',\n",
              " 'a',\n",
              " 'mistake',\n",
              " 'i',\n",
              " 'know',\n",
              " 'that',\n",
              " 'many',\n",
              " 'people',\n",
              " 'view',\n",
              " 'the',\n",
              " 'hp',\n",
              " 'now',\n",
              " 'as',\n",
              " 'the',\n",
              " 'flagship',\n",
              " 'of',\n",
              " 'the',\n",
              " 'hp',\n",
              " 'line',\n",
              " 'for',\n",
              " 'me',\n",
              " 'that',\n",
              " 'was',\n",
              " 'a',\n",
              " 'disaster',\n",
              " 'the',\n",
              " 'may',\n",
              " 'powerful',\n",
              " 'it',\n",
              " 'is',\n",
              " 'extremely',\n",
              " 'counterintuitive',\n",
              " 'and',\n",
              " 'the',\n",
              " 'manual',\n",
              " 'was',\n",
              " 'sketchy',\n",
              " 'at',\n",
              " 'the',\n",
              " '12c',\n",
              " 'on',\n",
              " 'the',\n",
              " 'other',\n",
              " 'hand',\n",
              " 'does',\n",
              " 'what',\n",
              " 'i',\n",
              " 'need',\n",
              " 'in',\n",
              " 'a',\n",
              " 'way',\n",
              " 'that',\n",
              " 'makes',\n",
              " 'good',\n",
              " 'sense',\n",
              " 'to',\n",
              " 'me',\n",
              " 'if',\n",
              " 'you',\n",
              " 'are',\n",
              " 'for',\n",
              " 'a',\n",
              " 'solid',\n",
              " 'reliable',\n",
              " 'calculator',\n",
              " 'the',\n",
              " 'hp12c',\n",
              " 'may',\n",
              " 'for',\n",
              " 'you',\n",
              " 'its',\n",
              " 'programmable',\n",
              " 'it',\n",
              " 'does',\n",
              " 'statistics',\n",
              " 'well',\n",
              " 'and',\n",
              " 'many',\n",
              " 'applications',\n",
              " 'too',\n",
              " 'the',\n",
              " 'manual',\n",
              " 'makes',\n",
              " 'sense',\n",
              " 'you',\n",
              " 'will',\n",
              " 'up',\n",
              " 'and',\n",
              " 'in',\n",
              " 'short',\n",
              " 'order',\n",
              " 'im',\n",
              " 'ready',\n",
              " 'to',\n",
              " 'set',\n",
              " 'my',\n",
              " 'aside',\n",
              " 'and',\n",
              " 'move',\n",
              " 'to',\n",
              " 'my',\n",
              " 'old',\n",
              " 'friend',\n",
              " 'i',\n",
              " 'didnt',\n",
              " 'even',\n",
              " 'have',\n",
              " 'to',\n",
              " 'replace',\n",
              " 'the',\n",
              " 'in',\n",
              " 'well',\n",
              " 'over',\n",
              " 'a',\n",
              " 'decade',\n",
              " 'of',\n",
              " 'use',\n",
              " 'hp',\n",
              " '12c',\n",
              " 'im',\n",
              " 'home']"
            ]
          },
          "metadata": {
            "tags": []
          },
          "execution_count": 112
        }
      ]
    }
  ]
}
