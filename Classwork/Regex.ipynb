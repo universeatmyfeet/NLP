{
  "nbformat": 4,
  "nbformat_minor": 0,
  "metadata": {
    "colab": {
      "name": "Regex.ipynb",
      "provenance": [],
      "authorship_tag": "ABX9TyMyWqEOmAVfdn84BKnAJzVV",
      "include_colab_link": true
    },
    "kernelspec": {
      "name": "python3",
      "display_name": "Python 3"
    }
  },
  "cells": [
    {
      "cell_type": "markdown",
      "metadata": {
        "id": "view-in-github",
        "colab_type": "text"
      },
      "source": [
        "<a href=\"https://colab.research.google.com/github/universeatmyfeet/NLP/blob/master/Classwork/Regex.ipynb\" target=\"_parent\"><img src=\"https://colab.research.google.com/assets/colab-badge.svg\" alt=\"Open In Colab\"/></a>"
      ]
    },
    {
      "cell_type": "code",
      "metadata": {
        "id": "sA02rZ5cSMPf",
        "colab_type": "code",
        "outputId": "8543bee8-2dbb-48e4-8551-5a97a1648be6",
        "colab": {
          "base_uri": "https://localhost:8080/",
          "height": 84
        }
      },
      "source": [
        "#regex for email\n",
        "import re\n",
        "text = \" srctari@gmail.com email address and i am a monkey blah monkey bob@abc.com blah data science\"\n",
        "\n",
        "match = re.findall(r'([\\w\\.-]+)@([\\w\\.-]+)', text)\n",
        "\n",
        "for email in match:\n",
        "    print(\"Email : {} ,\\n username : {}, website : {} \".format(email,email[0],email[1]))"
      ],
      "execution_count": 0,
      "outputs": [
        {
          "output_type": "stream",
          "text": [
            "Email : ('srctari', 'gmail.com') ,\n",
            " username : srctari, website : gmail.com \n",
            "Email : ('bob', 'abc.com') ,\n",
            " username : bob, website : abc.com \n"
          ],
          "name": "stdout"
        }
      ]
    },
    {
      "cell_type": "code",
      "metadata": {
        "id": "CjnOv_7DThzC",
        "colab_type": "code",
        "outputId": "8d23152a-86de-4d5d-a776-dd00224a28d7",
        "colab": {
          "base_uri": "https://localhost:8080/",
          "height": 34
        }
      },
      "source": [
        "# regex for phone number\n",
        "text = \"9029007880 is an Indian phone number\"\n",
        "\n",
        "match = re.findall(r'^(\\d{10})(?:\\s|$)', text)\n",
        "\n",
        "for number in match:\n",
        "  print(number)\n",
        "\n"
      ],
      "execution_count": 0,
      "outputs": [
        {
          "output_type": "stream",
          "text": [
            "9029007880\n"
          ],
          "name": "stdout"
        }
      ]
    }
  ]
}