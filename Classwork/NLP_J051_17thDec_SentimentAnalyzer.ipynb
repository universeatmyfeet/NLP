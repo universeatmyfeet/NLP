{
  "nbformat": 4,
  "nbformat_minor": 0,
  "metadata": {
    "colab": {
      "name": "SentimentAnalyzer.ipynb",
      "provenance": [],
      "collapsed_sections": [],
      "include_colab_link": true
    },
    "kernelspec": {
      "name": "python3",
      "display_name": "Python 3"
    }
  },
  "cells": [
    {
      "cell_type": "markdown",
      "metadata": {
        "id": "view-in-github",
        "colab_type": "text"
      },
      "source": [
        "<a href=\"https://colab.research.google.com/github/universeatmyfeet/NLP/blob/master/Classwork/NLP_J051_17thDec_SentimentAnalyzer.ipynb\" target=\"_parent\"><img src=\"https://colab.research.google.com/assets/colab-badge.svg\" alt=\"Open In Colab\"/></a>"
      ]
    },
    {
      "cell_type": "code",
      "metadata": {
        "id": "WQ_kdELA0nNo",
        "colab_type": "code",
        "colab": {
          "base_uri": "https://localhost:8080/",
          "height": 50
        },
        "outputId": "8b86db2a-e1f7-47b8-a4e8-d454d5e65912"
      },
      "source": [
        "import pandas as pd\n",
        "import nltk\n",
        "from nltk.sentiment import SentimentAnalyzer\n",
        "from nltk.classify.scikitlearn import SklearnClassifier\n",
        "import textblob\n",
        "from textblob import TextBlob\n",
        "from nltk.sentiment.vader import SentimentIntensityAnalyzer\n",
        "nltk.download('vader_lexicon')\n",
        "from sklearn.metrics import confusion_matrix"
      ],
      "execution_count": 71,
      "outputs": [
        {
          "output_type": "stream",
          "text": [
            "[nltk_data] Downloading package vader_lexicon to /root/nltk_data...\n",
            "[nltk_data]   Package vader_lexicon is already up-to-date!\n"
          ],
          "name": "stdout"
        }
      ]
    },
    {
      "cell_type": "code",
      "metadata": {
        "id": "fmv_3bwAhMDu",
        "colab_type": "code",
        "colab": {
          "base_uri": "https://localhost:8080/",
          "height": 67
        },
        "outputId": "6ee57d2e-98cd-4671-952e-2cf1ce558530"
      },
      "source": [
        "!pip install glove_python"
      ],
      "execution_count": 72,
      "outputs": [
        {
          "output_type": "stream",
          "text": [
            "Requirement already satisfied: glove_python in /usr/local/lib/python3.6/dist-packages (0.1.0)\n",
            "Requirement already satisfied: numpy in /usr/local/lib/python3.6/dist-packages (from glove_python) (1.17.4)\n",
            "Requirement already satisfied: scipy in /usr/local/lib/python3.6/dist-packages (from glove_python) (1.3.3)\n"
          ],
          "name": "stdout"
        }
      ]
    },
    {
      "cell_type": "code",
      "metadata": {
        "id": "VOh7we4PhPZK",
        "colab_type": "code",
        "colab": {}
      },
      "source": [
        "from glove import Corpus, Glove"
      ],
      "execution_count": 0,
      "outputs": []
    },
    {
      "cell_type": "code",
      "metadata": {
        "id": "-2wDMe1v0uwY",
        "colab_type": "code",
        "outputId": "c1f544c5-743b-405a-ca41-bf34310705c6",
        "colab": {
          "base_uri": "https://localhost:8080/",
          "height": 195
        }
      },
      "source": [
        "db = pd.read_csv(\"https://raw.githubusercontent.com/zfz/twitter_corpus/master/full-corpus.csv\")\n",
        "db.head()"
      ],
      "execution_count": 138,
      "outputs": [
        {
          "output_type": "execute_result",
          "data": {
            "text/html": [
              "<div>\n",
              "<style scoped>\n",
              "    .dataframe tbody tr th:only-of-type {\n",
              "        vertical-align: middle;\n",
              "    }\n",
              "\n",
              "    .dataframe tbody tr th {\n",
              "        vertical-align: top;\n",
              "    }\n",
              "\n",
              "    .dataframe thead th {\n",
              "        text-align: right;\n",
              "    }\n",
              "</style>\n",
              "<table border=\"1\" class=\"dataframe\">\n",
              "  <thead>\n",
              "    <tr style=\"text-align: right;\">\n",
              "      <th></th>\n",
              "      <th>Topic</th>\n",
              "      <th>Sentiment</th>\n",
              "      <th>TweetId</th>\n",
              "      <th>TweetDate</th>\n",
              "      <th>TweetText</th>\n",
              "    </tr>\n",
              "  </thead>\n",
              "  <tbody>\n",
              "    <tr>\n",
              "      <th>0</th>\n",
              "      <td>apple</td>\n",
              "      <td>positive</td>\n",
              "      <td>126415614616154112</td>\n",
              "      <td>Tue Oct 18 21:53:25 +0000 2011</td>\n",
              "      <td>Now all @Apple has to do is get swype on the i...</td>\n",
              "    </tr>\n",
              "    <tr>\n",
              "      <th>1</th>\n",
              "      <td>apple</td>\n",
              "      <td>positive</td>\n",
              "      <td>126404574230740992</td>\n",
              "      <td>Tue Oct 18 21:09:33 +0000 2011</td>\n",
              "      <td>@Apple will be adding more carrier support to ...</td>\n",
              "    </tr>\n",
              "    <tr>\n",
              "      <th>2</th>\n",
              "      <td>apple</td>\n",
              "      <td>positive</td>\n",
              "      <td>126402758403305474</td>\n",
              "      <td>Tue Oct 18 21:02:20 +0000 2011</td>\n",
              "      <td>Hilarious @youtube video - guy does a duet wit...</td>\n",
              "    </tr>\n",
              "    <tr>\n",
              "      <th>3</th>\n",
              "      <td>apple</td>\n",
              "      <td>positive</td>\n",
              "      <td>126397179614068736</td>\n",
              "      <td>Tue Oct 18 20:40:10 +0000 2011</td>\n",
              "      <td>@RIM you made it too easy for me to switch to ...</td>\n",
              "    </tr>\n",
              "    <tr>\n",
              "      <th>4</th>\n",
              "      <td>apple</td>\n",
              "      <td>positive</td>\n",
              "      <td>126395626979196928</td>\n",
              "      <td>Tue Oct 18 20:34:00 +0000 2011</td>\n",
              "      <td>I just realized that the reason I got into twi...</td>\n",
              "    </tr>\n",
              "  </tbody>\n",
              "</table>\n",
              "</div>"
            ],
            "text/plain": [
              "   Topic  ...                                          TweetText\n",
              "0  apple  ...  Now all @Apple has to do is get swype on the i...\n",
              "1  apple  ...  @Apple will be adding more carrier support to ...\n",
              "2  apple  ...  Hilarious @youtube video - guy does a duet wit...\n",
              "3  apple  ...  @RIM you made it too easy for me to switch to ...\n",
              "4  apple  ...  I just realized that the reason I got into twi...\n",
              "\n",
              "[5 rows x 5 columns]"
            ]
          },
          "metadata": {
            "tags": []
          },
          "execution_count": 138
        }
      ]
    },
    {
      "cell_type": "code",
      "metadata": {
        "id": "IeINFceG1i-1",
        "colab_type": "code",
        "colab": {}
      },
      "source": [
        "db2 = pd.read_json('http://snap.stanford.edu/data/amazon/productGraph/categoryFiles/reviews_Office_Products_5.json.gz',lines = True)#reading gz file from url"
      ],
      "execution_count": 0,
      "outputs": []
    },
    {
      "cell_type": "markdown",
      "metadata": {
        "id": "S9xYVrPYCYVC",
        "colab_type": "text"
      },
      "source": [
        "**1: Applying sentiment analyzers on both the datasets and determining polarity of the sentiment:** "
      ]
    },
    {
      "cell_type": "markdown",
      "metadata": {
        "id": "fjLkq9Qa_Lfr",
        "colab_type": "text"
      },
      "source": [
        "**For SIA of VADER (suited for tweets) :**"
      ]
    },
    {
      "cell_type": "markdown",
      "metadata": {
        "id": "4cR-r8Zb-9r3",
        "colab_type": "text"
      },
      "source": [
        "\n",
        "\n",
        "> ![Image of sentiment](https://miro.medium.com/max/656/1*G8yV2iaqqfaGfmRPRem2Fw.png)\n",
        "\n",
        "\n",
        "\n",
        "\n",
        "\n",
        "\n"
      ]
    },
    {
      "cell_type": "markdown",
      "metadata": {
        "id": "aVYOCRdyBLOe",
        "colab_type": "text"
      },
      "source": [
        "**For TextBlob:**\n",
        "\n",
        "> Polarity is a float value within the range [-1.0 to 1.0] where 0 indicates neutral, +1 indicates a very positive sentiment and -1 represents a very negative sentiment.\n",
        "\n",
        "> Subjectivity is a float value within the range [0.0 to 1.0] where 0.0 is very objective and 1.0 is very subjective. Subjective sentence expresses some personal feelings, views, beliefs, opinions, allegations, desires, beliefs, suspicions, and speculations where as Objective sentences are factual.\n",
        "\n"
      ]
    },
    {
      "cell_type": "code",
      "metadata": {
        "id": "rLTMOowS2n-W",
        "colab_type": "code",
        "colab": {}
      },
      "source": [
        "def sentimentanalyzer(text):\n",
        "  sid = SentimentIntensityAnalyzer()\n",
        "  scores = sid.polarity_scores(text)\n",
        "  \n",
        "  if scores['compound'] >= 0.05 : \n",
        "        sent = 'Positive'    \n",
        "        result = scores['pos']\n",
        "  \n",
        "  elif scores['compound'] <= - 0.05 : \n",
        "        sent = \"Negative\" \n",
        "        result = scores['neg']\n",
        "  \n",
        "  else : \n",
        "        sent = \"Neutral\"\n",
        "        result = scores['neu']\n",
        "\n",
        "  d = {\"TextBlob_polarity\":TextBlob(text).sentiment.polarity,\"SIA score\" : scores,\"SIA max\" : (sent,result)}      \n",
        "  return d"
      ],
      "execution_count": 0,
      "outputs": []
    },
    {
      "cell_type": "code",
      "metadata": {
        "id": "i4hY8Cev5mXy",
        "colab_type": "code",
        "colab": {}
      },
      "source": [
        "db['TweetText_sentiment'] = db.TweetText.apply(sentimentanalyzer)"
      ],
      "execution_count": 0,
      "outputs": []
    },
    {
      "cell_type": "code",
      "metadata": {
        "id": "xp2nNOxR8BmH",
        "colab_type": "code",
        "colab": {
          "base_uri": "https://localhost:8080/",
          "height": 67
        },
        "outputId": "e064c2d1-e8c2-4fcd-f3c4-a256a0eea956"
      },
      "source": [
        "db['TweetText_sentiment'][1]"
      ],
      "execution_count": 142,
      "outputs": [
        {
          "output_type": "execute_result",
          "data": {
            "text/plain": [
              "{'SIA max': ('Positive', 0.199),\n",
              " 'SIA score': {'compound': 0.4549, 'neg': 0.0, 'neu': 0.801, 'pos': 0.199},\n",
              " 'TextBlob_polarity': 0.5}"
            ]
          },
          "metadata": {
            "tags": []
          },
          "execution_count": 142
        }
      ]
    },
    {
      "cell_type": "code",
      "metadata": {
        "id": "aVJ28Ccz4zN4",
        "colab_type": "code",
        "colab": {}
      },
      "source": [
        "db2['reviewText_sentiment'] = db2.reviewText.apply(sentimentanalyzer)"
      ],
      "execution_count": 0,
      "outputs": []
    },
    {
      "cell_type": "code",
      "metadata": {
        "id": "12clgmvE8ZgB",
        "colab_type": "code",
        "colab": {
          "base_uri": "https://localhost:8080/",
          "height": 67
        },
        "outputId": "a288c1a9-74d6-4b36-e07c-1aed8118e044"
      },
      "source": [
        "db2['reviewText_sentiment'][1]"
      ],
      "execution_count": 117,
      "outputs": [
        {
          "output_type": "execute_result",
          "data": {
            "text/plain": [
              "{'SIA max': ('Positive', 0.099),\n",
              " 'SIA score': {'compound': 0.9963, 'neg': 0.029, 'neu': 0.872, 'pos': 0.099},\n",
              " 'TextBlob_polarity': 0.17093871975019514}"
            ]
          },
          "metadata": {
            "tags": []
          },
          "execution_count": 117
        }
      ]
    },
    {
      "cell_type": "markdown",
      "metadata": {
        "id": "5_LAEWGmCzXi",
        "colab_type": "text"
      },
      "source": [
        "**2. Comparison of analysed sentiment to sentiment in the twitter dataset**"
      ]
    },
    {
      "cell_type": "code",
      "metadata": {
        "id": "yks6k1y-B9_q",
        "colab_type": "code",
        "colab": {
          "base_uri": "https://localhost:8080/",
          "height": 34
        },
        "outputId": "ebf21be4-2dd7-4e6d-ddfc-89b02c7566ed"
      },
      "source": [
        "db['Sentiment'].unique()"
      ],
      "execution_count": 143,
      "outputs": [
        {
          "output_type": "execute_result",
          "data": {
            "text/plain": [
              "array(['positive', 'negative', 'neutral', 'irrelevant'], dtype=object)"
            ]
          },
          "metadata": {
            "tags": []
          },
          "execution_count": 143
        }
      ]
    },
    {
      "cell_type": "code",
      "metadata": {
        "id": "8EdXSHFFGAKS",
        "colab_type": "code",
        "colab": {}
      },
      "source": [
        "db = db[db[\"Sentiment\"] != \"irrelevant\"]"
      ],
      "execution_count": 0,
      "outputs": []
    },
    {
      "cell_type": "code",
      "metadata": {
        "id": "83YkpbC5Dql0",
        "colab_type": "code",
        "colab": {
          "base_uri": "https://localhost:8080/",
          "height": 218
        },
        "outputId": "2edc23d1-00cc-4602-9d0f-e894d804fd16"
      },
      "source": [
        "db['Sentiment']"
      ],
      "execution_count": 145,
      "outputs": [
        {
          "output_type": "execute_result",
          "data": {
            "text/plain": [
              "0       positive\n",
              "1       positive\n",
              "2       positive\n",
              "3       positive\n",
              "4       positive\n",
              "          ...   \n",
              "4537     neutral\n",
              "4538     neutral\n",
              "4539     neutral\n",
              "4540     neutral\n",
              "4541     neutral\n",
              "Name: Sentiment, Length: 3424, dtype: object"
            ]
          },
          "metadata": {
            "tags": []
          },
          "execution_count": 145
        }
      ]
    },
    {
      "cell_type": "code",
      "metadata": {
        "id": "gFv_uzYJ9J0Z",
        "colab_type": "code",
        "colab": {}
      },
      "source": [
        "def comparison(dict):\n",
        "  if dict[\"TextBlob_polarity\"]>0:\n",
        "    return 'positive'\n",
        "  if dict[\"TextBlob_polarity\"]<0:\n",
        "    return 'negative'\n",
        "  if dict[\"TextBlob_polarity\"]==0:\n",
        "    return 'neutral'"
      ],
      "execution_count": 0,
      "outputs": []
    },
    {
      "cell_type": "code",
      "metadata": {
        "id": "pkgr3UO0J8UC",
        "colab_type": "code",
        "colab": {}
      },
      "source": [
        "db[\"sentimentcheck\"] = db.TweetText_sentiment.apply(comparison)"
      ],
      "execution_count": 0,
      "outputs": []
    },
    {
      "cell_type": "code",
      "metadata": {
        "id": "l8cpp9wBLajB",
        "colab_type": "code",
        "colab": {
          "base_uri": "https://localhost:8080/",
          "height": 218
        },
        "outputId": "737bc14e-d4bb-45f0-cb2d-c019b9302c9f"
      },
      "source": [
        "db[\"sentimentcheck\"] "
      ],
      "execution_count": 148,
      "outputs": [
        {
          "output_type": "execute_result",
          "data": {
            "text/plain": [
              "0        neutral\n",
              "1       positive\n",
              "2       positive\n",
              "3       positive\n",
              "4       positive\n",
              "          ...   \n",
              "4537    positive\n",
              "4538     neutral\n",
              "4539     neutral\n",
              "4540    negative\n",
              "4541     neutral\n",
              "Name: sentimentcheck, Length: 3424, dtype: object"
            ]
          },
          "metadata": {
            "tags": []
          },
          "execution_count": 148
        }
      ]
    },
    {
      "cell_type": "code",
      "metadata": {
        "id": "DeJx1TE2MWBc",
        "colab_type": "code",
        "colab": {}
      },
      "source": [
        "db['Sentiment'] = pd.Categorical(db['Sentiment'])\n",
        "\n",
        "db['sentimentcheck'] = pd.Categorical(db['sentimentcheck'])"
      ],
      "execution_count": 0,
      "outputs": []
    },
    {
      "cell_type": "code",
      "metadata": {
        "id": "2MS5vzoRJsNy",
        "colab_type": "code",
        "colab": {
          "base_uri": "https://localhost:8080/",
          "height": 84
        },
        "outputId": "29cc60af-0b94-47cb-9783-12640d92e0a9"
      },
      "source": [
        "\n",
        "cm = confusion_matrix(db[\"sentimentcheck\"],db[\"Sentiment\"])\n",
        "print(\"Confusion Matrix - TextBlob:\")\n",
        "print(cm)"
      ],
      "execution_count": 149,
      "outputs": [
        {
          "output_type": "stream",
          "text": [
            "Confusion Matrix - TextBlob:\n",
            "[[ 234  201   38]\n",
            " [ 171 1213  124]\n",
            " [ 167  919  357]]\n"
          ],
          "name": "stdout"
        }
      ]
    },
    {
      "cell_type": "code",
      "metadata": {
        "id": "FghOI0H7NupG",
        "colab_type": "code",
        "colab": {
          "base_uri": "https://localhost:8080/",
          "height": 185
        },
        "outputId": "79959648-9fe9-40df-b8dc-1bc746097119"
      },
      "source": [
        "from sklearn.metrics import classification_report\n",
        "print(classification_report(db[\"sentimentcheck\"],db[\"Sentiment\"]))"
      ],
      "execution_count": 150,
      "outputs": [
        {
          "output_type": "stream",
          "text": [
            "              precision    recall  f1-score   support\n",
            "\n",
            "    negative       0.41      0.49      0.45       473\n",
            "     neutral       0.52      0.80      0.63      1508\n",
            "    positive       0.69      0.25      0.36      1443\n",
            "\n",
            "    accuracy                           0.53      3424\n",
            "   macro avg       0.54      0.52      0.48      3424\n",
            "weighted avg       0.58      0.53      0.49      3424\n",
            "\n"
          ],
          "name": "stdout"
        }
      ]
    }
  ]
}