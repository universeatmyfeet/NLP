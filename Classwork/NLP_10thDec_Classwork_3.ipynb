{
  "nbformat": 4,
  "nbformat_minor": 0,
  "metadata": {
    "colab": {
      "name": "NLP_10thDec_Classwork_3.ipynb",
      "provenance": [],
      "collapsed_sections": [],
      "include_colab_link": true
    },
    "kernelspec": {
      "name": "python3",
      "display_name": "Python 3"
    }
  },
  "cells": [
    {
      "cell_type": "markdown",
      "metadata": {
        "id": "view-in-github",
        "colab_type": "text"
      },
      "source": [
        "<a href=\"https://colab.research.google.com/github/universeatmyfeet/NLP/blob/master/Classwork/NLP_10thDec_Classwork_3.ipynb\" target=\"_parent\"><img src=\"https://colab.research.google.com/assets/colab-badge.svg\" alt=\"Open In Colab\"/></a>"
      ]
    },
    {
      "cell_type": "code",
      "metadata": {
        "id": "SqTk_A753TS1",
        "colab_type": "code",
        "colab": {}
      },
      "source": [
        "import spacy\n",
        "import nltk\n",
        "nltk.download('punkt')\n",
        "from nltk.tokenize import MWETokenizer,word_tokenize\n",
        "from nltk.stem import WordNetLemmatizer \n",
        "nltk.download('wordnet')\n",
        "from nltk.corpus import wordnet\n",
        "nltk.download('averaged_perceptron_tagger')\n",
        "import pandas as pd\n",
        "nltk.download('stopwords')\n",
        "from nltk.corpus import stopwords"
      ],
      "execution_count": 0,
      "outputs": []
    },
    {
      "cell_type": "code",
      "metadata": {
        "id": "MR4r5Hut7GuY",
        "colab_type": "code",
        "colab": {}
      },
      "source": [
        "df = pd.read_json('http://snap.stanford.edu/data/amazon/productGraph/categoryFiles/reviews_Office_Products_5.json.gz', lines=True)\n"
      ],
      "execution_count": 0,
      "outputs": []
    },
    {
      "cell_type": "code",
      "metadata": {
        "id": "pkizhwuPriO7",
        "colab_type": "code",
        "colab": {}
      },
      "source": [
        "#Lemmatization- getting the pos_tag correct\n",
        "# function to convert nltk tag to wordnet tag\n",
        "def nltk_tag_to_wordnet_tag(pos_tag):\n",
        "    if pos_tag.startswith('J'):#pos_tag to wordnet_tag to be used in lemmatizer\n",
        "        return wordnet.ADJ\n",
        "    elif pos_tag.startswith('V'):\n",
        "        return wordnet.VERB\n",
        "    elif pos_tag.startswith('N'):\n",
        "        return wordnet.NOUN\n",
        "    elif pos_tag.startswith('R'):\n",
        "        return wordnet.ADV\n",
        "    else:          \n",
        "        return None\n",
        "   "
      ],
      "execution_count": 0,
      "outputs": []
    },
    {
      "cell_type": "code",
      "metadata": {
        "id": "GuJRf6y83fIi",
        "colab_type": "code",
        "outputId": "ae06c194-886e-41a4-dddf-2ac2591f2201",
        "colab": {
          "base_uri": "https://localhost:8080/",
          "height": 1000
        }
      },
      "source": [
        "#nltk\n",
        "def pipeline_nltk(text):\n",
        "  \n",
        "       #extract the tokens from string of characters\n",
        "  sentence_words1 = nltk.word_tokenize(text)   \n",
        "  \n",
        "        \n",
        "        #keeping only those tokens that are alphabetic\n",
        "  sentence_words2 = [word for word in sentence_words1 if word.isalpha()]      \n",
        "    \n",
        "  mwe_tokenizer = MWETokenizer()\n",
        "  mwe_tokens= mwe_tokenizer.tokenize(text.split())\n",
        "  \n",
        "    #tagging helps understand how word is used in a sentence \n",
        "  pos = nltk.pos_tag(sentence_words2)\n",
        "\n",
        "  wnl = WordNetLemmatizer() \n",
        "   #reduces the words properly ensuring that the root word belongs to the language which is called Lemma. \n",
        "   #WordNet Lemmatizer uses the WordNet Database to lookup lemmas of words.\n",
        "  \n",
        "  lemmatized_sentence = []\n",
        "  for word, tag in pos:\n",
        "    wntag = nltk_tag_to_wordnet_tag(tag)\n",
        "   # print(wntag)\n",
        "    if wntag is None:\n",
        "        lemmatized_sentence.append(word) \n",
        "    else:\n",
        "        lemmatized_sentence.append(wnl.lemmatize(word,wntag))\n",
        "  lem = \" \".join(lemmatized_sentence)\n",
        "  adj = [] \n",
        "  adjectives =\" \".join(word + \"/\" + tag for (word, tag) in pos if tag[:2] == 'JJ')\n",
        "  #list_tags = nltk.FreqDist(tag for (word, tag) in pos) \n",
        "  #print(list_tags.most_common())     ## can be used for verification\n",
        "  d = dict({\"lemma\":lem,'adjfound' : adjectives,'pos': pos,'word_tokens': sentence_words1,'mwe_tokens': mwe_tokens}) \n",
        "  return d\n",
        "\n",
        "\n",
        "\n",
        "pipeline_nltk(\"It's finally raining ! The harvest this year was bigger than previous year with Maharashtra having the largest yield.\")\n",
        "#pipeline_nltk(df['reviewText'][0])\n"
      ],
      "execution_count": 21,
      "outputs": [
        {
          "output_type": "execute_result",
          "data": {
            "text/plain": [
              "{'adjfound': 'bigger/JJR previous/JJ largest/JJS',\n",
              " 'lemma': 'It finally rain The harvest this year be big than previous year with Maharashtra have the large yield',\n",
              " 'mwe_tokens': [\"It's\",\n",
              "  'finally',\n",
              "  'raining',\n",
              "  '!',\n",
              "  'The',\n",
              "  'harvest',\n",
              "  'this',\n",
              "  'year',\n",
              "  'was',\n",
              "  'bigger',\n",
              "  'than',\n",
              "  'previous',\n",
              "  'year',\n",
              "  'with',\n",
              "  'Maharashtra',\n",
              "  'having',\n",
              "  'the',\n",
              "  'largest',\n",
              "  'yield.'],\n",
              " 'pos': [('It', 'PRP'),\n",
              "  ('finally', 'RB'),\n",
              "  ('raining', 'VBG'),\n",
              "  ('The', 'DT'),\n",
              "  ('harvest', 'NN'),\n",
              "  ('this', 'DT'),\n",
              "  ('year', 'NN'),\n",
              "  ('was', 'VBD'),\n",
              "  ('bigger', 'JJR'),\n",
              "  ('than', 'IN'),\n",
              "  ('previous', 'JJ'),\n",
              "  ('year', 'NN'),\n",
              "  ('with', 'IN'),\n",
              "  ('Maharashtra', 'NNP'),\n",
              "  ('having', 'VBG'),\n",
              "  ('the', 'DT'),\n",
              "  ('largest', 'JJS'),\n",
              "  ('yield', 'NN')],\n",
              " 'word_tokens': ['It',\n",
              "  \"'s\",\n",
              "  'finally',\n",
              "  'raining',\n",
              "  '!',\n",
              "  'The',\n",
              "  'harvest',\n",
              "  'this',\n",
              "  'year',\n",
              "  'was',\n",
              "  'bigger',\n",
              "  'than',\n",
              "  'previous',\n",
              "  'year',\n",
              "  'with',\n",
              "  'Maharashtra',\n",
              "  'having',\n",
              "  'the',\n",
              "  'largest',\n",
              "  'yield',\n",
              "  '.']}"
            ]
          },
          "metadata": {
            "tags": []
          },
          "execution_count": 21
        }
      ]
    }
  ]
}