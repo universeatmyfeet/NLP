{
  "nbformat": 4,
  "nbformat_minor": 0,
  "metadata": {
    "colab": {
      "name": "NLP_5th Dec_Classwork_nth_prime_J051.ipynb",
      "provenance": [],
      "collapsed_sections": [],
      "include_colab_link": true
    },
    "kernelspec": {
      "name": "python3",
      "display_name": "Python 3"
    }
  },
  "cells": [
    {
      "cell_type": "markdown",
      "metadata": {
        "id": "view-in-github",
        "colab_type": "text"
      },
      "source": [
        "<a href=\"https://colab.research.google.com/github/universeatmyfeet/NLP/blob/master/Classwork/NLP_5th_Dec_Classwork_nth_prime_J051.ipynb\" target=\"_parent\"><img src=\"https://colab.research.google.com/assets/colab-badge.svg\" alt=\"Open In Colab\"/></a>"
      ]
    },
    {
      "cell_type": "code",
      "metadata": {
        "id": "VFeEehqgSzXG",
        "colab_type": "code",
        "colab": {}
      },
      "source": [
        "import numpy as np\n",
        "import pandas as pd\n",
        "# We first use Seive of Eratosthenes to get a list of all prime numbers from 0 to whatever limit u want\n",
        "# Working of Seive of Eratosthenes for numbers 0 to 120 ->"
      ],
      "execution_count": 0,
      "outputs": []
    },
    {
      "cell_type": "markdown",
      "metadata": {
        "id": "5NSv2MgxmOcB",
        "colab_type": "text"
      },
      "source": [
        "\n",
        "![SeiveUrl](https://www.w3resource.com/w3r_images/Sieve_of_Eratosthenes_animation.gif \"seive\")"
      ]
    },
    {
      "cell_type": "code",
      "metadata": {
        "id": "xcb9tYzpmnUn",
        "colab_type": "code",
        "colab": {}
      },
      "source": [
        "max = 10000 #setting max limit upto which we want to generate prime numbers\n",
        "non_primelist = []#initializing empty arrays\n",
        "primelist = []\n",
        "\n",
        "     "
      ],
      "execution_count": 0,
      "outputs": []
    },
    {
      "cell_type": "code",
      "metadata": {
        "id": "QnFPvwSWnMnF",
        "colab_type": "code",
        "colab": {}
      },
      "source": [
        "#Generating list of all prime numbers\n",
        "for i in range(2,max+1):\n",
        "  if i not in non_primelist: # will first append 2 in the prime list then go on to put multiples in nonprime list , same for 3 , 4 will then be skipped and so on\n",
        "    primelist.append(i)\n",
        "    \n",
        "    for j in range (i*i, max+1, i): \n",
        "      #all multiples greater and equal to the square of higher value numbers will be stripped... \n",
        "      #multiples less than their squares have already  been included by the lower value numbers\n",
        "      non_primelist.append(j) "
      ],
      "execution_count": 0,
      "outputs": []
    },
    {
      "cell_type": "code",
      "metadata": {
        "id": "Fy4C3M-3nTHh",
        "colab_type": "code",
        "outputId": "33a18985-8ac5-42b9-b2fb-21d6b42d0dda",
        "colab": {
          "base_uri": "https://localhost:8080/",
          "height": 50
        }
      },
      "source": [
        "#Extracting nth prime number from the primelist\n",
        "n=int(input('Enter nth prime number required: '))\n",
        "print('Prime number is ' + str(primelist[n-1]) )"
      ],
      "execution_count": 0,
      "outputs": [
        {
          "output_type": "stream",
          "text": [
            "Enter nth prime number required: 100\n",
            "Prime number is 541\n"
          ],
          "name": "stdout"
        }
      ]
    }
  ]
}