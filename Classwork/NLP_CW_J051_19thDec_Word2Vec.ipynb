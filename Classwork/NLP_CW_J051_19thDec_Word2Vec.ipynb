{
  "nbformat": 4,
  "nbformat_minor": 0,
  "metadata": {
    "colab": {
      "name": "NLP_CW_J051_19thDec_Word2Vec.ipynb",
      "provenance": [],
      "collapsed_sections": [],
      "include_colab_link": true
    },
    "kernelspec": {
      "name": "python3",
      "display_name": "Python 3"
    }
  },
  "cells": [
    {
      "cell_type": "markdown",
      "metadata": {
        "id": "view-in-github",
        "colab_type": "text"
      },
      "source": [
        "<a href=\"https://colab.research.google.com/github/universeatmyfeet/NLP/blob/master/Classwork/NLP_CW_J051_19thDec_Word2Vec.ipynb\" target=\"_parent\"><img src=\"https://colab.research.google.com/assets/colab-badge.svg\" alt=\"Open In Colab\"/></a>"
      ]
    },
    {
      "cell_type": "code",
      "metadata": {
        "id": "D_XiCcSGX3vy",
        "colab_type": "code",
        "colab": {}
      },
      "source": [
        "import itertools\n",
        "import pandas as pd\n",
        "import string\n",
        "from gensim import models\n",
        "from nltk import word_tokenize\n",
        "from nltk.corpus import stopwords\n",
        "from gensim.models import Word2Vec\n",
        "from itertools import combinations \n",
        "from string import digits\n"
      ],
      "execution_count": 0,
      "outputs": []
    },
    {
      "cell_type": "code",
      "metadata": {
        "id": "365hUExqldir",
        "colab_type": "code",
        "colab": {}
      },
      "source": [
        "df = pd.read_csv(\"https://raw.githubusercontent.com/zfz/twitter_corpus/master/full-corpus.csv\")"
      ],
      "execution_count": 0,
      "outputs": []
    },
    {
      "cell_type": "code",
      "metadata": {
        "id": "LDmFakycpeGZ",
        "colab_type": "code",
        "colab": {
          "base_uri": "https://localhost:8080/",
          "height": 34
        },
        "outputId": "4758e359-eea6-45f8-b5c8-01346651f388"
      },
      "source": [
        "df['TweetText'][1]"
      ],
      "execution_count": 6,
      "outputs": [
        {
          "output_type": "execute_result",
          "data": {
            "text/plain": [
              "'@Apple will be adding more carrier support to the iPhone 4S (just announced)'"
            ]
          },
          "metadata": {
            "tags": []
          },
          "execution_count": 6
        }
      ]
    },
    {
      "cell_type": "code",
      "metadata": {
        "id": "SvbTPj1Hly9w",
        "colab_type": "code",
        "colab": {}
      },
      "source": [
        "stop_words = set(stopwords.words('english'))"
      ],
      "execution_count": 0,
      "outputs": []
    },
    {
      "cell_type": "markdown",
      "metadata": {
        "id": "Xpiz3VrCqU5Q",
        "colab_type": "text"
      },
      "source": [
        "**Step 1: getting a set of unique words**"
      ]
    },
    {
      "cell_type": "code",
      "metadata": {
        "id": "nyITmXI6n3eO",
        "colab_type": "code",
        "colab": {}
      },
      "source": [
        "def toktoktok(text):\n",
        "  text = text.translate(text.maketrans('','',string.punctuation))#removing punctuation\n",
        "  text = text.translate(text.maketrans('','',digits))#removing digits\n",
        "  t = word_tokenize(text)\n",
        "  tokens = [word for word in t if word not in stop_words]#removing stop words\n",
        "  #didnot lemmatize to get more precise similarity score\n",
        "  return tokens"
      ],
      "execution_count": 0,
      "outputs": []
    },
    {
      "cell_type": "code",
      "metadata": {
        "id": "V70zq2D_pD08",
        "colab_type": "code",
        "colab": {}
      },
      "source": [
        "df['TweetTokens']= df['TweetText'].apply(toktoktok)\n"
      ],
      "execution_count": 0,
      "outputs": []
    },
    {
      "cell_type": "code",
      "metadata": {
        "id": "ZhgCZM5-p_Dz",
        "colab_type": "code",
        "colab": {
          "base_uri": "https://localhost:8080/",
          "height": 34
        },
        "outputId": "4808d1e1-248a-42d7-f4e4-216061db7710"
      },
      "source": [
        "df['TweetTokens'][1]"
      ],
      "execution_count": 10,
      "outputs": [
        {
          "output_type": "execute_result",
          "data": {
            "text/plain": [
              "['Apple', 'adding', 'carrier', 'support', 'iPhone', 'S', 'announced']"
            ]
          },
          "metadata": {
            "tags": []
          },
          "execution_count": 10
        }
      ]
    },
    {
      "cell_type": "markdown",
      "metadata": {
        "id": "mEkSnCJztEDt",
        "colab_type": "text"
      },
      "source": [
        "**Step 2 : Getting combination of words**"
      ]
    },
    {
      "cell_type": "code",
      "metadata": {
        "id": "xwuu1cMtu8Mn",
        "colab_type": "code",
        "colab": {}
      },
      "source": [
        "list_of_tokens = list(itertools.chain.from_iterable(df['TweetTokens']))# chain.from_iterable(['ABC', 'DEF']) --> A B C D E F"
      ],
      "execution_count": 0,
      "outputs": []
    },
    {
      "cell_type": "code",
      "metadata": {
        "id": "aQOn_Bjm0vna",
        "colab_type": "code",
        "colab": {
          "base_uri": "https://localhost:8080/",
          "height": 34
        },
        "outputId": "76e60fea-7ddc-4dfd-f43d-2cd503f3ae8b"
      },
      "source": [
        "len(list_of_tokens)"
      ],
      "execution_count": 25,
      "outputs": [
        {
          "output_type": "execute_result",
          "data": {
            "text/plain": [
              "57385"
            ]
          },
          "metadata": {
            "tags": []
          },
          "execution_count": 25
        }
      ]
    },
    {
      "cell_type": "code",
      "metadata": {
        "id": "ktDXkHbAvuDd",
        "colab_type": "code",
        "colab": {}
      },
      "source": [
        "combos = list(combinations(list_of_tokens[30:45], 2))\n",
        "#This function takes an iterable,here, list of tokens and a integer. \n",
        "#This will create all the unique combinations that have 2 members."
      ],
      "execution_count": 0,
      "outputs": []
    },
    {
      "cell_type": "code",
      "metadata": {
        "id": "I_RnRD9Pzfcs",
        "colab_type": "code",
        "colab": {
          "base_uri": "https://localhost:8080/",
          "height": 34
        },
        "outputId": "e0f08448-6bd0-417d-bcdc-1ffa863740d0"
      },
      "source": [
        "len(combos)"
      ],
      "execution_count": 37,
      "outputs": [
        {
          "output_type": "execute_result",
          "data": {
            "text/plain": [
              "105"
            ]
          },
          "metadata": {
            "tags": []
          },
          "execution_count": 37
        }
      ]
    },
    {
      "cell_type": "code",
      "metadata": {
        "id": "q9tl3LFUwOPY",
        "colab_type": "code",
        "colab": {
          "base_uri": "https://localhost:8080/",
          "height": 491
        },
        "outputId": "7473dac8-0c89-44e6-d268-fdb08f7d00d2"
      },
      "source": [
        "combos = pd.DataFrame(combos) # converted combinations to a dataframe\n",
        "combos[0:15]"
      ],
      "execution_count": 38,
      "outputs": [
        {
          "output_type": "execute_result",
          "data": {
            "text/html": [
              "<div>\n",
              "<style scoped>\n",
              "    .dataframe tbody tr th:only-of-type {\n",
              "        vertical-align: middle;\n",
              "    }\n",
              "\n",
              "    .dataframe tbody tr th {\n",
              "        vertical-align: top;\n",
              "    }\n",
              "\n",
              "    .dataframe thead th {\n",
              "        text-align: right;\n",
              "    }\n",
              "</style>\n",
              "<table border=\"1\" class=\"dataframe\">\n",
              "  <thead>\n",
              "    <tr style=\"text-align: right;\">\n",
              "      <th></th>\n",
              "      <th>0</th>\n",
              "      <th>1</th>\n",
              "    </tr>\n",
              "  </thead>\n",
              "  <tbody>\n",
              "    <tr>\n",
              "      <th>0</th>\n",
              "      <td>switch</td>\n",
              "      <td>Apple</td>\n",
              "    </tr>\n",
              "    <tr>\n",
              "      <th>1</th>\n",
              "      <td>switch</td>\n",
              "      <td>iPhone</td>\n",
              "    </tr>\n",
              "    <tr>\n",
              "      <th>2</th>\n",
              "      <td>switch</td>\n",
              "      <td>See</td>\n",
              "    </tr>\n",
              "    <tr>\n",
              "      <th>3</th>\n",
              "      <td>switch</td>\n",
              "      <td>ya</td>\n",
              "    </tr>\n",
              "    <tr>\n",
              "      <th>4</th>\n",
              "      <td>switch</td>\n",
              "      <td>I</td>\n",
              "    </tr>\n",
              "    <tr>\n",
              "      <th>5</th>\n",
              "      <td>switch</td>\n",
              "      <td>realized</td>\n",
              "    </tr>\n",
              "    <tr>\n",
              "      <th>6</th>\n",
              "      <td>switch</td>\n",
              "      <td>reason</td>\n",
              "    </tr>\n",
              "    <tr>\n",
              "      <th>7</th>\n",
              "      <td>switch</td>\n",
              "      <td>I</td>\n",
              "    </tr>\n",
              "    <tr>\n",
              "      <th>8</th>\n",
              "      <td>switch</td>\n",
              "      <td>got</td>\n",
              "    </tr>\n",
              "    <tr>\n",
              "      <th>9</th>\n",
              "      <td>switch</td>\n",
              "      <td>twitter</td>\n",
              "    </tr>\n",
              "    <tr>\n",
              "      <th>10</th>\n",
              "      <td>switch</td>\n",
              "      <td>ios</td>\n",
              "    </tr>\n",
              "    <tr>\n",
              "      <th>11</th>\n",
              "      <td>switch</td>\n",
              "      <td>thanks</td>\n",
              "    </tr>\n",
              "    <tr>\n",
              "      <th>12</th>\n",
              "      <td>switch</td>\n",
              "      <td>apple</td>\n",
              "    </tr>\n",
              "    <tr>\n",
              "      <th>13</th>\n",
              "      <td>switch</td>\n",
              "      <td>Im</td>\n",
              "    </tr>\n",
              "    <tr>\n",
              "      <th>14</th>\n",
              "      <td>Apple</td>\n",
              "      <td>iPhone</td>\n",
              "    </tr>\n",
              "  </tbody>\n",
              "</table>\n",
              "</div>"
            ],
            "text/plain": [
              "         0         1\n",
              "0   switch     Apple\n",
              "1   switch    iPhone\n",
              "2   switch       See\n",
              "3   switch        ya\n",
              "4   switch         I\n",
              "5   switch  realized\n",
              "6   switch    reason\n",
              "7   switch         I\n",
              "8   switch       got\n",
              "9   switch   twitter\n",
              "10  switch       ios\n",
              "11  switch    thanks\n",
              "12  switch     apple\n",
              "13  switch        Im\n",
              "14   Apple    iPhone"
            ]
          },
          "metadata": {
            "tags": []
          },
          "execution_count": 38
        }
      ]
    },
    {
      "cell_type": "code",
      "metadata": {
        "id": "EoLZu-RayIXy",
        "colab_type": "code",
        "colab": {}
      },
      "source": [
        "#Trying permutations of words"
      ],
      "execution_count": 0,
      "outputs": []
    },
    {
      "cell_type": "code",
      "metadata": {
        "id": "tBvRW-gaylTC",
        "colab_type": "code",
        "colab": {}
      },
      "source": [
        "from itertools import permutations"
      ],
      "execution_count": 0,
      "outputs": []
    },
    {
      "cell_type": "code",
      "metadata": {
        "id": "I0LgUbeewpLQ",
        "colab_type": "code",
        "colab": {}
      },
      "source": [
        "perms = list(permutations(list_of_tokens[30:45], 2))"
      ],
      "execution_count": 0,
      "outputs": []
    },
    {
      "cell_type": "code",
      "metadata": {
        "id": "WQz2Tapxz-nU",
        "colab_type": "code",
        "colab": {
          "base_uri": "https://localhost:8080/",
          "height": 34
        },
        "outputId": "65d02563-de62-44ad-c135-2cb2f609740e"
      },
      "source": [
        "len(perms) #different from length of combos; input had same no of words"
      ],
      "execution_count": 33,
      "outputs": [
        {
          "output_type": "execute_result",
          "data": {
            "text/plain": [
              "210"
            ]
          },
          "metadata": {
            "tags": []
          },
          "execution_count": 33
        }
      ]
    },
    {
      "cell_type": "code",
      "metadata": {
        "id": "ExeAH1N6xErF",
        "colab_type": "code",
        "colab": {
          "base_uri": "https://localhost:8080/",
          "height": 269
        },
        "outputId": "d374d7f5-8e4d-4ff9-afd8-638f0d900423"
      },
      "source": [
        "perms[0:15]"
      ],
      "execution_count": 34,
      "outputs": [
        {
          "output_type": "execute_result",
          "data": {
            "text/plain": [
              "[('switch', 'Apple'),\n",
              " ('switch', 'iPhone'),\n",
              " ('switch', 'See'),\n",
              " ('switch', 'ya'),\n",
              " ('switch', 'I'),\n",
              " ('switch', 'realized'),\n",
              " ('switch', 'reason'),\n",
              " ('switch', 'I'),\n",
              " ('switch', 'got'),\n",
              " ('switch', 'twitter'),\n",
              " ('switch', 'ios'),\n",
              " ('switch', 'thanks'),\n",
              " ('switch', 'apple'),\n",
              " ('switch', 'Im'),\n",
              " ('Apple', 'switch')]"
            ]
          },
          "metadata": {
            "tags": []
          },
          "execution_count": 34
        }
      ]
    },
    {
      "cell_type": "markdown",
      "metadata": {
        "id": "zn8QS7Qh3RoM",
        "colab_type": "text"
      },
      "source": [
        "**Step 3 : Exploring Word2Vec**"
      ]
    },
    {
      "cell_type": "code",
      "metadata": {
        "id": "WRjP3LB0YVCp",
        "colab_type": "code",
        "colab": {}
      },
      "source": [
        "word_vec = Word2Vec(df['TweetTokens'], min_count=1)\n",
        "words = list(word_vec.wv.vocab) # gives all unique words\n"
      ],
      "execution_count": 0,
      "outputs": []
    },
    {
      "cell_type": "code",
      "metadata": {
        "id": "rQxQhXuL3rbp",
        "colab_type": "code",
        "colab": {
          "base_uri": "https://localhost:8080/",
          "height": 185
        },
        "outputId": "9b948a37-839c-49ef-9643-35a869be3907"
      },
      "source": [
        "words[:10]"
      ],
      "execution_count": 53,
      "outputs": [
        {
          "output_type": "execute_result",
          "data": {
            "text/plain": [
              "['Now',\n",
              " 'Apple',\n",
              " 'get',\n",
              " 'swype',\n",
              " 'iphone',\n",
              " 'crack',\n",
              " 'Iphone',\n",
              " 'adding',\n",
              " 'carrier',\n",
              " 'support']"
            ]
          },
          "metadata": {
            "tags": []
          },
          "execution_count": 53
        }
      ]
    },
    {
      "cell_type": "code",
      "metadata": {
        "id": "kpv-_SB2Y6HA",
        "colab_type": "code",
        "colab": {}
      },
      "source": [
        "simili = word_vec.wv.most_similar('apps')\n"
      ],
      "execution_count": 0,
      "outputs": []
    },
    {
      "cell_type": "code",
      "metadata": {
        "id": "rRNZa_C_4WRN",
        "colab_type": "code",
        "colab": {
          "base_uri": "https://localhost:8080/",
          "height": 185
        },
        "outputId": "f98f327c-f93c-4509-9305-80564e233439"
      },
      "source": [
        "simili"
      ],
      "execution_count": 63,
      "outputs": [
        {
          "output_type": "execute_result",
          "data": {
            "text/plain": [
              "[('apple', 0.9944494962692261),\n",
              " ('que', 0.9941447377204895),\n",
              " ('Microsoft', 0.9940025210380554),\n",
              " ('iOS', 0.9939985871315002),\n",
              " ('Twitter', 0.9939713478088379),\n",
              " ('I', 0.9938588738441467),\n",
              " ('like', 0.9938538670539856),\n",
              " ('twitter', 0.993852972984314),\n",
              " ('RT', 0.9938497543334961),\n",
              " ('de', 0.993841290473938)]"
            ]
          },
          "metadata": {
            "tags": []
          },
          "execution_count": 63
        }
      ]
    },
    {
      "cell_type": "markdown",
      "metadata": {
        "id": "pPnUbkQE6nmC",
        "colab_type": "text"
      },
      "source": [
        "**Cosine similarity using CBOW**"
      ]
    },
    {
      "cell_type": "code",
      "metadata": {
        "id": "SdClF4th4mV0",
        "colab_type": "code",
        "colab": {}
      },
      "source": [
        "model1 = Word2Vec(df['TweetTokens'], min_count = 1, size = 100, window = 5) "
      ],
      "execution_count": 0,
      "outputs": []
    },
    {
      "cell_type": "code",
      "metadata": {
        "id": "ArRw1ToQ6Fzs",
        "colab_type": "code",
        "colab": {}
      },
      "source": [
        "col = list(combos)\n"
      ],
      "execution_count": 0,
      "outputs": []
    },
    {
      "cell_type": "code",
      "metadata": {
        "id": "QKw-EZE664dm",
        "colab_type": "code",
        "colab": {
          "base_uri": "https://localhost:8080/",
          "height": 1000
        },
        "outputId": "12935c03-8042-4d7a-d600-c20059a2e42a"
      },
      "source": [
        "for j in range(combos.shape[0]):\n",
        "    print(combos[0][j],combos[1][j],' : ',model1.wv.similarity(combos[0][j],combos[1][j]))\n"
      ],
      "execution_count": 85,
      "outputs": [
        {
          "output_type": "stream",
          "text": [
            "switch Apple  :  0.74719155\n",
            "switch iPhone  :  0.7518188\n",
            "switch See  :  0.67265636\n",
            "switch ya  :  0.7452325\n",
            "switch I  :  0.7499093\n",
            "switch realized  :  0.25931194\n",
            "switch reason  :  0.039743092\n",
            "switch I  :  0.7499093\n",
            "switch got  :  0.7392025\n",
            "switch twitter  :  0.748876\n",
            "switch ios  :  0.7389795\n",
            "switch thanks  :  0.7095501\n",
            "switch apple  :  0.7458699\n",
            "switch Im  :  0.74784756\n",
            "Apple iPhone  :  0.99864346\n",
            "Apple See  :  0.9048264\n",
            "Apple ya  :  0.99603176\n",
            "Apple I  :  0.9993758\n",
            "Apple realized  :  0.3956061\n",
            "Apple reason  :  0.23217747\n",
            "Apple I  :  0.9993758\n",
            "Apple got  :  0.9965213\n",
            "Apple twitter  :  0.9993134\n",
            "Apple ios  :  0.99345964\n",
            "Apple thanks  :  0.97505087\n",
            "Apple apple  :  0.9994122\n",
            "Apple Im  :  0.9988056\n",
            "iPhone See  :  0.9023573\n",
            "iPhone ya  :  0.99571717\n",
            "iPhone I  :  0.9989594\n",
            "iPhone realized  :  0.3938801\n",
            "iPhone reason  :  0.23362765\n",
            "iPhone I  :  0.9989594\n",
            "iPhone got  :  0.9956518\n",
            "iPhone twitter  :  0.9985929\n",
            "iPhone ios  :  0.99260443\n",
            "iPhone thanks  :  0.974578\n",
            "iPhone apple  :  0.9987272\n",
            "iPhone Im  :  0.99741435\n",
            "See ya  :  0.9026786\n",
            "See I  :  0.9031506\n",
            "See realized  :  0.36926383\n",
            "See reason  :  0.23040538\n",
            "See I  :  0.9031506\n",
            "See got  :  0.8980774\n",
            "See twitter  :  0.9051543\n",
            "See ios  :  0.90392894\n",
            "See thanks  :  0.8961475\n",
            "See apple  :  0.9048744\n",
            "See Im  :  0.90004\n",
            "ya I  :  0.99598163\n",
            "ya realized  :  0.38688534\n",
            "ya reason  :  0.21685128\n",
            "ya I  :  0.99598163\n",
            "ya got  :  0.9928858\n",
            "ya twitter  :  0.9963885\n",
            "ya ios  :  0.99024844\n",
            "ya thanks  :  0.9697168\n",
            "ya apple  :  0.9957064\n",
            "ya Im  :  0.9946778\n",
            "I realized  :  0.39944133\n",
            "I reason  :  0.2367122\n",
            "I I  :  0.99999994\n",
            "I got  :  0.9965984\n",
            "I twitter  :  0.99945587\n",
            "I ios  :  0.9930251\n",
            "I thanks  :  0.9761283\n",
            "I apple  :  0.9995291\n",
            "I Im  :  0.9984475\n",
            "realized reason  :  0.21946347\n",
            "realized I  :  0.39944133\n",
            "realized got  :  0.40243286\n",
            "realized twitter  :  0.3994078\n",
            "realized ios  :  0.3853801\n",
            "realized thanks  :  0.3783853\n",
            "realized apple  :  0.3984033\n",
            "realized Im  :  0.39553723\n",
            "reason I  :  0.2367122\n",
            "reason got  :  0.24622953\n",
            "reason twitter  :  0.23581283\n",
            "reason ios  :  0.24147338\n",
            "reason thanks  :  0.25390077\n",
            "reason apple  :  0.23634729\n",
            "reason Im  :  0.23667197\n",
            "I got  :  0.9965984\n",
            "I twitter  :  0.99945587\n",
            "I ios  :  0.9930251\n",
            "I thanks  :  0.9761283\n",
            "I apple  :  0.9995291\n",
            "I Im  :  0.9984475\n",
            "got twitter  :  0.99658644\n",
            "got ios  :  0.9898725\n",
            "got thanks  :  0.97145075\n",
            "got apple  :  0.99659437\n",
            "got Im  :  0.99594605\n",
            "twitter ios  :  0.9935508\n",
            "twitter thanks  :  0.97569346\n",
            "twitter apple  :  0.99953955\n",
            "twitter Im  :  0.9982569\n",
            "ios thanks  :  0.966948\n",
            "ios apple  :  0.99391246\n",
            "ios Im  :  0.9923597\n",
            "thanks apple  :  0.9757642\n",
            "thanks Im  :  0.9731167\n",
            "apple Im  :  0.99850154\n"
          ],
          "name": "stdout"
        },
        {
          "output_type": "stream",
          "text": [
            "/usr/local/lib/python3.6/dist-packages/gensim/matutils.py:737: FutureWarning: Conversion of the second argument of issubdtype from `int` to `np.signedinteger` is deprecated. In future, it will be treated as `np.int64 == np.dtype(int).type`.\n",
            "  if np.issubdtype(vec.dtype, np.int):\n"
          ],
          "name": "stderr"
        }
      ]
    },
    {
      "cell_type": "markdown",
      "metadata": {
        "id": "CahxPcF_-209",
        "colab_type": "text"
      },
      "source": [
        "**Cosine Similarity using Skip-Gram**"
      ]
    },
    {
      "cell_type": "code",
      "metadata": {
        "id": "WtNKNJd_9vfC",
        "colab_type": "code",
        "colab": {}
      },
      "source": [
        "model2 = Word2Vec(df['TweetTokens'], min_count=1,size= 50,workers=3, window =3, sg = 1)"
      ],
      "execution_count": 0,
      "outputs": []
    },
    {
      "cell_type": "code",
      "metadata": {
        "id": "aGOYkTCb_vMn",
        "colab_type": "code",
        "colab": {
          "base_uri": "https://localhost:8080/",
          "height": 1000
        },
        "outputId": "a9f3a350-f92a-45b6-eebc-e5e9e9d03877"
      },
      "source": [
        "for j in range(combos.shape[0]):\n",
        "    print(combos[0][j],combos[1][j],' : ',model2.wv.similarity(combos[0][j],combos[1][j]))\n"
      ],
      "execution_count": 89,
      "outputs": [
        {
          "output_type": "stream",
          "text": [
            "switch Apple  :  0.97039646\n",
            "switch iPhone  :  0.9703878\n",
            "switch See  :  0.9647688\n",
            "switch ya  :  0.96907735\n",
            "switch I  :  0.9642332\n",
            "switch realized  :  0.9000419\n",
            "switch reason  :  0.37768263\n",
            "switch I  :  0.9642332\n",
            "switch got  :  0.96601754\n",
            "switch twitter  :  0.9658686\n",
            "switch ios  :  0.96548265\n",
            "switch thanks  :  0.9592208\n",
            "switch apple  :  0.9631445\n",
            "switch Im  :  0.96477026\n",
            "Apple iPhone  :  0.9958934\n",
            "Apple See  :  0.9934478\n",
            "Apple ya  :  0.99629813\n",
            "Apple I  :  0.99345756\n",
            "Apple realized  :  0.94422215\n",
            "Apple reason  :  0.45287564\n",
            "Apple I  :  0.99345756\n",
            "Apple got  :  0.99588716\n",
            "Apple twitter  :  0.9926192\n",
            "Apple ios  :  0.9956795\n",
            "Apple thanks  :  0.9943278\n",
            "Apple apple  :  0.9933578\n",
            "Apple Im  :  0.99178207\n",
            "iPhone See  :  0.9882439\n",
            "iPhone ya  :  0.99088794\n",
            "iPhone I  :  0.9924425\n",
            "iPhone realized  :  0.9393633\n",
            "iPhone reason  :  0.45168808\n",
            "iPhone I  :  0.9924425\n",
            "iPhone got  :  0.9921688\n",
            "iPhone twitter  :  0.98806787\n",
            "iPhone ios  :  0.991508\n",
            "iPhone thanks  :  0.9914447\n",
            "iPhone apple  :  0.99106133\n",
            "iPhone Im  :  0.9842857\n",
            "See ya  :  0.9958246\n",
            "See I  :  0.9939867\n",
            "See realized  :  0.9387267\n",
            "See reason  :  0.4821592\n",
            "See I  :  0.9939867\n",
            "See got  :  0.9955936\n",
            "See twitter  :  0.9953853\n",
            "See ios  :  0.9963389\n",
            "See thanks  :  0.9933401\n",
            "See apple  :  0.9945829\n",
            "See Im  :  0.9788078\n",
            "ya I  :  0.994643\n",
            "ya realized  :  0.9385654\n",
            "ya reason  :  0.46714225\n",
            "ya I  :  0.994643\n",
            "ya got  :  0.9976005\n",
            "ya twitter  :  0.9979198\n",
            "ya ios  :  0.9979288\n",
            "ya thanks  :  0.9938877\n",
            "ya apple  :  0.99449813\n",
            "ya Im  :  0.98401207\n",
            "I realized  :  0.9368583\n",
            "I reason  :  0.4879866\n",
            "I I  :  1.0\n",
            "I got  :  0.9976469\n",
            "I twitter  :  0.9964383\n",
            "I ios  :  0.99686706\n",
            "I thanks  :  0.9963767\n",
            "I apple  :  0.9990528\n",
            "I Im  :  0.9736227\n",
            "realized reason  :  0.49352404\n",
            "realized I  :  0.9368583\n",
            "realized got  :  0.93794507\n",
            "realized twitter  :  0.93464875\n",
            "realized ios  :  0.9391518\n",
            "realized thanks  :  0.93962383\n",
            "realized apple  :  0.9361508\n",
            "realized Im  :  0.9406981\n",
            "reason I  :  0.4879866\n",
            "reason got  :  0.48274985\n",
            "reason twitter  :  0.48879552\n",
            "reason ios  :  0.48421842\n",
            "reason thanks  :  0.50089103\n",
            "reason apple  :  0.49259835\n",
            "reason Im  :  0.41693422\n",
            "I got  :  0.9976469\n",
            "I twitter  :  0.9964383\n",
            "I ios  :  0.99686706\n",
            "I thanks  :  0.9963767\n",
            "I apple  :  0.9990528\n",
            "I Im  :  0.9736227\n",
            "got twitter  :  0.9979621\n",
            "got ios  :  0.99844426\n",
            "got thanks  :  0.9963071\n",
            "got apple  :  0.9978058\n",
            "got Im  :  0.98003155\n",
            "twitter ios  :  0.99769634\n",
            "twitter thanks  :  0.9951811\n",
            "twitter apple  :  0.99676627\n",
            "twitter Im  :  0.9735244\n",
            "ios thanks  :  0.9956983\n",
            "ios apple  :  0.99734074\n",
            "ios Im  :  0.98045486\n",
            "thanks apple  :  0.99701303\n",
            "thanks Im  :  0.9760678\n",
            "apple Im  :  0.97275776\n"
          ],
          "name": "stdout"
        },
        {
          "output_type": "stream",
          "text": [
            "/usr/local/lib/python3.6/dist-packages/gensim/matutils.py:737: FutureWarning: Conversion of the second argument of issubdtype from `int` to `np.signedinteger` is deprecated. In future, it will be treated as `np.int64 == np.dtype(int).type`.\n",
            "  if np.issubdtype(vec.dtype, np.int):\n"
          ],
          "name": "stderr"
        }
      ]
    }
  ]
}