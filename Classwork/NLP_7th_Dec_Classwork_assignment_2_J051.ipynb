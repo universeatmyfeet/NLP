{
  "nbformat": 4,
  "nbformat_minor": 0,
  "metadata": {
    "colab": {
      "name": "NLP_7th_Dec_Classwork_assignment_2_J051.ipynb",
      "provenance": [],
      "collapsed_sections": [],
      "include_colab_link": true
    },
    "kernelspec": {
      "name": "python3",
      "display_name": "Python 3"
    }
  },
  "cells": [
    {
      "cell_type": "markdown",
      "metadata": {
        "id": "view-in-github",
        "colab_type": "text"
      },
      "source": [
        "<a href=\"https://colab.research.google.com/github/universeatmyfeet/NLP/blob/master/Classwork/NLP_7th_Dec_Classwork_assignment_2_J051.ipynb\" target=\"_parent\"><img src=\"https://colab.research.google.com/assets/colab-badge.svg\" alt=\"Open In Colab\"/></a>"
      ]
    },
    {
      "cell_type": "code",
      "metadata": {
        "id": "_b-8SGEfgY-9",
        "colab_type": "code",
        "colab": {}
      },
      "source": [
        "import pandas as pd"
      ],
      "execution_count": 0,
      "outputs": []
    },
    {
      "cell_type": "code",
      "metadata": {
        "id": "gQerCPQzgpVI",
        "colab_type": "code",
        "colab": {}
      },
      "source": [
        "db = pd.read_json('http://snap.stanford.edu/data/amazon/productGraph/categoryFiles/reviews_Office_Products_5.json.gz',lines = True)#reading gz file from url\n"
      ],
      "execution_count": 0,
      "outputs": []
    },
    {
      "cell_type": "code",
      "metadata": {
        "id": "ybn2M7KShV3h",
        "colab_type": "code",
        "colab": {}
      },
      "source": [
        "db['reviewText'] = db['reviewText'].str.lower()#all characters become lower-cased\n",
        "db['summary'] = db['summary'].str.lower()\n"
      ],
      "execution_count": 0,
      "outputs": []
    },
    {
      "cell_type": "markdown",
      "metadata": {
        "id": "eujV-5qu1vj4",
        "colab_type": "text"
      },
      "source": [
        "**No of Vowels and Consonants**"
      ]
    },
    {
      "cell_type": "code",
      "metadata": {
        "id": "JlklVNlciIEr",
        "colab_type": "code",
        "colab": {}
      },
      "source": [
        "\n",
        "def vowel_count(text):\n",
        "  \n",
        "# Function to count vowel \n",
        "\n",
        "    punctuations = '''!()-[]{};:'\"\\,<>./?@#$%^&*_~'''   # creating punctuations reference \n",
        "    no_punct = \"\"\n",
        "    for char in text:\n",
        "      if char not in punctuations:\n",
        "        no_punct = no_punct + char\n",
        "    word_list = no_punct.split()\n",
        "\n",
        "    total_words = len(text.split())# total words in the string\n",
        "    # Initializing Dictionary\n",
        "    d = {'total_count_of_words' : total_words}\n",
        "    # Intializing counters to 0 \n",
        "    v_count = 0\n",
        "    c_count= 0\n",
        "      \n",
        "    # Creating a set of vowels \n",
        "    vowels = set(\"aeiou\")\n",
        "    \n",
        "    for alphabet in no_punct :\n",
        "      \n",
        "        # If alphabet is present \n",
        "        # in set vowel \n",
        "           if alphabet in vowels:\n",
        "             v_count += 1   #vowel count\n",
        "           else:\n",
        "             c_count += 1   #consonant count \n",
        "         \n",
        "      \n",
        "    d['no_of_vowels'] = d.get('no_of_vowels',0) + v_count # appending dictionary to include vowel and consonanants\n",
        "    d['no_of_consonants'] = d.get('no_of_consonants',0) + c_count\n",
        "    return d\n"
      ],
      "execution_count": 0,
      "outputs": []
    },
    {
      "cell_type": "code",
      "metadata": {
        "id": "uOQu6Ojp3gdA",
        "colab_type": "code",
        "outputId": "d9f1bf77-2c35-4d5b-a25a-347318d1cdae",
        "colab": {
          "base_uri": "https://localhost:8080/",
          "height": 34
        }
      },
      "source": [
        "db['reviewText.vowel_count'] = db.apply(lambda row : vowel_count(row['reviewText']), axis = 1) #applying to the db\n",
        "db['reviewText.vowel_count'][0]"
      ],
      "execution_count": 6,
      "outputs": [
        {
          "output_type": "execute_result",
          "data": {
            "text/plain": [
              "{'no_of_consonants': 658, 'no_of_vowels': 279, 'total_count_of_words': 186}"
            ]
          },
          "metadata": {
            "tags": []
          },
          "execution_count": 6
        }
      ]
    },
    {
      "cell_type": "code",
      "metadata": {
        "id": "cq4zLRbEjH5R",
        "colab_type": "code",
        "outputId": "892d369e-3998-4453-eb90-b184823291c8",
        "colab": {
          "base_uri": "https://localhost:8080/",
          "height": 54
        }
      },
      "source": [
        "import re\n",
        "sample = db.loc[1].reviewText#using loc to get text from cell in reviewText\n",
        "sample"
      ],
      "execution_count": 7,
      "outputs": [
        {
          "output_type": "execute_result",
          "data": {
            "text/plain": [
              "'why this belated review? i feel very obliged to share my views about this old workhorse, the hp12c gold at its 25th anniversary and my 1oth year as a satisfied ower user and fan. especially after sharing my frank views on amazon about two of its three successors on amazon.com, burying the hp12c platinum (2004 1st release, hp12cp) and praising the hp12c platiunum anniversary edition (2006 3rd release, hp12cpae or hp12cpa).to the majority of hp 12c calculator owners and fans, including the non-techkie nerd like myself, the name hewlett-packard to the majority of hp 12c calculator owners and fans. the brandname of hewlett-packard is synonymous with the highest quality and best range offered in handheld electronic business financial calculators before the first generation of personal computers hits the desktops of business users.to date (december 2007), the bearer of this \"gold\" standard is none other than the hp12c hp\\'s \"golden boy\" in its calculator business segment.the hp12c now a matured product, is the only continuing hp handheld surviving calculator product since \\'81 and probably the longest selling electronic calculator ever. according to hp almost 15 million hp 12cs, cps was sold since ,it is probably the best selling hp (and rpn) calculator ever.as a proven product, the hp12c \"gold\" works from day 1, with its form factor and sofware remaining unchanged and has not been dethroned by rivals and even its hp successors which had come and go.even with pc software versions being sold, the 12c remains the truly indispensable \"portable\" finance-business heldheld computer for its owners, professionals and students alike. this handy companion powers up immediately and is faster than any portable personal computers to jump right into the action.the hp12c is a serious product and the ultimate time tested solution, field tested proven by its users and survived all its rival products, the workhorse moves on.anyone in charge of this hp line should always bear in mind that the continued production run of the hp 12c is a testimony of hp\\'s quality and standard expected by its customers.don\\'t just listen to a hp12c fan here, i own and am using three out of 4 models of the hp 12c series, and it is amusing and somewhat disappointing to observe that it had taken hp at least four years and two major upgrades of the hp 12c platinium, in its futile attempt to \"fix & retire\" the hp12c with three successors in the form of hp12cplatinum since 2004.it would seems especially frustrating on the part of hp, to realize after all the effort spent on remaking the hp12cplatinum models that it would not outdone its siblings the hp10bii and hp17bii+ series to seriously challenge the hp12c gold.  however, by their own rights the hp10bs and hp17bs, and the hp12cplatinum may find their rightful place in the hp financial calculator line, differentiating the hp12c gold in terms of price and functions.imho, this had happened because the following golden rules were infringed by hp...golden rule i - a product which still sells itself is never obsolete.golden rule ii - if it aren\\'t broken, don\\'t fix it ! \"the gold rule of thumb should always be guarded as gospel by the hp heldheld calculator product team. based on the same reasoning, the hp12c\\'s built quality and product standard is paramount to its users.golden rule iii - always listen to your customers! if in doubt, see rules i & ii.golden rule iv - only outsource the manufacturing of your product to someone who could better your own product quality. if in doubt ask ibm about lenovo.golden rule v - the benchmarking industry standard for this product line is the hp12c. just in case, if hp does not know or is not listening to its customers.golden rule vi - do not discontinue the iconic hp12c gold. hp needs no reminder that the customer is always right. please let your customer, the ultimate market force decide if the hp12c should ever be retired.as an ardent fan of hp12c and line of financial business & scientific calculators, i am of the view that the day when hp discontinue the hp12c would be the day it exit this business segment. i speculate this would happen when the hp brandname disappears from the 12c just like after ibm name had disappeared from thinkpads and thinkcentres.since the price of gold is on the rise, it is indeed puzzling to fans of the hp12c, why hp did not release a genuine hp12c gold 25th anniversary model for the fans to mark the occasion, if replacing the discontinuing the hp12c gold is the intention read all golden rules above.to be fair, the silver hp12c platinum anniversary is very nice and has spotted the \"retro\" silver look of the hp 11c, however, it is still not the gold standard. with hp missing this golden opportunity to mark the occasion, i would love to see and own a hp 12c engraved with 50th anniversary logo, reckon that this would be the ultimate testimony for the hp12c and a milestone for its fans.looking forward, a gold 50th anniversary hp12c anniversary model would be very nice for the fans.for hp, this is a lucrative business proposition. by now, they would have realized that if they have any of its products which could hit a 50th year home run  in 2031, it would not be from its other product line-it would be this original hp12c gold standard bearer. so please treat the old workhorse with the upmost respect!'"
            ]
          },
          "metadata": {
            "tags": []
          },
          "execution_count": 7
        }
      ]
    },
    {
      "cell_type": "markdown",
      "metadata": {
        "id": "GIsE3ZwI73Eu",
        "colab_type": "text"
      },
      "source": [
        "**Regex**"
      ]
    },
    {
      "cell_type": "code",
      "metadata": {
        "id": "gTLnwxUPG2NE",
        "colab_type": "code",
        "colab": {
          "base_uri": "https://localhost:8080/",
          "height": 437
        },
        "outputId": "6ddea142-e4e6-4641-dda8-d0e99a646b7c"
      },
      "source": [
        "def reg(text):\n",
        " s2 = re.findall(r\"\\b\\bB\\w+ | \\b\\w+[gG]\\b \", text)#finding words beginning with b and ending with g\n",
        " return s2\n",
        "\n",
        "db['reviewText_regex1'] = db.apply(lambda row : reg(row['reviewText']), axis = 1) #applying to the db\n",
        "db['reviewText_regex1'][1]\n",
        "  \n"
      ],
      "execution_count": 8,
      "outputs": [
        {
          "output_type": "execute_result",
          "data": {
            "text/plain": [
              "[' sharing ',\n",
              " ' burying ',\n",
              " ' praising ',\n",
              " ' including ',\n",
              " ' continuing ',\n",
              " ' surviving ',\n",
              " ' selling ',\n",
              " ' according ',\n",
              " ' selling ',\n",
              " ' remaining ',\n",
              " ' being ',\n",
              " ' using ',\n",
              " ' amusing ',\n",
              " ' disappointing ',\n",
              " ' frustrating ',\n",
              " ' remaking ',\n",
              " ' differentiating ',\n",
              " ' following ',\n",
              " ' manufacturing ',\n",
              " ' benchmarking ',\n",
              " ' listening ',\n",
              " ' puzzling ',\n",
              " ' replacing ',\n",
              " ' discontinuing ',\n",
              " ' missing ']"
            ]
          },
          "metadata": {
            "tags": []
          },
          "execution_count": 8
        }
      ]
    }
  ]
}