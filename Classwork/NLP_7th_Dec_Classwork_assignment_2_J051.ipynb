{
  "nbformat": 4,
  "nbformat_minor": 0,
  "metadata": {
    "colab": {
      "name": "NLP_7th_Dec_Classwork_assignment_2_J051.ipynb",
      "provenance": [],
      "collapsed_sections": [],
      "include_colab_link": true
    },
    "kernelspec": {
      "name": "python3",
      "display_name": "Python 3"
    }
  },
  "cells": [
    {
      "cell_type": "markdown",
      "metadata": {
        "id": "view-in-github",
        "colab_type": "text"
      },
      "source": [
        "<a href=\"https://colab.research.google.com/github/universeatmyfeet/NLP/blob/master/Classwork/NLP_7th_Dec_Classwork_assignment_2_J051.ipynb\" target=\"_parent\"><img src=\"https://colab.research.google.com/assets/colab-badge.svg\" alt=\"Open In Colab\"/></a>"
      ]
    },
    {
      "cell_type": "code",
      "metadata": {
        "id": "_b-8SGEfgY-9",
        "colab_type": "code",
        "colab": {}
      },
      "source": [
        "import pandas as pd"
      ],
      "execution_count": 0,
      "outputs": []
    },
    {
      "cell_type": "code",
      "metadata": {
        "id": "gQerCPQzgpVI",
        "colab_type": "code",
        "colab": {}
      },
      "source": [
        "db = pd.read_json('http://snap.stanford.edu/data/amazon/productGraph/categoryFiles/reviews_Office_Products_5.json.gz',lines = True)#reading gz file from url\n"
      ],
      "execution_count": 0,
      "outputs": []
    },
    {
      "cell_type": "code",
      "metadata": {
        "id": "ybn2M7KShV3h",
        "colab_type": "code",
        "colab": {}
      },
      "source": [
        "db['reviewText'] = db['reviewText'].str.lower()#all characters become lower-cased\n",
        "db['summary'] = db['summary'].str.lower()\n"
      ],
      "execution_count": 0,
      "outputs": []
    },
    {
      "cell_type": "markdown",
      "metadata": {
        "id": "eujV-5qu1vj4",
        "colab_type": "text"
      },
      "source": [
        "**No of Vowels and Consonants**"
      ]
    },
    {
      "cell_type": "code",
      "metadata": {
        "id": "JlklVNlciIEr",
        "colab_type": "code",
        "colab": {}
      },
      "source": [
        "\n",
        "def vowel_count(text):\n",
        "  \n",
        "# Function to count vowel \n",
        "\n",
        "    punctuations = '''!()-[]{};:'\"\\,<>./?@#$%^&*_~'''   # creating punctuations reference \n",
        "    no_punct = \"\"\n",
        "    for char in text:\n",
        "      if char not in punctuations:\n",
        "        no_punct = no_punct + char\n",
        "    word_list = no_punct.split()\n",
        "\n",
        "    total_words = len(text.split())# total words in the string\n",
        "    # Initializing Dictionary\n",
        "    d = {'total_count_of_words' : total_words}\n",
        "    # Intializing counters to 0 \n",
        "    v_count = 0\n",
        "    c_count= 0\n",
        "      \n",
        "    # Creating a set of vowels \n",
        "    vowels = set(\"aeiou\")\n",
        "    \n",
        "    for alphabet in no_punct :\n",
        "      \n",
        "        # If alphabet is present \n",
        "        # in set vowel \n",
        "           if alphabet in vowels:\n",
        "             v_count += 1   #vowel count\n",
        "           else:\n",
        "             c_count += 1   #consonant count \n",
        "         \n",
        "      \n",
        "    d['no_of_vowels'] = d.get('no_of_vowels',0) + v_count # appending dictionary to include vowel and consonanants\n",
        "    d['no_of_consonants'] = d.get('no_of_consonants',0) + c_count\n",
        "    return d\n"
      ],
      "execution_count": 0,
      "outputs": []
    },
    {
      "cell_type": "code",
      "metadata": {
        "id": "uOQu6Ojp3gdA",
        "colab_type": "code",
        "outputId": "d9f1bf77-2c35-4d5b-a25a-347318d1cdae",
        "colab": {
          "base_uri": "https://localhost:8080/",
          "height": 34
        }
      },
      "source": [
        "db['reviewText.vowel_count'] = db.apply(lambda row : vowel_count(row['reviewText']), axis = 1) #applying to the db\n",
        "db['reviewText.vowel_count'][0]"
      ],
      "execution_count": 6,
      "outputs": [
        {
          "output_type": "execute_result",
          "data": {
            "text/plain": [
              "{'no_of_consonants': 658, 'no_of_vowels': 279, 'total_count_of_words': 186}"
            ]
          },
          "metadata": {
            "tags": []
          },
          "execution_count": 6
        }
      ]
    },
    {
      "cell_type": "code",
      "metadata": {
        "id": "cq4zLRbEjH5R",
        "colab_type": "code",
        "colab": {}
      },
      "source": [
        "import re\n",
        "sample = db.loc[1].reviewText#using loc to get text from cell in reviewText\n",
        "sample"
      ],
      "execution_count": 0,
      "outputs": []
    },
    {
      "cell_type": "markdown",
      "metadata": {
        "id": "GIsE3ZwI73Eu",
        "colab_type": "text"
      },
      "source": [
        "**Regex**"
      ]
    },
    {
      "cell_type": "code",
      "metadata": {
        "id": "gTLnwxUPG2NE",
        "colab_type": "code",
        "colab": {
          "base_uri": "https://localhost:8080/",
          "height": 437
        },
        "outputId": "6ddea142-e4e6-4641-dda8-d0e99a646b7c"
      },
      "source": [
        "def reg(text):\n",
        " s2 = re.findall(r\"\\b\\bB\\w+ | \\b\\w+[gG]\\b \", text)#finding words beginning with b and ending with g\n",
        " return s2\n",
        "\n",
        "db['reviewText_regex1'] = db.apply(lambda row : reg(row['reviewText']), axis = 1) #applying to the db\n",
        "db['reviewText_regex1'][1]\n",
        "  \n"
      ],
      "execution_count": 8,
      "outputs": [
        {
          "output_type": "execute_result",
          "data": {
            "text/plain": [
              "[' sharing ',\n",
              " ' burying ',\n",
              " ' praising ',\n",
              " ' including ',\n",
              " ' continuing ',\n",
              " ' surviving ',\n",
              " ' selling ',\n",
              " ' according ',\n",
              " ' selling ',\n",
              " ' remaining ',\n",
              " ' being ',\n",
              " ' using ',\n",
              " ' amusing ',\n",
              " ' disappointing ',\n",
              " ' frustrating ',\n",
              " ' remaking ',\n",
              " ' differentiating ',\n",
              " ' following ',\n",
              " ' manufacturing ',\n",
              " ' benchmarking ',\n",
              " ' listening ',\n",
              " ' puzzling ',\n",
              " ' replacing ',\n",
              " ' discontinuing ',\n",
              " ' missing ']"
            ]
          },
          "metadata": {
            "tags": []
          },
          "execution_count": 8
        }
      ]
    }
  ]
}