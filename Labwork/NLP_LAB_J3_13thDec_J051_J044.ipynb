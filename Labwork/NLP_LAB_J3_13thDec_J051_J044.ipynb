{
  "nbformat": 4,
  "nbformat_minor": 0,
  "metadata": {
    "colab": {
      "name": "NLP_LAB_J3_13thDec_J051_J044.ipynb",
      "provenance": [],
      "include_colab_link": true
    },
    "kernelspec": {
      "name": "python3",
      "display_name": "Python 3"
    }
  },
  "cells": [
    {
      "cell_type": "markdown",
      "metadata": {
        "id": "view-in-github",
        "colab_type": "text"
      },
      "source": [
        "<a href=\"https://colab.research.google.com/github/universeatmyfeet/NLP/blob/master/Labwork/NLP_LAB_J3_13thDec_J051_J044.ipynb\" target=\"_parent\"><img src=\"https://colab.research.google.com/assets/colab-badge.svg\" alt=\"Open In Colab\"/></a>"
      ]
    },
    {
      "cell_type": "code",
      "metadata": {
        "id": "Bjrwt5olBtdA",
        "colab_type": "code",
        "colab": {}
      },
      "source": [
        "#reading the data\n",
        "import spacy\n",
        "import pandas as pd\n",
        "df = pd.read_json('http://snap.stanford.edu/data/amazon/productGraph/categoryFiles/reviews_Office_Products_5.json.gz', lines=True)\n",
        "\n"
      ],
      "execution_count": 0,
      "outputs": []
    },
    {
      "cell_type": "code",
      "metadata": {
        "id": "--nrQ_XzBveC",
        "colab_type": "code",
        "outputId": "b3f24b0c-0a69-4826-e293-c105cb368af0",
        "colab": {
          "base_uri": "https://localhost:8080/",
          "height": 34
        }
      },
      "source": [
        "#using fraction to provide a rational number arithmetic\n",
        "from fractions import Fraction\n",
        "def ratio(text): \n",
        "  spacy_nlp = spacy.load(\"en_core_web_sm\")\n",
        "  noun_count = verb_count = 0\n",
        "  for token in spacy_nlp(text):\n",
        "    if token.tag_[:2] == 'NN': #checking for noun\n",
        "      noun_count += 1\n",
        "    if token.tag_[:2] == 'VB': #checking for verb and respectively adding the count\n",
        "      verb_count += 1 \n",
        "\n",
        "  print(Fraction(noun_count / verb_count).limit_denominator()) #printing the limit\n",
        "\n",
        "   \n",
        "#ratio(\"Apple is looking at buying 2 U.K. startups for $1 billion.\")\n",
        "ratio(df['reviewText'][0]) #calling the function"
      ],
      "execution_count": 0,
      "outputs": [
        {
          "output_type": "stream",
          "text": [
            "29/36\n"
          ],
          "name": "stdout"
        }
      ]
    }
  ]
}